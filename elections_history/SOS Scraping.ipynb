{
 "cells": [
  {
   "cell_type": "code",
   "execution_count": 25,
   "metadata": {},
   "outputs": [],
   "source": [
    "import requests as req\n",
    "from bs4 import BeautifulSoup\n",
    "import os\n",
    "import re"
   ]
  },
  {
   "cell_type": "code",
   "execution_count": 2,
   "metadata": {},
   "outputs": [],
   "source": [
    "raw = req.get('http://sos.oregon.gov/elections/Pages/electionhistory.aspx')"
   ]
  },
  {
   "cell_type": "code",
   "execution_count": 8,
   "metadata": {},
   "outputs": [],
   "source": [
    "pdf_parts = []\n",
    "for i in re.findall(r'(\"([^\"]|\"\")*\")', raw.content):\n",
    "    if type(i) == tuple and len(i) > 1:\n",
    "        for j in i:\n",
    "            if \".pdf\" in j:\n",
    "                pdf_parts.append(j)\n",
    "    if \".pdf\" in i:\n",
    "            pdf_parts.append(i)"
   ]
  },
  {
   "cell_type": "code",
   "execution_count": 10,
   "metadata": {},
   "outputs": [],
   "source": [
    "pdf_parts = [\"http://sos.oregon.gov/\" + x.strip('\"') for x in pdf_parts]"
   ]
  },
  {
   "cell_type": "code",
   "execution_count": 30,
   "metadata": {},
   "outputs": [],
   "source": [
    "save_loc = \"./scraped_docs/\"\n",
    "if not os.path.exists(save_loc):\n",
    "    os.mkdir(save_loc)"
   ]
  },
  {
   "cell_type": "code",
   "execution_count": 24,
   "metadata": {},
   "outputs": [],
   "source": [
    "for url in pdf_parts:\n",
    "    pos = url[::-1].find(\"/\")\n",
    "    name = url[- pos:]\n",
    "    stuff = req.get(url)\n",
    "    with open(save_loc + name, r'w') as f:\n",
    "        f.write(stuff.content)"
   ]
  },
  {
   "cell_type": "code",
   "execution_count": null,
   "metadata": {},
   "outputs": [],
   "source": []
  }
 ],
 "metadata": {
  "kernelspec": {
   "display_name": "Python 2",
   "language": "python",
   "name": "python2"
  },
  "language_info": {
   "codemirror_mode": {
    "name": "ipython",
    "version": 2
   },
   "file_extension": ".py",
   "mimetype": "text/x-python",
   "name": "python",
   "nbconvert_exporter": "python",
   "pygments_lexer": "ipython2",
   "version": "2.7.13"
  }
 },
 "nbformat": 4,
 "nbformat_minor": 2
}
