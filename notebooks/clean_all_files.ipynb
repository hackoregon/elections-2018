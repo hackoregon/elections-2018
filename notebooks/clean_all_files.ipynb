{
 "cells": [
  {
   "cell_type": "markdown",
   "metadata": {
    "deletable": true,
    "editable": true
   },
   "source": [
    "# Cleaning of All Files"
   ]
  },
  {
   "cell_type": "code",
   "execution_count": 1,
   "metadata": {
    "collapsed": true,
    "deletable": true,
    "editable": true
   },
   "outputs": [],
   "source": [
    "import io\n",
    "import json\n",
    "import re\n",
    "import os\n",
    "\n",
    "import pandas as pd\n",
    "from pandas import DataFrame as DF, Series\n",
    "import numpy as np\n",
    "\n",
    "import requests\n",
    "import missingno as msn\n",
    "import psycopg2 as pg\n",
    "\n",
    "import matplotlib.pyplot as plt\n",
    "%matplotlib inline\n",
    "import seaborn as sns\n",
    "sns.set_style('whitegrid')"
   ]
  },
  {
   "cell_type": "markdown",
   "metadata": {},
   "source": [
    "### Load All Data"
   ]
  },
  {
   "cell_type": "code",
   "execution_count": 2,
   "metadata": {
    "collapsed": false,
    "deletable": true,
    "editable": true
   },
   "outputs": [],
   "source": [
    "from glob import glob\n",
    "\n",
    "PATH = os.path.join(os.getenv('HOME'), 'Projects/HackOregon/elections-2018/scrape_files')\n",
    "\n",
    "os.chdir(PATH)\n",
    "files = [f for f in glob('*.csv')]\n",
    "os.chdir('../../')"
   ]
  },
  {
   "cell_type": "code",
   "execution_count": 3,
   "metadata": {
    "collapsed": false,
    "deletable": true,
    "editable": true,
    "scrolled": true
   },
   "outputs": [
    {
     "data": {
      "text/plain": [
       "['transactions_gaps33_4.csv',\n",
       " 'transactions_gaps4572_30.csv',\n",
       " 'transaction_detail12.csv',\n",
       " 'transaction_detail3.csv',\n",
       " 'transaction_detail22.csv',\n",
       " 'election_activity3.csv',\n",
       " 'statement_of_organization3.csv',\n",
       " 'all_transactions195.csv',\n",
       " 'all_transactions4.csv',\n",
       " 'transactions_gaps4572_5.csv',\n",
       " 'transaction_detail18.csv',\n",
       " 'all_transactions6.csv',\n",
       " 'transactions_gaps4572_28.csv',\n",
       " 'transaction_detail195.csv',\n",
       " 'election_activity_first_batch.csv',\n",
       " 'transaction_detail17.csv',\n",
       " 'all_transactions9.csv',\n",
       " 'transactions_gaps33_7.csv',\n",
       " 'transactions_gaps4572_15.csv',\n",
       " 'transactions_gaps4572_11.csv',\n",
       " 'transaction_detail13.csv',\n",
       " 'transactions_gaps4572_25.csv',\n",
       " 'all_transactions10.csv',\n",
       " 'transactions_gaps39_1.csv',\n",
       " 'transaction_detail_first_batch.csv',\n",
       " 'all_transactions18.csv',\n",
       " 'all_transactions8.csv',\n",
       " 'all_transactions115.csv',\n",
       " 'transactions_gaps275_2.csv',\n",
       " 'trans_detail_first_batch_clean.csv',\n",
       " 'transactions_gaps348_3.csv',\n",
       " 'transactions_gaps4572_24.csv',\n",
       " 'all_transactions14.csv',\n",
       " 'transactions_gaps4572_3.csv',\n",
       " 'all_transactions1152.csv',\n",
       " 'transactions_gaps4572_20.csv',\n",
       " 'transactions_gaps33_11.csv',\n",
       " 'all_transactions15.csv',\n",
       " 'transactions_gaps4572_19.csv',\n",
       " 'transactions_gaps4572_23.csv',\n",
       " 'transactions_gaps348_2.csv',\n",
       " 'all_transactions11.csv',\n",
       " 'all_transactions13.csv',\n",
       " 'transaction_detail11.csv',\n",
       " 'transactions_gaps33_12.csv',\n",
       " 'transactions_gaps4572_2.csv',\n",
       " 'transaction_detail14.csv',\n",
       " 'transactions_gaps39_4.csv',\n",
       " 'all_transactions21.csv',\n",
       " 'transactions_gaps4572_32.csv',\n",
       " 'transactions_gaps348_1.csv',\n",
       " 'all_transactions85.csv',\n",
       " 'transactions_gaps931_1.csv',\n",
       " 'all_transactions_list2.csv',\n",
       " 'transactions_gaps4572_10.csv',\n",
       " 'transaction_detail19.csv',\n",
       " 'all_transactions17.csv',\n",
       " 'transactions_gaps4572_4.csv',\n",
       " 'transactions_gaps4572_8.csv',\n",
       " 'transactions_gaps4572_26.csv',\n",
       " 'transactions_gaps4572_14.csv',\n",
       " 'transactions_gaps275_1.csv',\n",
       " 'transactions_gaps33_2.csv',\n",
       " 'transaction_detail8.csv',\n",
       " 'all_transactions19.csv',\n",
       " 'transactions_gaps4572_22.csv',\n",
       " 'transactions_gaps4572_12.csv',\n",
       " 'transactions_gaps2690_1.csv',\n",
       " 'transaction_detail25.csv',\n",
       " 'transaction_detail42.csv',\n",
       " 'transactions_gaps39_2.csv',\n",
       " 'all_transactions_list6.csv',\n",
       " 'all_transactions852.csv',\n",
       " 'all_transactions12.csv',\n",
       " 'transactions_gaps4572_17.csv',\n",
       " 'transactions_gaps275_3.csv',\n",
       " 'all_transactions23.csv',\n",
       " 'committee_history3.csv',\n",
       " 'transaction_detail15.csv',\n",
       " 'transactions_gaps4572_7.csv',\n",
       " 'transactions_gaps4572_13.csv',\n",
       " 'transactions_gaps4572_33.csv',\n",
       " 'transactions_gaps33_3.csv',\n",
       " 'transaction_detail852.csv',\n",
       " 'transactions_gaps33_5.csv',\n",
       " 'transactions_gaps4572_6.csv',\n",
       " 'transaction_detail115.csv',\n",
       " 'transactions_gaps3396_1.csv',\n",
       " 'transactions_gaps275_4.csv',\n",
       " 'transaction_detail16.csv',\n",
       " 'all_transactions24.csv',\n",
       " 'all_transactions16.csv',\n",
       " 'transactions_gaps135_1.csv',\n",
       " 'all_transactions_list5.csv',\n",
       " 'transactions_gaps931_2.csv',\n",
       " 'transactions_gaps33_1.csv',\n",
       " 'transactions_gaps15192_1.csv',\n",
       " 'all_transactions20.csv',\n",
       " 'transactions_gaps39_3.csv',\n",
       " 'all_transactions22.csv',\n",
       " 'transactions_gaps4572_9.csv',\n",
       " 'transaction_detail9.csv',\n",
       " 'all_transactions80.csv',\n",
       " 'all_transactions5.csv',\n",
       " 'transaction_detail10.csv',\n",
       " 'transaction_detail24.csv',\n",
       " 'transaction_detail21.csv',\n",
       " 'transactions_gaps54_1.csv',\n",
       " 'transactions_gaps4572_16.csv',\n",
       " 'all_transactions25.csv',\n",
       " 'transaction_detail1152.csv',\n",
       " 'all_transactions_list3.csv',\n",
       " 'transactions_gaps4572_1.csv',\n",
       " 'transactions_gaps54_2.csv',\n",
       " 'transactions_gaps33_10.csv',\n",
       " 'transactions_gaps4572_29.csv',\n",
       " 'transaction_detail_missing.csv',\n",
       " 'transaction_detail41.csv',\n",
       " 'committee_history_first_batch.csv',\n",
       " 'transactions_gaps1524_1.csv',\n",
       " 'transactions_gaps191_1.csv',\n",
       " 'transaction_detail23.csv',\n",
       " 'transaction_detail_second_batch.csv',\n",
       " 'transaction_detail80.csv',\n",
       " 'transactions_gaps682_1.csv',\n",
       " 'transactions_gaps4572_21.csv',\n",
       " 'transactions_first_batch.csv',\n",
       " 'transactions_gaps33_6.csv',\n",
       " 'transactions_gaps4572_18.csv',\n",
       " 'transactions_gaps33_8.csv',\n",
       " 'transaction_detail20.csv',\n",
       " 'transactions_gaps4572_27.csv',\n",
       " 'transactions_gaps4572_31.csv',\n",
       " 'transactions_gaps931_3.csv',\n",
       " 'transactions_gaps33_9.csv',\n",
       " 'statement_of_organization_first_batch.csv']"
      ]
     },
     "execution_count": 3,
     "metadata": {},
     "output_type": "execute_result"
    }
   ],
   "source": [
    "files"
   ]
  },
  {
   "cell_type": "code",
   "execution_count": 4,
   "metadata": {
    "collapsed": false,
    "deletable": true,
    "editable": true,
    "scrolled": true
   },
   "outputs": [],
   "source": [
    "import warnings\n",
    "from ast import literal_eval\n",
    "\n",
    "map_names = {\n",
    "    'all': 'transactions',\n",
    "    'transactions': 'transactions',\n",
    "    'transaction': 'trans_details',\n",
    "    'statement': 'statement',\n",
    "    'committee': 'comm_history',\n",
    "    'election': 'election_activity',\n",
    "    }\n",
    "dfs = {}\n",
    "with warnings.catch_warnings(record=True) as w:\n",
    "    for i,f in enumerate(files):\n",
    "        head = f.split('_')[0]\n",
    "        if head == 'trans':\n",
    "            continue\n",
    "        else:\n",
    "            head = map_names[head]\n",
    "        df = pd.read_csv('elections-2018/scrape_files/{}'.format(f))\n",
    "        if w:\n",
    "            u = w[-1]\n",
    "            u.message.args[0]\n",
    "            tup = literal_eval(u.message.args[0].strip('Columns ').split(' ')[0])\n",
    "            try:\n",
    "                df = pd.read_csv('elections-2018/scrape_files/{}'.format(f), dtype={k:str for k in tup})\n",
    "            except:\n",
    "                df = pd.read_csv('elections-2018/scrape_files/{}'.format(f), dtype={tup: str})\n",
    "        dfs.setdefault(head, DF([], columns=df.columns))\n",
    "        dfs[head] = dfs[head].append(df, ignore_index=True)"
   ]
  },
  {
   "cell_type": "code",
   "execution_count": 5,
   "metadata": {
    "collapsed": false,
    "deletable": true,
    "editable": true
   },
   "outputs": [
    {
     "data": {
      "text/plain": [
       "['election_activity',\n",
       " 'statement',\n",
       " 'trans_details',\n",
       " 'transactions',\n",
       " 'comm_history']"
      ]
     },
     "execution_count": 5,
     "metadata": {},
     "output_type": "execute_result"
    }
   ],
   "source": [
    "list(dfs)"
   ]
  },
  {
   "cell_type": "code",
   "execution_count": 6,
   "metadata": {
    "collapsed": false
   },
   "outputs": [
    {
     "data": {
      "text/plain": [
       "(9611, 6)"
      ]
     },
     "execution_count": 6,
     "metadata": {},
     "output_type": "execute_result"
    }
   ],
   "source": [
    "dfs['comm_history'].shape"
   ]
  },
  {
   "cell_type": "markdown",
   "metadata": {},
   "source": [
    "### Load Schemas Dict"
   ]
  },
  {
   "cell_type": "code",
   "execution_count": 7,
   "metadata": {
    "collapsed": false
   },
   "outputs": [],
   "source": [
    "os.chdir('../Work/HackOregon')\n",
    "\n",
    "with open('schemas_dict.json', 'r') as f:\n",
    "    schemas = json.load(f)"
   ]
  },
  {
   "cell_type": "code",
   "execution_count": 8,
   "metadata": {
    "collapsed": false
   },
   "outputs": [
    {
     "data": {
      "text/plain": [
       "['statement_of_org',\n",
       " 'payee',\n",
       " 'ballots',\n",
       " 'donor',\n",
       " 'election_activity',\n",
       " 'transaction_details',\n",
       " 'transactions',\n",
       " 'committees_list',\n",
       " 'committee_history']"
      ]
     },
     "execution_count": 8,
     "metadata": {},
     "output_type": "execute_result"
    }
   ],
   "source": [
    "list(schemas)"
   ]
  },
  {
   "cell_type": "markdown",
   "metadata": {
    "deletable": true,
    "editable": true
   },
   "source": [
    "## Routines"
   ]
  },
  {
   "cell_type": "markdown",
   "metadata": {
    "deletable": true,
    "editable": true
   },
   "source": [
    "#### Visually Inspect Column Values"
   ]
  },
  {
   "cell_type": "code",
   "execution_count": 9,
   "metadata": {
    "collapsed": false,
    "deletable": true,
    "editable": true
   },
   "outputs": [],
   "source": [
    "def inspect_cols(df):\n",
    "    long_cols = []\n",
    "\n",
    "    def print_message(c, head=False):\n",
    "        print(40*'-')\n",
    "        print(c.upper(), '\\n')\n",
    "        if head:\n",
    "            print(df.loc[:, c].unique()[:25].tolist(), '\\n')\n",
    "        else:\n",
    "            print(df.loc[:, c].unique().tolist(), '\\n')\n",
    "\n",
    "    for c in df:\n",
    "        if df.loc[:, c].nunique() < 100:\n",
    "            print_message(c)\n",
    "        else:\n",
    "            print_message(c, True)\n",
    "            long_cols.append(c)\n",
    "    print(40*'=')\n",
    "    print('Columns with many unique values:\\n')\n",
    "    print(long_cols)"
   ]
  },
  {
   "cell_type": "markdown",
   "metadata": {
    "deletable": true,
    "editable": true
   },
   "source": [
    "#### Find Column Values That Mismatch Pattern"
   ]
  },
  {
   "cell_type": "code",
   "execution_count": 10,
   "metadata": {
    "collapsed": false,
    "deletable": true,
    "editable": true
   },
   "outputs": [],
   "source": [
    "def check_values(df, col_pattern, val_pattern):\n",
    "    cols = [c for c in df if re.search(col_pattern, c)]\n",
    "\n",
    "    for c in cols:\n",
    "        mask = df.loc[:, c].dropna() \\\n",
    "            .apply(lambda x: True if not re.match(val_pattern, str(x)) else False)\n",
    "        bad = df.loc[:, c].dropna()[mask].drop_duplicates()\n",
    "        print(40*'-')\n",
    "        print(c.upper(), '\\n')\n",
    "        print(bad, '\\n')"
   ]
  },
  {
   "cell_type": "markdown",
   "metadata": {},
   "source": [
    "#### Reformat Column Names & Drop Cols Not in Schema"
   ]
  },
  {
   "cell_type": "code",
   "execution_count": 11,
   "metadata": {
    "collapsed": true
   },
   "outputs": [],
   "source": [
    "def correct_columns(name, verbose=False):\n",
    "    \n",
    "    nmap = {\n",
    "        'statement': 'statement_of_org',\n",
    "        'trans_details': 'transaction_details',\n",
    "        'comm_history': 'committee_history',\n",
    "        'transactions': 'transactions',\n",
    "        'election_activity': 'election_activity',\n",
    "        }\n",
    "    schema = nmap[name]\n",
    "    # column names from schema\n",
    "    keep = [c.split()[0] for c in schemas[schema]]\n",
    "    # rename columns in df to match format\n",
    "    def rename(c):\n",
    "        # three lines to correct transactions cols\n",
    "        c = re.sub('Tran ID', 'transaction_id', c)\n",
    "        c = re.sub('Tran Date', 'transaction_date', c)\n",
    "        c = re.sub('^Sub Type', 'transaction_subtype', c)\n",
    "        # for all data\n",
    "        return re.sub('(\\s+|/)', '_', c.lower().strip())\n",
    "        \n",
    "    dfs[name].columns = [rename(c) for c in dfs[name]]\n",
    "    symdiff = set(keep).symmetric_difference(set(list(dfs[name])))\n",
    "    if verbose:\n",
    "        print('Schema Columns:')\n",
    "        print(keep, '\\n')\n",
    "        print('Renamed DF Columns:')\n",
    "        print(list(dfs[name]), '\\n')\n",
    "        print('Symmetric Difference:')\n",
    "        print(symdiff)\n",
    "    drop = set(dfs[name]).difference(set(keep))\n",
    "    print(drop, '\\n')\n",
    "    dfs[name].drop(drop, axis=1, inplace=True)\n",
    "    print('Dropped {} columns from {}'.format(len(drop), name))\n",
    "    match = set(dfs[name]) == set(keep)\n",
    "    print('Columns match schema:', match)\n",
    "    if not match:\n",
    "        print(set(dfs[name]).symmetric_difference(set(keep)))"
   ]
  },
  {
   "cell_type": "markdown",
   "metadata": {
    "deletable": true,
    "editable": true
   },
   "source": [
    "#### Standardize Phone/Fax"
   ]
  },
  {
   "cell_type": "code",
   "execution_count": 12,
   "metadata": {
    "collapsed": false,
    "deletable": true,
    "editable": true
   },
   "outputs": [],
   "source": [
    "ph_pattern1 = '^\\(\\d{3}\\)\\s*\\d{3}-\\d{4}(\\s+x{0,1}(\\d*|\\w*)){0,1}$'\n",
    "ph_pattern2 = '^\\d{3}-\\d{3}-\\d{4}(\\s+x{0,1}(\\d*|\\w*)){0,1}$'\n",
    "ph_pattern3 = '^\\d{3}\\s+\\d{3}-\\d{4}(\\s+x{0,1}(\\d*|\\w*)){0,1}$'\n",
    "def std_phone(x):\n",
    "    if x != x:\n",
    "        return None\n",
    "    patterns = {\n",
    "        '\\d{10}': \n",
    "            ' '.join([x[:3], x[3:6], x[6:]]),\n",
    "        ph_pattern1: \n",
    "            re.sub('(\\)\\s*|-)', ' ', x.strip('(')),\n",
    "        ph_pattern2:\n",
    "            re.sub('\\s{2,}', ' ', x.replace('-', ' ')),\n",
    "        ph_pattern3:\n",
    "            re.sub('\\s{2,}', ' ', x.replace('-', ' ')),\n",
    "        '(exempt|Exempt)':\n",
    "            'Exempt from public record',\n",
    "    }\n",
    "    x = x.strip()\n",
    "    for p in patterns:\n",
    "        if re.match(p, x):\n",
    "            return patterns[p]\n",
    "    return x"
   ]
  },
  {
   "cell_type": "markdown",
   "metadata": {},
   "source": [
    "#### Check For All Null Records"
   ]
  },
  {
   "cell_type": "code",
   "execution_count": 13,
   "metadata": {
    "collapsed": true
   },
   "outputs": [],
   "source": [
    "def allnull(name):\n",
    "    n = dfs[name].shape[1]\n",
    "    m = dfs[name][dfs[name].isnull().sum(axis=1) == n].shape[0]\n",
    "    print('There are {} all null records'.format(m))"
   ]
  },
  {
   "cell_type": "markdown",
   "metadata": {
    "deletable": true,
    "editable": true
   },
   "source": [
    "## Statement DF"
   ]
  },
  {
   "cell_type": "markdown",
   "metadata": {},
   "source": [
    "### Rename & Drop Unwanted Columns"
   ]
  },
  {
   "cell_type": "code",
   "execution_count": 14,
   "metadata": {
    "collapsed": false
   },
   "outputs": [
    {
     "name": "stdout",
     "output_type": "stream",
     "text": [
      "{'committee'} \n",
      "\n",
      "Dropped 1 columns from statement\n",
      "Columns match schema: True\n"
     ]
    }
   ],
   "source": [
    "correct_columns('statement')"
   ]
  },
  {
   "cell_type": "code",
   "execution_count": 15,
   "metadata": {
    "collapsed": false,
    "deletable": true,
    "editable": true
   },
   "outputs": [
    {
     "name": "stdout",
     "output_type": "stream",
     "text": [
      "<class 'pandas.core.frame.DataFrame'>\n",
      "RangeIndex: 1617 entries, 0 to 1616\n",
      "Data columns (total 25 columns):\n",
      "candidate_address                  960 non-null object\n",
      "committee_acronym                  295 non-null object\n",
      "committee_address                  1596 non-null object\n",
      "committee_campaign_phone           1384 non-null object\n",
      "committee_filing_effective_from    1596 non-null object\n",
      "committee_filing_type              1596 non-null object\n",
      "committee_id                       1596 non-null float64\n",
      "committee_name                     1596 non-null object\n",
      "committee_pac_type                 632 non-null object\n",
      "election_office                    960 non-null object\n",
      "email_address                      958 non-null object\n",
      "employer                           859 non-null object\n",
      "fax                                150 non-null object\n",
      "home_phone                         663 non-null object\n",
      "mailing_address                    960 non-null object\n",
      "name                               960 non-null object\n",
      "occupation                         960 non-null object\n",
      "party_affiliation                  957 non-null object\n",
      "treasurer_email_address            1595 non-null object\n",
      "treasurer_fax                      408 non-null object\n",
      "treasurer_home_phone               969 non-null object\n",
      "treasurer_mailing_address          1596 non-null object\n",
      "treasurer_name                     1596 non-null object\n",
      "treasurer_work_phone               1294 non-null object\n",
      "work_phone                         724 non-null object\n",
      "dtypes: float64(1), object(24)\n",
      "memory usage: 315.9+ KB\n"
     ]
    }
   ],
   "source": [
    "dfs['statement'].info()"
   ]
  },
  {
   "cell_type": "code",
   "execution_count": 16,
   "metadata": {
    "collapsed": false
   },
   "outputs": [
    {
     "name": "stdout",
     "output_type": "stream",
     "text": [
      "There are 21 all null records\n"
     ]
    }
   ],
   "source": [
    "# any all null records?\n",
    "allnull('statement')"
   ]
  },
  {
   "cell_type": "markdown",
   "metadata": {},
   "source": [
    "There are 21 completely null records in this DF, and the null values are forcing ints to floats."
   ]
  },
  {
   "cell_type": "code",
   "execution_count": 17,
   "metadata": {
    "collapsed": false
   },
   "outputs": [
    {
     "data": {
      "text/plain": [
       "(1617, 25)"
      ]
     },
     "execution_count": 17,
     "metadata": {},
     "output_type": "execute_result"
    }
   ],
   "source": [
    "dfs['statement'].shape"
   ]
  },
  {
   "cell_type": "code",
   "execution_count": 18,
   "metadata": {
    "collapsed": false
   },
   "outputs": [
    {
     "data": {
      "text/plain": [
       "(1596, 25)"
      ]
     },
     "execution_count": 18,
     "metadata": {},
     "output_type": "execute_result"
    }
   ],
   "source": [
    "dfs['statement'].dropna(how='all', inplace=True)\n",
    "dfs['statement'].shape"
   ]
  },
  {
   "cell_type": "markdown",
   "metadata": {
    "deletable": true,
    "editable": true
   },
   "source": [
    "### Inspect Columns"
   ]
  },
  {
   "cell_type": "code",
   "execution_count": 19,
   "metadata": {
    "collapsed": false,
    "deletable": true,
    "editable": true
   },
   "outputs": [
    {
     "name": "stdout",
     "output_type": "stream",
     "text": [
      "----------------------------------------\n",
      "CANDIDATE_ADDRESS \n",
      "\n",
      "[nan, '1907 NW Mill Pond Road, Portland,           OR      97229         - 7553', '3393 Arlington Avenue, Eugene,           OR      97408', '23695 SW Brittany Ln, Sherwood,           OR      97140', '1003 Terrace Dr, Lake Oswego,           OR      97034', '1163 State St, Salem,           OR      97301', '6771 SW 162nd Drive, Beaverton,           OR      97007         - 4894', '7811 Old Stage Rd, Central Point,           OR      97502', '17915 NW Lonerock Dr, Portland,           OR      97229', '9026 SW 36th Ave, Portland,           OR      97219', '2138 Lois Drive, Roseburg,           OR      97470', '18340 SW Monte Verdi Blvd, Aloha,           OR      97007', '2248 Potter St, Eugene,           OR      97405', '410 Jefferson Street, Oregon City,           OR      97045', '22760 SW 87th Pl., Tualatin,           OR      97062', '660 Morgan Ave, Ontario,           OR      97914', '805 Kingwood Dr NW, Salem,           OR      97304', '3321 SE 20th Ave., Portland,           OR      97202', 'Hwy 26, Seaside,           OR      97138', '17080 Butler Hill Road, Dallas,           OR      97338', '4505 Pinnacle Dr., Medford,           OR      97504', '439 Pyle Drive, Grants Pass,           OR      97527', '71 Dewey St., Ashland,           OR      97520', '6227 SW 18th Dr, Portland,           OR      97239', '1797 SE Bronzewood Ave., Bend,           OR      97702'] \n",
      "\n",
      "----------------------------------------\n",
      "COMMITTEE_ACRONYM \n",
      "\n",
      "['OSC-PAC', 'OFAH', 'OIA PAC', nan, 'PAC', 'PEAPAC', 'PCDCC', 'PAT PAC', 'WFP', 'YCD', 'APP PAC', 'AG-PAC', 'ALLIANCE PAC', 'ACEC OREGON PAC', 'AFSCME', 'AFT-Oregon Candidate PAC', 'Liberty PAC', 'BCDCC', 'BCRCC', 'BC Dems', 'BWV', 'BikePAC', 'BOMA PAC', 'COPAC', 'CAO-PAC'] \n",
      "\n",
      "----------------------------------------\n",
      "COMMITTEE_ADDRESS \n",
      "\n",
      "['1821 SE Ankeny Street, Portland,       OR     97214', '2075 Madrona Avenue SE, STE 150, Salem,       OR     97302', '11735 SW Queen Elizabeth Street, #101, King City,       OR     97224', '3321 SE 20th Ave, Portland,       OR     97202', '1125 SE Madison St Ste 206, Portland,       OR     97214     -   3600', '454 Willamette St Ste 219, Eugene,       OR     97401', '784 NW 3rd Ave, Canby,       OR     97013', '3321 SE 20th Avenue, Portland,       OR     97202', '20210 SW Teton Ave, Tualatin,       OR     97062', '1049 6th St. NW, Salem,       OR     97304', '345 NE 8th, Portland,       OR     97232', '4530 SE 67th Ave, Portland,       OR     97206', '1907 NW Mill Pond Road, Portland,       OR     97229     -   7553', '3536 SE 26th Ave, Portland,       OR     97202', '2121 SW Broadway, Suite 111, Portland,       OR     97201', '11080 SW Allen Blvd., Beaverton,       OR     97005', 'PO Box 10086, Eugene,       OR     97440', '333 SE 2nd Ave, Portland,       OR     97214', '637 SW Keck Dr #122, McMinnville,       OR     97128', '1790 Landau Dr, Woodburn,       OR     97071', '23695 SW Brittany Ln, Sherwood,       OR     97140', '1320 Capitol St. NE Suite 200, Salem,       OR     97301', '9450 SW Commerce Circle, Wilsonville,       OR     97070', '494 State St, Suite 230 (not a mailing address), Salem,       OR     97301', '200 SW Market St, Ste 150, Portland,       OR     97201'] \n",
      "\n",
      "----------------------------------------\n",
      "COMMITTEE_CAMPAIGN_PHONE \n",
      "\n",
      "['(503)238-0442', '(503)378-9066', '(503)620-0258', '(503)295-1851', '(503)283-5094', '(541)516-6059', '(503)263-8337', nan, '(503)691-5700', '(503)831-1586', '(503)774-4302', '(503)292-6841', '(503)236-4949', '(503)235-2305', '(503)603-9009', '(541)687-2320', '(503)841-7161', '(503)857-0944', '(503)560-6725', '(503)381-8362', '(503)399-1701', '(503)682-3363    x307', '(503)224-8684', '(503)292-2348', '(971)888-5665'] \n",
      "\n",
      "----------------------------------------\n",
      "COMMITTEE_FILING_EFFECTIVE_FROM \n",
      "\n",
      "['03/14/2016', '11/01/2017', '03/22/2018', '09/07/2016', '04/02/2018', '01/23/2018', '11/06/2017', '03/12/2018', '02/13/2012', '05/17/2017', '08/29/2017', '02/12/2015', '04/21/2015', '04/04/2012', '03/09/2017', '01/20/2017', '01/24/2011', '07/29/2015', '04/21/2017', '03/17/2014', '03/19/2015', '03/15/2017', '06/28/2017', '03/08/2016', '04/04/2018'] \n",
      "\n",
      "----------------------------------------\n",
      "COMMITTEE_FILING_TYPE \n",
      "\n",
      "['Amendment', 'Original'] \n",
      "\n",
      "----------------------------------------\n",
      "COMMITTEE_ID \n",
      "\n",
      "[252.0, 2069.0, 2793.0, 1579.0, 1869.0, 765.0, 216.0, 167.0, 221.0, 337.0, 260.0, 223.0, 7305.0, 4213.0, 5207.0, 3889.0, 4676.0, 5528.0, 350.0, 4015.0, 12510.0, 3.0, 4.0, 12878.0, 4797.0] \n",
      "\n",
      "----------------------------------------\n",
      "COMMITTEE_NAME \n",
      "\n",
      "['Oregon Sierra Club PAC', 'Oregonians for Affordable Housing', 'Oregonians in Action PAC', 'Oregonians to Maintain Community Standards', 'PAC 483', 'Pacific Green Party of Oregon', \"Parent's Education Association P.A.C.\", 'People for Oregon Libraries Political Action Committee', 'Plumbers & Steamfitters PAC', 'Polk County Democratic Central Committee', 'Portland Association of Teachers PAC', 'Portland Metro Fire Fighters PAC', 'Bobbie Regan for Portland School Board', \"Service Employees Int'L Union Local 49 Committee on Political Education\", 'Stand for Children Oregon PAC', 'Taxpayers Association of Oregon PAC', 'Jim Torrey for Mayor', 'Working Families Party of Oregon', 'Yamhill County Democrats', 'Accion Politica PCUNista PAC', 'Friends of Jessica Adamson', 'AG-PAC', 'AGC Committee for Action', 'Friends of Allen Alley', 'Alliance - PAC'] \n",
      "\n",
      "----------------------------------------\n",
      "COMMITTEE_PAC_TYPE \n",
      "\n",
      "['Miscellaneous', 'Political Party', nan, 'Measure', 'Caucus', 'Recall'] \n",
      "\n",
      "----------------------------------------\n",
      "ELECTION_OFFICE \n",
      "\n",
      "[nan, '2015 May Election, Director,      Portland School District, Zone 3', '2008 General Election, Mayor,      City of Eugene', '2015 May Election, Director,      Sherwood School District, Position 1', '2016 Primary Election, Governor', '2018 Primary Election, Judge of the Court of Appeals,      Position 10', '2012 Primary Election, City Councilor,      City of Beaverton, Position 4', '2012 Primary Election, State Senator,      2nd District', '2016 Primary Election, Secretary of State', '2016 Primary Election, Mayor,      City of Portland', '2012 General Election, Mayor,      City of Roseburg', '2018 Primary Election, State Representative,      28th District', '2018 Primary Election, State Representative,      11th District', '2014 General Election, State Representative,      40th District', '2012 General Election, City Councilor,      City of Tualatin, Position 2', '2018 Primary Election, State Senator,      30th District', '2012 Primary Election, State Representative,      20th District', '2010 General Election, State Senator,      17th District', '2016 Primary Election, State Representative,      32nd District', '2020 Primary Election, State Senator,      12th District', '2016 Primary Election, County Commissioner,      Jackson County, Position 2', '2010 Primary Election, County Commissioner,      Josephine County, Position 1', '2014 Primary Election, State Representative,      5th District', '2018 Primary Election, State Senator,      18th District', '2008 General Election, State Representative,      54th District'] \n",
      "\n",
      "----------------------------------------\n",
      "EMAIL_ADDRESS \n",
      "\n",
      "[nan, 'bobbie4schools@comcast.net', 'jimtorrey@comcast.net', 'jessicarhadamson@gmail.com', 'Allen@AllenAlley.com', 'rex.armstrong@ojd.state.or.us', 'catherine_arnold@comcast.net', 'jallmand@mac.com', 'brad@bradavakian.com', 'jules@julesbailey.com', 'mjbaker65@charter.net', 'sgtjeff92@aol.com', 'phil@barnhart.us', 'brent@votebrentbarton.com', 'smbeikman@comcast.net', 'cbentz@yturrirose.com', 'rep.vickiberger@state.or.us', 'suzannne@suzannefororegon.com', 'booneforstaterep@aol.com', 'boquist@aol.com', 'breidenthal@charter.net', 'jackbrown@jackbrown.org', 'info@peterbuckley.org', 'ginny.burdick@comcast.net', 'cburley10@gmail.com'] \n",
      "\n",
      "----------------------------------------\n",
      "EMPLOYER \n",
      "\n",
      "[nan, 'Self Employed', 'Providence Health & Services,        Portland,             OR', 'State of Oregon,        Salem,             OR', 'Micro Power Electronics,        Beaverton,             OR', 'Bureau of Labor and Industries,        Portland,             OR', 'Multnomah County,        Portland,             OR', 'ODOT,        Salem,             OR', 'Legislative Assembly,        Salem,             OR', 'The Barton Law Firm,        Newport,             OR', 'US Congress,        Washington,             DC', 'Jackson County,        Medford,             OR', 'Family Enterprises Ltd dba Auto Doc,        Grants Pass,             OR', 'Self,        Ashland,             OR', 'Interfor,        Gilchrist,             OR', 'State of Oregon,        Dallas,             OR', 'Rasmussen Spray Service,        Salem,             OR', 'Metro,        Portland,             OR', 'Coldwell banker sun country ,        prineville ,             OR', 'Portland Community College,        Portland,             OR', 'Columbia County,        Saint Helens,             OR', 'Equinox Industries,        Cottage Grove,             OR', 'City of Beaverton,        Beaverton,             OR', 'Marland Henderson Construction,        Tigard,             OR', 'Oregon Legislature,        Salem,             OR'] \n",
      "\n",
      "----------------------------------------\n",
      "FAX \n",
      "\n",
      "[nan, '(503)986-5865', '(503)295-0670', '(541)889-2432', '(503)540-8989', '(503)623-7665', '(541)772-2593', '(503)585-1291', '(503)769-2219', '(503)684-9082', '(541)494-4945', '(541)672-7685', '(503)366-4325', '(503)292-1298', '(541)766-6701', '(503)625-8556', '(503)626-5035', '(503)685-6202', '(503)666-0529', '(541)278-1273', '(503)684-7523', '(503)239-9670', '(541)676-5989', '(503)390-3498', '(541)221-8006'] \n",
      "\n",
      "----------------------------------------\n",
      "HOME_PHONE \n",
      "\n",
      "[nan, '(503)292-6841', '(541)343-6595', '(503)625-4621', '(503)699-9042', 'Exempt from public record', '(503)642-2381', '(541)664-9878', '(503)430-5588', '(541)440-0580', '(503)649-1767', '(541)484-9701', '(503)612-6925', '(541)889-3063', '(503)297-4127', '(503)298-9494', '(541)772-2593', '(541)476-7001', '(541)482-9885', '(503)244-1444', '(541)383-8598', '(503)831-4918', '(503)399-8011', '(541)720-9583', '(503)585-1291'] \n",
      "\n",
      "----------------------------------------\n",
      "MAILING_ADDRESS \n",
      "\n",
      "[nan, '1907 NW Mill Pond Road, Portland,         OR     97229     - 7553', '3393 Arlington Avenue, Eugene,         OR     97408', '23695 SW Brittany Ln, Sherwood,         OR     97140', '1003 Terrace Dr, Lake Oswego,         OR     97034', '1163 State St, Salem,         OR     97301', '6771 SW 162nd Drive, Beaverton,         OR     97007     - 4894', 'PO Box 5479, Central Point,         OR     97502', '1319 MLK Jr Blvd, Ste 204, Portland,         OR     97214', '9026 SW 36th Ave, Portland,         OR     97219', '2138 Lois Drive, Roseburg,         OR     97470', '18340 SW Monte Verdi Blvd, Aloha,         OR     97007', '2248 Potter St, Eugene,         OR     97405', 'PO Box 42307, Portland,         OR     97242', '22760 SW 87th Pl., Tualatin,         OR     97062', 'PO Box 1048, Ontario,         OR     97914', '805 Kingwood Dr NW, Salem,         OR     97304', 'PO Box 637, Cannon Beach,         OR     97110', '17080 Butler Hill Rd, Dallas,         OR     97338', '4505 Pinnacle Dr., Medford,         OR     97504', '1252 Redwood Avenue #68, Grants Pass,         OR     97527', '71 Dewey St, Ashland,         OR     97520', '6227 SW 18th Dr, Portland,         OR     97239', '1797 SE Bronzewood Ave., Bend,         OR     97702', 'PO Box 757, Dallas,         OR     97338'] \n",
      "\n",
      "----------------------------------------\n",
      "NAME \n",
      "\n",
      "[nan, 'Bobbie  A  Regan', 'James  D.  Torrey', 'Jessica    Adamson', 'Allen  H.  Alley', 'Rex    Armstrong', 'Catherine  A  Arnold', 'Jason  A.  Atkinson', 'Brad    Avakian', 'Jules  L K  Bailey', 'Mike  J  Baker', 'Jeff    Barker', 'Philip  N  Barnhart', 'Brent    Barton', 'Monique    Beikman', 'Cliff    Bentz', 'Vicki    Berger', 'Suzanne    Bonamici', 'Deborah  A.  Boone', 'Brian  J.  Boquist', 'Douglas  P.  Breidenthal', 'Jack  A  Brown Jr', 'Peter    Buckley', 'Ginny    Burdick', 'Charles  H  Burley'] \n",
      "\n",
      "----------------------------------------\n",
      "OCCUPATION \n",
      "\n",
      "[nan, 'Volunteer', 'Not Employed', 'Director, Government Relations - Oregon', 'Investor', 'Judge, Oregon Court of Appeals', 'Marketing Associate', 'Business Consultant- Senator', 'Commissioner of Labor and Industries', 'County Commissioner', 'Transportation Planner', 'State Representative', 'Oregon State Representative', 'Attorney', 'State Legislator', 'US Representative', 'Forestry, farming, consulting', 'Commissionner', 'auto mechanic', 'State Representative, House District Five; Writer', 'Communication Consultant/Senator', 'Timber Manager', 'Polk County District Attorney', 'Owner/CEO, Cafe Today Restaurants', 'Small Business Owner/Operator Pilot Car Service'] \n",
      "\n",
      "----------------------------------------\n",
      "PARTY_AFFILIATION \n",
      "\n",
      "[nan, 'Nonpartisan', 'Republican', 'Democrat', 'Progressive', 'Libertarian', 'Constitution', 'Independent', 'Pacific Green', 'Nonaffiliated'] \n",
      "\n",
      "----------------------------------------\n",
      "TREASURER_EMAIL_ADDRESS \n",
      "\n",
      "['amy.baird@oregon.sierraclub.org', 'jchandler@oregonhba.com', 'Dave@oia.org', 'j.green@c-esystems.com', 'wabuchholz@gmail.com', 'driscollx@yahoo.com', 'bktzmllr@juno.com', 'Shropshire@ua290.org', 'aferschweiler@iaff43.org', 'megn@seiu49.org', 'admin@stand.org', 'loripiercy@centurylink.net', 'triciad@jrcpa.com', 'msturbois@comcast.net', 'treasurer@ycdemocrats.org', 'larrykleinman@gmail.com', 'jessicarhadamson@gmail.com', 'jstone@oan.org', 'johnr@agc-oregon.org', 'donna@capitolaccounting.com', 'mhaynes@portlandalliance.com', 'dgibson@rosevilla.org', 'russell.cna@gmail.com', 'ken.ray@outlook.com', 'davidr@aft-oregon.org'] \n",
      "\n",
      "----------------------------------------\n",
      "TREASURER_FAX \n",
      "\n",
      "[nan, '(503)612-4933', '(503)238-6692', '(541)485-0960', '(503)982-1031', '(503)682-1696', '(503)873-8399', '(503)652-3291', '(866)814-0803', '(541)963-7750', '(503)295-0670', '(503)581-0152', '(503)223-1659', '(503)623-7665', '(541)772-2593', '(503)242-8589', '(541)773-7775', '(503)585-1291', '(503)861-7602', '(503)467-7431', '(503)416-6136', '(503)350-2224', '(503)769-2219', '(503)620-3310', '(918)516-0293'] \n",
      "\n",
      "----------------------------------------\n",
      "TREASURER_HOME_PHONE \n",
      "\n",
      "[nan, '(503)680-8500', '(503)830-4348', '(503)882-5333', '(503)616-0349', '(503)234-0768', '(541)343-6848', '(503)428-1219', '(503)560-6725', '(503)625-4621', '(503)312-7725', '(541)347-4423', '(503)891-1395', '(541)963-9074', '(503)292-1643', '(503)638-3839', '(541)821-5207', '(541)523-6760', '(541)523-3098', '(541)440-0580', '(503)851-5963', '(541)689-0803', '(503)781-4028', '(541)318-7529', '(503)375-9026'] \n",
      "\n",
      "----------------------------------------\n",
      "TREASURER_MAILING_ADDRESS \n",
      "\n",
      "['1821 SE Ankeny Street, Portland,         OR     97214', '2075 Madrona Avenue SE, STE 150, Salem,         OR     97302', 'PO Box 230637, Tigard,         OR     97281', 'PO Box 42307, Portland,         OR     97242', '1125 SE Madison, Suite 206, Portland,         OR     97203', 'PO Box 1606, Eugene,         OR     97440', '14004 SE Summerfield Lp, Happy Valley,         OR     97086', 'P.O. Box 42307, Portland,         OR     97242', '20210 SW Teton Ave, Tualatin,         OR     97062', '4530 SE 67th Ave, Portland,         OR     97206', '3536 SE 26th Ave, Portland,         OR     97202', '2121 SW Broadway, Suite 111, Portland,         OR     97201', '29993 Maple Drive, Rainier,         OR     97048', 'PO Box 10086, Eugene,         OR     97440', '1512 SE Hawthorne Blvd #2, Portland,         OR     97214', '637 SW Keck Dr #122, McMinnville,         OR     97128', '1790 Landau Dr, Woodburn,         OR     97071', '23695 SW Brittany Ln, Shewood,         OR     97140', '29751 Town Center Loop West, Wilsonville,         OR     97070', '9450 SW Commerce Circle, Wilsonville,         OR     97070', 'PO Box 1304, Silverton,         OR     97381', '200 SW Market St. #150, Portland,         OR     97201', '13505 SE River Road, Portland,         OR     97222', '89286 Cranberry Ln, Bandon,         OR     97411', '7637 SE Reed College Pl., Portland,         OR     97202'] \n",
      "\n",
      "----------------------------------------\n",
      "TREASURER_NAME \n",
      "\n",
      "['Amy  Baird', 'Jon  Chandler', 'David J. Hunnicutt', 'Jef A Green', 'Wesley M Buchholz', 'Trisha  Driscoll', 'Robert  Kitzmiller', 'F A Shropshire', 'Alan  Ferschweiler', 'Jef  Green', 'Meg  Niemi', 'Kara J Dahl', 'Lori L Piercy', 'Tricia  Duncan', 'Mark D Sturbois', 'Larry  Richardson', 'Larry  Kleinman', 'Jessica  Adamson', 'Jeff A. Stone', 'John  Rakowitz', 'Donna L Butler', 'Marion  Haynes', 'Diane K. Gibson', 'Donna L. Butler', 'Carol A. Russell'] \n",
      "\n",
      "----------------------------------------\n",
      "TREASURER_WORK_PHONE \n",
      "\n",
      "[nan, '(503)378-9066 x5x3', '(503)620-0258', '(503)295-1851', '(503)823-1622', '(541)337-6786', '(503)882-5333', '(503)691-5700', '(503)774-4302', '(503)236-4949 x221', '(503)235-2305', '(503)816-7131', '(541)687-2320', '(503)560-6725', '(503)682-5089', '(503)317-1781', '(503)873-8730', '(503)552-6746', '(503)652-3280', '(800)293-0510', '(971)888-5665', '(541)963-7930', '(503)704-8180', '(503)239-5836', '(503)544-9721'] \n",
      "\n",
      "----------------------------------------\n",
      "WORK_PHONE \n",
      "\n",
      "[nan, '(503)862-8235', '(503)986-5663', '(503)615-4568', '(541)955-0911', '(971)673-0781', '(541)957-3658', '(503)986-1428', '(541)607-9207', '(541)889-5368', '(503)871-0647', '(503)298-9494', '(503)623-4426', '(541)774-6119', '(541)659-4313', '(541)488-9180', '(503)244-1444', '(541)480-2146', '(503)623-9268', '(503)269-0915', '(541)720-9583', '(971)304-4034', '(541)447-4433', '(503)949-3445 x1141', '(503)914-9723'] \n",
      "\n",
      "========================================\n",
      "Columns with many unique values:\n",
      "\n",
      "['candidate_address', 'committee_acronym', 'committee_address', 'committee_campaign_phone', 'committee_filing_effective_from', 'committee_id', 'committee_name', 'election_office', 'email_address', 'employer', 'fax', 'home_phone', 'mailing_address', 'name', 'occupation', 'treasurer_email_address', 'treasurer_fax', 'treasurer_home_phone', 'treasurer_mailing_address', 'treasurer_name', 'treasurer_work_phone', 'work_phone']\n"
     ]
    }
   ],
   "source": [
    "inspect_cols(dfs['statement'])"
   ]
  },
  {
   "cell_type": "markdown",
   "metadata": {
    "deletable": true,
    "editable": true
   },
   "source": [
    "### Phone"
   ]
  },
  {
   "cell_type": "code",
   "execution_count": 20,
   "metadata": {
    "collapsed": false,
    "deletable": true,
    "editable": true,
    "scrolled": true
   },
   "outputs": [
    {
     "name": "stdout",
     "output_type": "stream",
     "text": [
      "----------------------------------------\n",
      "COMMITTEE_CAMPAIGN_PHONE \n",
      "\n",
      "Series([], Name: committee_campaign_phone, dtype: object) \n",
      "\n",
      "----------------------------------------\n",
      "FAX \n",
      "\n",
      "717     5038514351\n",
      "1280    5038126773\n",
      "Name: fax, dtype: object \n",
      "\n",
      "----------------------------------------\n",
      "HOME_PHONE \n",
      "\n",
      "31      Exempt from public record\n",
      "448                  541-536-7444\n",
      "617                    5418060837\n",
      "728                    5034345365\n",
      "816                  503 621-6316\n",
      "1184                   5415799022\n",
      "Name: home_phone, dtype: object \n",
      "\n",
      "----------------------------------------\n",
      "TREASURER_FAX \n",
      "\n",
      "688     5037417574\n",
      "717     5038514351\n",
      "1251    5032706995\n",
      "1280    5038126773\n",
      "Name: treasurer_fax, dtype: object \n",
      "\n",
      "----------------------------------------\n",
      "TREASURER_HOME_PHONE \n",
      "\n",
      "210     Exempt from public record\n",
      "688                    5037417574\n",
      "1003                   5417586842\n",
      "1090                   5419332256\n",
      "1184                   5415799022\n",
      "1218                   9712664290\n",
      "1251                   5032706995\n",
      "1332                   5415051553\n",
      "Name: treasurer_home_phone, dtype: object \n",
      "\n",
      "----------------------------------------\n",
      "TREASURER_WORK_PHONE \n",
      "\n",
      "Series([], Name: treasurer_work_phone, dtype: object) \n",
      "\n",
      "----------------------------------------\n",
      "WORK_PHONE \n",
      "\n",
      "816                  503 621-6316\n",
      "1013    Exempt from public record\n",
      "Name: work_phone, dtype: object \n",
      "\n"
     ]
    }
   ],
   "source": [
    "ph_pattern = '^\\(\\d{3}\\)\\s*\\d{3}-\\d{4}(\\s+x{0,1}(\\d*|\\w*)){0,1}$'\n",
    "c = '(fax|phone)'\n",
    "check_values(dfs['statement'], c, ph_pattern)"
   ]
  },
  {
   "cell_type": "markdown",
   "metadata": {
    "deletable": true,
    "editable": true
   },
   "source": [
    "Phone/Fax numbers all appear to be correct, but the format needs to be standardized."
   ]
  },
  {
   "cell_type": "markdown",
   "metadata": {
    "deletable": true,
    "editable": true
   },
   "source": [
    "### Check Dates"
   ]
  },
  {
   "cell_type": "code",
   "execution_count": 21,
   "metadata": {
    "collapsed": false,
    "deletable": true,
    "editable": true
   },
   "outputs": [
    {
     "name": "stdout",
     "output_type": "stream",
     "text": [
      "----------------------------------------\n",
      "COMMITTEE_FILING_EFFECTIVE_FROM \n",
      "\n",
      "Series([], Name: committee_filing_effective_from, dtype: object) \n",
      "\n"
     ]
    }
   ],
   "source": [
    "date_pattern = '^(0[0-9]|1[0-2])/([0-2][0-9]|3[01])/(19\\d{2}|200[0-9]|201[0-8])$'\n",
    "c = 'committee_filing_effective_from'\n",
    "check_values(dfs['statement'], c, date_pattern)"
   ]
  },
  {
   "cell_type": "markdown",
   "metadata": {
    "deletable": true,
    "editable": true
   },
   "source": [
    "All dates are good."
   ]
  },
  {
   "cell_type": "markdown",
   "metadata": {
    "deletable": true,
    "editable": true
   },
   "source": [
    "### Check Committee ID"
   ]
  },
  {
   "cell_type": "code",
   "execution_count": 22,
   "metadata": {
    "collapsed": false,
    "deletable": true,
    "editable": true,
    "scrolled": true
   },
   "outputs": [
    {
     "name": "stdout",
     "output_type": "stream",
     "text": [
      "----------------------------------------\n",
      "COMMITTEE_ID \n",
      "\n",
      "0         252.0\n",
      "1        2069.0\n",
      "2        2793.0\n",
      "3        1579.0\n",
      "4        1869.0\n",
      "5         765.0\n",
      "6         216.0\n",
      "7         167.0\n",
      "8         221.0\n",
      "9         337.0\n",
      "10        260.0\n",
      "11        223.0\n",
      "12       7305.0\n",
      "13       4213.0\n",
      "14       5207.0\n",
      "15       3889.0\n",
      "16       4676.0\n",
      "17       5528.0\n",
      "18        350.0\n",
      "19       4015.0\n",
      "20      12510.0\n",
      "21          3.0\n",
      "22          4.0\n",
      "23      12878.0\n",
      "24       4797.0\n",
      "25       5203.0\n",
      "26       3094.0\n",
      "27       4016.0\n",
      "28       2998.0\n",
      "29        113.0\n",
      "         ...   \n",
      "1587      470.0\n",
      "1588      353.0\n",
      "1589       54.0\n",
      "1590     8667.0\n",
      "1591     1670.0\n",
      "1592     5493.0\n",
      "1593     2109.0\n",
      "1594     5514.0\n",
      "1595     1945.0\n",
      "1596       80.0\n",
      "1597      319.0\n",
      "1598     4167.0\n",
      "1599     4792.0\n",
      "1600       60.0\n",
      "1601     5328.0\n",
      "1602     9927.0\n",
      "1603     2891.0\n",
      "1604      328.0\n",
      "1605      229.0\n",
      "1606     4572.0\n",
      "1607     2070.0\n",
      "1608      152.0\n",
      "1609      108.0\n",
      "1610     3597.0\n",
      "1611     2717.0\n",
      "1612     2352.0\n",
      "1613      171.0\n",
      "1614     3428.0\n",
      "1615     4939.0\n",
      "1616      182.0\n",
      "Name: committee_id, Length: 1596, dtype: float64 \n",
      "\n"
     ]
    }
   ],
   "source": [
    "id_pattern = '^\\d+$'\n",
    "c = 'committee_id'\n",
    "check_values(dfs['statement'], c, id_pattern)"
   ]
  },
  {
   "cell_type": "markdown",
   "metadata": {
    "deletable": true,
    "editable": true
   },
   "source": [
    "Need to convert floats to int for ID"
   ]
  },
  {
   "cell_type": "markdown",
   "metadata": {
    "deletable": true,
    "editable": true
   },
   "source": [
    "### Clean Statement Columns"
   ]
  },
  {
   "cell_type": "code",
   "execution_count": 23,
   "metadata": {
    "collapsed": false,
    "deletable": true,
    "editable": true
   },
   "outputs": [],
   "source": [
    "cols = [c for c in dfs['statement'] if re.search('(fax|phone)', c)]\n",
    "\n",
    "for c in cols:\n",
    "    dfs['statement'].loc[:, c] = dfs['statement'].loc[:, c].apply(lambda x: std_phone(x))"
   ]
  },
  {
   "cell_type": "code",
   "execution_count": 24,
   "metadata": {
    "collapsed": false,
    "deletable": true,
    "editable": true
   },
   "outputs": [
    {
     "name": "stdout",
     "output_type": "stream",
     "text": [
      "----------------------------------------\n",
      "COMMITTEE_CAMPAIGN_PHONE \n",
      "\n",
      "Series([], Name: committee_campaign_phone, dtype: object) \n",
      "\n",
      "----------------------------------------\n",
      "FAX \n",
      "\n",
      "Series([], Name: fax, dtype: object) \n",
      "\n",
      "----------------------------------------\n",
      "HOME_PHONE \n",
      "\n",
      "31    Exempt from public record\n",
      "Name: home_phone, dtype: object \n",
      "\n",
      "----------------------------------------\n",
      "TREASURER_FAX \n",
      "\n",
      "Series([], Name: treasurer_fax, dtype: object) \n",
      "\n",
      "----------------------------------------\n",
      "TREASURER_HOME_PHONE \n",
      "\n",
      "210    Exempt from public record\n",
      "Name: treasurer_home_phone, dtype: object \n",
      "\n",
      "----------------------------------------\n",
      "TREASURER_WORK_PHONE \n",
      "\n",
      "Series([], Name: treasurer_work_phone, dtype: object) \n",
      "\n",
      "----------------------------------------\n",
      "WORK_PHONE \n",
      "\n",
      "1013    Exempt from public record\n",
      "Name: work_phone, dtype: object \n",
      "\n"
     ]
    }
   ],
   "source": [
    "ph_pattern = '^\\d{3} \\d{3} \\d{4}(\\s+x{0,1}(\\d*|\\w*)){0,1}$'\n",
    "c = '(fax|phone)'\n",
    "check_values(dfs['statement'], c, ph_pattern)"
   ]
  },
  {
   "cell_type": "markdown",
   "metadata": {},
   "source": [
    "#### Convert Committee ID to int"
   ]
  },
  {
   "cell_type": "code",
   "execution_count": 25,
   "metadata": {
    "collapsed": false
   },
   "outputs": [
    {
     "name": "stdout",
     "output_type": "stream",
     "text": [
      "----------------------------------------\n",
      "COMMITTEE_ID \n",
      "\n",
      "Series([], Name: committee_id, dtype: int64) \n",
      "\n"
     ]
    }
   ],
   "source": [
    "dfs['statement'].loc[:, 'committee_id'] = dfs['statement']['committee_id'].astype(int)\n",
    "# check\n",
    "c = 'committee_id'\n",
    "check_values(dfs['statement'], c, id_pattern)"
   ]
  },
  {
   "cell_type": "code",
   "execution_count": 26,
   "metadata": {
    "collapsed": true,
    "deletable": true,
    "editable": true
   },
   "outputs": [],
   "source": [
    "dfs['statement'].drop_duplicates().to_csv('statement_cleaned.csv', index=False)"
   ]
  },
  {
   "cell_type": "markdown",
   "metadata": {
    "deletable": true,
    "editable": true
   },
   "source": [
    "## Trans Details DF"
   ]
  },
  {
   "cell_type": "code",
   "execution_count": 27,
   "metadata": {
    "collapsed": true
   },
   "outputs": [],
   "source": [
    "dfs['trans_details']['payee_id'] = 0\n",
    "dfs['trans_details']['donor_id'] = 0"
   ]
  },
  {
   "cell_type": "code",
   "execution_count": 28,
   "metadata": {
    "collapsed": false
   },
   "outputs": [
    {
     "name": "stdout",
     "output_type": "stream",
     "text": [
      "{'transaction_purpose', 'type', 'transaction_subtype', 'transaction_filed_date', 'exam_letter_date', 'interest_rate', 'in-kind_independent_expenditures', 'transaction_id_:', 'employer', 'cosigner_obligations', 'check', 'employer_city,_state', 'filer_committee_name', 'city,_state,_zip_code', 'transaction_amount'} \n",
      "\n",
      "Dropped 15 columns from trans_details\n",
      "Columns match schema: True\n"
     ]
    }
   ],
   "source": [
    "correct_columns('trans_details')"
   ]
  },
  {
   "cell_type": "code",
   "execution_count": 29,
   "metadata": {
    "collapsed": false,
    "deletable": true,
    "editable": true
   },
   "outputs": [
    {
     "name": "stdout",
     "output_type": "stream",
     "text": [
      "<class 'pandas.core.frame.DataFrame'>\n",
      "RangeIndex: 714391 entries, 0 to 714390\n",
      "Data columns (total 24 columns):\n",
      "address                          532482 non-null object\n",
      "address_book_type                536535 non-null object\n",
      "agent                            1910 non-null object\n",
      "aggregate                        664223 non-null object\n",
      "amount                           714391 non-null object\n",
      "associations                     10682 non-null object\n",
      "description                      209571 non-null object\n",
      "due_date                         714376 non-null object\n",
      "employer_name                    201455 non-null object\n",
      "filed_date                       714384 non-null object\n",
      "name                             704485 non-null object\n",
      "occupation                       157294 non-null object\n",
      "occupation_letter_date           4128 non-null object\n",
      "payer_of_personal_expenditure    12652 non-null object\n",
      "payment_method                   206232 non-null object\n",
      "process_status                   714384 non-null object\n",
      "purpose                          223175 non-null object\n",
      "repayment_schedule               867 non-null object\n",
      "transaction_date                 714384 non-null object\n",
      "transaction_id                   714384 non-null object\n",
      "transaction_sub_type             714384 non-null object\n",
      "transaction_type                 714384 non-null object\n",
      "payee_id                         714391 non-null int64\n",
      "donor_id                         714391 non-null int64\n",
      "dtypes: int64(2), object(22)\n",
      "memory usage: 130.8+ MB\n"
     ]
    }
   ],
   "source": [
    "dfs['trans_details'].info()"
   ]
  },
  {
   "cell_type": "code",
   "execution_count": 30,
   "metadata": {
    "collapsed": false
   },
   "outputs": [
    {
     "name": "stdout",
     "output_type": "stream",
     "text": [
      "There are 0 all null records\n"
     ]
    }
   ],
   "source": [
    "# any all null records?\n",
    "allnull('trans_details')"
   ]
  },
  {
   "cell_type": "markdown",
   "metadata": {
    "deletable": true,
    "editable": true
   },
   "source": [
    "### Inspect Columns"
   ]
  },
  {
   "cell_type": "code",
   "execution_count": 31,
   "metadata": {
    "collapsed": false,
    "deletable": true,
    "editable": true
   },
   "outputs": [
    {
     "name": "stdout",
     "output_type": "stream",
     "text": [
      "----------------------------------------\n",
      "ADDRESS \n",
      "\n",
      "['Business Services Division 255 Capitol St NE Ste 180 Salem OR 97310', nan, '3133 NE Prescott Street Corbett OR 97019', '37003 NE Reed Rd Corbett OR 97019', '18 NE Evans Rd Corbett OR 97019', '11726 SW 29th Place Portland OR 97219', '1619 NE 366th Ave Corbett OR 97019', 'Corbett OR 97019', '6900 SW Atlanta St Portland OR 97223', '9738 SE Washington St Portland OR 97216', '2500-116th Avenue NE Bellevue WA 98004', '7421 SW Barbur Blvd Portland OR 97219', '35800 E Historic Columbia River Hwy Corbett OR 97019', '1040 SE Morrison St Portland OR 97214', '1732 NW Quimby Street Suite 200 Portland OR 97209', '1788 SW Harvey Way Aloha OR 97006', '4675 NW Owyhee Court Portland OR 97229', 'PO BOX 10005 Department 415 Palo Alto CA 94303', '2380 NE 10th Ave Hillsboro OR 97124', '5301 W. Baseline Hillsboro OR 97123', '3700 SW Murray Blvd Suite 101 Beaverton OR 97005', '4824 NE 42nd Avenue Portland OR 97218', '500 NE Multnomah Street Suite 100 Portland OR 97232', '20579 SW Dorothy Drive Beaverton OR 97006', '22115 NW Imbrie Drive #290 Hillsboro OR 97124'] \n",
      "\n",
      "----------------------------------------\n",
      "ADDRESS_BOOK_TYPE \n",
      "\n",
      "['Business Entity', nan, 'Individual', 'Labor Organization', 'Other', 'Political Committee', 'Political Party Committee', \"Candidate's Immediate Family\", 'Candidate & Immediate Family', 'Unregistered Committee'] \n",
      "\n",
      "----------------------------------------\n",
      "AGENT \n",
      "\n",
      "[nan, 'George Advertising, Inc.', 'The New Media Firm, Inc.', 'Democracy Direct', 'The Lindholm Company', 'Compass Media', 'Media Plus', 'The Compass Media Group, Inc.', 'The Compass Media Group', 'Command Consulting', 'Media Connections West, Inc.', 'Thomas Public Affairs', 'Astley Consulting Group', 'Adams & Co.', 'Ugf', 'Zerbin Mills Marketing Llc', 'Creative Advertising & Marketing', 'Media Strategies', 'Compass Media Group', 'Direct Northwest', 'Dalton Public Relations', 'Amanda L Dalton', 'Cindi Miller', 'The New Media Firm', 'Media Analysis', 'Friends Of Chip Shields (4741)', 'Us Post Office', 'Com Span Usa', 'The Maentz Agency', 'Run Spot Run Media, Inc.'] \n",
      "\n",
      "----------------------------------------\n",
      "AGGREGATE \n",
      "\n",
      "[125.4, 0.0, 105.0, 460.0, 150.0, 231.62, 200.0, 1000.0, 125.0, 106.62, 500.0, 6047.17, 3005.0, 1450.0, 200.79, 2637.41, 339.46, 225.31, 2888.86, 3738.0, 2229.09, 131.93, 2857.6, 15169.58, 2500.0] \n",
      "\n",
      "----------------------------------------\n",
      "AMOUNT \n",
      "\n",
      "[50.01, 75.39, 25.45, 105.0, 460.0, 50.0, 231.62, 200.0, 1000.0, 100.0, 125.0, 106.62, 500.0, 75.0, 150.0, 13.97, 2309.17, 160.0, 750.0, 250.0, 68.86, 339.46, 22.53, 31.26, 1340.43] \n",
      "\n",
      "----------------------------------------\n",
      "ASSOCIATIONS \n",
      "\n",
      "[nan, 'Loan Received (Non-Exempt) for $1,500.00 from Michael Clarke on 04/25/2013 (1493880) Associated', 'Account Payable for $232.05 from PRISE Design Group on 05/10/2013 (1502272) Associated', 'Loan Received (Non-Exempt) for $100.00 from Ken Humberston on 07/01/2015 (2037771) Complete, Loan Received (Non-Exempt) for $100.00 from Ken Humberston on 05/01/2015 (2037594) Complete, Loan Received (Non-Exempt) for $100.00 from Ken Humberston on 06/01/2015 (2037769) Complete, Loan Received (Non-Exempt) for $100.00 from Ken Humberston on 01/02/2015 (2037589) Complete, Loan Received (Non-Exempt) for $100.00 from Ken Humberston on 04/01/2015 (2037592) Complete, Loan Received (Non-Exempt) for $100.00 from Ken Humberston on 03/02/2015 (2037591) Complete, Loan Received (Non-Exempt) for $100.00 from Ken Humberston on 02/02/2015 (2037590) Complete', 'Cash Expenditure for $250.00 from on 02/19/2016 (2179982) Complete', 'Account Payable for $736.00 from Signtec Imaging Corp on 04/26/2013 (1495434) Associated', 'Account Payable for $350.00 from Folklore Media on 05/14/2013 (1503071) Associated', 'Account Payable for $4,200.00 from PrintSync on 04/25/2013 (1496914) Complete', 'Account Payable for $500.00 from Folklore Media on 04/26/2013 (1495432) Associated', 'Account Payable for $165.00 from Minuteman Press on 03/26/2013 (1482749) Associated', 'Account Payable for $590.95 from Folklore Media on 03/21/2013 (1486211) Associated', 'Account Payable for $1,300.00 from Maya Graphics on 04/15/2013 (1489721) Associated', 'Cash Contribution for $250.00 from John Newlin on 08/29/2016 (2331570) Complete', 'Account Payable for $38,246.00 from Media Analysis, Inc. on 04/29/2013 (1495330) Complete', 'Account Payable for $26,718.00 from Media Analysis, Inc. on 04/29/2013 (1495329) Complete', 'Account Payable for $3,739.86 from Prospect Political LLC on 04/01/2013 (1482758) Associated', 'Account Payable for $3,739.86 from Prospect Political LLC on 04/01/2013 (1482758) Complete', 'Account Payable for $3,797.17 from Prospect Political LLC on 03/07/2013 (1472830) Complete', 'Account Payable for $1,375.00 from QSL Printing on 11/01/2013 (1719076) Complete', 'Account Payable for $747.00 from Lithtex Printing Solutions on 10/15/2013 (1568951) Complete', 'Loan Received (Non-Exempt) for $2,500.00 from Mary Blake on 10/11/2013 (1567332) Complete', 'Account Payable for $254.00 from The Freedom Shop on 10/17/2013 (1575484) Complete', 'Account Payable for $160.00 from The Daily Astorian on 10/17/2013 (1575480) Complete', 'Account Payable for $2,378.50 from The Daily Astorian on 10/14/2013 (1568347) Complete', 'Account Payable for $846.00 from Sign-One Signcrafters on 08/12/2013 (1552620) Complete'] \n",
      "\n",
      "----------------------------------------\n",
      "DESCRIPTION \n",
      "\n",
      "['late filing', nan, 'Reimbursement for Copies', 'Stamps', 'copies and phone lists', 'Flier Copies', 'Phone list', 'Copies', 'Voter Pamphlet Statements', 'Web Site Professional Expenes', 'Refreshments', \"Reimbursement for Coyote's refreshments\", 'Voter list printing and filing', '$143.00 mileage; $2254.57 wages', 'Voter list file printing.', 'Voter list of have voted printing and file billing', \"Stamps and Voter's Pamphlet\", 'Communications and Strategy', 'Website design and development', \"Voter's Pamphlet\", 'Voters Pamphlet', 'PO Box Rent', 'Accrued Earning Payment Added to Account', 'Newspaper Display Advertising 5/17/13', 'Newspaper Display Advertising May 14, 2013'] \n",
      "\n",
      "----------------------------------------\n",
      "DUE_DATE \n",
      "\n",
      "['05/02/2014 11:59:00 PM', '04/04/2014 11:59:00 PM', '12/12/2013 11:59:00 PM', '11/08/2013 11:59:00 PM', '10/31/2013 11:59:00 PM', '11/20/2013 11:59:00 PM', '10/28/2013 11:59:00 PM', '10/24/2013 11:59:00 PM', '10/23/2013 11:59:00 PM', '10/01/2013 11:59:00 PM', '10/07/2013 11:59:00 PM', '10/04/2013 11:59:00 PM', '10/03/2013 11:59:00 PM', '09/23/2013 11:59:00 PM', '01/06/2014 11:59:00 PM', '12/23/2013 11:59:00 PM', '12/11/2013 11:59:00 PM', '11/22/2013 11:59:00 PM', '11/07/2013 11:59:00 PM', '11/06/2013 11:59:00 PM', '11/04/2013 11:59:00 PM', '10/29/2013 11:59:00 PM', '10/25/2013 11:59:00 PM', '10/21/2013 11:59:00 PM', '10/18/2013 11:59:00 PM'] \n",
      "\n",
      "----------------------------------------\n",
      "EMPLOYER_NAME \n",
      "\n",
      "[nan, 'Not Employed', 'Mt Hood Medical Center Gresham OR', 'Self Employed', 'Hillsboro School District Hillsboro OR', 'Grants Pass School District No. 7 Grants Pass OR', 'Rogue Waste Systems Central Point OR', 'Oregon State University St. Helens OR', 'Oregon Aero Scappoose OR', 'The Commercial Agency Beaverton OR', 'CDI Hillsboro OR', \"Laborers' Local 483 Portland OR\", 'Oregon House Democrats Salem OR', 'Oregon AFSCME Portland OR', 'Beaverton School District Beaverton OR', 'U.S. Department of the Interior Sacramento CA', 'Accord Mediation Palm Desert CA', 'Umatilla County Pendleton OR', 'Umatilla County Hermiston OR', 'Morgan Stanley Medford OR', 'Gresham Fire & Emergency Services Gresham OR', 'Howard S. Wright Portland OR', 'PeaceHealth Vancouver WA', 'Portland State University Portland OR', 'State of Oregon Salem OR'] \n",
      "\n",
      "----------------------------------------\n",
      "FILED_DATE \n",
      "\n",
      "['04/02/2014 09:37:03 PM', '03/05/2014 01:49:52 PM', '11/17/2013 07:58:26 PM', '11/01/2013 03:32:02 PM', '11/17/2013 07:48:09 PM', '10/24/2013 01:35:55 PM', '11/01/2013 03:15:22 PM', '11/01/2013 03:25:11 PM', '11/05/2013 07:55:41 AM', '11/01/2013 03:35:58 PM', '10/24/2013 01:40:50 PM', '11/01/2013 03:30:35 PM', '10/24/2013 01:32:10 PM', '11/01/2013 03:19:52 PM', '11/01/2013 03:23:06 PM', '10/24/2013 01:29:45 PM', '09/21/2013 03:34:52 PM', '09/21/2013 03:05:02 PM', '10/24/2013 01:23:16 PM', '09/21/2013 02:51:15 PM', '10/24/2013 01:15:52 PM', '12/10/2013 12:13:04 PM', '12/01/2013 12:46:00 PM', '11/11/2013 11:20:55 AM', '11/11/2013 11:24:24 AM'] \n",
      "\n",
      "----------------------------------------\n",
      "NAME \n",
      "\n",
      "['Oregon Secretary of State', 'Miscellaneous Cash Expenditures $100 and under', 'Marnie Freeman', 'Marnie Conti', 'Miscellaneous Cash Contributions $100 and under', \"Charles O'Neil\", 'Robert Lawrence', 'Gayla Iwata-Reuyl', 'Corbett Main PO', 'Oregon Education Association', 'FedEx', 'Labels & Lists', 'Corbett Education Association', 'Multnomah County Elections', 'Stand for Children, Inc.', 'Virginia Watson', 'Miklosch Sander', 'Facebook, Inc.', 'Kim Strelchun', \"Coyote's Bar and Grill\", 'Washington County Election', 'Morel Ink', 'Kaiser Permanente Financial services', 'Peter Lalic', 'Working Families for Bruce Starr/2752'] \n",
      "\n",
      "----------------------------------------\n",
      "OCCUPATION \n",
      "\n",
      "[nan, 'Speech Pathologist', 'IT Consultant', 'Photographer', 'CEO', 'Accountant', 'Superintendent', 'Doctor', 'Coml Real Estate', 'Director', 'Attorney', 'Landlord', 'Agricultural Extension Agent', 'Developer and Logger', 'IT Manager', 'Credit Manager', 'Soccer leader', 'Tech Lead', 'Government Liaison', 'Outreach Director', 'Political Coordinator', 'Independent Contractor of Legal Support Services', 'Educator', 'Retired School Administrator', 'Chief, Water Rights and Acreage Limitation Branch'] \n",
      "\n",
      "----------------------------------------\n",
      "OCCUPATION_LETTER_DATE \n",
      "\n",
      "[nan, '04/18/2013', '04/08/2013', '04/01/2014', '04/25/2013', '04/24/2013', '06/10/2013', '08/21/2013', '06/03/2013', '05/12/2013', '04/14/2013', '03/25/2013', '09/05/2016', '08/25/2016', '04/19/2016', '05/16/2013', '05/10/2013', '05/06/2013', '04/23/2013', '04/19/2013', '04/15/2013', '04/09/2013', '03/19/2013', '03/05/2013', '05/09/2013'] \n",
      "\n",
      "----------------------------------------\n",
      "PAYER_OF_PERSONAL_EXPENDITURE \n",
      "\n",
      "[nan, 'Marnie Conti', 'Marnie Freeman', 'Robert Lawrence', 'Kim Strelchun', 'Michael Clarke', 'Brian Rosenthal', 'Gregory Cody', 'Aaron Cody', 'Angela Dilkes Perry', 'Edward Goehring', 'Chris Wig', 'Greg Evans', 'Diego Hernandez', 'Yasmin Ibarra', 'Sarah Howell', 'Michael Taylor', 'Ken Humberston', 'Jerry Jones', 'Rebecca Lantz', 'David Matheson', 'Julie Miller', 'Aaron Brown', 'Stacey Dycus', 'Prospect Political Llc'] \n",
      "\n",
      "----------------------------------------\n",
      "PAYMENT_METHOD \n",
      "\n",
      "['Check', nan, 'Electronic Funds Transfer', 'Debit Card', 'Credit Card', 'Electronic Check', 'Cash'] \n",
      "\n",
      "----------------------------------------\n",
      "PROCESS_STATUS \n",
      "\n",
      "['Complete', 'Insufficient/Statutory', 'Insufficient/General', 'Filed', nan] \n",
      "\n",
      "----------------------------------------\n",
      "PURPOSE \n",
      "\n",
      "['General Operational Expenses (need description)', nan, 'Reimbursement for Personal Expenditures', 'Postage', 'Wages, Salaries, Benefits', 'Preparation and Production of Advertising', 'Other Advertising (yard signs, buttons, etc.)', 'Travel Expenses (need description); Wages, Salaries, Benefits', 'Literature, Brochures, Printing', 'Surveys and Polls', 'Newspaper and Other Periodical Advertising', 'Broadcast Advertising (radio, tv)', 'Management Services', 'Fundraising Event Expenses', 'Online and Social Media Advertising', 'Cash Contribution', 'Literature, Brochures, Printing; Postage', 'Travel Expenses (need description)', 'General Operational Expenses (need description); Management Services', 'General Operational Expenses (need description); Management Services; Postage', 'Management Services; Postage', 'General Operational Expenses (need description); Literature, Brochures, Printing; Postage', 'General Operational Expenses (need description); Postage', 'Other Advertising (yard signs, buttons, etc.); Postage', 'Fundraising Event Expenses; General Operational Expenses (need description)'] \n",
      "\n",
      "----------------------------------------\n",
      "REPAYMENT_SCHEDULE \n",
      "\n",
      "[nan, 'Pay back when funds are available', 'When funds are available', 'as funds are available', 'On demand', 'When Funds available', 'when funds become available', 'if money available at end of campaign', 'None Established', 'If funds available', 'When Available', '1 year', 'when funds are available', 'As funds are available', 'repaid if funds available', 'When cash received', 'when funds available', 'Demand', 'None', 'Payable when funds available', 'As funds available', '-12/31/2011', 'When funds available', '60 days', '180 days'] \n",
      "\n",
      "----------------------------------------\n",
      "TRANSACTION_DATE \n",
      "\n",
      "['04/02/2014', '03/05/2014', '11/12/2013', '11/01/2013', '10/24/2013', '10/21/2013', '10/17/2013', '10/16/2013', '09/24/2013', '09/23/2013', '09/18/2013', '09/12/2013', '09/06/2013', '09/05/2013', '09/04/2013', '09/03/2013', '08/22/2013', '12/06/2013', '11/23/2013', '11/11/2013', '10/31/2013', '10/30/2013', '10/28/2013', '10/22/2013', '10/20/2013'] \n",
      "\n",
      "----------------------------------------\n",
      "TRANSACTION_ID \n",
      "\n",
      "[1685487, 1665281, 1588382, 1580873, 1581450, 1576022, 1580855, 1580866, 1581933, 1580874, 1576023, 1580868, 1576019, 1580861, 1580865, 1576017, 1555079, 1555075, 1555078, 1555054, 1576013, 1555053, 1555052, 1555035, 1576012] \n",
      "\n",
      "----------------------------------------\n",
      "TRANSACTION_SUB_TYPE \n",
      "\n",
      "['Cash Expenditure', 'Cash Contribution', 'Personal Expenditure for Reimbursement', 'In-Kind Contribution', 'Interest/Investment Income', 'In-Kind/Forgiven Personal Expenditures', 'Loan Payment (Non-Exempt)', 'Loan Received (Non-Exempt)', 'Account Payable', 'Miscellaneous Other Receipt', 'Miscellaneous Other Disbursement', 'Cash Balance Adjustment', 'Refunds and Rebates', 'Lost or Returned Check', 'Return or Refund of Contribution', 'Pledge of Cash', 'Items Sold at Fair Market Value', 'Loan Forgiven (Non-Exempt)', 'Miscellaneous Account Receivable', 'Personal Expenditure Balance Adjustment', 'Account Payable Rescinded', 'In-Kind/Forgiven Account Payable', 'Expenditure Made by an Agent', 'Loan Payment (Exempt)', 'Loan Received (Exempt)', 'Uncollectible Pledge of Cash', 'Pledge of In-Kind', 'Unexpended Agent Balance', nan, 'Nonpartisan Activity', 'Pledge of Loan'] \n",
      "\n",
      "----------------------------------------\n",
      "TRANSACTION_TYPE \n",
      "\n",
      "['Expenditure', 'Contribution', 'Other Receipt', 'Other Disbursement', 'Other', 'Other Account Receivable', nan] \n",
      "\n",
      "----------------------------------------\n",
      "PAYEE_ID \n",
      "\n",
      "[0] \n",
      "\n",
      "----------------------------------------\n",
      "DONOR_ID \n",
      "\n",
      "[0] \n",
      "\n",
      "========================================\n",
      "Columns with many unique values:\n",
      "\n",
      "['address', 'aggregate', 'amount', 'associations', 'description', 'due_date', 'employer_name', 'filed_date', 'name', 'occupation', 'occupation_letter_date', 'payer_of_personal_expenditure', 'purpose', 'repayment_schedule', 'transaction_date', 'transaction_id']\n"
     ]
    }
   ],
   "source": [
    "inspect_cols(dfs['trans_details'])"
   ]
  },
  {
   "cell_type": "markdown",
   "metadata": {
    "deletable": true,
    "editable": true
   },
   "source": [
    "### Check Dates"
   ]
  },
  {
   "cell_type": "code",
   "execution_count": 32,
   "metadata": {
    "collapsed": false,
    "deletable": true,
    "editable": true
   },
   "outputs": [
    {
     "name": "stdout",
     "output_type": "stream",
     "text": [
      "----------------------------------------\n",
      "DUE_DATE \n",
      "\n",
      "426907    03/13/2023 11:59:00 PM\n",
      "Name: due_date, dtype: object \n",
      "\n",
      "----------------------------------------\n",
      "FILED_DATE \n",
      "\n",
      "Series([], Name: filed_date, dtype: object) \n",
      "\n",
      "----------------------------------------\n",
      "OCCUPATION_LETTER_DATE \n",
      "\n",
      "Series([], Name: occupation_letter_date, dtype: object) \n",
      "\n",
      "----------------------------------------\n",
      "TRANSACTION_DATE \n",
      "\n",
      "20894     02/23/0007\n",
      "57887     01/14/0029\n",
      "86474     01/05/0007\n",
      "97601     12/08/0006\n",
      "189248    05/03/0007\n",
      "201610    11/03/0209\n",
      "201611    02/23/0009\n",
      "201612    03/14/0008\n",
      "201613    02/19/0007\n",
      "263716    06/10/0007\n",
      "426907    02/11/2023\n",
      "566158    06/25/0207\n",
      "Name: transaction_date, dtype: object \n",
      "\n"
     ]
    }
   ],
   "source": [
    "date_pattern = '^(0[0-9]|1[0-2])/([0-2][0-9]|3[01])/(19\\d{2}|200[0-9]|201[0-8])'\n",
    "time_pattern = '(\\s+(0[0-9]|1[0-2]):[0-5][0-9]:[0-5][0-9]\\s+(AM|PM))*$'\n",
    "c = '\\w*_date'\n",
    "check_values(dfs['trans_details'], c, date_pattern+time_pattern)"
   ]
  },
  {
   "cell_type": "markdown",
   "metadata": {
    "deletable": true,
    "editable": true
   },
   "source": [
    "Transaction date of 2023?"
   ]
  },
  {
   "cell_type": "markdown",
   "metadata": {
    "deletable": true,
    "editable": true
   },
   "source": [
    "### Check Trans ID"
   ]
  },
  {
   "cell_type": "code",
   "execution_count": 33,
   "metadata": {
    "collapsed": false
   },
   "outputs": [
    {
     "data": {
      "text/plain": [
       "75665     20\n",
       "80680     20\n",
       "103871    20\n",
       "333323    20\n",
       "343320    20\n",
       "500678    20\n",
       "505693    20\n",
       "dtype: int64"
      ]
     },
     "execution_count": 33,
     "metadata": {},
     "output_type": "execute_result"
    }
   ],
   "source": [
    "dfs['trans_details'][dfs['trans_details'].transaction_id.isnull()].isnull().sum(axis=1)"
   ]
  },
  {
   "cell_type": "markdown",
   "metadata": {},
   "source": [
    "There are 20/22 missing values for these records."
   ]
  },
  {
   "cell_type": "code",
   "execution_count": 34,
   "metadata": {
    "collapsed": false
   },
   "outputs": [
    {
     "data": {
      "text/plain": [
       "(714391, 24)"
      ]
     },
     "execution_count": 34,
     "metadata": {},
     "output_type": "execute_result"
    }
   ],
   "source": [
    "dfs['trans_details'].shape"
   ]
  },
  {
   "cell_type": "code",
   "execution_count": 35,
   "metadata": {
    "collapsed": false
   },
   "outputs": [],
   "source": [
    "dfs['trans_details'].dropna(thresh=3, inplace=True)"
   ]
  },
  {
   "cell_type": "code",
   "execution_count": 36,
   "metadata": {
    "collapsed": false,
    "deletable": true,
    "editable": true,
    "scrolled": true
   },
   "outputs": [
    {
     "name": "stdout",
     "output_type": "stream",
     "text": [
      "----------------------------------------\n",
      "TRANSACTION_ID \n",
      "\n",
      "3852      1.03445e+06\n",
      "3853      2.75318e+06\n",
      "3854      2.74302e+06\n",
      "3855      2.74302e+06\n",
      "3856      2.74303e+06\n",
      "3857      2.73916e+06\n",
      "3858      2.73926e+06\n",
      "3859       2.7264e+06\n",
      "3860      2.72643e+06\n",
      "3861      2.72008e+06\n",
      "3862      2.72009e+06\n",
      "3863      2.70552e+06\n",
      "3864      2.70552e+06\n",
      "3865      2.70553e+06\n",
      "3866      2.70555e+06\n",
      "3867      2.70555e+06\n",
      "3868      2.70555e+06\n",
      "3869      2.70555e+06\n",
      "3870      2.70556e+06\n",
      "3871      2.70556e+06\n",
      "3872       2.6787e+06\n",
      "3873      2.67871e+06\n",
      "3874      2.67871e+06\n",
      "3875      2.67871e+06\n",
      "3876      2.67871e+06\n",
      "3877      2.67871e+06\n",
      "3878      2.67916e+06\n",
      "3879      2.66193e+06\n",
      "3880      2.65194e+06\n",
      "3881      2.65194e+06\n",
      "             ...     \n",
      "708336       538294, \n",
      "708337       538296, \n",
      "708338       538298, \n",
      "708339       538300, \n",
      "708340       538302, \n",
      "708341       538305, \n",
      "708342       538307, \n",
      "708343       538310, \n",
      "708345       538280, \n",
      "708347       538194, \n",
      "708348       729636, \n",
      "708350       494541, \n",
      "708374       147183, \n",
      "708466      1721395, \n",
      "708544      1138038, \n",
      "708555      1122784, \n",
      "708643       700793, \n",
      "708647       971133, \n",
      "708658       633876, \n",
      "708680       630345, \n",
      "708687       542852, \n",
      "708688       542853, \n",
      "708695       513951, \n",
      "708734       325122, \n",
      "708754       226950, \n",
      "708755       226954, \n",
      "708759       207923, \n",
      "708760       207928, \n",
      "708765       147849, \n",
      "708769       147858, \n",
      "Name: transaction_id, Length: 217093, dtype: object \n",
      "\n",
      "----------------------------------------\n",
      "PAYEE_ID \n",
      "\n",
      "Series([], Name: payee_id, dtype: int64) \n",
      "\n",
      "----------------------------------------\n",
      "DONOR_ID \n",
      "\n",
      "Series([], Name: donor_id, dtype: int64) \n",
      "\n"
     ]
    }
   ],
   "source": [
    "id_pattern = '^\\d+$'\n",
    "c = '\\w*_id'\n",
    "check_values(dfs['trans_details'], c, id_pattern)"
   ]
  },
  {
   "cell_type": "markdown",
   "metadata": {},
   "source": [
    "Commas and floats"
   ]
  },
  {
   "cell_type": "markdown",
   "metadata": {
    "deletable": true,
    "editable": true
   },
   "source": [
    "### Check Aggregate and Amount"
   ]
  },
  {
   "cell_type": "code",
   "execution_count": 37,
   "metadata": {
    "collapsed": false,
    "deletable": true,
    "editable": true
   },
   "outputs": [
    {
     "name": "stdout",
     "output_type": "stream",
     "text": [
      "----------------------------------------\n",
      "AGGREGATE \n",
      "\n",
      "120322       $648.00\n",
      "120323       $250.00\n",
      "120325       $200.00\n",
      "120328       $400.00\n",
      "120340       $595.00\n",
      "120341       $415.00\n",
      "120343       $210.00\n",
      "120348     $1,000.00\n",
      "120349       $500.00\n",
      "120355       $150.00\n",
      "120364       $300.00\n",
      "120365       $550.00\n",
      "120366     $3,000.00\n",
      "120368       $125.00\n",
      "120374     $4,720.51\n",
      "120376     $4,500.00\n",
      "120378    $24,991.61\n",
      "120380     $2,000.00\n",
      "120383    $18,991.61\n",
      "120385    $10,412.09\n",
      "120387     $7,275.93\n",
      "120388     $2,994.08\n",
      "120391    $15,000.00\n",
      "120392     $1,500.00\n",
      "120393     $5,672.81\n",
      "120394     $5,535.31\n",
      "120401       $272.27\n",
      "120408       $350.00\n",
      "120409       $179.71\n",
      "120411       $750.00\n",
      "             ...    \n",
      "708349       $846.30\n",
      "708350       $786.30\n",
      "708352       $686.25\n",
      "708354       $586.25\n",
      "708363       $848.75\n",
      "708375       $611.50\n",
      "708378     $4,369.75\n",
      "708379     $4,732.00\n",
      "708380       $506.50\n",
      "708384       $401.50\n",
      "708391    $10,950.67\n",
      "708392    $11,975.47\n",
      "708393    $12,250.47\n",
      "708394    $12,389.56\n",
      "708396     $9,096.87\n",
      "708531       $224.16\n",
      "708693       $565.72\n",
      "708696       $517.70\n",
      "708697       $635.52\n",
      "708701       $470.72\n",
      "708702       $425.50\n",
      "708703       $469.68\n",
      "708706       $377.48\n",
      "708707       $384.32\n",
      "708711       $293.76\n",
      "708712       $305.46\n",
      "708715       $201.12\n",
      "708716       $253.60\n",
      "708719       $201.74\n",
      "708722       $149.88\n",
      "Name: aggregate, Length: 32658, dtype: object \n",
      "\n",
      "----------------------------------------\n",
      "AMOUNT \n",
      "\n",
      "120321      $200.00\n",
      "120322       $53.00\n",
      "120323      $250.00\n",
      "120328      $400.00\n",
      "120340      $180.00\n",
      "120341      $205.00\n",
      "120343      $210.00\n",
      "120344       $30.00\n",
      "120345       $90.00\n",
      "120346       $20.00\n",
      "120347      $275.00\n",
      "120348    $1,000.00\n",
      "120349      $500.00\n",
      "120353      $100.00\n",
      "120355      $150.00\n",
      "120357      $300.00\n",
      "120365      $550.00\n",
      "120366    $3,000.00\n",
      "120368      $125.00\n",
      "120371       $82.75\n",
      "120373      $320.00\n",
      "120374      $220.51\n",
      "120375        $3.95\n",
      "120376    $4,500.00\n",
      "120378    $6,000.00\n",
      "120380    $2,000.00\n",
      "120381        $5.93\n",
      "120383    $4,193.52\n",
      "120384    $4,386.00\n",
      "120385    $3,136.16\n",
      "            ...    \n",
      "708602       $70.69\n",
      "708604      $578.85\n",
      "708623      $113.94\n",
      "708630      $193.11\n",
      "708637      $902.88\n",
      "708642      $611.33\n",
      "708644      $357.60\n",
      "708645      $112.17\n",
      "708650      $203.85\n",
      "708654    $1,194.21\n",
      "708681       $59.61\n",
      "708684       $16.64\n",
      "708686      $229.62\n",
      "708694      $457.70\n",
      "708700      $461.55\n",
      "708704      $208.85\n",
      "708706       $72.02\n",
      "708707       $90.56\n",
      "708709      $161.55\n",
      "708711       $92.64\n",
      "708712       $51.86\n",
      "708715       $94.72\n",
      "708720      $126.27\n",
      "708743       $54.85\n",
      "708746      $303.59\n",
      "708751      $744.41\n",
      "708753      $989.84\n",
      "708761    $1,255.35\n",
      "708762      $358.34\n",
      "708773      $282.45\n",
      "Name: amount, Length: 24637, dtype: object \n",
      "\n"
     ]
    }
   ],
   "source": [
    "float_pattern = '[-]{0,1}\\d+[.]{0,1}\\d{0,2}'\n",
    "c = '(agg\\w*|amount)'\n",
    "check_values(dfs['trans_details'], c, float_pattern)"
   ]
  },
  {
   "cell_type": "markdown",
   "metadata": {
    "deletable": true,
    "editable": true
   },
   "source": [
    "### Clean Trans Detail"
   ]
  },
  {
   "cell_type": "markdown",
   "metadata": {
    "deletable": true,
    "editable": true
   },
   "source": [
    "#### Dates"
   ]
  },
  {
   "cell_type": "code",
   "execution_count": 38,
   "metadata": {
    "collapsed": false,
    "deletable": true,
    "editable": true
   },
   "outputs": [],
   "source": [
    "def fix_date(d):\n",
    "    if d != d:\n",
    "        return None\n",
    "    x = d[-4:]\n",
    "    patterns = {\n",
    "        '(02|91)\\d{2}': x[:2][::-1]+x[2:],\n",
    "        '002\\d': x[2] + x[:2] + x[3],\n",
    "        '000\\d': '200' + x[3],\n",
    "        }\n",
    "    for p in patterns:\n",
    "        if re.match(p, x):\n",
    "            return d[:-4] + patterns[p]\n",
    "    return d\n",
    "\n",
    "dfs['trans_details'].loc[:, 'transaction_date'] = \\\n",
    "    dfs['trans_details']['transaction_date'].apply(lambda x: fix_date(x))"
   ]
  },
  {
   "cell_type": "code",
   "execution_count": 39,
   "metadata": {
    "collapsed": false,
    "deletable": true,
    "editable": true
   },
   "outputs": [
    {
     "name": "stdout",
     "output_type": "stream",
     "text": [
      "----------------------------------------\n",
      "DUE_DATE \n",
      "\n",
      "426907    03/13/2023 11:59:00 PM\n",
      "Name: due_date, dtype: object \n",
      "\n",
      "----------------------------------------\n",
      "FILED_DATE \n",
      "\n",
      "Series([], Name: filed_date, dtype: object) \n",
      "\n",
      "----------------------------------------\n",
      "OCCUPATION_LETTER_DATE \n",
      "\n",
      "Series([], Name: occupation_letter_date, dtype: object) \n",
      "\n",
      "----------------------------------------\n",
      "TRANSACTION_DATE \n",
      "\n",
      "426907    02/11/2023\n",
      "Name: transaction_date, dtype: object \n",
      "\n"
     ]
    }
   ],
   "source": [
    "c = '\\w*_date'\n",
    "check_values(dfs['trans_details'], c, date_pattern+time_pattern)"
   ]
  },
  {
   "cell_type": "markdown",
   "metadata": {
    "deletable": true,
    "editable": true
   },
   "source": [
    "#### Agg & Amount"
   ]
  },
  {
   "cell_type": "code",
   "execution_count": 40,
   "metadata": {
    "collapsed": false,
    "deletable": true,
    "editable": true
   },
   "outputs": [],
   "source": [
    "def tofloat(x):\n",
    "    try:\n",
    "        if type(x) == float:\n",
    "            return x\n",
    "        if x.startswith('$'):\n",
    "            x = x.strip('$').replace(',', '')\n",
    "        return float(x)\n",
    "    except:\n",
    "        return None\n",
    "for c in ['aggregate','amount']:\n",
    "    dfs['trans_details'].loc[:, c] = dfs['trans_details'].loc[:, c].apply(lambda x: tofloat(x))"
   ]
  },
  {
   "cell_type": "code",
   "execution_count": 41,
   "metadata": {
    "collapsed": false,
    "deletable": true,
    "editable": true
   },
   "outputs": [
    {
     "name": "stdout",
     "output_type": "stream",
     "text": [
      "----------------------------------------\n",
      "AGGREGATE \n",
      "\n",
      "Series([], Name: aggregate, dtype: float64) \n",
      "\n",
      "----------------------------------------\n",
      "AMOUNT \n",
      "\n",
      "Series([], Name: amount, dtype: float64) \n",
      "\n"
     ]
    }
   ],
   "source": [
    "float_pattern = '[-]{0,1}\\d+[.]{0,1}\\d{0,2}'\n",
    "c = '(agg\\w*|amount)'\n",
    "check_values(dfs['trans_details'], c, float_pattern)"
   ]
  },
  {
   "cell_type": "markdown",
   "metadata": {},
   "source": [
    "#### Transaction ID"
   ]
  },
  {
   "cell_type": "code",
   "execution_count": 42,
   "metadata": {
    "collapsed": false
   },
   "outputs": [
    {
     "data": {
      "text/plain": [
       "address                          181909\n",
       "address_book_type                177856\n",
       "agent                            712481\n",
       "aggregate                         50168\n",
       "amount                               64\n",
       "associations                     703709\n",
       "description                      504820\n",
       "due_date                             15\n",
       "employer_name                    512936\n",
       "filed_date                            7\n",
       "name                               9906\n",
       "occupation                       557097\n",
       "occupation_letter_date           710263\n",
       "payer_of_personal_expenditure    701739\n",
       "payment_method                   508159\n",
       "process_status                        7\n",
       "purpose                          491216\n",
       "repayment_schedule               713524\n",
       "transaction_date                      7\n",
       "transaction_id                        7\n",
       "transaction_sub_type                  7\n",
       "transaction_type                      7\n",
       "payee_id                              0\n",
       "donor_id                              0\n",
       "dtype: int64"
      ]
     },
     "execution_count": 42,
     "metadata": {},
     "output_type": "execute_result"
    }
   ],
   "source": [
    "dfs['trans_details'].isnull().sum()"
   ]
  },
  {
   "cell_type": "code",
   "execution_count": 43,
   "metadata": {
    "collapsed": false
   },
   "outputs": [],
   "source": [
    "dfs['trans_details'].dropna(subset=['transaction_id'], inplace=True)"
   ]
  },
  {
   "cell_type": "code",
   "execution_count": 44,
   "metadata": {
    "collapsed": false
   },
   "outputs": [],
   "source": [
    "dfs['trans_details'].loc[:, 'transaction_id'] = [\n",
    "    int(float(re.sub(',\\s*','', x)))\n",
    "    for x in dfs['trans_details'].transaction_id.astype(str)\n",
    "    ]"
   ]
  },
  {
   "cell_type": "code",
   "execution_count": 45,
   "metadata": {
    "collapsed": false
   },
   "outputs": [
    {
     "name": "stdout",
     "output_type": "stream",
     "text": [
      "----------------------------------------\n",
      "TRANSACTION_ID \n",
      "\n",
      "Series([], Name: transaction_id, dtype: int64) \n",
      "\n",
      "----------------------------------------\n",
      "PAYEE_ID \n",
      "\n",
      "Series([], Name: payee_id, dtype: int64) \n",
      "\n",
      "----------------------------------------\n",
      "DONOR_ID \n",
      "\n",
      "Series([], Name: donor_id, dtype: int64) \n",
      "\n"
     ]
    }
   ],
   "source": [
    "c = '\\w*_id'\n",
    "check_values(dfs['trans_details'], c, id_pattern)"
   ]
  },
  {
   "cell_type": "code",
   "execution_count": 46,
   "metadata": {
    "collapsed": true,
    "deletable": true,
    "editable": true
   },
   "outputs": [],
   "source": [
    "dfs['trans_details'].drop_duplicates().to_csv('trans_details_cleaned.csv', index=False)"
   ]
  },
  {
   "cell_type": "markdown",
   "metadata": {},
   "source": [
    "## Transactions DF"
   ]
  },
  {
   "cell_type": "code",
   "execution_count": 47,
   "metadata": {
    "collapsed": false
   },
   "outputs": [
    {
     "name": "stdout",
     "output_type": "stream",
     "text": [
      "set() \n",
      "\n",
      "Dropped 0 columns from transactions\n",
      "Columns match schema: True\n"
     ]
    }
   ],
   "source": [
    "correct_columns('transactions')"
   ]
  },
  {
   "cell_type": "code",
   "execution_count": 48,
   "metadata": {
    "collapsed": false
   },
   "outputs": [
    {
     "data": {
      "text/plain": [
       "['transaction_id int primary key',\n",
       " 'committee_id int',\n",
       " 'transaction_date date',\n",
       " 'status varchar(32)',\n",
       " 'filer_committee varchar(255)',\n",
       " 'contributor_payee varchar(255)',\n",
       " 'transaction_subtype varchar(255)',\n",
       " 'amount numeric']"
      ]
     },
     "execution_count": 48,
     "metadata": {},
     "output_type": "execute_result"
    }
   ],
   "source": [
    "schemas['transactions']"
   ]
  },
  {
   "cell_type": "code",
   "execution_count": 49,
   "metadata": {
    "collapsed": false
   },
   "outputs": [
    {
     "name": "stdout",
     "output_type": "stream",
     "text": [
      "<class 'pandas.core.frame.DataFrame'>\n",
      "RangeIndex: 1112406 entries, 0 to 1112405\n",
      "Data columns (total 8 columns):\n",
      "transaction_id         1112406 non-null object\n",
      "transaction_date       1112406 non-null object\n",
      "status                 1112406 non-null object\n",
      "filer_committee        1112406 non-null object\n",
      "contributor_payee      1103192 non-null object\n",
      "transaction_subtype    1112406 non-null object\n",
      "amount                 1112406 non-null object\n",
      "committee_id           1112406 non-null object\n",
      "dtypes: object(8)\n",
      "memory usage: 67.9+ MB\n"
     ]
    }
   ],
   "source": [
    "dfs['transactions'].info()"
   ]
  },
  {
   "cell_type": "markdown",
   "metadata": {},
   "source": [
    "### Inspect Columns"
   ]
  },
  {
   "cell_type": "code",
   "execution_count": 50,
   "metadata": {
    "collapsed": false,
    "scrolled": true
   },
   "outputs": [
    {
     "name": "stdout",
     "output_type": "stream",
     "text": [
      "----------------------------------------\n",
      "TRANSACTION_ID \n",
      "\n",
      "[2469752, 2469753, 2469754, 2469755, 2469756, 2469757, 2469758, 2469759, 2469760, 2469761, 2469762, 2469763, 2469764, 2469765, 2469766, 2469767, 2469768, 2469769, 2469770, 2469771, 2469772, 2469773, 2469774, 2469775, 2469776] \n",
      "\n",
      "----------------------------------------\n",
      "TRANSACTION_DATE \n",
      "\n",
      "['12/14/2016', '12/13/2016', '12/09/2016', '12/07/2016', '12/06/2016', '12/05/2016', '12/02/2016', '12/01/2016', '11/30/2016', '11/29/2016', '11/28/2016', '11/23/2016', '11/22/2016', '11/21/2016', '11/18/2016', '11/17/2016', '11/16/2016', '11/15/2016', '11/14/2016', '11/10/2016', '11/09/2016', '11/08/2016', '11/07/2016', '11/04/2016', '11/03/2016'] \n",
      "\n",
      "----------------------------------------\n",
      "STATUS \n",
      "\n",
      "['Original', 'Amended'] \n",
      "\n",
      "----------------------------------------\n",
      "FILER_COMMITTEE \n",
      "\n",
      "['Citizen Action for Political Education', 'Local 48 Electricians PAC', 'No Pot Ontario', 'Northwest Ideas PAC', \"Frank O'Donnell for Oregon City Commissioner\", 'VoteSkipONeill', 'Olson4Yamhillcounty', 'Oregon Citizens for Government', 'Oregon SolarPAC', 'Oregon State Chamber of Commerce PAC', 'Oregonians for Food & Shelter PAC', 'Oregonians For Medical Freedom', 'Chris Paasch', 'Committee to elect Christopher Paasch', 'Friends of Juliete Palenshus', 'Roberta for Oregon', 'Philomath Citizens for Prosperity and Stability', 'Bud Pierce for a Better Oregon', 'Committee to Elect Cyndi Lewis-Wolfram', 'Concerned Tangent Home and Business Owners', 'Constitution Party of Josephine County', 'Constitution Party of Oregon', 'Coos County Republican Central Committee', 'Corrections Political Action Committee', 'Cottage Grove Blackberry Pie Society'] \n",
      "\n",
      "----------------------------------------\n",
      "CONTRIBUTOR_PAYEE \n",
      "\n",
      "['BALINDA JOHNSON', 'FRANCES SPANN', 'CINDY CARLILE', 'LW STRICKLIN', 'LYLE RILEY', 'REGINA PULS', 'WANITA JERNS', 'PATRICIA LOPEZ', 'KRISTIE SCHOONOVER', 'LUDMILA GRAZHDAN', 'MICHELLE SCHULZ', 'ADAM RIGGS', 'TERESA ROCHA', 'LIYA GALUZA', 'MARTA BOGDAN', 'TATYANA PUTRA', 'YELENA ZABRODOCHENKO', 'RUTH FULKS', 'LIANA PETROVSKIY', 'MARLENE ROHRICH', 'TERRI GONZALES', 'RHONDA DALY', 'TAMMY JOHNSTON', 'LORIE RUSSELL', 'JOSEFINA FIGUEROA'] \n",
      "\n",
      "----------------------------------------\n",
      "TRANSACTION_SUBTYPE \n",
      "\n",
      "['Cash Contribution', 'Miscellaneous Other Disbursement', 'Cash Expenditure', 'Miscellaneous Other Receipt', 'Personal Expenditure for Reimbursement', 'In-Kind Contribution', 'Loan Payment (Non-Exempt)', 'Loan Received (Non-Exempt)', 'Account Payable', 'Lost or Returned Check', 'Refunds and Rebates', 'Return or Refund of Contribution', 'Cash Balance Adjustment', 'In-Kind/Forgiven Personal Expenditures', 'Items Sold at Fair Market Value', 'Interest/Investment Income', 'Loan Received (Exempt)', 'Pledge of Cash', 'Personal Expenditure Balance Adjustment', 'Pledge of Loan', 'Account Payable Rescinded', 'Expenditure Made by an Agent', 'Unexpended Agent Balance', 'Nonpartisan Activity', 'Uncollectible Pledge of Cash', 'Miscellaneous Account Receivable', 'Loan Forgiven (Non-Exempt)', 'In-Kind/Forgiven Account Payable', 'Pledge of In-Kind', 'Loan Payment (Exempt)', 'Uncollectible Pledge of In-Kind'] \n",
      "\n",
      "----------------------------------------\n",
      "AMOUNT \n",
      "\n",
      "[10.0, 15.0, 13.0, 5.0, 25.0, 20.0, 16.65, 13.75, 8.33, 12.0, 30.0, 3.64, 2.47, 14.0, 100.0, 3.84, 14.16, 26.88, 7.5, 23.75, 50.0, 18.25, 27.0, 40.0, 26.0] \n",
      "\n",
      "----------------------------------------\n",
      "COMMITTEE_ID \n",
      "\n",
      "[33, 4572, 18252, 18348, 18344, 18108, 17881, 17925, 17997, 17474, 17654, 17302, 18014, 18316, 17607, 18225, 17397, 9927, 13572, 8686, 3934, 300, 3931, 5005, 12688] \n",
      "\n",
      "========================================\n",
      "Columns with many unique values:\n",
      "\n",
      "['transaction_id', 'transaction_date', 'filer_committee', 'contributor_payee', 'amount', 'committee_id']\n"
     ]
    }
   ],
   "source": [
    "inspect_cols(dfs['transactions'])"
   ]
  },
  {
   "cell_type": "markdown",
   "metadata": {},
   "source": [
    "### Check Tran ID and Committee ID"
   ]
  },
  {
   "cell_type": "code",
   "execution_count": 51,
   "metadata": {
    "collapsed": false
   },
   "outputs": [
    {
     "name": "stdout",
     "output_type": "stream",
     "text": [
      "----------------------------------------\n",
      "TRANSACTION_ID \n",
      "\n",
      "Series([], Name: transaction_id, dtype: object) \n",
      "\n",
      "----------------------------------------\n",
      "COMMITTEE_ID \n",
      "\n",
      "Series([], Name: committee_id, dtype: object) \n",
      "\n"
     ]
    }
   ],
   "source": [
    "id_pattern = '^\\d+$'\n",
    "c = '(\\w*_id)'\n",
    "check_values(dfs['transactions'], c, id_pattern)"
   ]
  },
  {
   "cell_type": "markdown",
   "metadata": {},
   "source": [
    "### Check Dates"
   ]
  },
  {
   "cell_type": "code",
   "execution_count": 52,
   "metadata": {
    "collapsed": false
   },
   "outputs": [
    {
     "name": "stdout",
     "output_type": "stream",
     "text": [
      "----------------------------------------\n",
      "TRANSACTION_DATE \n",
      "\n",
      "36378      06/25/0207\n",
      "183651     04/23/0607\n",
      "238112     11/17/0006\n",
      "328210     02/11/2023\n",
      "383168     06/10/0007\n",
      "790405     06/04/0200\n",
      "852630     12/26/0006\n",
      "897267     12/13/0006\n",
      "1058145    05/03/0007\n",
      "1070507    11/03/0209\n",
      "1070508    02/23/0009\n",
      "1070509    03/14/0008\n",
      "1070510    02/19/0007\n",
      "Name: transaction_date, dtype: object \n",
      "\n"
     ]
    }
   ],
   "source": [
    "date_pattern = '^(0[0-9]|1[0-2])/([0-2][0-9]|3[01])/(19\\d{2}|200[0-9]|201[0-8])$'\n",
    "c = '\\w*_date'\n",
    "check_values(dfs['transactions'], c, date_pattern)"
   ]
  },
  {
   "cell_type": "markdown",
   "metadata": {},
   "source": [
    "### Check Amount"
   ]
  },
  {
   "cell_type": "code",
   "execution_count": 53,
   "metadata": {
    "collapsed": false,
    "scrolled": true
   },
   "outputs": [
    {
     "name": "stdout",
     "output_type": "stream",
     "text": [
      "----------------------------------------\n",
      "AMOUNT \n",
      "\n",
      "989218        $200.00\n",
      "989219         $53.00\n",
      "989220        $250.00\n",
      "989225        $400.00\n",
      "989237        $180.00\n",
      "989238        $205.00\n",
      "989240        $210.00\n",
      "989241         $30.00\n",
      "989242         $90.00\n",
      "989243         $20.00\n",
      "989244        $275.00\n",
      "989245      $1,000.00\n",
      "989246        $500.00\n",
      "989250        $100.00\n",
      "989252        $150.00\n",
      "989254        $300.00\n",
      "989262        $550.00\n",
      "989263      $3,000.00\n",
      "989265        $125.00\n",
      "989268         $82.75\n",
      "989270        $320.00\n",
      "989271        $220.51\n",
      "989272          $3.95\n",
      "989273      $4,500.00\n",
      "989275      $6,000.00\n",
      "989277      $2,000.00\n",
      "989278          $5.93\n",
      "989280      $4,193.52\n",
      "989281      $4,386.00\n",
      "989282      $3,136.16\n",
      "              ...    \n",
      "1077176       $138.98\n",
      "1077187    $17,126.64\n",
      "1077210       $298.72\n",
      "1077211       $220.30\n",
      "1077218       $185.64\n",
      "1077236        $17.03\n",
      "1077238    $11,250.00\n",
      "1077241     $1,935.48\n",
      "1077290        $53.61\n",
      "1077291       $124.25\n",
      "1077310       $478.50\n",
      "1077316       $509.28\n",
      "1077325     $1,089.80\n",
      "1077352        $28.43\n",
      "1077353       $130.37\n",
      "1077354       $115.30\n",
      "1077355       $758.00\n",
      "1077357       $797.50\n",
      "1077358     $4,421.69\n",
      "1077408       $109.88\n",
      "1077434       $751.20\n",
      "1077435       $334.92\n",
      "1077445     $2,108.28\n",
      "1077446     $2,428.00\n",
      "1077468     $1,064.00\n",
      "1077475        $34.61\n",
      "1077509         $5.71\n",
      "1077523        $31.48\n",
      "1077525        $82.82\n",
      "1077526        $80.34\n",
      "Name: amount, Length: 14639, dtype: object \n",
      "\n"
     ]
    }
   ],
   "source": [
    "float_pattern = '[-]{0,1}\\d+[.]{0,1}\\d{0,2}'\n",
    "c = '(agg\\w*|amount)'\n",
    "check_values(dfs['transactions'], c, float_pattern)"
   ]
  },
  {
   "cell_type": "markdown",
   "metadata": {},
   "source": [
    "### Clean Transactions"
   ]
  },
  {
   "cell_type": "markdown",
   "metadata": {},
   "source": [
    "#### ID to int"
   ]
  },
  {
   "cell_type": "code",
   "execution_count": 54,
   "metadata": {
    "collapsed": true
   },
   "outputs": [],
   "source": [
    "dfs['transactions'].loc[:, 'committee_id'] = dfs['transactions'].committee_id.astype(int)"
   ]
  },
  {
   "cell_type": "markdown",
   "metadata": {},
   "source": [
    "#### Dates"
   ]
  },
  {
   "cell_type": "code",
   "execution_count": 55,
   "metadata": {
    "collapsed": false
   },
   "outputs": [],
   "source": [
    "dfs['transactions'].loc[:, 'transaction_date'] = \\\n",
    "    dfs['transactions']['transaction_date'].apply(lambda x: fix_date(x))"
   ]
  },
  {
   "cell_type": "code",
   "execution_count": 56,
   "metadata": {
    "collapsed": false
   },
   "outputs": [
    {
     "name": "stdout",
     "output_type": "stream",
     "text": [
      "----------------------------------------\n",
      "TRANSACTION_DATE \n",
      "\n",
      "183651    04/23/0607\n",
      "328210    02/11/2023\n",
      "Name: transaction_date, dtype: object \n",
      "\n"
     ]
    }
   ],
   "source": [
    "# date_pattern = '(0[0-9]|1[0-2])/([0-2][0-9]|3[01])/(19\\d{2}|200[0-9]|201[0-8])'\n",
    "c = '\\w*_date'\n",
    "check_values(dfs['transactions'], c, date_pattern)"
   ]
  },
  {
   "cell_type": "code",
   "execution_count": 57,
   "metadata": {
    "collapsed": false
   },
   "outputs": [],
   "source": [
    "dfs['transactions'].loc[183651, 'transaction_date'] = '04/23/2007'"
   ]
  },
  {
   "cell_type": "code",
   "execution_count": 58,
   "metadata": {
    "collapsed": false
   },
   "outputs": [
    {
     "name": "stdout",
     "output_type": "stream",
     "text": [
      "----------------------------------------\n",
      "TRANSACTION_DATE \n",
      "\n",
      "328210    02/11/2023\n",
      "Name: transaction_date, dtype: object \n",
      "\n"
     ]
    }
   ],
   "source": [
    "check_values(dfs['transactions'], c, date_pattern)"
   ]
  },
  {
   "cell_type": "markdown",
   "metadata": {},
   "source": [
    "#### Amount"
   ]
  },
  {
   "cell_type": "code",
   "execution_count": 59,
   "metadata": {
    "collapsed": true
   },
   "outputs": [],
   "source": [
    "c = 'amount'\n",
    "dfs['transactions'].loc[:, c] = dfs['transactions'].loc[:, c].apply(lambda x: tofloat(x))"
   ]
  },
  {
   "cell_type": "code",
   "execution_count": 60,
   "metadata": {
    "collapsed": false
   },
   "outputs": [
    {
     "name": "stdout",
     "output_type": "stream",
     "text": [
      "----------------------------------------\n",
      "AMOUNT \n",
      "\n",
      "Series([], Name: amount, dtype: float64) \n",
      "\n"
     ]
    }
   ],
   "source": [
    "c = '(agg\\w*|amount)'\n",
    "check_values(dfs['transactions'], c, float_pattern)"
   ]
  },
  {
   "cell_type": "code",
   "execution_count": 61,
   "metadata": {
    "collapsed": true
   },
   "outputs": [],
   "source": [
    "dfs['transactions'].drop_duplicates().to_csv('transactions_cleaned.csv', index=False)"
   ]
  },
  {
   "cell_type": "markdown",
   "metadata": {},
   "source": [
    "## Election Activity DF"
   ]
  },
  {
   "cell_type": "code",
   "execution_count": 62,
   "metadata": {
    "collapsed": false
   },
   "outputs": [
    {
     "name": "stdout",
     "output_type": "stream",
     "text": [
      "set() \n",
      "\n",
      "Dropped 0 columns from election_activity\n",
      "Columns match schema: True\n"
     ]
    }
   ],
   "source": [
    "correct_columns('election_activity')"
   ]
  },
  {
   "cell_type": "code",
   "execution_count": 63,
   "metadata": {
    "collapsed": false
   },
   "outputs": [
    {
     "name": "stdout",
     "output_type": "stream",
     "text": [
      "<class 'pandas.core.frame.DataFrame'>\n",
      "RangeIndex: 15347 entries, 0 to 15346\n",
      "Data columns (total 5 columns):\n",
      "election         15347 non-null object\n",
      "active_date      11395 non-null object\n",
      "status           15347 non-null object\n",
      "active_reason    11642 non-null object\n",
      "committee_id     15347 non-null object\n",
      "dtypes: object(5)\n",
      "memory usage: 599.6+ KB\n"
     ]
    }
   ],
   "source": [
    "dfs['election_activity'].info()"
   ]
  },
  {
   "cell_type": "code",
   "execution_count": 64,
   "metadata": {
    "collapsed": false
   },
   "outputs": [
    {
     "name": "stdout",
     "output_type": "stream",
     "text": [
      "There are 0 all null records\n"
     ]
    }
   ],
   "source": [
    "allnull('election_activity')"
   ]
  },
  {
   "cell_type": "markdown",
   "metadata": {},
   "source": [
    "### Inspect Columns"
   ]
  },
  {
   "cell_type": "code",
   "execution_count": 65,
   "metadata": {
    "collapsed": false
   },
   "outputs": [
    {
     "name": "stdout",
     "output_type": "stream",
     "text": [
      "----------------------------------------\n",
      "ELECTION \n",
      "\n",
      "['2018 Primary Election', '2016 General Election', '2016 Primary Election', '2014 General Election', '2014 Primary Election', '2012 General Election', '2012 Primary Election', '2010 General Election', '2010 Primary Election', '2010 Statewide Special Election', '2008 General Election', '2008 Primary Election', '2007 November Election', '2006 General Election', '2006 Primary Election', '2004 General Election', '2004 Primary Election', '2002 General Election', '2002 Primary Election', '2000 General Election', '1998 General Election', '1998 Biennial Primary Election', '1996 General Election', '1996 Primary Election', '1994 General Election', '1994 Primary', '1992 General Election', '1992 Primary Election', '1990 General Election', '2018 General Election', '2017 May Election', '2015 May Election', '2013 November Election', '2013 May Election', '2011 November Election', '2011 May Election', '2011 March Election', '2009 May Election', '2000 Primary Election', '1997 November Special Election', 'Recall Election, 10/27/09', '2007 May Election', '1999 November Special Election', '2018 January Special Election', '2004 February Special Election', '2003 September Special Election', '2002 September Special Election', '2017 November Election', '2012 March Election', '2008 March Election', '2003 January Special Election', '2020 Primary Election', '1993 November Special Election', 'Recall Election, 12/11/12, Baker School District', '2016 March Election', '2015 November Election', '2014 March Election', '2017 March Election', '1990 Primary Election', '2008 September Election', '2013 March Election', '2010 March Election', '2009 November Election', '2019 March Election', '2009 March Election', '2012 September Election', '2015 March Election', 'Recall Election, 05/23/17, City of Gladstone', '2014 September Election', 'Recall Election, 02/23/16, Columbia River PUD', 'Recall Election, 06/28/16, Harney County', '2016 September Election', 'Recall Election, 10/17/17, City of Sherwood', '2005 November Election', '2018 March Election', '1995 May Special Election', '2009 September Election'] \n",
      "\n",
      "----------------------------------------\n",
      "ACTIVE_DATE \n",
      "\n",
      "['02/21/2018', '08/08/2016', '03/14/2016', '08/04/2014', '02/24/2014', '08/24/2012', '02/21/2012', '07/26/2010', '03/05/2010', '11/20/2009', '08/05/2008', '03/08/2008', '11/04/2007', nan, '03/07/2018', '10/14/2016', '03/06/2017', '01/08/2015', '03/12/2015', '05/06/2014', '08/02/2012', '10/23/2013', '04/16/2013', '04/17/2012', '07/20/2011'] \n",
      "\n",
      "----------------------------------------\n",
      "STATUS \n",
      "\n",
      "['Active', 'Inactive'] \n",
      "\n",
      "----------------------------------------\n",
      "ACTIVE_REASON \n",
      "\n",
      "['System Generated / Primary or General Election', 'Statement of Organization', 'Contribution to Active Candidate or Measure Committee', nan, 'User Requested Inactivation', 'In-Kind or Independent Expenditure', 'User Requested Activation'] \n",
      "\n",
      "----------------------------------------\n",
      "COMMITTEE_ID \n",
      "\n",
      "[252, 2069, 2793, 1579, 1869, 765, 216, 167, 221, 337, 260, 223, 7305, 4213, 5207, 3889, 4676, 5528, 350, 4015, 12510, 3, 4, 12878, 4797] \n",
      "\n",
      "========================================\n",
      "Columns with many unique values:\n",
      "\n",
      "['active_date', 'committee_id']\n"
     ]
    }
   ],
   "source": [
    "inspect_cols(dfs['election_activity'])"
   ]
  },
  {
   "cell_type": "markdown",
   "metadata": {},
   "source": [
    "### Check Committee ID"
   ]
  },
  {
   "cell_type": "code",
   "execution_count": 66,
   "metadata": {
    "collapsed": false
   },
   "outputs": [
    {
     "name": "stdout",
     "output_type": "stream",
     "text": [
      "----------------------------------------\n",
      "COMMITTEE_ID \n",
      "\n",
      "Series([], Name: committee_id, dtype: object) \n",
      "\n"
     ]
    }
   ],
   "source": [
    "id_pattern = '^\\d+$'\n",
    "c = '(\\w*_id)'\n",
    "check_values(dfs['election_activity'], c, id_pattern)"
   ]
  },
  {
   "cell_type": "markdown",
   "metadata": {},
   "source": [
    "#### ID to int"
   ]
  },
  {
   "cell_type": "code",
   "execution_count": 67,
   "metadata": {
    "collapsed": true
   },
   "outputs": [],
   "source": [
    "dfs['election_activity'].loc[:, 'committee_id'] = dfs['election_activity'].committee_id.astype(int)"
   ]
  },
  {
   "cell_type": "markdown",
   "metadata": {},
   "source": [
    "### Check Dates"
   ]
  },
  {
   "cell_type": "code",
   "execution_count": 68,
   "metadata": {
    "collapsed": false
   },
   "outputs": [
    {
     "name": "stdout",
     "output_type": "stream",
     "text": [
      "----------------------------------------\n",
      "ACTIVE_DATE \n",
      "\n",
      "Series([], Name: active_date, dtype: object) \n",
      "\n"
     ]
    }
   ],
   "source": [
    "# date_pattern = '(0[0-9]|1[0-2])/([0-2][0-9]|3[01])/(19\\d{2}|200[0-9]|201[0-8])'\n",
    "c = '\\w*_[dD]ate'\n",
    "check_values(dfs['election_activity'], c, date_pattern)"
   ]
  },
  {
   "cell_type": "code",
   "execution_count": 69,
   "metadata": {
    "collapsed": true
   },
   "outputs": [],
   "source": [
    "dfs['election_activity'].drop_duplicates().to_csv('election_activity_cleaned.csv', index=False)"
   ]
  },
  {
   "cell_type": "markdown",
   "metadata": {},
   "source": [
    "## Committee History DF"
   ]
  },
  {
   "cell_type": "code",
   "execution_count": 70,
   "metadata": {
    "collapsed": false
   },
   "outputs": [
    {
     "name": "stdout",
     "output_type": "stream",
     "text": [
      "set() \n",
      "\n",
      "Dropped 0 columns from comm_history\n",
      "Columns match schema: True\n"
     ]
    }
   ],
   "source": [
    "correct_columns('comm_history')"
   ]
  },
  {
   "cell_type": "code",
   "execution_count": 71,
   "metadata": {
    "collapsed": false
   },
   "outputs": [
    {
     "name": "stdout",
     "output_type": "stream",
     "text": [
      "<class 'pandas.core.frame.DataFrame'>\n",
      "RangeIndex: 9611 entries, 0 to 9610\n",
      "Data columns (total 6 columns):\n",
      "committee_name           9611 non-null object\n",
      "committee_description    9611 non-null object\n",
      "effective                9611 non-null object\n",
      "expiration               8012 non-null object\n",
      "filing_type              9611 non-null object\n",
      "committee_id             9611 non-null object\n",
      "dtypes: object(6)\n",
      "memory usage: 450.6+ KB\n"
     ]
    }
   ],
   "source": [
    "dfs['comm_history'].info()"
   ]
  },
  {
   "cell_type": "code",
   "execution_count": 72,
   "metadata": {
    "collapsed": false
   },
   "outputs": [
    {
     "name": "stdout",
     "output_type": "stream",
     "text": [
      "There are 0 all null records\n"
     ]
    }
   ],
   "source": [
    "allnull('comm_history')"
   ]
  },
  {
   "cell_type": "code",
   "execution_count": 73,
   "metadata": {
    "collapsed": false
   },
   "outputs": [
    {
     "name": "stdout",
     "output_type": "stream",
     "text": [
      "----------------------------------------\n",
      "COMMITTEE_NAME \n",
      "\n",
      "['Committee for Dan Ivancie', 'Oregon Sierra Club PAC', 'Oregon Sierra Club Political Action Committee', 'Oregon Chapter, Sierra Club, Political Committee', 'Oregon Chapter Sierra Club Political Committee', 'Oregon Chapter Sierra Club P C', 'Sierra Club Political Committee-Oregon', 'Sierra Club Committee on Political Education-Oregon Fund', 'Sierra Club Committee on Political Education', 'Oregonians for Affordable Housing', 'Oregonians in Action PAC', 'Oregonians in Action Political Action Committee', 'Oregonians in Action - Political Action Committee', 'Oregonians to Maintain Community Standards', 'PAC 483', 'Pacific Green Party of Oregon', 'Pacific Party', 'Pacific Party Pac', 'Pacific Party-Pac', \"Parent's Education Association P.A.C.\", \"Parent's Education Association\", 'Parents Education Association', 'Parents Education Association PAC', 'Parents Education Association Political Action Committee', 'People for Oregon Libraries Political Action Committee'] \n",
      "\n",
      "----------------------------------------\n",
      "COMMITTEE_DESCRIPTION \n",
      "\n",
      "['County Commissioner, Multnomah County, District 2, Nonpartisan', 'Miscellaneous', 'Measure Supports Measure 10 - 2002 Supports Measure 11 - 2002', 'Measure Opposes Measure 92 - 2000 Opposes Measure 98 - 2000', 'Measure Supports Measure 68 - 1999 Supports Measure 76 - 1999', 'Measure Supports Measure 68 - 1999', 'Measure Opposes Measure 59 - 1998', 'Measure Supports Measure 24 - 1996', 'Measure Opposes Measure 12 - 1994', 'Measure', 'Measure Opposes Measure 59 - 2008 Opposes Measure 64 - 2008', 'Measure Opposes Measure 41 - 2006', 'Measure Opposes Measure 41 - 2006 Opposes Measure 48 - 2006', 'Measure Opposes Measure 35 - 2004 Opposes Measure 37 - 2004 Opposes Measure 38 - 2004 Opposes Measure 36 - 2004', 'Measure Opposes Measure 35 - 2004 Opposes Measure 37 - 2004 Opposes Measure 38 - 2004', 'Measure Supports Measure 26 - 2002 Supports Measure 25 - 2002', 'Measure Supports Measure 25 - 2002 Supports Measure 26 - 2002', 'Measure Opposes Measure 98 - 2000 Opposes Measure 92 - 2000', 'Measure Opposes Measure 81 - 2000', 'Measure Opposes Measure 59 - 1998 Supports Measure 62 - 1998', 'Measure Supports Measure 53 - 1998', 'Measure Opposes Measure 45 - 1996 Opposes Measure 47 - 1996', 'Measure Opposes Measure 45 - 1996', 'Measure Opposes Measure 25 - 1996', 'Political PartyPacific Green'] \n",
      "\n",
      "----------------------------------------\n",
      "EFFECTIVE \n",
      "\n",
      "['01/31/2007', '09/10/1999', '03/14/2016', '07/26/2010', '01/28/2010', '11/20/2009', '08/07/2009', '03/20/2009', '10/08/2008', '11/05/2007', '10/16/2007', '08/08/2007', '10/26/2006', '08/15/2006', '10/10/2005', '07/14/2005', '10/20/2004', '08/30/2004', '08/18/2004', '10/01/2003', '08/09/2001', '10/09/2000', '08/03/2000', '06/18/1998', '09/10/1997'] \n",
      "\n",
      "----------------------------------------\n",
      "EXPIRATION \n",
      "\n",
      "[nan, '01/30/2007', '03/14/2016', '07/26/2010', '01/28/2010', '11/19/2009', '08/06/2009', '03/19/2009', '10/07/2008', '11/04/2007', '10/15/2007', '08/07/2007', '10/25/2006', '08/14/2006', '10/09/2005', '07/13/2005', '10/19/2004', '08/29/2004', '08/17/2004', '09/30/2003', '08/08/2001', '10/08/2000', '08/02/2000', '06/17/1998', '09/09/1997'] \n",
      "\n",
      "----------------------------------------\n",
      "FILING_TYPE \n",
      "\n",
      "['Amendment', 'Original', 'Discontinuation', 'Administrative Discontinuation'] \n",
      "\n",
      "----------------------------------------\n",
      "COMMITTEE_ID \n",
      "\n",
      "[5611, 252, 2069, 2793, 1579, 1869, 765, 216, 167, 221, 337, 260, 223, 7305, 4213, 5207, 3889, 4676, 5528, 350, 4015, 12510, 3, 4, 12878] \n",
      "\n",
      "========================================\n",
      "Columns with many unique values:\n",
      "\n",
      "['committee_name', 'committee_description', 'effective', 'expiration', 'committee_id']\n"
     ]
    }
   ],
   "source": [
    "inspect_cols(dfs['comm_history'])"
   ]
  },
  {
   "cell_type": "markdown",
   "metadata": {},
   "source": [
    "### Check Committee ID"
   ]
  },
  {
   "cell_type": "code",
   "execution_count": 74,
   "metadata": {
    "collapsed": false
   },
   "outputs": [
    {
     "name": "stdout",
     "output_type": "stream",
     "text": [
      "----------------------------------------\n",
      "COMMITTEE_ID \n",
      "\n",
      "Series([], Name: committee_id, dtype: object) \n",
      "\n"
     ]
    }
   ],
   "source": [
    "id_pattern = '^\\d+$'\n",
    "c = '\\w*_id'\n",
    "check_values(dfs['comm_history'], c, id_pattern)"
   ]
  },
  {
   "cell_type": "code",
   "execution_count": 75,
   "metadata": {
    "collapsed": false
   },
   "outputs": [],
   "source": [
    "dfs['comm_history'].loc[:, 'committee_id'] = dfs['comm_history'].committee_id.astype(int)"
   ]
  },
  {
   "cell_type": "markdown",
   "metadata": {},
   "source": [
    "### Check Dates"
   ]
  },
  {
   "cell_type": "code",
   "execution_count": 76,
   "metadata": {
    "collapsed": false
   },
   "outputs": [
    {
     "name": "stdout",
     "output_type": "stream",
     "text": [
      "----------------------------------------\n",
      "EFFECTIVE \n",
      "\n",
      "Series([], Name: effective, dtype: object) \n",
      "\n",
      "----------------------------------------\n",
      "EXPIRATION \n",
      "\n",
      "Series([], Name: expiration, dtype: object) \n",
      "\n"
     ]
    }
   ],
   "source": [
    "# date_pattern = '(0[0-9]|1[0-2])/([0-2][0-9]|3[01])/(19\\d{2}|200[0-9]|201[0-8])'\n",
    "c = '(effective|expiration)'\n",
    "check_values(dfs['comm_history'], c, date_pattern)"
   ]
  },
  {
   "cell_type": "code",
   "execution_count": 77,
   "metadata": {
    "collapsed": true
   },
   "outputs": [],
   "source": [
    "dfs['comm_history'].drop_duplicates().to_csv('comm_history_cleaned.csv', index=False)"
   ]
  },
  {
   "cell_type": "code",
   "execution_count": 78,
   "metadata": {
    "collapsed": false
   },
   "outputs": [
    {
     "data": {
      "text/plain": [
       "address                           101.0\n",
       "address_book_type                  28.0\n",
       "agent                              32.0\n",
       "associations                     1216.0\n",
       "description                       199.0\n",
       "due_date                           22.0\n",
       "employer_name                      92.0\n",
       "filed_date                         22.0\n",
       "name                              115.0\n",
       "occupation                         91.0\n",
       "occupation_letter_date             10.0\n",
       "payer_of_personal_expenditure      54.0\n",
       "payment_method                     25.0\n",
       "process_status                     22.0\n",
       "purpose                           271.0\n",
       "repayment_schedule                 89.0\n",
       "transaction_date                   10.0\n",
       "transaction_sub_type               39.0\n",
       "transaction_type                   24.0\n",
       "dtype: float64"
      ]
     },
     "execution_count": 78,
     "metadata": {},
     "output_type": "execute_result"
    }
   ],
   "source": [
    "dfs['trans_details'].select_dtypes(['O']).apply(lambda x: x.str.len()).max()"
   ]
  },
  {
   "cell_type": "markdown",
   "metadata": {
    "deletable": true,
    "editable": true
   },
   "source": [
    "## Run Scrapers"
   ]
  },
  {
   "cell_type": "code",
   "execution_count": 39,
   "metadata": {
    "collapsed": false,
    "deletable": true,
    "editable": true
   },
   "outputs": [
    {
     "data": {
      "text/plain": [
       "'/home/michaelcrown/Projects/HackOregon/elections-2018'"
      ]
     },
     "execution_count": 39,
     "metadata": {},
     "output_type": "execute_result"
    }
   ],
   "source": [
    "os.chdir('elections-2018')\n",
    "os.getcwd()"
   ]
  },
  {
   "cell_type": "code",
   "execution_count": 32,
   "metadata": {
    "collapsed": true,
    "deletable": true,
    "editable": true
   },
   "outputs": [],
   "source": [
    "def parse_ostar(cid, start, stop):\n",
    "    print('Parsing cid {}'.format(cid))\n",
    "    i = 15\n",
    "    while True:\n",
    "        args = ' '.join([\n",
    "            str(cid), \n",
    "            start.lstrip('0'), \n",
    "            stop.lstrip('0'), \n",
    "            str(i),\n",
    "            ])\n",
    "        print(start, stop)\n",
    "        pypath = os.path.join(os.getcwd(), 'scrape_files/transactions_scrape_date.py')\n",
    "        cmd = 'python {} {}'.format(pypath, args)\n",
    "        os.system(cmd)\n",
    "        file = 'transactions_gaps{}_{}.csv'.format(cid, i)\n",
    "        dfpath = os.path.join(os.getcwd(), file)\n",
    "        df = pd.read_csv(dfpath, parse_dates=['Tran Date'])\n",
    "        if len(df) < 5000:\n",
    "            break\n",
    "        stop = df['Tran Date'].min().date().strftime('%m/%d/%Y')\n",
    "        i += 1"
   ]
  },
  {
   "cell_type": "code",
   "execution_count": null,
   "metadata": {
    "collapsed": true,
    "deletable": true,
    "editable": true
   },
   "outputs": [],
   "source": [
    "parser_args = [\n",
    "#     (4572, '01/1/1900', '12/7/17'),\n",
    "    (4572, '01/1/1900', '11/12/2014'),\n",
    "    (3396, '10/15/11', '9/15/14'),\n",
    "    (191, '5/27/2011', '4/28/13'),\n",
    "    (39, '12/23/2009', '10/25/16'),\n",
    "    ]\n",
    "\n",
    "for args in parser_args:\n",
    "    parse_ostar(*args)"
   ]
  }
 ],
 "metadata": {
  "kernelspec": {
   "display_name": "Python [Root]",
   "language": "python",
   "name": "Python [Root]"
  },
  "language_info": {
   "codemirror_mode": {
    "name": "ipython",
    "version": 3
   },
   "file_extension": ".py",
   "mimetype": "text/x-python",
   "name": "python",
   "nbconvert_exporter": "python",
   "pygments_lexer": "ipython3",
   "version": "3.5.4"
  }
 },
 "nbformat": 4,
 "nbformat_minor": 2
}
