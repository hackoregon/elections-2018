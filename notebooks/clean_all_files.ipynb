{
 "cells": [
  {
   "cell_type": "markdown",
   "metadata": {},
   "source": [
    "# Cleaning of All Files"
   ]
  },
  {
   "cell_type": "code",
   "execution_count": 1,
   "metadata": {
    "collapsed": true
   },
   "outputs": [],
   "source": [
    "import io\n",
    "import json\n",
    "import re\n",
    "import os\n",
    "\n",
    "import pandas as pd\n",
    "from pandas import DataFrame as DF, Series\n",
    "import numpy as np\n",
    "\n",
    "import requests\n",
    "import missingno as msn\n",
    "import psycopg2 as pg\n",
    "\n",
    "import matplotlib.pyplot as plt\n",
    "%matplotlib inline\n",
    "import seaborn as sns\n",
    "sns.set_style('whitegrid')"
   ]
  },
  {
   "cell_type": "code",
   "execution_count": 2,
   "metadata": {
    "collapsed": false
   },
   "outputs": [],
   "source": [
    "PATH = os.path.join(os.getenv('HOME'), 'Projects/HackOregon/elections-2018/scrape_files')"
   ]
  },
  {
   "cell_type": "code",
   "execution_count": 3,
   "metadata": {
    "collapsed": false
   },
   "outputs": [],
   "source": [
    "from glob import glob\n",
    "\n",
    "os.chdir(PATH)\n",
    "files = [f for f in glob('*.csv')]\n",
    "os.chdir('../../')"
   ]
  },
  {
   "cell_type": "code",
   "execution_count": 4,
   "metadata": {
    "collapsed": false,
    "scrolled": true
   },
   "outputs": [
    {
     "data": {
      "text/plain": [
       "['transactions_gaps33_4.csv',\n",
       " 'transaction_detail12.csv',\n",
       " 'transaction_detail3.csv',\n",
       " 'transaction_detail22.csv',\n",
       " 'election_activity3.csv',\n",
       " 'statement_of_organization3.csv',\n",
       " 'all_transactions195.csv',\n",
       " 'all_transactions4.csv',\n",
       " 'transaction_detail18.csv',\n",
       " 'all_transactions6.csv',\n",
       " 'transaction_detail195.csv',\n",
       " 'election_activity_first_batch.csv',\n",
       " 'transaction_detail17.csv',\n",
       " 'all_transactions9.csv',\n",
       " 'transactions_gaps33_7.csv',\n",
       " 'transaction_detail13.csv',\n",
       " 'all_transactions10.csv',\n",
       " 'transaction_detail_first_batch.csv',\n",
       " 'all_transactions18.csv',\n",
       " 'all_transactions8.csv',\n",
       " 'all_transactions115.csv',\n",
       " 'transactions_gaps275_2.csv',\n",
       " 'trans_detail_first_batch_clean.csv',\n",
       " 'transactions_gaps348_3.csv',\n",
       " 'all_transactions14.csv',\n",
       " 'all_transactions1152.csv',\n",
       " 'transactions_gaps33_11.csv',\n",
       " 'all_transactions15.csv',\n",
       " 'transactions_gaps348_2.csv',\n",
       " 'all_transactions11.csv',\n",
       " 'all_transactions13.csv',\n",
       " 'transaction_detail11.csv',\n",
       " 'transactions_gaps33_12.csv',\n",
       " 'transaction_detail14.csv',\n",
       " 'all_transactions21.csv',\n",
       " 'transactions_gaps348_1.csv',\n",
       " 'all_transactions85.csv',\n",
       " 'transactions_gaps931_1.csv',\n",
       " 'all_transactions_list2.csv',\n",
       " 'transaction_detail19.csv',\n",
       " 'all_transactions17.csv',\n",
       " 'transactions_gaps275_1.csv',\n",
       " 'transactions_gaps33_2.csv',\n",
       " 'transaction_detail8.csv',\n",
       " 'all_transactions19.csv',\n",
       " 'transactions_gaps2690_1.csv',\n",
       " 'transaction_detail25.csv',\n",
       " 'transaction_detail42.csv',\n",
       " 'all_transactions852.csv',\n",
       " 'all_transactions12.csv',\n",
       " 'transactions_gaps275_3.csv',\n",
       " 'all_transactions23.csv',\n",
       " 'committee_history3.csv',\n",
       " 'transaction_detail15.csv',\n",
       " 'transactions_gaps33_3.csv',\n",
       " 'transaction_detail852.csv',\n",
       " 'transactions_gaps33_5.csv',\n",
       " 'transaction_detail115.csv',\n",
       " 'transactions_gaps275_4.csv',\n",
       " 'transaction_detail16.csv',\n",
       " 'all_transactions24.csv',\n",
       " 'all_transactions16.csv',\n",
       " 'transactions_gaps135_1.csv',\n",
       " 'transactions_gaps931_2.csv',\n",
       " 'transactions_gaps33_1.csv',\n",
       " 'transactions_gaps15192_1.csv',\n",
       " 'all_transactions20.csv',\n",
       " 'all_transactions22.csv',\n",
       " 'transaction_detail9.csv',\n",
       " 'all_transactions80.csv',\n",
       " 'all_transactions5.csv',\n",
       " 'transaction_detail10.csv',\n",
       " 'transaction_detail24.csv',\n",
       " 'transaction_detail21.csv',\n",
       " 'transactions_gaps54_1.csv',\n",
       " 'all_transactions25.csv',\n",
       " 'transaction_detail1152.csv',\n",
       " 'transactions_gaps54_2.csv',\n",
       " 'transactions_gaps33_10.csv',\n",
       " 'transaction_detail_missing.csv',\n",
       " 'transaction_detail41.csv',\n",
       " 'committee_history_first_batch.csv',\n",
       " 'transactions_gaps1524_1.csv',\n",
       " 'transaction_detail23.csv',\n",
       " 'transaction_detail_second_batch.csv',\n",
       " 'transaction_detail80.csv',\n",
       " 'transactions_gaps682_1.csv',\n",
       " 'transactions_first_batch.csv',\n",
       " 'transactions_gaps33_6.csv',\n",
       " 'transactions_gaps33_8.csv',\n",
       " 'transaction_detail20.csv',\n",
       " 'transactions_gaps931_3.csv',\n",
       " 'transactions_gaps33_9.csv',\n",
       " 'statement_of_organization_first_batch.csv']"
      ]
     },
     "execution_count": 4,
     "metadata": {},
     "output_type": "execute_result"
    }
   ],
   "source": [
    "files"
   ]
  },
  {
   "cell_type": "code",
   "execution_count": 5,
   "metadata": {
    "collapsed": false,
    "scrolled": true
   },
   "outputs": [],
   "source": [
    "import warnings\n",
    "from ast import literal_eval\n",
    "\n",
    "map_names = {\n",
    "    'all': 'transactions',\n",
    "    'transactions': 'transactions',\n",
    "    'transaction': 'trans_details',\n",
    "    'statement': 'statement',\n",
    "    'committee': 'comm_history',\n",
    "    'election': 'election_activity',\n",
    "    }\n",
    "dfs = {}\n",
    "with warnings.catch_warnings(record=True) as w:\n",
    "    for i,f in enumerate(files):\n",
    "        head = f.split('_')[0]\n",
    "        if head == 'trans':\n",
    "            continue\n",
    "        else:\n",
    "            head = map_names[head]\n",
    "        df = pd.read_csv('elections-2018/scrape_files/{}'.format(f))\n",
    "        if w:\n",
    "            u = w[-1]\n",
    "            u.message.args[0]\n",
    "            tup = literal_eval(u.message.args[0].strip('Columns ').split(' ')[0])\n",
    "            try:\n",
    "                df = pd.read_csv('elections-2018/scrape_files/{}'.format(f), dtype={k:str for k in tup})\n",
    "            except:\n",
    "                df = pd.read_csv('elections-2018/scrape_files/{}'.format(f), dtype={tup: str})\n",
    "        dfs.setdefault(head, DF([], columns=df.columns))\n",
    "        dfs[head] = dfs[head].append(df)"
   ]
  },
  {
   "cell_type": "code",
   "execution_count": 6,
   "metadata": {
    "collapsed": false
   },
   "outputs": [
    {
     "data": {
      "text/plain": [
       "['comm_history',\n",
       " 'transactions',\n",
       " 'statement',\n",
       " 'election_activity',\n",
       " 'trans_details']"
      ]
     },
     "execution_count": 6,
     "metadata": {},
     "output_type": "execute_result"
    }
   ],
   "source": [
    "list(dfs)"
   ]
  },
  {
   "cell_type": "markdown",
   "metadata": {},
   "source": [
    "## Routines"
   ]
  },
  {
   "cell_type": "markdown",
   "metadata": {},
   "source": [
    "### Visually Inspect Column Values"
   ]
  },
  {
   "cell_type": "code",
   "execution_count": 7,
   "metadata": {
    "collapsed": false
   },
   "outputs": [],
   "source": [
    "def inspect_cols(df):\n",
    "    long_cols = []\n",
    "\n",
    "    def print_message(c, head=False):\n",
    "        print(40*'-')\n",
    "        print(c.upper(), '\\n')\n",
    "        if head:\n",
    "            print(df.loc[:, c].unique()[:25].tolist(), '\\n')\n",
    "        else:\n",
    "            print(df.loc[:, c].unique().tolist(), '\\n')\n",
    "\n",
    "    for c in df:\n",
    "        if df.loc[:, c].nunique() < 100:\n",
    "            print_message(c)\n",
    "        else:\n",
    "            print_message(c, True)\n",
    "            long_cols.append(c)\n",
    "    print(40*'=')\n",
    "    print('Columns with many unique values:\\n')\n",
    "    print(long_cols)"
   ]
  },
  {
   "cell_type": "markdown",
   "metadata": {},
   "source": [
    "### Find Column Values That Mismatch Pattern"
   ]
  },
  {
   "cell_type": "code",
   "execution_count": 8,
   "metadata": {
    "collapsed": false
   },
   "outputs": [],
   "source": [
    "def check_values(df, col_pattern, val_pattern):\n",
    "    cols = [c for c in df if re.search(col_pattern, c)]\n",
    "\n",
    "    for c in cols:\n",
    "        mask = df.loc[:, c].dropna() \\\n",
    "            .apply(lambda x: True if not re.match(val_pattern, str(x)) else False)\n",
    "        bad = df.loc[:, c].dropna()[mask].drop_duplicates()\n",
    "        print(40*'-')\n",
    "        print(c.upper(), '\\n')\n",
    "        print(bad, '\\n')"
   ]
  },
  {
   "cell_type": "markdown",
   "metadata": {},
   "source": [
    "## Statement DF"
   ]
  },
  {
   "cell_type": "code",
   "execution_count": 9,
   "metadata": {
    "collapsed": false
   },
   "outputs": [
    {
     "name": "stdout",
     "output_type": "stream",
     "text": [
      "<class 'pandas.core.frame.DataFrame'>\n",
      "Int64Index: 1617 entries, 0 to 124\n",
      "Data columns (total 26 columns):\n",
      "Candidate Address                  960 non-null object\n",
      "Committee                          0 non-null float64\n",
      "Committee Acronym                  295 non-null object\n",
      "Committee Address                  1596 non-null object\n",
      "Committee Campaign Phone           1384 non-null object\n",
      "Committee Filing Effective From    1596 non-null object\n",
      "Committee Filing Type              1596 non-null object\n",
      "Committee ID                       1596 non-null float64\n",
      "Committee Name                     1596 non-null object\n",
      "Committee PAC Type                 632 non-null object\n",
      "Election/Office                    960 non-null object\n",
      "Email Address                      958 non-null object\n",
      "Employer                           859 non-null object\n",
      "Fax                                150 non-null object\n",
      "Home Phone                         663 non-null object\n",
      "Mailing Address                    960 non-null object\n",
      "Name                               960 non-null object\n",
      "Occupation                         960 non-null object\n",
      "Party Affiliation                  957 non-null object\n",
      "Treasurer Email Address            1595 non-null object\n",
      "Treasurer Fax                      408 non-null object\n",
      "Treasurer Home Phone               969 non-null object\n",
      "Treasurer Mailing Address          1596 non-null object\n",
      "Treasurer Name                     1596 non-null object\n",
      "Treasurer Work Phone               1294 non-null object\n",
      "Work Phone                         724 non-null object\n",
      "dtypes: float64(2), object(24)\n",
      "memory usage: 341.1+ KB\n"
     ]
    }
   ],
   "source": [
    "dfs['statement'].info()"
   ]
  },
  {
   "cell_type": "markdown",
   "metadata": {},
   "source": [
    "### Inspect Columns"
   ]
  },
  {
   "cell_type": "code",
   "execution_count": 10,
   "metadata": {
    "collapsed": false
   },
   "outputs": [
    {
     "name": "stdout",
     "output_type": "stream",
     "text": [
      "----------------------------------------\n",
      "CANDIDATE ADDRESS \n",
      "\n",
      "[nan, '1907 NW Mill Pond Road, Portland,           OR      97229         - 7553', '3393 Arlington Avenue, Eugene,           OR      97408', '23695 SW Brittany Ln, Sherwood,           OR      97140', '1003 Terrace Dr, Lake Oswego,           OR      97034', '1163 State St, Salem,           OR      97301', '6771 SW 162nd Drive, Beaverton,           OR      97007         - 4894', '7811 Old Stage Rd, Central Point,           OR      97502', '17915 NW Lonerock Dr, Portland,           OR      97229', '9026 SW 36th Ave, Portland,           OR      97219', '2138 Lois Drive, Roseburg,           OR      97470', '18340 SW Monte Verdi Blvd, Aloha,           OR      97007', '2248 Potter St, Eugene,           OR      97405', '410 Jefferson Street, Oregon City,           OR      97045', '22760 SW 87th Pl., Tualatin,           OR      97062', '660 Morgan Ave, Ontario,           OR      97914', '805 Kingwood Dr NW, Salem,           OR      97304', '3321 SE 20th Ave., Portland,           OR      97202', 'Hwy 26, Seaside,           OR      97138', '17080 Butler Hill Road, Dallas,           OR      97338', '4505 Pinnacle Dr., Medford,           OR      97504', '439 Pyle Drive, Grants Pass,           OR      97527', '71 Dewey St., Ashland,           OR      97520', '6227 SW 18th Dr, Portland,           OR      97239', '1797 SE Bronzewood Ave., Bend,           OR      97702'] \n",
      "\n",
      "----------------------------------------\n",
      "COMMITTEE  \n",
      "\n",
      "[nan] \n",
      "\n",
      "----------------------------------------\n",
      "COMMITTEE ACRONYM \n",
      "\n",
      "['OSC-PAC', 'OFAH', 'OIA PAC', nan, 'PAC', 'PEAPAC', 'PCDCC', 'PAT PAC', 'WFP', 'YCD', 'APP PAC', 'AG-PAC', 'ALLIANCE PAC', 'ACEC OREGON PAC', 'AFSCME', 'AFT-Oregon Candidate PAC', 'Liberty PAC', 'BCDCC', 'BCRCC', 'BC Dems', 'BWV', 'BikePAC', 'BOMA PAC', 'COPAC', 'CAO-PAC'] \n",
      "\n",
      "----------------------------------------\n",
      "COMMITTEE ADDRESS \n",
      "\n",
      "['1821 SE Ankeny Street, Portland,       OR     97214', '2075 Madrona Avenue SE, STE 150, Salem,       OR     97302', '11735 SW Queen Elizabeth Street, #101, King City,       OR     97224', '3321 SE 20th Ave, Portland,       OR     97202', '1125 SE Madison St Ste 206, Portland,       OR     97214     -   3600', '454 Willamette St Ste 219, Eugene,       OR     97401', '784 NW 3rd Ave, Canby,       OR     97013', '3321 SE 20th Avenue, Portland,       OR     97202', '20210 SW Teton Ave, Tualatin,       OR     97062', '1049 6th St. NW, Salem,       OR     97304', '345 NE 8th, Portland,       OR     97232', '4530 SE 67th Ave, Portland,       OR     97206', '1907 NW Mill Pond Road, Portland,       OR     97229     -   7553', '3536 SE 26th Ave, Portland,       OR     97202', '2121 SW Broadway, Suite 111, Portland,       OR     97201', '11080 SW Allen Blvd., Beaverton,       OR     97005', 'PO Box 10086, Eugene,       OR     97440', '333 SE 2nd Ave, Portland,       OR     97214', '637 SW Keck Dr #122, McMinnville,       OR     97128', '1790 Landau Dr, Woodburn,       OR     97071', '23695 SW Brittany Ln, Sherwood,       OR     97140', '1320 Capitol St. NE Suite 200, Salem,       OR     97301', '9450 SW Commerce Circle, Wilsonville,       OR     97070', '494 State St, Suite 230 (not a mailing address), Salem,       OR     97301', '200 SW Market St, Ste 150, Portland,       OR     97201'] \n",
      "\n",
      "----------------------------------------\n",
      "COMMITTEE CAMPAIGN PHONE \n",
      "\n",
      "['(503)238-0442', '(503)378-9066', '(503)620-0258', '(503)295-1851', '(503)283-5094', '(541)516-6059', '(503)263-8337', nan, '(503)691-5700', '(503)831-1586', '(503)774-4302', '(503)292-6841', '(503)236-4949', '(503)235-2305', '(503)603-9009', '(541)687-2320', '(503)841-7161', '(503)857-0944', '(503)560-6725', '(503)381-8362', '(503)399-1701', '(503)682-3363    x307', '(503)224-8684', '(503)292-2348', '(971)888-5665'] \n",
      "\n",
      "----------------------------------------\n",
      "COMMITTEE FILING EFFECTIVE FROM \n",
      "\n",
      "['03/14/2016', '11/01/2017', '03/22/2018', '09/07/2016', '04/02/2018', '01/23/2018', '11/06/2017', '03/12/2018', '02/13/2012', '05/17/2017', '08/29/2017', '02/12/2015', '04/21/2015', '04/04/2012', '03/09/2017', '01/20/2017', '01/24/2011', '07/29/2015', '04/21/2017', '03/17/2014', '03/19/2015', '03/15/2017', '06/28/2017', '03/08/2016', '04/04/2018'] \n",
      "\n",
      "----------------------------------------\n",
      "COMMITTEE FILING TYPE \n",
      "\n",
      "['Amendment', nan, 'Original'] \n",
      "\n",
      "----------------------------------------\n",
      "COMMITTEE ID \n",
      "\n",
      "[252.0, 2069.0, 2793.0, 1579.0, 1869.0, 765.0, 216.0, 167.0, 221.0, 337.0, 260.0, 223.0, 7305.0, 4213.0, 5207.0, 3889.0, 4676.0, 5528.0, 350.0, 4015.0, 12510.0, 3.0, 4.0, 12878.0, 4797.0] \n",
      "\n",
      "----------------------------------------\n",
      "COMMITTEE NAME \n",
      "\n",
      "['Oregon Sierra Club PAC', 'Oregonians for Affordable Housing', 'Oregonians in Action PAC', 'Oregonians to Maintain Community Standards', 'PAC 483', 'Pacific Green Party of Oregon', \"Parent's Education Association P.A.C.\", 'People for Oregon Libraries Political Action Committee', 'Plumbers & Steamfitters PAC', 'Polk County Democratic Central Committee', 'Portland Association of Teachers PAC', 'Portland Metro Fire Fighters PAC', 'Bobbie Regan for Portland School Board', \"Service Employees Int'L Union Local 49 Committee on Political Education\", 'Stand for Children Oregon PAC', 'Taxpayers Association of Oregon PAC', 'Jim Torrey for Mayor', 'Working Families Party of Oregon', 'Yamhill County Democrats', 'Accion Politica PCUNista PAC', 'Friends of Jessica Adamson', 'AG-PAC', 'AGC Committee for Action', 'Friends of Allen Alley', 'Alliance - PAC'] \n",
      "\n",
      "----------------------------------------\n",
      "COMMITTEE PAC TYPE \n",
      "\n",
      "['Miscellaneous', 'Political Party', nan, 'Measure', 'Caucus', 'Recall'] \n",
      "\n",
      "----------------------------------------\n",
      "ELECTION/OFFICE \n",
      "\n",
      "[nan, '2015 May Election, Director,      Portland School District, Zone 3', '2008 General Election, Mayor,      City of Eugene', '2015 May Election, Director,      Sherwood School District, Position 1', '2016 Primary Election, Governor', '2018 Primary Election, Judge of the Court of Appeals,      Position 10', '2012 Primary Election, City Councilor,      City of Beaverton, Position 4', '2012 Primary Election, State Senator,      2nd District', '2016 Primary Election, Secretary of State', '2016 Primary Election, Mayor,      City of Portland', '2012 General Election, Mayor,      City of Roseburg', '2018 Primary Election, State Representative,      28th District', '2018 Primary Election, State Representative,      11th District', '2014 General Election, State Representative,      40th District', '2012 General Election, City Councilor,      City of Tualatin, Position 2', '2018 Primary Election, State Senator,      30th District', '2012 Primary Election, State Representative,      20th District', '2010 General Election, State Senator,      17th District', '2016 Primary Election, State Representative,      32nd District', '2020 Primary Election, State Senator,      12th District', '2016 Primary Election, County Commissioner,      Jackson County, Position 2', '2010 Primary Election, County Commissioner,      Josephine County, Position 1', '2014 Primary Election, State Representative,      5th District', '2018 Primary Election, State Senator,      18th District', '2008 General Election, State Representative,      54th District'] \n",
      "\n",
      "----------------------------------------\n",
      "EMAIL ADDRESS \n",
      "\n",
      "[nan, 'bobbie4schools@comcast.net', 'jimtorrey@comcast.net', 'jessicarhadamson@gmail.com', 'Allen@AllenAlley.com', 'rex.armstrong@ojd.state.or.us', 'catherine_arnold@comcast.net', 'jallmand@mac.com', 'brad@bradavakian.com', 'jules@julesbailey.com', 'mjbaker65@charter.net', 'sgtjeff92@aol.com', 'phil@barnhart.us', 'brent@votebrentbarton.com', 'smbeikman@comcast.net', 'cbentz@yturrirose.com', 'rep.vickiberger@state.or.us', 'suzannne@suzannefororegon.com', 'booneforstaterep@aol.com', 'boquist@aol.com', 'breidenthal@charter.net', 'jackbrown@jackbrown.org', 'info@peterbuckley.org', 'ginny.burdick@comcast.net', 'cburley10@gmail.com'] \n",
      "\n",
      "----------------------------------------\n",
      "EMPLOYER \n",
      "\n",
      "[nan, 'Self Employed', 'Providence Health & Services,        Portland,             OR', 'State of Oregon,        Salem,             OR', 'Micro Power Electronics,        Beaverton,             OR', 'Bureau of Labor and Industries,        Portland,             OR', 'Multnomah County,        Portland,             OR', 'ODOT,        Salem,             OR', 'Legislative Assembly,        Salem,             OR', 'The Barton Law Firm,        Newport,             OR', 'US Congress,        Washington,             DC', 'Jackson County,        Medford,             OR', 'Family Enterprises Ltd dba Auto Doc,        Grants Pass,             OR', 'Self,        Ashland,             OR', 'Interfor,        Gilchrist,             OR', 'State of Oregon,        Dallas,             OR', 'Rasmussen Spray Service,        Salem,             OR', 'Metro,        Portland,             OR', 'Coldwell banker sun country ,        prineville ,             OR', 'Portland Community College,        Portland,             OR', 'Columbia County,        Saint Helens,             OR', 'Equinox Industries,        Cottage Grove,             OR', 'City of Beaverton,        Beaverton,             OR', 'Marland Henderson Construction,        Tigard,             OR', 'Oregon Legislature,        Salem,             OR'] \n",
      "\n",
      "----------------------------------------\n",
      "FAX \n",
      "\n",
      "[nan, '(503)986-5865', '(503)295-0670', '(541)889-2432', '(503)540-8989', '(503)623-7665', '(541)772-2593', '(503)585-1291', '(503)769-2219', '(503)684-9082', '(541)494-4945', '(541)672-7685', '(503)366-4325', '(503)292-1298', '(541)766-6701', '(503)625-8556', '(503)626-5035', '(503)685-6202', '(503)666-0529', '(541)278-1273', '(503)684-7523', '(503)239-9670', '(541)676-5989', '(503)390-3498', '(541)221-8006'] \n",
      "\n",
      "----------------------------------------\n",
      "HOME PHONE \n",
      "\n",
      "[nan, '(503)292-6841', '(541)343-6595', '(503)625-4621', '(503)699-9042', 'Exempt from public record', '(503)642-2381', '(541)664-9878', '(503)430-5588', '(541)440-0580', '(503)649-1767', '(541)484-9701', '(503)612-6925', '(541)889-3063', '(503)297-4127', '(503)298-9494', '(541)772-2593', '(541)476-7001', '(541)482-9885', '(503)244-1444', '(541)383-8598', '(503)831-4918', '(503)399-8011', '(541)720-9583', '(503)585-1291'] \n",
      "\n",
      "----------------------------------------\n",
      "MAILING ADDRESS \n",
      "\n",
      "[nan, '1907 NW Mill Pond Road, Portland,         OR     97229     - 7553', '3393 Arlington Avenue, Eugene,         OR     97408', '23695 SW Brittany Ln, Sherwood,         OR     97140', '1003 Terrace Dr, Lake Oswego,         OR     97034', '1163 State St, Salem,         OR     97301', '6771 SW 162nd Drive, Beaverton,         OR     97007     - 4894', 'PO Box 5479, Central Point,         OR     97502', '1319 MLK Jr Blvd, Ste 204, Portland,         OR     97214', '9026 SW 36th Ave, Portland,         OR     97219', '2138 Lois Drive, Roseburg,         OR     97470', '18340 SW Monte Verdi Blvd, Aloha,         OR     97007', '2248 Potter St, Eugene,         OR     97405', 'PO Box 42307, Portland,         OR     97242', '22760 SW 87th Pl., Tualatin,         OR     97062', 'PO Box 1048, Ontario,         OR     97914', '805 Kingwood Dr NW, Salem,         OR     97304', 'PO Box 637, Cannon Beach,         OR     97110', '17080 Butler Hill Rd, Dallas,         OR     97338', '4505 Pinnacle Dr., Medford,         OR     97504', '1252 Redwood Avenue #68, Grants Pass,         OR     97527', '71 Dewey St, Ashland,         OR     97520', '6227 SW 18th Dr, Portland,         OR     97239', '1797 SE Bronzewood Ave., Bend,         OR     97702', 'PO Box 757, Dallas,         OR     97338'] \n",
      "\n",
      "----------------------------------------\n",
      "NAME \n",
      "\n",
      "[nan, 'Bobbie  A  Regan', 'James  D.  Torrey', 'Jessica    Adamson', 'Allen  H.  Alley', 'Rex    Armstrong', 'Catherine  A  Arnold', 'Jason  A.  Atkinson', 'Brad    Avakian', 'Jules  L K  Bailey', 'Mike  J  Baker', 'Jeff    Barker', 'Philip  N  Barnhart', 'Brent    Barton', 'Monique    Beikman', 'Cliff    Bentz', 'Vicki    Berger', 'Suzanne    Bonamici', 'Deborah  A.  Boone', 'Brian  J.  Boquist', 'Douglas  P.  Breidenthal', 'Jack  A  Brown Jr', 'Peter    Buckley', 'Ginny    Burdick', 'Charles  H  Burley'] \n",
      "\n",
      "----------------------------------------\n",
      "OCCUPATION \n",
      "\n",
      "[nan, 'Volunteer', 'Not Employed', 'Director, Government Relations - Oregon', 'Investor', 'Judge, Oregon Court of Appeals', 'Marketing Associate', 'Business Consultant- Senator', 'Commissioner of Labor and Industries', 'County Commissioner', 'Transportation Planner', 'State Representative', 'Oregon State Representative', 'Attorney', 'State Legislator', 'US Representative', 'Forestry, farming, consulting', 'Commissionner', 'auto mechanic', 'State Representative, House District Five; Writer', 'Communication Consultant/Senator', 'Timber Manager', 'Polk County District Attorney', 'Owner/CEO, Cafe Today Restaurants', 'Small Business Owner/Operator Pilot Car Service'] \n",
      "\n",
      "----------------------------------------\n",
      "PARTY AFFILIATION \n",
      "\n",
      "[nan, 'Nonpartisan', 'Republican', 'Democrat', 'Progressive', 'Libertarian', 'Constitution', 'Independent', 'Pacific Green', 'Nonaffiliated'] \n",
      "\n",
      "----------------------------------------\n",
      "TREASURER EMAIL ADDRESS \n",
      "\n",
      "['amy.baird@oregon.sierraclub.org', 'jchandler@oregonhba.com', 'Dave@oia.org', 'j.green@c-esystems.com', 'wabuchholz@gmail.com', 'driscollx@yahoo.com', 'bktzmllr@juno.com', 'Shropshire@ua290.org', 'aferschweiler@iaff43.org', 'megn@seiu49.org', 'admin@stand.org', 'loripiercy@centurylink.net', 'triciad@jrcpa.com', 'msturbois@comcast.net', 'treasurer@ycdemocrats.org', 'larrykleinman@gmail.com', 'jessicarhadamson@gmail.com', 'jstone@oan.org', 'johnr@agc-oregon.org', 'donna@capitolaccounting.com', 'mhaynes@portlandalliance.com', 'dgibson@rosevilla.org', 'russell.cna@gmail.com', 'ken.ray@outlook.com', 'davidr@aft-oregon.org'] \n",
      "\n",
      "----------------------------------------\n",
      "TREASURER FAX \n",
      "\n",
      "[nan, '(503)612-4933', '(503)238-6692', '(541)485-0960', '(503)982-1031', '(503)682-1696', '(503)873-8399', '(503)652-3291', '(866)814-0803', '(541)963-7750', '(503)295-0670', '(503)581-0152', '(503)223-1659', '(503)623-7665', '(541)772-2593', '(503)242-8589', '(541)773-7775', '(503)585-1291', '(503)861-7602', '(503)467-7431', '(503)416-6136', '(503)350-2224', '(503)769-2219', '(503)620-3310', '(918)516-0293'] \n",
      "\n",
      "----------------------------------------\n",
      "TREASURER HOME PHONE \n",
      "\n",
      "[nan, '(503)680-8500', '(503)830-4348', '(503)882-5333', '(503)616-0349', '(503)234-0768', '(541)343-6848', '(503)428-1219', '(503)560-6725', '(503)625-4621', '(503)312-7725', '(541)347-4423', '(503)891-1395', '(541)963-9074', '(503)292-1643', '(503)638-3839', '(541)821-5207', '(541)523-6760', '(541)523-3098', '(541)440-0580', '(503)851-5963', '(541)689-0803', '(503)781-4028', '(541)318-7529', '(503)375-9026'] \n",
      "\n",
      "----------------------------------------\n",
      "TREASURER MAILING ADDRESS \n",
      "\n",
      "['1821 SE Ankeny Street, Portland,         OR     97214', '2075 Madrona Avenue SE, STE 150, Salem,         OR     97302', 'PO Box 230637, Tigard,         OR     97281', 'PO Box 42307, Portland,         OR     97242', '1125 SE Madison, Suite 206, Portland,         OR     97203', 'PO Box 1606, Eugene,         OR     97440', '14004 SE Summerfield Lp, Happy Valley,         OR     97086', 'P.O. Box 42307, Portland,         OR     97242', '20210 SW Teton Ave, Tualatin,         OR     97062', '4530 SE 67th Ave, Portland,         OR     97206', '3536 SE 26th Ave, Portland,         OR     97202', '2121 SW Broadway, Suite 111, Portland,         OR     97201', '29993 Maple Drive, Rainier,         OR     97048', 'PO Box 10086, Eugene,         OR     97440', '1512 SE Hawthorne Blvd #2, Portland,         OR     97214', '637 SW Keck Dr #122, McMinnville,         OR     97128', '1790 Landau Dr, Woodburn,         OR     97071', '23695 SW Brittany Ln, Shewood,         OR     97140', '29751 Town Center Loop West, Wilsonville,         OR     97070', '9450 SW Commerce Circle, Wilsonville,         OR     97070', 'PO Box 1304, Silverton,         OR     97381', '200 SW Market St. #150, Portland,         OR     97201', '13505 SE River Road, Portland,         OR     97222', '89286 Cranberry Ln, Bandon,         OR     97411', '7637 SE Reed College Pl., Portland,         OR     97202'] \n",
      "\n",
      "----------------------------------------\n",
      "TREASURER NAME \n",
      "\n",
      "['Amy  Baird', 'Jon  Chandler', 'David J. Hunnicutt', 'Jef A Green', 'Wesley M Buchholz', 'Trisha  Driscoll', 'Robert  Kitzmiller', 'F A Shropshire', 'Alan  Ferschweiler', 'Jef  Green', 'Meg  Niemi', 'Kara J Dahl', 'Lori L Piercy', 'Tricia  Duncan', 'Mark D Sturbois', 'Larry  Richardson', 'Larry  Kleinman', 'Jessica  Adamson', 'Jeff A. Stone', 'John  Rakowitz', 'Donna L Butler', 'Marion  Haynes', 'Diane K. Gibson', 'Donna L. Butler', 'Carol A. Russell'] \n",
      "\n",
      "----------------------------------------\n",
      "TREASURER WORK PHONE \n",
      "\n",
      "[nan, '(503)378-9066 x5x3', '(503)620-0258', '(503)295-1851', '(503)823-1622', '(541)337-6786', '(503)882-5333', '(503)691-5700', '(503)774-4302', '(503)236-4949 x221', '(503)235-2305', '(503)816-7131', '(541)687-2320', '(503)560-6725', '(503)682-5089', '(503)317-1781', '(503)873-8730', '(503)552-6746', '(503)652-3280', '(800)293-0510', '(971)888-5665', '(541)963-7930', '(503)704-8180', '(503)239-5836', '(503)544-9721'] \n",
      "\n",
      "----------------------------------------\n",
      "WORK PHONE \n",
      "\n",
      "[nan, '(503)862-8235', '(503)986-5663', '(503)615-4568', '(541)955-0911', '(971)673-0781', '(541)957-3658', '(503)986-1428', '(541)607-9207', '(541)889-5368', '(503)871-0647', '(503)298-9494', '(503)623-4426', '(541)774-6119', '(541)659-4313', '(541)488-9180', '(503)244-1444', '(541)480-2146', '(503)623-9268', '(503)269-0915', '(541)720-9583', '(971)304-4034', '(541)447-4433', '(503)949-3445 x1141', '(503)914-9723'] \n",
      "\n",
      "========================================\n",
      "Columns with many unique values:\n",
      "\n",
      "['Candidate Address', 'Committee Acronym', 'Committee Address', 'Committee Campaign Phone', 'Committee Filing Effective From', 'Committee ID', 'Committee Name', 'Election/Office', 'Email Address', 'Employer', 'Fax', 'Home Phone', 'Mailing Address', 'Name', 'Occupation', 'Treasurer Email Address', 'Treasurer Fax', 'Treasurer Home Phone', 'Treasurer Mailing Address', 'Treasurer Name', 'Treasurer Work Phone', 'Work Phone']\n"
     ]
    }
   ],
   "source": [
    "inspect_cols(dfs['statement'])"
   ]
  },
  {
   "cell_type": "markdown",
   "metadata": {},
   "source": [
    "### Phone"
   ]
  },
  {
   "cell_type": "code",
   "execution_count": 11,
   "metadata": {
    "collapsed": false
   },
   "outputs": [
    {
     "name": "stdout",
     "output_type": "stream",
     "text": [
      "----------------------------------------\n",
      "COMMITTEE CAMPAIGN PHONE \n",
      "\n",
      "Series([], Name: Committee Campaign Phone, dtype: object) \n",
      "\n",
      "----------------------------------------\n",
      "FAX \n",
      "\n",
      "717     5038514351\n",
      "1280    5038126773\n",
      "Name: Fax, dtype: object \n",
      "\n",
      "----------------------------------------\n",
      "HOME PHONE \n",
      "\n",
      "31      Exempt from public record\n",
      "448                  541-536-7444\n",
      "617                    5418060837\n",
      "728                    5034345365\n",
      "816                  503 621-6316\n",
      "1184                   5415799022\n",
      "Name: Home Phone, dtype: object \n",
      "\n",
      "----------------------------------------\n",
      "TREASURER FAX \n",
      "\n",
      "688     5037417574\n",
      "717     5038514351\n",
      "1251    5032706995\n",
      "1280    5038126773\n",
      "Name: Treasurer Fax, dtype: object \n",
      "\n",
      "----------------------------------------\n",
      "TREASURER HOME PHONE \n",
      "\n",
      "210     Exempt from public record\n",
      "688                    5037417574\n",
      "1003                   5417586842\n",
      "1090                   5419332256\n",
      "1184                   5415799022\n",
      "1218                   9712664290\n",
      "1251                   5032706995\n",
      "1332                   5415051553\n",
      "Name: Treasurer Home Phone, dtype: object \n",
      "\n",
      "----------------------------------------\n",
      "TREASURER WORK PHONE \n",
      "\n",
      "Series([], Name: Treasurer Work Phone, dtype: object) \n",
      "\n",
      "----------------------------------------\n",
      "WORK PHONE \n",
      "\n",
      "816                  503 621-6316\n",
      "1013    Exempt from public record\n",
      "Name: Work Phone, dtype: object \n",
      "\n"
     ]
    }
   ],
   "source": [
    "ph_pattern = '\\(\\d{3}\\)\\s*\\d{3}-\\d{4}( x{0,1}\\d{0,4}){0,1}'\n",
    "c = '(Fax|Phone)'\n",
    "check_values(dfs['statement'], c, ph_pattern)"
   ]
  },
  {
   "cell_type": "markdown",
   "metadata": {},
   "source": [
    "Phone/Fax numbers all appear to be correct, but the format needs to be standardized."
   ]
  },
  {
   "cell_type": "markdown",
   "metadata": {},
   "source": [
    "### Check Dates"
   ]
  },
  {
   "cell_type": "code",
   "execution_count": 12,
   "metadata": {
    "collapsed": false
   },
   "outputs": [
    {
     "name": "stdout",
     "output_type": "stream",
     "text": [
      "----------------------------------------\n",
      "COMMITTEE FILING EFFECTIVE FROM \n",
      "\n",
      "Series([], Name: Committee Filing Effective From, dtype: object) \n",
      "\n"
     ]
    }
   ],
   "source": [
    "date_pattern = '(0[0-9]|1[0-2])/([0-2][0-9]|3[01])/(19\\d{2}|200[0-9]|201[0-8])'\n",
    "c = 'Committee Filing Effective From'\n",
    "check_values(dfs['statement'], c, date_pattern)"
   ]
  },
  {
   "cell_type": "markdown",
   "metadata": {},
   "source": [
    "All dates are good."
   ]
  },
  {
   "cell_type": "markdown",
   "metadata": {},
   "source": [
    "### Check Committee ID"
   ]
  },
  {
   "cell_type": "code",
   "execution_count": 13,
   "metadata": {
    "collapsed": false,
    "scrolled": false
   },
   "outputs": [
    {
     "name": "stdout",
     "output_type": "stream",
     "text": [
      "----------------------------------------\n",
      "COMMITTEE ID \n",
      "\n",
      "Series([], Name: Committee ID, dtype: float64) \n",
      "\n"
     ]
    }
   ],
   "source": [
    "id_pattern = '\\d+'\n",
    "c = 'Committee ID'\n",
    "check_values(dfs['statement'], c, id_pattern)"
   ]
  },
  {
   "cell_type": "markdown",
   "metadata": {},
   "source": [
    "ID values are good"
   ]
  },
  {
   "cell_type": "markdown",
   "metadata": {},
   "source": [
    "### Clean Statement Columns"
   ]
  },
  {
   "cell_type": "markdown",
   "metadata": {},
   "source": [
    "#### Standardize Phone/Fax"
   ]
  },
  {
   "cell_type": "code",
   "execution_count": 14,
   "metadata": {
    "collapsed": false
   },
   "outputs": [],
   "source": [
    "def std_phone(x):\n",
    "    if x != x:\n",
    "        return None\n",
    "    patterns = {\n",
    "        '\\d{10}': \n",
    "            ' '.join([x[:3], x[3:6], x[6:]]),\n",
    "        ph_pattern: \n",
    "            re.sub('(\\)\\s*|-)', ' ', x.strip('(')),\n",
    "        '\\d{3}-\\d{3}-\\d{4}( x{0,1}\\d{0,4}){0,1}':\n",
    "            x.replace('-', ' '),\n",
    "        '\\d{3} \\d{3}-\\d{4}( x{0,1}\\d{0,4}){0,1}':\n",
    "            x.replace('-', ' '),\n",
    "        '(exempt|Exempt)':\n",
    "            'Exempt from public record',\n",
    "    }\n",
    "    for p in patterns:\n",
    "        if re.match(p, x):\n",
    "            return patterns[p]\n",
    "    return x"
   ]
  },
  {
   "cell_type": "code",
   "execution_count": 15,
   "metadata": {
    "collapsed": true
   },
   "outputs": [],
   "source": [
    "cols = [c for c in dfs['statement'] if re.search('(Fax|Phone)', c)]\n",
    "\n",
    "for c in cols:\n",
    "    dfs['statement'].loc[:, c] = dfs['statement'].loc[:, c].apply(lambda x: std_phone(x))"
   ]
  },
  {
   "cell_type": "code",
   "execution_count": 16,
   "metadata": {
    "collapsed": false
   },
   "outputs": [
    {
     "name": "stdout",
     "output_type": "stream",
     "text": [
      "----------------------------------------\n",
      "COMMITTEE CAMPAIGN PHONE \n",
      "\n",
      "Series([], Name: Committee Campaign Phone, dtype: object) \n",
      "\n",
      "----------------------------------------\n",
      "FAX \n",
      "\n",
      "Series([], Name: Fax, dtype: object) \n",
      "\n",
      "----------------------------------------\n",
      "HOME PHONE \n",
      "\n",
      "31    Exempt from public record\n",
      "Name: Home Phone, dtype: object \n",
      "\n",
      "----------------------------------------\n",
      "TREASURER FAX \n",
      "\n",
      "Series([], Name: Treasurer Fax, dtype: object) \n",
      "\n",
      "----------------------------------------\n",
      "TREASURER HOME PHONE \n",
      "\n",
      "210    Exempt from public record\n",
      "Name: Treasurer Home Phone, dtype: object \n",
      "\n",
      "----------------------------------------\n",
      "TREASURER WORK PHONE \n",
      "\n",
      "Series([], Name: Treasurer Work Phone, dtype: object) \n",
      "\n",
      "----------------------------------------\n",
      "WORK PHONE \n",
      "\n",
      "1013    Exempt from public record\n",
      "Name: Work Phone, dtype: object \n",
      "\n"
     ]
    }
   ],
   "source": [
    "ph_pattern = '\\d{3} \\d{3} \\d{4}( x{0,1}\\d{0,4}){0,1}'\n",
    "c = '(Fax|Phone)'\n",
    "check_values(dfs['statement'], c, ph_pattern)"
   ]
  },
  {
   "cell_type": "code",
   "execution_count": 39,
   "metadata": {
    "collapsed": true
   },
   "outputs": [],
   "source": [
    "dfs['statement'].to_csv('statement_cleaned.csv', index=False)"
   ]
  },
  {
   "cell_type": "markdown",
   "metadata": {},
   "source": [
    "## Trans Details DF"
   ]
  },
  {
   "cell_type": "code",
   "execution_count": 17,
   "metadata": {
    "collapsed": false
   },
   "outputs": [
    {
     "name": "stdout",
     "output_type": "stream",
     "text": [
      "<class 'pandas.core.frame.DataFrame'>\n",
      "Int64Index: 714391 entries, 0 to 5468\n",
      "Data columns (total 37 columns):\n",
      "Address                             532482 non-null object\n",
      "Address Book Type                   536535 non-null object\n",
      "Agent                               1910 non-null object\n",
      "Aggregate                           664223 non-null object\n",
      "Amount                              714391 non-null object\n",
      "Associations                        10682 non-null object\n",
      "Check                               152195 non-null float64\n",
      "City, State, Zip Code               0 non-null float64\n",
      "CoSigner Obligations                0 non-null float64\n",
      "Description                         209571 non-null object\n",
      "Due Date                            714376 non-null object\n",
      "Employer                            0 non-null float64\n",
      "Employer City, State                0 non-null float64\n",
      "Employer Name                       201455 non-null object\n",
      "Exam Letter Date                    560583 non-null object\n",
      "Filed Date                          714384 non-null object\n",
      "Filer/Committee Name                0 non-null float64\n",
      "In-Kind/Independent Expenditures    191055 non-null object\n",
      "Interest Rate                       1087 non-null object\n",
      "Name                                704485 non-null object\n",
      "Occupation                          157294 non-null object\n",
      "Occupation Letter Date              4128 non-null object\n",
      "Payer of Personal Expenditure       12652 non-null object\n",
      "Payment Method                      206232 non-null object\n",
      "Process Status                      714384 non-null object\n",
      "Purpose                             223175 non-null object\n",
      "Repayment Schedule                  867 non-null object\n",
      "Transaction Amount                  0 non-null float64\n",
      "Transaction Date                    714384 non-null object\n",
      "Transaction Filed Date              0 non-null float64\n",
      "Transaction ID                      714384 non-null object\n",
      "Transaction Id :                    0 non-null float64\n",
      "Transaction Purpose                 0 non-null float64\n",
      "Transaction Sub Type                714384 non-null object\n",
      "Transaction Subtype                 0 non-null float64\n",
      "Transaction Type                    714384 non-null object\n",
      "Type                                0 non-null float64\n",
      "dtypes: float64(12), object(25)\n",
      "memory usage: 207.1+ MB\n"
     ]
    }
   ],
   "source": [
    "dfs['trans_details'].info()"
   ]
  },
  {
   "cell_type": "markdown",
   "metadata": {},
   "source": [
    "### Inspect Columns"
   ]
  },
  {
   "cell_type": "code",
   "execution_count": 18,
   "metadata": {
    "collapsed": false
   },
   "outputs": [
    {
     "name": "stdout",
     "output_type": "stream",
     "text": [
      "----------------------------------------\n",
      "ADDRESS \n",
      "\n",
      "['Business Services Division 255 Capitol St NE Ste 180 Salem OR 97310', nan, '3133 NE Prescott Street Corbett OR 97019', '37003 NE Reed Rd Corbett OR 97019', '18 NE Evans Rd Corbett OR 97019', '11726 SW 29th Place Portland OR 97219', '1619 NE 366th Ave Corbett OR 97019', 'Corbett OR 97019', '6900 SW Atlanta St Portland OR 97223', '9738 SE Washington St Portland OR 97216', '2500-116th Avenue NE Bellevue WA 98004', '7421 SW Barbur Blvd Portland OR 97219', '35800 E Historic Columbia River Hwy Corbett OR 97019', '1040 SE Morrison St Portland OR 97214', '1732 NW Quimby Street Suite 200 Portland OR 97209', '1788 SW Harvey Way Aloha OR 97006', '4675 NW Owyhee Court Portland OR 97229', 'PO BOX 10005 Department 415 Palo Alto CA 94303', '2380 NE 10th Ave Hillsboro OR 97124', '5301 W. Baseline Hillsboro OR 97123', '3700 SW Murray Blvd Suite 101 Beaverton OR 97005', '4824 NE 42nd Avenue Portland OR 97218', '500 NE Multnomah Street Suite 100 Portland OR 97232', '20579 SW Dorothy Drive Beaverton OR 97006', '22115 NW Imbrie Drive #290 Hillsboro OR 97124'] \n",
      "\n",
      "----------------------------------------\n",
      "ADDRESS BOOK TYPE \n",
      "\n",
      "['Business Entity', nan, 'Individual', 'Labor Organization', 'Other', 'Political Committee', 'Political Party Committee', \"Candidate's Immediate Family\", 'Candidate & Immediate Family', 'Unregistered Committee'] \n",
      "\n",
      "----------------------------------------\n",
      "AGENT \n",
      "\n",
      "[nan, 'George Advertising, Inc.', 'The New Media Firm, Inc.', 'Democracy Direct', 'The Lindholm Company', 'Compass Media', 'Media Plus', 'The Compass Media Group, Inc.', 'The Compass Media Group', 'Command Consulting', 'Media Connections West, Inc.', 'Thomas Public Affairs', 'Astley Consulting Group', 'Adams & Co.', 'Ugf', 'Zerbin Mills Marketing Llc', 'Creative Advertising & Marketing', 'Media Strategies', 'Compass Media Group', 'Direct Northwest', 'Dalton Public Relations', 'Amanda L Dalton', 'Cindi Miller', 'The New Media Firm', 'Media Analysis', 'Friends Of Chip Shields (4741)', 'Us Post Office', 'Com Span Usa', 'The Maentz Agency', 'Run Spot Run Media, Inc.'] \n",
      "\n",
      "----------------------------------------\n",
      "AGGREGATE \n",
      "\n",
      "[125.4, 0.0, 105.0, 460.0, 150.0, 231.62, 200.0, 1000.0, 125.0, 106.62, 500.0, 6047.17, 3005.0, 1450.0, 200.79, 2637.41, 339.46, 225.31, 2888.86, 3738.0, 2229.09, 131.93, 2857.6, 15169.58, 2500.0] \n",
      "\n",
      "----------------------------------------\n",
      "AMOUNT \n",
      "\n",
      "[50.01, 75.39, 25.45, 105.0, 460.0, 50.0, 231.62, 200.0, 1000.0, 100.0, 125.0, 106.62, 500.0, 75.0, 150.0, 13.97, 2309.17, 160.0, 750.0, 250.0, 68.86, 339.46, 22.53, 31.26, 1340.43] \n",
      "\n",
      "----------------------------------------\n",
      "ASSOCIATIONS \n",
      "\n",
      "[nan, 'Loan Received (Non-Exempt) for $1,500.00 from Michael Clarke on 04/25/2013 (1493880) Associated', 'Account Payable for $232.05 from PRISE Design Group on 05/10/2013 (1502272) Associated', 'Loan Received (Non-Exempt) for $100.00 from Ken Humberston on 07/01/2015 (2037771) Complete, Loan Received (Non-Exempt) for $100.00 from Ken Humberston on 05/01/2015 (2037594) Complete, Loan Received (Non-Exempt) for $100.00 from Ken Humberston on 06/01/2015 (2037769) Complete, Loan Received (Non-Exempt) for $100.00 from Ken Humberston on 01/02/2015 (2037589) Complete, Loan Received (Non-Exempt) for $100.00 from Ken Humberston on 04/01/2015 (2037592) Complete, Loan Received (Non-Exempt) for $100.00 from Ken Humberston on 03/02/2015 (2037591) Complete, Loan Received (Non-Exempt) for $100.00 from Ken Humberston on 02/02/2015 (2037590) Complete', 'Cash Expenditure for $250.00 from on 02/19/2016 (2179982) Complete', 'Account Payable for $736.00 from Signtec Imaging Corp on 04/26/2013 (1495434) Associated', 'Account Payable for $350.00 from Folklore Media on 05/14/2013 (1503071) Associated', 'Account Payable for $4,200.00 from PrintSync on 04/25/2013 (1496914) Complete', 'Account Payable for $500.00 from Folklore Media on 04/26/2013 (1495432) Associated', 'Account Payable for $165.00 from Minuteman Press on 03/26/2013 (1482749) Associated', 'Account Payable for $590.95 from Folklore Media on 03/21/2013 (1486211) Associated', 'Account Payable for $1,300.00 from Maya Graphics on 04/15/2013 (1489721) Associated', 'Cash Contribution for $250.00 from John Newlin on 08/29/2016 (2331570) Complete', 'Account Payable for $38,246.00 from Media Analysis, Inc. on 04/29/2013 (1495330) Complete', 'Account Payable for $26,718.00 from Media Analysis, Inc. on 04/29/2013 (1495329) Complete', 'Account Payable for $3,739.86 from Prospect Political LLC on 04/01/2013 (1482758) Associated', 'Account Payable for $3,739.86 from Prospect Political LLC on 04/01/2013 (1482758) Complete', 'Account Payable for $3,797.17 from Prospect Political LLC on 03/07/2013 (1472830) Complete', 'Account Payable for $1,375.00 from QSL Printing on 11/01/2013 (1719076) Complete', 'Account Payable for $747.00 from Lithtex Printing Solutions on 10/15/2013 (1568951) Complete', 'Loan Received (Non-Exempt) for $2,500.00 from Mary Blake on 10/11/2013 (1567332) Complete', 'Account Payable for $254.00 from The Freedom Shop on 10/17/2013 (1575484) Complete', 'Account Payable for $160.00 from The Daily Astorian on 10/17/2013 (1575480) Complete', 'Account Payable for $2,378.50 from The Daily Astorian on 10/14/2013 (1568347) Complete', 'Account Payable for $846.00 from Sign-One Signcrafters on 08/12/2013 (1552620) Complete'] \n",
      "\n",
      "----------------------------------------\n",
      "CHECK \n",
      "\n",
      "[110.0, nan, 105.0, 106.0, 104.0, 101.0, 1125.0, 1123.0, 1122.0, 1124.0, 1113.0, 1114.0, 1121.0, 1118.0, 1117.0, 1116.0, 1115.0, 1111.0, 1112.0, 1110.0, 1109.0, 1106.0, 1105.0, 1104.0, 1103.0] \n",
      "\n",
      "----------------------------------------\n",
      "CITY, STATE, ZIP CODE \n",
      "\n",
      "[nan] \n",
      "\n",
      "----------------------------------------\n",
      "COSIGNER OBLIGATIONS \n",
      "\n",
      "[nan] \n",
      "\n",
      "----------------------------------------\n",
      "DESCRIPTION \n",
      "\n",
      "['late filing', nan, 'Reimbursement for Copies', 'Stamps', 'copies and phone lists', 'Flier Copies', 'Phone list', 'Copies', 'Voter Pamphlet Statements', 'Web Site Professional Expenes', 'Refreshments', \"Reimbursement for Coyote's refreshments\", 'Voter list printing and filing', '$143.00 mileage; $2254.57 wages', 'Voter list file printing.', 'Voter list of have voted printing and file billing', \"Stamps and Voter's Pamphlet\", 'Communications and Strategy', 'Website design and development', \"Voter's Pamphlet\", 'Voters Pamphlet', 'PO Box Rent', 'Accrued Earning Payment Added to Account', 'Newspaper Display Advertising 5/17/13', 'Newspaper Display Advertising May 14, 2013'] \n",
      "\n",
      "----------------------------------------\n",
      "DUE DATE \n",
      "\n",
      "['05/02/2014 11:59:00 PM', '04/04/2014 11:59:00 PM', '12/12/2013 11:59:00 PM', '11/08/2013 11:59:00 PM', '10/31/2013 11:59:00 PM', '11/20/2013 11:59:00 PM', '10/28/2013 11:59:00 PM', '10/24/2013 11:59:00 PM', '10/23/2013 11:59:00 PM', '10/01/2013 11:59:00 PM', '10/07/2013 11:59:00 PM', '10/04/2013 11:59:00 PM', '10/03/2013 11:59:00 PM', '09/23/2013 11:59:00 PM', '01/06/2014 11:59:00 PM', '12/23/2013 11:59:00 PM', '12/11/2013 11:59:00 PM', '11/22/2013 11:59:00 PM', '11/07/2013 11:59:00 PM', '11/06/2013 11:59:00 PM', '11/04/2013 11:59:00 PM', '10/29/2013 11:59:00 PM', '10/25/2013 11:59:00 PM', '10/21/2013 11:59:00 PM', '10/18/2013 11:59:00 PM'] \n",
      "\n",
      "----------------------------------------\n",
      "EMPLOYER \n",
      "\n",
      "[nan] \n",
      "\n",
      "----------------------------------------\n",
      "EMPLOYER CITY, STATE \n",
      "\n",
      "[nan] \n",
      "\n",
      "----------------------------------------\n",
      "EMPLOYER NAME \n",
      "\n",
      "[nan, 'Not Employed', 'Mt Hood Medical Center Gresham OR', 'Self Employed', 'Hillsboro School District Hillsboro OR', 'Grants Pass School District No. 7 Grants Pass OR', 'Rogue Waste Systems Central Point OR', 'Oregon State University St. Helens OR', 'Oregon Aero Scappoose OR', 'The Commercial Agency Beaverton OR', 'CDI Hillsboro OR', \"Laborers' Local 483 Portland OR\", 'Oregon House Democrats Salem OR', 'Oregon AFSCME Portland OR', 'Beaverton School District Beaverton OR', 'U.S. Department of the Interior Sacramento CA', 'Accord Mediation Palm Desert CA', 'Umatilla County Pendleton OR', 'Umatilla County Hermiston OR', 'Morgan Stanley Medford OR', 'Gresham Fire & Emergency Services Gresham OR', 'Howard S. Wright Portland OR', 'PeaceHealth Vancouver WA', 'Portland State University Portland OR', 'State of Oregon Salem OR'] \n",
      "\n",
      "----------------------------------------\n",
      "EXAM LETTER DATE \n",
      "\n",
      "['04/30/2014', nan, '11/01/2013', '11/18/2013', '11/04/2013', '11/06/2013', '10/30/2013', '09/25/2013', '12/12/2013', '12/03/2013', '11/15/2013', '10/21/2013', '10/14/2013', '10/15/2013', '10/04/2013', '09/20/2013', '09/17/2013', '09/12/2013', '10/15/2014', '05/20/2013', '05/10/2013', '05/08/2013', '05/03/2013', '05/06/2013', '04/30/2013'] \n",
      "\n",
      "----------------------------------------\n",
      "FILED DATE \n",
      "\n",
      "['04/02/2014 09:37:03 PM', '03/05/2014 01:49:52 PM', '11/17/2013 07:58:26 PM', '11/01/2013 03:32:02 PM', '11/17/2013 07:48:09 PM', '10/24/2013 01:35:55 PM', '11/01/2013 03:15:22 PM', '11/01/2013 03:25:11 PM', '11/05/2013 07:55:41 AM', '11/01/2013 03:35:58 PM', '10/24/2013 01:40:50 PM', '11/01/2013 03:30:35 PM', '10/24/2013 01:32:10 PM', '11/01/2013 03:19:52 PM', '11/01/2013 03:23:06 PM', '10/24/2013 01:29:45 PM', '09/21/2013 03:34:52 PM', '09/21/2013 03:05:02 PM', '10/24/2013 01:23:16 PM', '09/21/2013 02:51:15 PM', '10/24/2013 01:15:52 PM', '12/10/2013 12:13:04 PM', '12/01/2013 12:46:00 PM', '11/11/2013 11:20:55 AM', '11/11/2013 11:24:24 AM'] \n",
      "\n",
      "----------------------------------------\n",
      "FILER/COMMITTEE NAME \n",
      "\n",
      "[nan] \n",
      "\n",
      "----------------------------------------\n",
      "IN-KIND/INDEPENDENT EXPENDITURES \n",
      "\n",
      "[nan, 'In-Kind Expenditure - Friends of Andrea Valderrama - $125.95', 'In-Kind Expenditure - mike taylor school board - $133.33, In-Kind Expenditure - Champions for Children - $133.33, In-Kind Expenditure - Dylan Hydes for School Board - $133.33', 'In-Kind Expenditure - Dylan Hydes for School Board - $133.33, In-Kind Expenditure - Champions for Children - $133.33, In-Kind Expenditure - mike taylor school board - $133.33', 'In-Kind Expenditure - Julie Kremers - $553.75, In-Kind Expenditure - Danny Stoddard - $553.75, In-Kind Expenditure - Renee Menkens - $553.75, In-Kind Expenditure - Holly Hall Stamper For SWOCC (16294) - $553.75', 'In-Kind Expenditure - Danny Stoddard - $1,340.14, In-Kind Expenditure - Holly Hall Stamper For SWOCC (16294) - $1,340.14, In-Kind Expenditure - Julie Kremers - $1,340.14, In-Kind Expenditure - Renee Menkens - $1,340.14', 'In-Kind Expenditure - Holly Hall Stamper For SWOCC (16294) - $325.00, In-Kind Expenditure - Julie Kremers - $325.00, In-Kind Expenditure - Danny Stoddard - $325.00, In-Kind Expenditure - Renee Menkens - $325.00', 'In-Kind Expenditure - Friends of Mark Garton (17485) - $100.00', 'In-Kind Expenditure - Friends of Mark Garton (17485) - $975.00', 'In-Kind Expenditure - Friends of Mark Garton (17485) - $500.00', 'In-Kind Expenditure - Friends of Mark Garton (17485) - $195.00', 'In-Kind Expenditure - Friends of Mark Garton (17485) - $685.94', 'In-Kind Expenditure - Friends of Mark Garton (17485) - $125.00', 'In-Kind Expenditure - Friends of Mark Garton (17485) - $525.00', 'In-Kind Expenditure - Friends of Mark Garton (17485) - $388.67', 'In-Kind Expenditure - Friends of Mark Garton (17485) - $492.89', 'In-Kind Expenditure - office supplies and chair/table rental - $106.30', 'Independent Expenditure - Linn County Democratic Central Committee - $765.01', 'In-Kind Expenditure - Trotter for CFD1 (18591) - $33.75, In-Kind Expenditure - Cross4ClackamasFire (16266) - $33.75', 'In-Kind Expenditure - Trotter for CFD1 (18591) - $118.27, In-Kind Expenditure - Cross4ClackamasFire (16266) - $118.27', 'In-Kind Expenditure - Cross4ClackamasFire (16266) - $1,000.00, In-Kind Expenditure - Trotter for CFD1 (18591) - $1,000.00', 'In-Kind Expenditure - Donald Trotter - $48.62, In-Kind Expenditure - Jay Cross - $48.63', 'In-Kind Expenditure - Donald Trotter - $1,340.00, In-Kind Expenditure - Jay Cross - $1,340.00', 'In-Kind Expenditure - Jay Cross - $2,700.00, In-Kind Expenditure - Donald Trotter - $2,700.00', 'Independent Expenditure in Support - Shemia Fagan - $180.00'] \n",
      "\n",
      "----------------------------------------\n",
      "INTEREST RATE \n",
      "\n",
      "[nan, '0', '0%', '0.00', '0.0%', '408.20', '0.', '4.', '113.99', '500.00', '1000.00', '40000.00', '0.00%', '4%', 'none', 'non', '0.0', '1%', '2.00', '.0', 'zero', '7 percent', '104500.00', '4105.00', '3105.00'] \n",
      "\n",
      "----------------------------------------\n",
      "NAME \n",
      "\n",
      "['Oregon Secretary of State', 'Miscellaneous Cash Expenditures $100 and under', 'Marnie Freeman', 'Marnie Conti', 'Miscellaneous Cash Contributions $100 and under', \"Charles O'Neil\", 'Robert Lawrence', 'Gayla Iwata-Reuyl', 'Corbett Main PO', 'Oregon Education Association', 'FedEx', 'Labels & Lists', 'Corbett Education Association', 'Multnomah County Elections', 'Stand for Children, Inc.', 'Virginia Watson', 'Miklosch Sander', 'Facebook, Inc.', 'Kim Strelchun', \"Coyote's Bar and Grill\", 'Washington County Election', 'Morel Ink', 'Kaiser Permanente Financial services', 'Peter Lalic', 'Working Families for Bruce Starr/2752'] \n",
      "\n",
      "----------------------------------------\n",
      "OCCUPATION \n",
      "\n",
      "[nan, 'Speech Pathologist', 'IT Consultant', 'Photographer', 'CEO', 'Accountant', 'Superintendent', 'Doctor', 'Coml Real Estate', 'Director', 'Attorney', 'Landlord', 'Agricultural Extension Agent', 'Developer and Logger', 'IT Manager', 'Credit Manager', 'Soccer leader', 'Tech Lead', 'Government Liaison', 'Outreach Director', 'Political Coordinator', 'Independent Contractor of Legal Support Services', 'Educator', 'Retired School Administrator', 'Chief, Water Rights and Acreage Limitation Branch'] \n",
      "\n",
      "----------------------------------------\n",
      "OCCUPATION LETTER DATE \n",
      "\n",
      "[nan, '04/18/2013', '04/08/2013', '04/01/2014', '04/25/2013', '04/24/2013', '06/10/2013', '08/21/2013', '06/03/2013', '05/12/2013', '04/14/2013', '03/25/2013', '09/05/2016', '08/25/2016', '04/19/2016', '05/16/2013', '05/10/2013', '05/06/2013', '04/23/2013', '04/19/2013', '04/15/2013', '04/09/2013', '03/19/2013', '03/05/2013', '05/09/2013'] \n",
      "\n",
      "----------------------------------------\n",
      "PAYER OF PERSONAL EXPENDITURE \n",
      "\n",
      "[nan, 'Marnie Conti', 'Marnie Freeman', 'Robert Lawrence', 'Kim Strelchun', 'Michael Clarke', 'Brian Rosenthal', 'Gregory Cody', 'Aaron Cody', 'Angela Dilkes Perry', 'Edward Goehring', 'Chris Wig', 'Greg Evans', 'Diego Hernandez', 'Yasmin Ibarra', 'Sarah Howell', 'Michael Taylor', 'Ken Humberston', 'Jerry Jones', 'Rebecca Lantz', 'David Matheson', 'Julie Miller', 'Aaron Brown', 'Stacey Dycus', 'Prospect Political Llc'] \n",
      "\n",
      "----------------------------------------\n",
      "PAYMENT METHOD \n",
      "\n",
      "['Check', nan, 'Electronic Funds Transfer', 'Debit Card', 'Credit Card', 'Electronic Check', 'Cash'] \n",
      "\n",
      "----------------------------------------\n",
      "PROCESS STATUS \n",
      "\n",
      "['Complete', 'Insufficient/Statutory', 'Insufficient/General', 'Filed', nan] \n",
      "\n",
      "----------------------------------------\n",
      "PURPOSE \n",
      "\n",
      "['General Operational Expenses (need description)', nan, 'Reimbursement for Personal Expenditures', 'Postage', 'Wages, Salaries, Benefits', 'Preparation and Production of Advertising', 'Other Advertising (yard signs, buttons, etc.)', 'Travel Expenses (need description); Wages, Salaries, Benefits', 'Literature, Brochures, Printing', 'Surveys and Polls', 'Newspaper and Other Periodical Advertising', 'Broadcast Advertising (radio, tv)', 'Management Services', 'Fundraising Event Expenses', 'Online and Social Media Advertising', 'Cash Contribution', 'Literature, Brochures, Printing; Postage', 'Travel Expenses (need description)', 'General Operational Expenses (need description); Management Services', 'General Operational Expenses (need description); Management Services; Postage', 'Management Services; Postage', 'General Operational Expenses (need description); Literature, Brochures, Printing; Postage', 'General Operational Expenses (need description); Postage', 'Other Advertising (yard signs, buttons, etc.); Postage', 'Fundraising Event Expenses; General Operational Expenses (need description)'] \n",
      "\n",
      "----------------------------------------\n",
      "REPAYMENT SCHEDULE \n",
      "\n",
      "[nan, 'Pay back when funds are available', 'When funds are available', 'as funds are available', 'On demand', 'When Funds available', 'when funds become available', 'if money available at end of campaign', 'None Established', 'If funds available', 'When Available', '1 year', 'when funds are available', 'As funds are available', 'repaid if funds available', 'When cash received', 'when funds available', 'Demand', 'None', 'Payable when funds available', 'As funds available', '-12/31/2011', 'When funds available', '60 days', '180 days'] \n",
      "\n",
      "----------------------------------------\n",
      "TRANSACTION AMOUNT \n",
      "\n",
      "[nan] \n",
      "\n",
      "----------------------------------------\n",
      "TRANSACTION DATE \n",
      "\n",
      "['04/02/2014', '03/05/2014', '11/12/2013', '11/01/2013', '10/24/2013', '10/21/2013', '10/17/2013', '10/16/2013', '09/24/2013', '09/23/2013', '09/18/2013', '09/12/2013', '09/06/2013', '09/05/2013', '09/04/2013', '09/03/2013', '08/22/2013', '12/06/2013', '11/23/2013', '11/11/2013', '10/31/2013', '10/30/2013', '10/28/2013', '10/22/2013', '10/20/2013'] \n",
      "\n",
      "----------------------------------------\n",
      "TRANSACTION FILED DATE \n",
      "\n",
      "[nan] \n",
      "\n",
      "----------------------------------------\n",
      "TRANSACTION ID \n",
      "\n",
      "[1685487, 1665281, 1588382, 1580873, 1581450, 1576022, 1580855, 1580866, 1581933, 1580874, 1576023, 1580868, 1576019, 1580861, 1580865, 1576017, 1555079, 1555075, 1555078, 1555054, 1576013, 1555053, 1555052, 1555035, 1576012] \n",
      "\n",
      "----------------------------------------\n",
      "TRANSACTION ID : \n",
      "\n",
      "[nan] \n",
      "\n",
      "----------------------------------------\n",
      "TRANSACTION PURPOSE \n",
      "\n",
      "[nan] \n",
      "\n",
      "----------------------------------------\n",
      "TRANSACTION SUB TYPE \n",
      "\n",
      "['Cash Expenditure', 'Cash Contribution', 'Personal Expenditure for Reimbursement', 'In-Kind Contribution', 'Interest/Investment Income', 'In-Kind/Forgiven Personal Expenditures', 'Loan Payment (Non-Exempt)', 'Loan Received (Non-Exempt)', 'Account Payable', 'Miscellaneous Other Receipt', 'Miscellaneous Other Disbursement', 'Cash Balance Adjustment', 'Refunds and Rebates', 'Lost or Returned Check', 'Return or Refund of Contribution', 'Pledge of Cash', 'Items Sold at Fair Market Value', 'Loan Forgiven (Non-Exempt)', 'Miscellaneous Account Receivable', 'Personal Expenditure Balance Adjustment', 'Account Payable Rescinded', 'In-Kind/Forgiven Account Payable', 'Expenditure Made by an Agent', 'Loan Payment (Exempt)', 'Loan Received (Exempt)', 'Uncollectible Pledge of Cash', 'Pledge of In-Kind', 'Unexpended Agent Balance', nan, 'Nonpartisan Activity', 'Pledge of Loan'] \n",
      "\n",
      "----------------------------------------\n",
      "TRANSACTION SUBTYPE \n",
      "\n",
      "[nan] \n",
      "\n",
      "----------------------------------------\n",
      "TRANSACTION TYPE \n",
      "\n",
      "['Expenditure', 'Contribution', 'Other Receipt', 'Other Disbursement', 'Other', 'Other Account Receivable', nan] \n",
      "\n",
      "----------------------------------------\n",
      "TYPE \n",
      "\n",
      "[nan] \n",
      "\n",
      "========================================\n",
      "Columns with many unique values:\n",
      "\n",
      "['Address', 'Aggregate', 'Amount', 'Associations', 'Check', 'Description', 'Due Date', 'Employer Name', 'Exam Letter Date', 'Filed Date', 'In-Kind/Independent Expenditures', 'Interest Rate', 'Name', 'Occupation', 'Occupation Letter Date', 'Payer of Personal Expenditure', 'Purpose', 'Repayment Schedule', 'Transaction Date', 'Transaction ID']\n"
     ]
    }
   ],
   "source": [
    "inspect_cols(dfs['trans_details'])"
   ]
  },
  {
   "cell_type": "markdown",
   "metadata": {},
   "source": [
    "### Check Dates"
   ]
  },
  {
   "cell_type": "code",
   "execution_count": 19,
   "metadata": {
    "collapsed": false
   },
   "outputs": [
    {
     "name": "stdout",
     "output_type": "stream",
     "text": [
      "----------------------------------------\n",
      "DUE DATE \n",
      "\n",
      "19119    03/13/2023 11:59:00 PM\n",
      "Name: Due Date, dtype: object \n",
      "\n",
      "----------------------------------------\n",
      "EXAM LETTER DATE \n",
      "\n",
      "Series([], Name: Exam Letter Date, dtype: object) \n",
      "\n",
      "----------------------------------------\n",
      "FILED DATE \n",
      "\n",
      "Series([], Name: Filed Date, dtype: object) \n",
      "\n",
      "----------------------------------------\n",
      "OCCUPATION LETTER DATE \n",
      "\n",
      "Series([], Name: Occupation Letter Date, dtype: object) \n",
      "\n",
      "----------------------------------------\n",
      "TRANSACTION DATE \n",
      "\n",
      "17042    02/23/0007\n",
      "54035    01/14/0029\n",
      "82622    01/05/0007\n",
      "93749    12/08/0006\n",
      "68927    05/03/0007\n",
      "81289    11/03/0209\n",
      "81290    02/23/0009\n",
      "81291    03/14/0008\n",
      "81292    02/19/0007\n",
      "11087    06/10/0007\n",
      "19119    02/11/2023\n",
      "21287    06/25/0207\n",
      "Name: Transaction Date, dtype: object \n",
      "\n",
      "----------------------------------------\n",
      "TRANSACTION FILED DATE \n",
      "\n",
      "Series([], Name: Transaction Filed Date, dtype: float64) \n",
      "\n"
     ]
    }
   ],
   "source": [
    "date_pattern = '(0[0-9]|1[0-2])/([0-2][0-9]|3[01])/(19\\d{2}|200[0-9]|201[0-8])'\n",
    "c = '\\w*\\s*Date'\n",
    "check_values(dfs['trans_details'], c, date_pattern)"
   ]
  },
  {
   "cell_type": "markdown",
   "metadata": {},
   "source": [
    "Transaction date of 2023?"
   ]
  },
  {
   "cell_type": "markdown",
   "metadata": {},
   "source": [
    "### Check Trans ID"
   ]
  },
  {
   "cell_type": "code",
   "execution_count": 20,
   "metadata": {
    "collapsed": false
   },
   "outputs": [
    {
     "name": "stdout",
     "output_type": "stream",
     "text": [
      "----------------------------------------\n",
      "TRANSACTION ID \n",
      "\n",
      "Series([], Name: Transaction ID, dtype: object) \n",
      "\n"
     ]
    }
   ],
   "source": [
    "id_pattern = '\\d+'\n",
    "c = '\\w*\\s*ID'\n",
    "check_values(dfs['trans_details'], c, id_pattern)"
   ]
  },
  {
   "cell_type": "markdown",
   "metadata": {},
   "source": [
    "### Check Aggregate and Amount"
   ]
  },
  {
   "cell_type": "code",
   "execution_count": 21,
   "metadata": {
    "collapsed": false
   },
   "outputs": [
    {
     "name": "stdout",
     "output_type": "stream",
     "text": [
      "----------------------------------------\n",
      "AGGREGATE \n",
      "\n",
      "1           $648.00\n",
      "2           $250.00\n",
      "4           $200.00\n",
      "7           $400.00\n",
      "19          $595.00\n",
      "20          $415.00\n",
      "22          $210.00\n",
      "27        $1,000.00\n",
      "28          $500.00\n",
      "34          $150.00\n",
      "43          $300.00\n",
      "44          $550.00\n",
      "45        $3,000.00\n",
      "47          $125.00\n",
      "53        $4,720.51\n",
      "55        $4,500.00\n",
      "57       $24,991.61\n",
      "59        $2,000.00\n",
      "62       $18,991.61\n",
      "64       $10,412.09\n",
      "66        $7,275.93\n",
      "67        $2,994.08\n",
      "70       $15,000.00\n",
      "71        $1,500.00\n",
      "72        $5,672.81\n",
      "73        $5,535.31\n",
      "80          $272.27\n",
      "87          $350.00\n",
      "88          $179.71\n",
      "90          $750.00\n",
      "            ...    \n",
      "99554       $846.30\n",
      "99555       $786.30\n",
      "99557       $686.25\n",
      "99559       $586.25\n",
      "99568       $848.75\n",
      "99580       $611.50\n",
      "99583     $4,369.75\n",
      "99584     $4,732.00\n",
      "99585       $506.50\n",
      "99589       $401.50\n",
      "99596    $10,950.67\n",
      "99597    $11,975.47\n",
      "99598    $12,250.47\n",
      "99599    $12,389.56\n",
      "99601     $9,096.87\n",
      "99736       $224.16\n",
      "99898       $565.72\n",
      "99901       $517.70\n",
      "99902       $635.52\n",
      "99906       $470.72\n",
      "99907       $425.50\n",
      "99908       $469.68\n",
      "99911       $377.48\n",
      "99912       $384.32\n",
      "99916       $293.76\n",
      "99917       $305.46\n",
      "99920       $201.12\n",
      "99921       $253.60\n",
      "99924       $201.74\n",
      "99927       $149.88\n",
      "Name: Aggregate, Length: 32658, dtype: object \n",
      "\n",
      "----------------------------------------\n",
      "AMOUNT \n",
      "\n",
      "0          $200.00\n",
      "1           $53.00\n",
      "2          $250.00\n",
      "7          $400.00\n",
      "19         $180.00\n",
      "20         $205.00\n",
      "22         $210.00\n",
      "23          $30.00\n",
      "24          $90.00\n",
      "25          $20.00\n",
      "26         $275.00\n",
      "27       $1,000.00\n",
      "28         $500.00\n",
      "32         $100.00\n",
      "34         $150.00\n",
      "36         $300.00\n",
      "44         $550.00\n",
      "45       $3,000.00\n",
      "47         $125.00\n",
      "50          $82.75\n",
      "52         $320.00\n",
      "53         $220.51\n",
      "54           $3.95\n",
      "55       $4,500.00\n",
      "57       $6,000.00\n",
      "59       $2,000.00\n",
      "60           $5.93\n",
      "62       $4,193.52\n",
      "63       $4,386.00\n",
      "64       $3,136.16\n",
      "           ...    \n",
      "99807       $70.69\n",
      "99809      $578.85\n",
      "99828      $113.94\n",
      "99835      $193.11\n",
      "99842      $902.88\n",
      "99847      $611.33\n",
      "99849      $357.60\n",
      "99850      $112.17\n",
      "99855      $203.85\n",
      "99859    $1,194.21\n",
      "99886       $59.61\n",
      "99889       $16.64\n",
      "99891      $229.62\n",
      "99899      $457.70\n",
      "99905      $461.55\n",
      "99909      $208.85\n",
      "99911       $72.02\n",
      "99912       $90.56\n",
      "99914      $161.55\n",
      "99916       $92.64\n",
      "99917       $51.86\n",
      "99920       $94.72\n",
      "99925      $126.27\n",
      "99948       $54.85\n",
      "99951      $303.59\n",
      "99956      $744.41\n",
      "99958      $989.84\n",
      "99966    $1,255.35\n",
      "99967      $358.34\n",
      "99978      $282.45\n",
      "Name: Amount, Length: 24637, dtype: object \n",
      "\n",
      "----------------------------------------\n",
      "TRANSACTION AMOUNT \n",
      "\n",
      "Series([], Name: Transaction Amount, dtype: float64) \n",
      "\n"
     ]
    }
   ],
   "source": [
    "float_pattern = '[-]{0,1}\\d+[.]{0,1}\\d{0,2}'\n",
    "c = '(Agg\\w*|Amount)'\n",
    "check_values(dfs['trans_details'], c, float_pattern)"
   ]
  },
  {
   "cell_type": "markdown",
   "metadata": {},
   "source": [
    "### Clean Trans Detail"
   ]
  },
  {
   "cell_type": "markdown",
   "metadata": {},
   "source": [
    "#### Dates"
   ]
  },
  {
   "cell_type": "code",
   "execution_count": 22,
   "metadata": {
    "collapsed": false
   },
   "outputs": [],
   "source": [
    "def fix_date(d):\n",
    "    if d != d:\n",
    "        return None\n",
    "    x = d[-4:]\n",
    "    patterns = {\n",
    "        '(02|91)\\d{2}': x[:2][::-1]+x[2:],\n",
    "        '002\\d': x[2] + x[:2] + x[3],\n",
    "        '000\\d': '200' + x[3],\n",
    "        }\n",
    "    for p in patterns:\n",
    "        if re.match(p, x):\n",
    "            return d[:-4] + patterns[p]\n",
    "    return d\n",
    "\n",
    "dfs['trans_details'].loc[:, 'Transaction Date'] = \\\n",
    "    dfs['trans_details']['Transaction Date'].apply(lambda x: fix_date(x))"
   ]
  },
  {
   "cell_type": "code",
   "execution_count": 23,
   "metadata": {
    "collapsed": false
   },
   "outputs": [
    {
     "name": "stdout",
     "output_type": "stream",
     "text": [
      "----------------------------------------\n",
      "DUE DATE \n",
      "\n",
      "19119    03/13/2023 11:59:00 PM\n",
      "Name: Due Date, dtype: object \n",
      "\n",
      "----------------------------------------\n",
      "EXAM LETTER DATE \n",
      "\n",
      "Series([], Name: Exam Letter Date, dtype: object) \n",
      "\n",
      "----------------------------------------\n",
      "FILED DATE \n",
      "\n",
      "Series([], Name: Filed Date, dtype: object) \n",
      "\n",
      "----------------------------------------\n",
      "OCCUPATION LETTER DATE \n",
      "\n",
      "Series([], Name: Occupation Letter Date, dtype: object) \n",
      "\n",
      "----------------------------------------\n",
      "TRANSACTION DATE \n",
      "\n",
      "19119    02/11/2023\n",
      "Name: Transaction Date, dtype: object \n",
      "\n",
      "----------------------------------------\n",
      "TRANSACTION FILED DATE \n",
      "\n",
      "Series([], Name: Transaction Filed Date, dtype: float64) \n",
      "\n"
     ]
    }
   ],
   "source": [
    "date_pattern = '(0[0-9]|1[0-2])/([0-2][0-9]|3[01])/(19\\d{2}|200[0-9]|201[0-8])'\n",
    "c = '\\w*\\s*Date'\n",
    "check_values(dfs['trans_details'], c, date_pattern)"
   ]
  },
  {
   "cell_type": "markdown",
   "metadata": {},
   "source": [
    "#### Agg & Amount"
   ]
  },
  {
   "cell_type": "code",
   "execution_count": 34,
   "metadata": {
    "collapsed": false
   },
   "outputs": [],
   "source": [
    "def tofloat(x):\n",
    "    try:\n",
    "        if type(x) == float:\n",
    "            return x\n",
    "        if x.startswith('$'):\n",
    "            x = x.strip('$').replace(',', '')\n",
    "        return float(x)\n",
    "    except:\n",
    "        return None\n",
    "for c in ['Aggregate','Amount']:\n",
    "    dfs['trans_details'].loc[:, c] = dfs['trans_details'].loc[:, c].apply(lambda x: tofloat(x))"
   ]
  },
  {
   "cell_type": "code",
   "execution_count": 36,
   "metadata": {
    "collapsed": false
   },
   "outputs": [
    {
     "name": "stdout",
     "output_type": "stream",
     "text": [
      "----------------------------------------\n",
      "AGGREGATE \n",
      "\n",
      "Series([], Name: Aggregate, dtype: float64) \n",
      "\n",
      "----------------------------------------\n",
      "AMOUNT \n",
      "\n",
      "Series([], Name: Amount, dtype: float64) \n",
      "\n",
      "----------------------------------------\n",
      "TRANSACTION AMOUNT \n",
      "\n",
      "Series([], Name: Transaction Amount, dtype: float64) \n",
      "\n"
     ]
    }
   ],
   "source": [
    "float_pattern = '[-]{0,1}\\d+[.]{0,1}\\d{0,2}'\n",
    "c = '(Agg\\w*|Amount)'\n",
    "check_values(dfs['trans_details'], c, float_pattern)"
   ]
  },
  {
   "cell_type": "code",
   "execution_count": 38,
   "metadata": {
    "collapsed": true
   },
   "outputs": [],
   "source": [
    "dfs['trans_details'].to_csv('trans_details_cleaned.csv', index=False)"
   ]
  },
  {
   "cell_type": "markdown",
   "metadata": {},
   "source": [
    "## Run Scrapers"
   ]
  },
  {
   "cell_type": "code",
   "execution_count": 39,
   "metadata": {
    "collapsed": false
   },
   "outputs": [
    {
     "data": {
      "text/plain": [
       "'/home/michaelcrown/Projects/HackOregon/elections-2018'"
      ]
     },
     "execution_count": 39,
     "metadata": {},
     "output_type": "execute_result"
    }
   ],
   "source": [
    "os.chdir('elections-2018')\n",
    "os.getcwd()"
   ]
  },
  {
   "cell_type": "code",
   "execution_count": 32,
   "metadata": {
    "collapsed": true
   },
   "outputs": [],
   "source": [
    "def parse_ostar(cid, start, stop):\n",
    "    print('Parsing cid {}'.format(cid))\n",
    "    i = 1\n",
    "    while True:\n",
    "        args = ' '.join([\n",
    "            str(cid), \n",
    "            start.lstrip('0'), \n",
    "            stop.lstrip('0'), \n",
    "            str(i),\n",
    "            ])\n",
    "        print(start, stop)\n",
    "        pypath = os.path.join(os.getcwd(), 'scrape_files/transactions_scrape_date.py')\n",
    "        cmd = 'python {} {}'.format(pypath, args)\n",
    "        os.system(cmd)\n",
    "        file = 'transactions_gaps{}_{}.csv'.format(cid, i)\n",
    "        dfpath = os.path.join(os.getcwd(), file)\n",
    "        df = pd.read_csv(dfpath, parse_dates=['Tran Date'])\n",
    "        if len(df) < 5000:\n",
    "            break\n",
    "        stop = df['Tran Date'].min().date().strftime('%m/%d/%Y')\n",
    "        i += 1"
   ]
  },
  {
   "cell_type": "code",
   "execution_count": null,
   "metadata": {
    "collapsed": true
   },
   "outputs": [],
   "source": [
    "parser_args = [\n",
    "#     (4572, '01/1/1900', '12/7/17'),\n",
    "    (4572, '01/1/1900', '09/28/2016'),\n",
    "    (3396, '10/15/11', '9/15/14'),\n",
    "    (191, '5/27/2011', '4/28/13'),\n",
    "    (39, '12/23/2009', '10/25/16'),\n",
    "    ]\n",
    "\n",
    "for args in parser_args:\n",
    "    parse_ostar(*args)"
   ]
  }
 ],
 "metadata": {
  "kernelspec": {
   "display_name": "Python [Root]",
   "language": "python",
   "name": "Python [Root]"
  },
  "language_info": {
   "codemirror_mode": {
    "name": "ipython",
    "version": 3
   },
   "file_extension": ".py",
   "mimetype": "text/x-python",
   "name": "python",
   "nbconvert_exporter": "python",
   "pygments_lexer": "ipython3",
   "version": "3.5.4"
  }
 },
 "nbformat": 4,
 "nbformat_minor": 2
}
