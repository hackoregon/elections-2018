{
 "cells": [
  {
   "cell_type": "markdown",
   "metadata": {
    "deletable": true,
    "editable": true
   },
   "source": [
    "# Cleaning of All Files"
   ]
  },
  {
   "cell_type": "code",
   "execution_count": 1,
   "metadata": {
    "collapsed": true,
    "deletable": true,
    "editable": true
   },
   "outputs": [],
   "source": [
    "import io\n",
    "import json\n",
    "import re\n",
    "import os\n",
    "\n",
    "import pandas as pd\n",
    "from pandas import DataFrame as DF, Series\n",
    "import numpy as np\n",
    "\n",
    "import requests\n",
    "import missingno as msn\n",
    "import psycopg2 as pg\n",
    "\n",
    "import matplotlib.pyplot as plt\n",
    "%matplotlib inline\n",
    "import seaborn as sns\n",
    "sns.set_style('whitegrid')"
   ]
  },
  {
   "cell_type": "code",
   "execution_count": 2,
   "metadata": {
    "collapsed": false,
    "deletable": true,
    "editable": true
   },
   "outputs": [],
   "source": [
    "PATH = os.path.join(os.getenv('HOME'), 'Projects/HackOregon/elections-2018/scrape_files')"
   ]
  },
  {
   "cell_type": "code",
   "execution_count": 3,
   "metadata": {
    "collapsed": false,
    "deletable": true,
    "editable": true
   },
   "outputs": [],
   "source": [
    "from glob import glob\n",
    "\n",
    "os.chdir(PATH)\n",
    "files = [f for f in glob('*.csv')]\n",
    "os.chdir('../../')"
   ]
  },
  {
   "cell_type": "code",
   "execution_count": 4,
   "metadata": {
    "collapsed": false,
    "deletable": true,
    "editable": true,
    "scrolled": true
   },
   "outputs": [
    {
     "data": {
      "text/plain": [
       "['all_transactions1152.csv',\n",
       " 'election_activity_first_batch.csv',\n",
       " 'transaction_detail852.csv',\n",
       " 'transactions_first_batch.csv',\n",
       " 'all_transactions8.csv',\n",
       " 'transaction_detail8.csv',\n",
       " 'committee_history_first_batch.csv',\n",
       " 'transaction_detail9.csv',\n",
       " 'transaction_detail41.csv',\n",
       " 'transaction_detail_missing.csv',\n",
       " 'all_transactions9.csv',\n",
       " 'transaction_detail80.csv',\n",
       " 'transaction_detail115.csv',\n",
       " 'transactions_gaps15192_1.csv',\n",
       " 'transaction_detail42.csv',\n",
       " 'all_transactions12.csv',\n",
       " 'all_transactions852.csv',\n",
       " 'transaction_detail19.csv',\n",
       " 'transaction_detail25.csv',\n",
       " 'transactions_gaps1524_1.csv',\n",
       " 'transactions_gaps4572_1.csv',\n",
       " 'transaction_detail24.csv',\n",
       " 'transaction_detail18.csv',\n",
       " 'all_transactions13.csv',\n",
       " 'all_transactions11.csv',\n",
       " 'transaction_detail_first_batch.csv',\n",
       " 'transactions_gaps4572_2.csv',\n",
       " 'transactions_gaps4572_3.csv',\n",
       " 'transactions_gaps2690_1.csv',\n",
       " 'all_transactions10.csv',\n",
       " 'transactions_gaps33_8.csv',\n",
       " 'all_transactions14.csv',\n",
       " 'all_transactions115.csv',\n",
       " 'transaction_detail23.csv',\n",
       " 'transactions_gaps4572_7.csv',\n",
       " 'trans_detail_first_batch_clean.csv',\n",
       " 'transactions_gaps4572_6.csv',\n",
       " 'transaction_detail22.csv',\n",
       " 'transaction_detail1152.csv',\n",
       " 'all_transactions15.csv',\n",
       " 'transactions_gaps33_9.csv',\n",
       " 'all_transactions17.csv',\n",
       " 'transaction_detail20.csv',\n",
       " 'transactions_gaps4572_4.csv',\n",
       " 'transactions_gaps4572_5.csv',\n",
       " 'transaction_detail21.csv',\n",
       " 'all_transactions16.csv',\n",
       " 'transactions_gaps33_7.csv',\n",
       " 'transaction_detail10.csv',\n",
       " 'transactions_gaps4572_8.csv',\n",
       " 'transactions_gaps4572_9.csv',\n",
       " 'transactions_gaps275_1.csv',\n",
       " 'transactions_gaps54_1.csv',\n",
       " 'transaction_detail11.csv',\n",
       " 'transactions_gaps33_6.csv',\n",
       " 'transactions_gaps33_4.csv',\n",
       " 'all_transactions24.csv',\n",
       " 'all_transactions18.csv',\n",
       " 'transaction_detail13.csv',\n",
       " 'transactions_gaps275_3.csv',\n",
       " 'transactions_gaps682_1.csv',\n",
       " 'transactions_gaps275_2.csv',\n",
       " 'transactions_gaps54_2.csv',\n",
       " 'transaction_detail12.csv',\n",
       " 'all_transactions19.csv',\n",
       " 'all_transactions25.csv',\n",
       " 'transactions_gaps33_5.csv',\n",
       " 'transactions_gaps348_3.csv',\n",
       " 'transactions_gaps33_1.csv',\n",
       " 'all_transactions21.csv',\n",
       " 'transaction_detail16.csv',\n",
       " 'statement_of_organization3.csv',\n",
       " 'transaction_detail17.csv',\n",
       " 'transactions_gaps931_1.csv',\n",
       " 'all_transactions20.csv',\n",
       " 'transactions_gaps348_2.csv',\n",
       " 'transactions_gaps135_1.csv',\n",
       " 'all_transactions22.csv',\n",
       " 'transactions_gaps33_2.csv',\n",
       " 'transactions_gaps931_3.csv',\n",
       " 'transaction_detail15.csv',\n",
       " 'transaction_detail195.csv',\n",
       " 'transactions_gaps275_4.csv',\n",
       " 'transaction_detail14.csv',\n",
       " 'election_activity3.csv',\n",
       " 'transactions_gaps931_2.csv',\n",
       " 'transactions_gaps33_3.csv',\n",
       " 'all_transactions23.csv',\n",
       " 'transactions_gaps348_1.csv',\n",
       " 'transactions_gaps33_10.csv',\n",
       " 'transactions_gaps4572_12.csv',\n",
       " 'transactions_gaps4572_13.csv',\n",
       " 'transactions_gaps33_11.csv',\n",
       " 'all_transactions6.csv',\n",
       " 'statement_of_organization_first_batch.csv',\n",
       " 'all_transactions4.csv',\n",
       " 'transactions_gaps4572_11.csv',\n",
       " 'transactions_gaps4572_10.csv',\n",
       " 'transactions_gaps33_12.csv',\n",
       " 'all_transactions5.csv',\n",
       " 'all_transactions85.csv',\n",
       " 'transactions_gaps4572_14.csv',\n",
       " 'committee_history3.csv',\n",
       " 'transaction_detail_second_batch.csv',\n",
       " 'all_transactions195.csv',\n",
       " 'all_transactions_list2.csv',\n",
       " 'all_transactions80.csv',\n",
       " 'transaction_detail3.csv']"
      ]
     },
     "execution_count": 4,
     "metadata": {},
     "output_type": "execute_result"
    }
   ],
   "source": [
    "files"
   ]
  },
  {
   "cell_type": "code",
   "execution_count": 5,
   "metadata": {
    "collapsed": false,
    "deletable": true,
    "editable": true,
    "scrolled": true
   },
   "outputs": [],
   "source": [
    "import warnings\n",
    "from ast import literal_eval\n",
    "\n",
    "map_names = {\n",
    "    'all': 'transactions',\n",
    "    'transactions': 'transactions',\n",
    "    'transaction': 'trans_details',\n",
    "    'statement': 'statement',\n",
    "    'committee': 'comm_history',\n",
    "    'election': 'election_activity',\n",
    "    }\n",
    "dfs = {}\n",
    "with warnings.catch_warnings(record=True) as w:\n",
    "    for i,f in enumerate(files):\n",
    "        head = f.split('_')[0]\n",
    "        if head == 'trans':\n",
    "            continue\n",
    "        else:\n",
    "            head = map_names[head]\n",
    "        df = pd.read_csv('elections-2018/scrape_files/{}'.format(f))\n",
    "        if w:\n",
    "            u = w[-1]\n",
    "            u.message.args[0]\n",
    "            tup = literal_eval(u.message.args[0].strip('Columns ').split(' ')[0])\n",
    "            try:\n",
    "                df = pd.read_csv('elections-2018/scrape_files/{}'.format(f), dtype={k:str for k in tup})\n",
    "            except:\n",
    "                df = pd.read_csv('elections-2018/scrape_files/{}'.format(f), dtype={tup: str})\n",
    "        dfs.setdefault(head, DF([], columns=df.columns))\n",
    "        dfs[head] = dfs[head].append(df, ignore_index=True)"
   ]
  },
  {
   "cell_type": "code",
   "execution_count": 6,
   "metadata": {
    "collapsed": false,
    "deletable": true,
    "editable": true
   },
   "outputs": [
    {
     "data": {
      "text/plain": [
       "['statement',\n",
       " 'trans_details',\n",
       " 'election_activity',\n",
       " 'comm_history',\n",
       " 'transactions']"
      ]
     },
     "execution_count": 6,
     "metadata": {},
     "output_type": "execute_result"
    }
   ],
   "source": [
    "list(dfs)"
   ]
  },
  {
   "cell_type": "markdown",
   "metadata": {
    "deletable": true,
    "editable": true
   },
   "source": [
    "## Routines"
   ]
  },
  {
   "cell_type": "markdown",
   "metadata": {
    "deletable": true,
    "editable": true
   },
   "source": [
    "### Visually Inspect Column Values"
   ]
  },
  {
   "cell_type": "code",
   "execution_count": 7,
   "metadata": {
    "collapsed": false,
    "deletable": true,
    "editable": true
   },
   "outputs": [],
   "source": [
    "def inspect_cols(df):\n",
    "    long_cols = []\n",
    "\n",
    "    def print_message(c, head=False):\n",
    "        print(40*'-')\n",
    "        print(c.upper(), '\\n')\n",
    "        if head:\n",
    "            print(df.loc[:, c].unique()[:25].tolist(), '\\n')\n",
    "        else:\n",
    "            print(df.loc[:, c].unique().tolist(), '\\n')\n",
    "\n",
    "    for c in df:\n",
    "        if df.loc[:, c].nunique() < 100:\n",
    "            print_message(c)\n",
    "        else:\n",
    "            print_message(c, True)\n",
    "            long_cols.append(c)\n",
    "    print(40*'=')\n",
    "    print('Columns with many unique values:\\n')\n",
    "    print(long_cols)"
   ]
  },
  {
   "cell_type": "markdown",
   "metadata": {
    "deletable": true,
    "editable": true
   },
   "source": [
    "### Find Column Values That Mismatch Pattern"
   ]
  },
  {
   "cell_type": "code",
   "execution_count": 8,
   "metadata": {
    "collapsed": false,
    "deletable": true,
    "editable": true
   },
   "outputs": [],
   "source": [
    "def check_values(df, col_pattern, val_pattern):\n",
    "    cols = [c for c in df if re.search(col_pattern, c)]\n",
    "\n",
    "    for c in cols:\n",
    "        mask = df.loc[:, c].dropna() \\\n",
    "            .apply(lambda x: True if not re.match(val_pattern, str(x)) else False)\n",
    "        bad = df.loc[:, c].dropna()[mask].drop_duplicates()\n",
    "        print(40*'-')\n",
    "        print(c.upper(), '\\n')\n",
    "        print(bad, '\\n')"
   ]
  },
  {
   "cell_type": "markdown",
   "metadata": {
    "deletable": true,
    "editable": true
   },
   "source": [
    "## Statement DF"
   ]
  },
  {
   "cell_type": "code",
   "execution_count": 9,
   "metadata": {
    "collapsed": false,
    "deletable": true,
    "editable": true
   },
   "outputs": [
    {
     "name": "stdout",
     "output_type": "stream",
     "text": [
      "<class 'pandas.core.frame.DataFrame'>\n",
      "RangeIndex: 1617 entries, 0 to 1616\n",
      "Data columns (total 26 columns):\n",
      "Candidate Address                  960 non-null object\n",
      "Committee                          0 non-null float64\n",
      "Committee Acronym                  295 non-null object\n",
      "Committee Address                  1596 non-null object\n",
      "Committee Campaign Phone           1384 non-null object\n",
      "Committee Filing Effective From    1596 non-null object\n",
      "Committee Filing Type              1596 non-null object\n",
      "Committee ID                       1596 non-null float64\n",
      "Committee Name                     1596 non-null object\n",
      "Committee PAC Type                 632 non-null object\n",
      "Election/Office                    960 non-null object\n",
      "Email Address                      958 non-null object\n",
      "Employer                           859 non-null object\n",
      "Fax                                150 non-null object\n",
      "Home Phone                         663 non-null object\n",
      "Mailing Address                    960 non-null object\n",
      "Name                               960 non-null object\n",
      "Occupation                         960 non-null object\n",
      "Party Affiliation                  957 non-null object\n",
      "Treasurer Email Address            1595 non-null object\n",
      "Treasurer Fax                      408 non-null object\n",
      "Treasurer Home Phone               969 non-null object\n",
      "Treasurer Mailing Address          1596 non-null object\n",
      "Treasurer Name                     1596 non-null object\n",
      "Treasurer Work Phone               1294 non-null object\n",
      "Work Phone                         724 non-null object\n",
      "dtypes: float64(2), object(24)\n",
      "memory usage: 328.5+ KB\n"
     ]
    }
   ],
   "source": [
    "dfs['statement'].info()"
   ]
  },
  {
   "cell_type": "markdown",
   "metadata": {
    "deletable": true,
    "editable": true
   },
   "source": [
    "### Inspect Columns"
   ]
  },
  {
   "cell_type": "code",
   "execution_count": 10,
   "metadata": {
    "collapsed": false,
    "deletable": true,
    "editable": true
   },
   "outputs": [
    {
     "name": "stdout",
     "output_type": "stream",
     "text": [
      "----------------------------------------\n",
      "CANDIDATE ADDRESS \n",
      "\n",
      "[nan, '1907 NW Mill Pond Road, Portland,           OR      97229         - 7553', '3393 Arlington Avenue, Eugene,           OR      97408', '23695 SW Brittany Ln, Sherwood,           OR      97140', '1003 Terrace Dr, Lake Oswego,           OR      97034', '1163 State St, Salem,           OR      97301', '6771 SW 162nd Drive, Beaverton,           OR      97007         - 4894', '7811 Old Stage Rd, Central Point,           OR      97502', '17915 NW Lonerock Dr, Portland,           OR      97229', '9026 SW 36th Ave, Portland,           OR      97219', '2138 Lois Drive, Roseburg,           OR      97470', '18340 SW Monte Verdi Blvd, Aloha,           OR      97007', '2248 Potter St, Eugene,           OR      97405', '410 Jefferson Street, Oregon City,           OR      97045', '22760 SW 87th Pl., Tualatin,           OR      97062', '660 Morgan Ave, Ontario,           OR      97914', '805 Kingwood Dr NW, Salem,           OR      97304', '3321 SE 20th Ave., Portland,           OR      97202', 'Hwy 26, Seaside,           OR      97138', '17080 Butler Hill Road, Dallas,           OR      97338', '4505 Pinnacle Dr., Medford,           OR      97504', '439 Pyle Drive, Grants Pass,           OR      97527', '71 Dewey St., Ashland,           OR      97520', '6227 SW 18th Dr, Portland,           OR      97239', '1797 SE Bronzewood Ave., Bend,           OR      97702'] \n",
      "\n",
      "----------------------------------------\n",
      "COMMITTEE  \n",
      "\n",
      "[nan] \n",
      "\n",
      "----------------------------------------\n",
      "COMMITTEE ACRONYM \n",
      "\n",
      "['OSC-PAC', 'OFAH', 'OIA PAC', nan, 'PAC', 'PEAPAC', 'PCDCC', 'PAT PAC', 'WFP', 'YCD', 'APP PAC', 'AG-PAC', 'ALLIANCE PAC', 'ACEC OREGON PAC', 'AFSCME', 'AFT-Oregon Candidate PAC', 'Liberty PAC', 'BCDCC', 'BCRCC', 'BC Dems', 'BWV', 'BikePAC', 'BOMA PAC', 'COPAC', 'CAO-PAC'] \n",
      "\n",
      "----------------------------------------\n",
      "COMMITTEE ADDRESS \n",
      "\n",
      "['1821 SE Ankeny Street, Portland,       OR     97214', '2075 Madrona Avenue SE, STE 150, Salem,       OR     97302', '11735 SW Queen Elizabeth Street, #101, King City,       OR     97224', '3321 SE 20th Ave, Portland,       OR     97202', '1125 SE Madison St Ste 206, Portland,       OR     97214     -   3600', '454 Willamette St Ste 219, Eugene,       OR     97401', '784 NW 3rd Ave, Canby,       OR     97013', '3321 SE 20th Avenue, Portland,       OR     97202', '20210 SW Teton Ave, Tualatin,       OR     97062', '1049 6th St. NW, Salem,       OR     97304', '345 NE 8th, Portland,       OR     97232', '4530 SE 67th Ave, Portland,       OR     97206', '1907 NW Mill Pond Road, Portland,       OR     97229     -   7553', '3536 SE 26th Ave, Portland,       OR     97202', '2121 SW Broadway, Suite 111, Portland,       OR     97201', '11080 SW Allen Blvd., Beaverton,       OR     97005', 'PO Box 10086, Eugene,       OR     97440', '333 SE 2nd Ave, Portland,       OR     97214', '637 SW Keck Dr #122, McMinnville,       OR     97128', '1790 Landau Dr, Woodburn,       OR     97071', '23695 SW Brittany Ln, Sherwood,       OR     97140', '1320 Capitol St. NE Suite 200, Salem,       OR     97301', '9450 SW Commerce Circle, Wilsonville,       OR     97070', '494 State St, Suite 230 (not a mailing address), Salem,       OR     97301', '200 SW Market St, Ste 150, Portland,       OR     97201'] \n",
      "\n",
      "----------------------------------------\n",
      "COMMITTEE CAMPAIGN PHONE \n",
      "\n",
      "['(503)238-0442', '(503)378-9066', '(503)620-0258', '(503)295-1851', '(503)283-5094', '(541)516-6059', '(503)263-8337', nan, '(503)691-5700', '(503)831-1586', '(503)774-4302', '(503)292-6841', '(503)236-4949', '(503)235-2305', '(503)603-9009', '(541)687-2320', '(503)841-7161', '(503)857-0944', '(503)560-6725', '(503)381-8362', '(503)399-1701', '(503)682-3363    x307', '(503)224-8684', '(503)292-2348', '(971)888-5665'] \n",
      "\n",
      "----------------------------------------\n",
      "COMMITTEE FILING EFFECTIVE FROM \n",
      "\n",
      "['03/14/2016', '11/01/2017', '03/22/2018', '09/07/2016', '04/02/2018', '01/23/2018', '11/06/2017', '03/12/2018', '02/13/2012', '05/17/2017', '08/29/2017', '02/12/2015', '04/21/2015', '04/04/2012', '03/09/2017', '01/20/2017', '01/24/2011', '07/29/2015', '04/21/2017', '03/17/2014', '03/19/2015', '03/15/2017', '06/28/2017', '03/08/2016', '04/04/2018'] \n",
      "\n",
      "----------------------------------------\n",
      "COMMITTEE FILING TYPE \n",
      "\n",
      "['Amendment', nan, 'Original'] \n",
      "\n",
      "----------------------------------------\n",
      "COMMITTEE ID \n",
      "\n",
      "[252.0, 2069.0, 2793.0, 1579.0, 1869.0, 765.0, 216.0, 167.0, 221.0, 337.0, 260.0, 223.0, 7305.0, 4213.0, 5207.0, 3889.0, 4676.0, 5528.0, 350.0, 4015.0, 12510.0, 3.0, 4.0, 12878.0, 4797.0] \n",
      "\n",
      "----------------------------------------\n",
      "COMMITTEE NAME \n",
      "\n",
      "['Oregon Sierra Club PAC', 'Oregonians for Affordable Housing', 'Oregonians in Action PAC', 'Oregonians to Maintain Community Standards', 'PAC 483', 'Pacific Green Party of Oregon', \"Parent's Education Association P.A.C.\", 'People for Oregon Libraries Political Action Committee', 'Plumbers & Steamfitters PAC', 'Polk County Democratic Central Committee', 'Portland Association of Teachers PAC', 'Portland Metro Fire Fighters PAC', 'Bobbie Regan for Portland School Board', \"Service Employees Int'L Union Local 49 Committee on Political Education\", 'Stand for Children Oregon PAC', 'Taxpayers Association of Oregon PAC', 'Jim Torrey for Mayor', 'Working Families Party of Oregon', 'Yamhill County Democrats', 'Accion Politica PCUNista PAC', 'Friends of Jessica Adamson', 'AG-PAC', 'AGC Committee for Action', 'Friends of Allen Alley', 'Alliance - PAC'] \n",
      "\n",
      "----------------------------------------\n",
      "COMMITTEE PAC TYPE \n",
      "\n",
      "['Miscellaneous', 'Political Party', nan, 'Measure', 'Caucus', 'Recall'] \n",
      "\n",
      "----------------------------------------\n",
      "ELECTION/OFFICE \n",
      "\n",
      "[nan, '2015 May Election, Director,      Portland School District, Zone 3', '2008 General Election, Mayor,      City of Eugene', '2015 May Election, Director,      Sherwood School District, Position 1', '2016 Primary Election, Governor', '2018 Primary Election, Judge of the Court of Appeals,      Position 10', '2012 Primary Election, City Councilor,      City of Beaverton, Position 4', '2012 Primary Election, State Senator,      2nd District', '2016 Primary Election, Secretary of State', '2016 Primary Election, Mayor,      City of Portland', '2012 General Election, Mayor,      City of Roseburg', '2018 Primary Election, State Representative,      28th District', '2018 Primary Election, State Representative,      11th District', '2014 General Election, State Representative,      40th District', '2012 General Election, City Councilor,      City of Tualatin, Position 2', '2018 Primary Election, State Senator,      30th District', '2012 Primary Election, State Representative,      20th District', '2010 General Election, State Senator,      17th District', '2016 Primary Election, State Representative,      32nd District', '2020 Primary Election, State Senator,      12th District', '2016 Primary Election, County Commissioner,      Jackson County, Position 2', '2010 Primary Election, County Commissioner,      Josephine County, Position 1', '2014 Primary Election, State Representative,      5th District', '2018 Primary Election, State Senator,      18th District', '2008 General Election, State Representative,      54th District'] \n",
      "\n",
      "----------------------------------------\n",
      "EMAIL ADDRESS \n",
      "\n",
      "[nan, 'bobbie4schools@comcast.net', 'jimtorrey@comcast.net', 'jessicarhadamson@gmail.com', 'Allen@AllenAlley.com', 'rex.armstrong@ojd.state.or.us', 'catherine_arnold@comcast.net', 'jallmand@mac.com', 'brad@bradavakian.com', 'jules@julesbailey.com', 'mjbaker65@charter.net', 'sgtjeff92@aol.com', 'phil@barnhart.us', 'brent@votebrentbarton.com', 'smbeikman@comcast.net', 'cbentz@yturrirose.com', 'rep.vickiberger@state.or.us', 'suzannne@suzannefororegon.com', 'booneforstaterep@aol.com', 'boquist@aol.com', 'breidenthal@charter.net', 'jackbrown@jackbrown.org', 'info@peterbuckley.org', 'ginny.burdick@comcast.net', 'cburley10@gmail.com'] \n",
      "\n",
      "----------------------------------------\n",
      "EMPLOYER \n",
      "\n",
      "[nan, 'Self Employed', 'Providence Health & Services,        Portland,             OR', 'State of Oregon,        Salem,             OR', 'Micro Power Electronics,        Beaverton,             OR', 'Bureau of Labor and Industries,        Portland,             OR', 'Multnomah County,        Portland,             OR', 'ODOT,        Salem,             OR', 'Legislative Assembly,        Salem,             OR', 'The Barton Law Firm,        Newport,             OR', 'US Congress,        Washington,             DC', 'Jackson County,        Medford,             OR', 'Family Enterprises Ltd dba Auto Doc,        Grants Pass,             OR', 'Self,        Ashland,             OR', 'Interfor,        Gilchrist,             OR', 'State of Oregon,        Dallas,             OR', 'Rasmussen Spray Service,        Salem,             OR', 'Metro,        Portland,             OR', 'Coldwell banker sun country ,        prineville ,             OR', 'Portland Community College,        Portland,             OR', 'Columbia County,        Saint Helens,             OR', 'Equinox Industries,        Cottage Grove,             OR', 'City of Beaverton,        Beaverton,             OR', 'Marland Henderson Construction,        Tigard,             OR', 'Oregon Legislature,        Salem,             OR'] \n",
      "\n",
      "----------------------------------------\n",
      "FAX \n",
      "\n",
      "[nan, '(503)986-5865', '(503)295-0670', '(541)889-2432', '(503)540-8989', '(503)623-7665', '(541)772-2593', '(503)585-1291', '(503)769-2219', '(503)684-9082', '(541)494-4945', '(541)672-7685', '(503)366-4325', '(503)292-1298', '(541)766-6701', '(503)625-8556', '(503)626-5035', '(503)685-6202', '(503)666-0529', '(541)278-1273', '(503)684-7523', '(503)239-9670', '(541)676-5989', '(503)390-3498', '(541)221-8006'] \n",
      "\n",
      "----------------------------------------\n",
      "HOME PHONE \n",
      "\n",
      "[nan, '(503)292-6841', '(541)343-6595', '(503)625-4621', '(503)699-9042', 'Exempt from public record', '(503)642-2381', '(541)664-9878', '(503)430-5588', '(541)440-0580', '(503)649-1767', '(541)484-9701', '(503)612-6925', '(541)889-3063', '(503)297-4127', '(503)298-9494', '(541)772-2593', '(541)476-7001', '(541)482-9885', '(503)244-1444', '(541)383-8598', '(503)831-4918', '(503)399-8011', '(541)720-9583', '(503)585-1291'] \n",
      "\n",
      "----------------------------------------\n",
      "MAILING ADDRESS \n",
      "\n",
      "[nan, '1907 NW Mill Pond Road, Portland,         OR     97229     - 7553', '3393 Arlington Avenue, Eugene,         OR     97408', '23695 SW Brittany Ln, Sherwood,         OR     97140', '1003 Terrace Dr, Lake Oswego,         OR     97034', '1163 State St, Salem,         OR     97301', '6771 SW 162nd Drive, Beaverton,         OR     97007     - 4894', 'PO Box 5479, Central Point,         OR     97502', '1319 MLK Jr Blvd, Ste 204, Portland,         OR     97214', '9026 SW 36th Ave, Portland,         OR     97219', '2138 Lois Drive, Roseburg,         OR     97470', '18340 SW Monte Verdi Blvd, Aloha,         OR     97007', '2248 Potter St, Eugene,         OR     97405', 'PO Box 42307, Portland,         OR     97242', '22760 SW 87th Pl., Tualatin,         OR     97062', 'PO Box 1048, Ontario,         OR     97914', '805 Kingwood Dr NW, Salem,         OR     97304', 'PO Box 637, Cannon Beach,         OR     97110', '17080 Butler Hill Rd, Dallas,         OR     97338', '4505 Pinnacle Dr., Medford,         OR     97504', '1252 Redwood Avenue #68, Grants Pass,         OR     97527', '71 Dewey St, Ashland,         OR     97520', '6227 SW 18th Dr, Portland,         OR     97239', '1797 SE Bronzewood Ave., Bend,         OR     97702', 'PO Box 757, Dallas,         OR     97338'] \n",
      "\n",
      "----------------------------------------\n",
      "NAME \n",
      "\n",
      "[nan, 'Bobbie  A  Regan', 'James  D.  Torrey', 'Jessica    Adamson', 'Allen  H.  Alley', 'Rex    Armstrong', 'Catherine  A  Arnold', 'Jason  A.  Atkinson', 'Brad    Avakian', 'Jules  L K  Bailey', 'Mike  J  Baker', 'Jeff    Barker', 'Philip  N  Barnhart', 'Brent    Barton', 'Monique    Beikman', 'Cliff    Bentz', 'Vicki    Berger', 'Suzanne    Bonamici', 'Deborah  A.  Boone', 'Brian  J.  Boquist', 'Douglas  P.  Breidenthal', 'Jack  A  Brown Jr', 'Peter    Buckley', 'Ginny    Burdick', 'Charles  H  Burley'] \n",
      "\n",
      "----------------------------------------\n",
      "OCCUPATION \n",
      "\n",
      "[nan, 'Volunteer', 'Not Employed', 'Director, Government Relations - Oregon', 'Investor', 'Judge, Oregon Court of Appeals', 'Marketing Associate', 'Business Consultant- Senator', 'Commissioner of Labor and Industries', 'County Commissioner', 'Transportation Planner', 'State Representative', 'Oregon State Representative', 'Attorney', 'State Legislator', 'US Representative', 'Forestry, farming, consulting', 'Commissionner', 'auto mechanic', 'State Representative, House District Five; Writer', 'Communication Consultant/Senator', 'Timber Manager', 'Polk County District Attorney', 'Owner/CEO, Cafe Today Restaurants', 'Small Business Owner/Operator Pilot Car Service'] \n",
      "\n",
      "----------------------------------------\n",
      "PARTY AFFILIATION \n",
      "\n",
      "[nan, 'Nonpartisan', 'Republican', 'Democrat', 'Progressive', 'Libertarian', 'Constitution', 'Independent', 'Pacific Green', 'Nonaffiliated'] \n",
      "\n",
      "----------------------------------------\n",
      "TREASURER EMAIL ADDRESS \n",
      "\n",
      "['amy.baird@oregon.sierraclub.org', 'jchandler@oregonhba.com', 'Dave@oia.org', 'j.green@c-esystems.com', 'wabuchholz@gmail.com', 'driscollx@yahoo.com', 'bktzmllr@juno.com', 'Shropshire@ua290.org', 'aferschweiler@iaff43.org', 'megn@seiu49.org', 'admin@stand.org', 'loripiercy@centurylink.net', 'triciad@jrcpa.com', 'msturbois@comcast.net', 'treasurer@ycdemocrats.org', 'larrykleinman@gmail.com', 'jessicarhadamson@gmail.com', 'jstone@oan.org', 'johnr@agc-oregon.org', 'donna@capitolaccounting.com', 'mhaynes@portlandalliance.com', 'dgibson@rosevilla.org', 'russell.cna@gmail.com', 'ken.ray@outlook.com', 'davidr@aft-oregon.org'] \n",
      "\n",
      "----------------------------------------\n",
      "TREASURER FAX \n",
      "\n",
      "[nan, '(503)612-4933', '(503)238-6692', '(541)485-0960', '(503)982-1031', '(503)682-1696', '(503)873-8399', '(503)652-3291', '(866)814-0803', '(541)963-7750', '(503)295-0670', '(503)581-0152', '(503)223-1659', '(503)623-7665', '(541)772-2593', '(503)242-8589', '(541)773-7775', '(503)585-1291', '(503)861-7602', '(503)467-7431', '(503)416-6136', '(503)350-2224', '(503)769-2219', '(503)620-3310', '(918)516-0293'] \n",
      "\n",
      "----------------------------------------\n",
      "TREASURER HOME PHONE \n",
      "\n",
      "[nan, '(503)680-8500', '(503)830-4348', '(503)882-5333', '(503)616-0349', '(503)234-0768', '(541)343-6848', '(503)428-1219', '(503)560-6725', '(503)625-4621', '(503)312-7725', '(541)347-4423', '(503)891-1395', '(541)963-9074', '(503)292-1643', '(503)638-3839', '(541)821-5207', '(541)523-6760', '(541)523-3098', '(541)440-0580', '(503)851-5963', '(541)689-0803', '(503)781-4028', '(541)318-7529', '(503)375-9026'] \n",
      "\n",
      "----------------------------------------\n",
      "TREASURER MAILING ADDRESS \n",
      "\n",
      "['1821 SE Ankeny Street, Portland,         OR     97214', '2075 Madrona Avenue SE, STE 150, Salem,         OR     97302', 'PO Box 230637, Tigard,         OR     97281', 'PO Box 42307, Portland,         OR     97242', '1125 SE Madison, Suite 206, Portland,         OR     97203', 'PO Box 1606, Eugene,         OR     97440', '14004 SE Summerfield Lp, Happy Valley,         OR     97086', 'P.O. Box 42307, Portland,         OR     97242', '20210 SW Teton Ave, Tualatin,         OR     97062', '4530 SE 67th Ave, Portland,         OR     97206', '3536 SE 26th Ave, Portland,         OR     97202', '2121 SW Broadway, Suite 111, Portland,         OR     97201', '29993 Maple Drive, Rainier,         OR     97048', 'PO Box 10086, Eugene,         OR     97440', '1512 SE Hawthorne Blvd #2, Portland,         OR     97214', '637 SW Keck Dr #122, McMinnville,         OR     97128', '1790 Landau Dr, Woodburn,         OR     97071', '23695 SW Brittany Ln, Shewood,         OR     97140', '29751 Town Center Loop West, Wilsonville,         OR     97070', '9450 SW Commerce Circle, Wilsonville,         OR     97070', 'PO Box 1304, Silverton,         OR     97381', '200 SW Market St. #150, Portland,         OR     97201', '13505 SE River Road, Portland,         OR     97222', '89286 Cranberry Ln, Bandon,         OR     97411', '7637 SE Reed College Pl., Portland,         OR     97202'] \n",
      "\n",
      "----------------------------------------\n",
      "TREASURER NAME \n",
      "\n",
      "['Amy  Baird', 'Jon  Chandler', 'David J. Hunnicutt', 'Jef A Green', 'Wesley M Buchholz', 'Trisha  Driscoll', 'Robert  Kitzmiller', 'F A Shropshire', 'Alan  Ferschweiler', 'Jef  Green', 'Meg  Niemi', 'Kara J Dahl', 'Lori L Piercy', 'Tricia  Duncan', 'Mark D Sturbois', 'Larry  Richardson', 'Larry  Kleinman', 'Jessica  Adamson', 'Jeff A. Stone', 'John  Rakowitz', 'Donna L Butler', 'Marion  Haynes', 'Diane K. Gibson', 'Donna L. Butler', 'Carol A. Russell'] \n",
      "\n",
      "----------------------------------------\n",
      "TREASURER WORK PHONE \n",
      "\n",
      "[nan, '(503)378-9066 x5x3', '(503)620-0258', '(503)295-1851', '(503)823-1622', '(541)337-6786', '(503)882-5333', '(503)691-5700', '(503)774-4302', '(503)236-4949 x221', '(503)235-2305', '(503)816-7131', '(541)687-2320', '(503)560-6725', '(503)682-5089', '(503)317-1781', '(503)873-8730', '(503)552-6746', '(503)652-3280', '(800)293-0510', '(971)888-5665', '(541)963-7930', '(503)704-8180', '(503)239-5836', '(503)544-9721'] \n",
      "\n",
      "----------------------------------------\n",
      "WORK PHONE \n",
      "\n",
      "[nan, '(503)862-8235', '(503)986-5663', '(503)615-4568', '(541)955-0911', '(971)673-0781', '(541)957-3658', '(503)986-1428', '(541)607-9207', '(541)889-5368', '(503)871-0647', '(503)298-9494', '(503)623-4426', '(541)774-6119', '(541)659-4313', '(541)488-9180', '(503)244-1444', '(541)480-2146', '(503)623-9268', '(503)269-0915', '(541)720-9583', '(971)304-4034', '(541)447-4433', '(503)949-3445 x1141', '(503)914-9723'] \n",
      "\n",
      "========================================\n",
      "Columns with many unique values:\n",
      "\n",
      "['Candidate Address', 'Committee Acronym', 'Committee Address', 'Committee Campaign Phone', 'Committee Filing Effective From', 'Committee ID', 'Committee Name', 'Election/Office', 'Email Address', 'Employer', 'Fax', 'Home Phone', 'Mailing Address', 'Name', 'Occupation', 'Treasurer Email Address', 'Treasurer Fax', 'Treasurer Home Phone', 'Treasurer Mailing Address', 'Treasurer Name', 'Treasurer Work Phone', 'Work Phone']\n"
     ]
    }
   ],
   "source": [
    "inspect_cols(dfs['statement'])"
   ]
  },
  {
   "cell_type": "markdown",
   "metadata": {
    "deletable": true,
    "editable": true
   },
   "source": [
    "### Phone"
   ]
  },
  {
   "cell_type": "code",
   "execution_count": 11,
   "metadata": {
    "collapsed": false,
    "deletable": true,
    "editable": true
   },
   "outputs": [
    {
     "name": "stdout",
     "output_type": "stream",
     "text": [
      "----------------------------------------\n",
      "COMMITTEE CAMPAIGN PHONE \n",
      "\n",
      "Series([], Name: Committee Campaign Phone, dtype: object) \n",
      "\n",
      "----------------------------------------\n",
      "FAX \n",
      "\n",
      "717     5038514351\n",
      "1280    5038126773\n",
      "Name: Fax, dtype: object \n",
      "\n",
      "----------------------------------------\n",
      "HOME PHONE \n",
      "\n",
      "31      Exempt from public record\n",
      "448                  541-536-7444\n",
      "617                    5418060837\n",
      "728                    5034345365\n",
      "816                  503 621-6316\n",
      "1184                   5415799022\n",
      "Name: Home Phone, dtype: object \n",
      "\n",
      "----------------------------------------\n",
      "TREASURER FAX \n",
      "\n",
      "688     5037417574\n",
      "717     5038514351\n",
      "1251    5032706995\n",
      "1280    5038126773\n",
      "Name: Treasurer Fax, dtype: object \n",
      "\n",
      "----------------------------------------\n",
      "TREASURER HOME PHONE \n",
      "\n",
      "210     Exempt from public record\n",
      "688                    5037417574\n",
      "1003                   5417586842\n",
      "1090                   5419332256\n",
      "1184                   5415799022\n",
      "1218                   9712664290\n",
      "1251                   5032706995\n",
      "1332                   5415051553\n",
      "Name: Treasurer Home Phone, dtype: object \n",
      "\n",
      "----------------------------------------\n",
      "TREASURER WORK PHONE \n",
      "\n",
      "Series([], Name: Treasurer Work Phone, dtype: object) \n",
      "\n",
      "----------------------------------------\n",
      "WORK PHONE \n",
      "\n",
      "816                  503 621-6316\n",
      "1013    Exempt from public record\n",
      "Name: Work Phone, dtype: object \n",
      "\n"
     ]
    }
   ],
   "source": [
    "ph_pattern = '\\(\\d{3}\\)\\s*\\d{3}-\\d{4}( x{0,1}\\d{0,4}){0,1}'\n",
    "c = '(Fax|Phone)'\n",
    "check_values(dfs['statement'], c, ph_pattern)"
   ]
  },
  {
   "cell_type": "markdown",
   "metadata": {
    "deletable": true,
    "editable": true
   },
   "source": [
    "Phone/Fax numbers all appear to be correct, but the format needs to be standardized."
   ]
  },
  {
   "cell_type": "markdown",
   "metadata": {
    "deletable": true,
    "editable": true
   },
   "source": [
    "### Check Dates"
   ]
  },
  {
   "cell_type": "code",
   "execution_count": 12,
   "metadata": {
    "collapsed": false,
    "deletable": true,
    "editable": true
   },
   "outputs": [
    {
     "name": "stdout",
     "output_type": "stream",
     "text": [
      "----------------------------------------\n",
      "COMMITTEE FILING EFFECTIVE FROM \n",
      "\n",
      "Series([], Name: Committee Filing Effective From, dtype: object) \n",
      "\n"
     ]
    }
   ],
   "source": [
    "date_pattern = '(0[0-9]|1[0-2])/([0-2][0-9]|3[01])/(19\\d{2}|200[0-9]|201[0-8])'\n",
    "c = 'Committee Filing Effective From'\n",
    "check_values(dfs['statement'], c, date_pattern)"
   ]
  },
  {
   "cell_type": "markdown",
   "metadata": {
    "deletable": true,
    "editable": true
   },
   "source": [
    "All dates are good."
   ]
  },
  {
   "cell_type": "markdown",
   "metadata": {
    "deletable": true,
    "editable": true
   },
   "source": [
    "### Check Committee ID"
   ]
  },
  {
   "cell_type": "code",
   "execution_count": 13,
   "metadata": {
    "collapsed": false,
    "deletable": true,
    "editable": true,
    "scrolled": false
   },
   "outputs": [
    {
     "name": "stdout",
     "output_type": "stream",
     "text": [
      "----------------------------------------\n",
      "COMMITTEE ID \n",
      "\n",
      "Series([], Name: Committee ID, dtype: float64) \n",
      "\n"
     ]
    }
   ],
   "source": [
    "id_pattern = '\\d+'\n",
    "c = 'Committee ID'\n",
    "check_values(dfs['statement'], c, id_pattern)"
   ]
  },
  {
   "cell_type": "markdown",
   "metadata": {
    "deletable": true,
    "editable": true
   },
   "source": [
    "ID values are good"
   ]
  },
  {
   "cell_type": "markdown",
   "metadata": {
    "deletable": true,
    "editable": true
   },
   "source": [
    "### Clean Statement Columns"
   ]
  },
  {
   "cell_type": "markdown",
   "metadata": {
    "deletable": true,
    "editable": true
   },
   "source": [
    "#### Standardize Phone/Fax"
   ]
  },
  {
   "cell_type": "code",
   "execution_count": 14,
   "metadata": {
    "collapsed": false,
    "deletable": true,
    "editable": true
   },
   "outputs": [],
   "source": [
    "def std_phone(x):\n",
    "    if x != x:\n",
    "        return None\n",
    "    patterns = {\n",
    "        '\\d{10}': \n",
    "            ' '.join([x[:3], x[3:6], x[6:]]),\n",
    "        ph_pattern: \n",
    "            re.sub('(\\)\\s*|-)', ' ', x.strip('(')),\n",
    "        '\\d{3}-\\d{3}-\\d{4}( x{0,1}\\d{0,4}){0,1}':\n",
    "            x.replace('-', ' '),\n",
    "        '\\d{3} \\d{3}-\\d{4}( x{0,1}\\d{0,4}){0,1}':\n",
    "            x.replace('-', ' '),\n",
    "        '(exempt|Exempt)':\n",
    "            'Exempt from public record',\n",
    "    }\n",
    "    for p in patterns:\n",
    "        if re.match(p, x):\n",
    "            return patterns[p]\n",
    "    return x"
   ]
  },
  {
   "cell_type": "code",
   "execution_count": 15,
   "metadata": {
    "collapsed": true,
    "deletable": true,
    "editable": true
   },
   "outputs": [],
   "source": [
    "cols = [c for c in dfs['statement'] if re.search('(Fax|Phone)', c)]\n",
    "\n",
    "for c in cols:\n",
    "    dfs['statement'].loc[:, c] = dfs['statement'].loc[:, c].apply(lambda x: std_phone(x))"
   ]
  },
  {
   "cell_type": "code",
   "execution_count": 16,
   "metadata": {
    "collapsed": false,
    "deletable": true,
    "editable": true
   },
   "outputs": [
    {
     "name": "stdout",
     "output_type": "stream",
     "text": [
      "----------------------------------------\n",
      "COMMITTEE CAMPAIGN PHONE \n",
      "\n",
      "Series([], Name: Committee Campaign Phone, dtype: object) \n",
      "\n",
      "----------------------------------------\n",
      "FAX \n",
      "\n",
      "Series([], Name: Fax, dtype: object) \n",
      "\n",
      "----------------------------------------\n",
      "HOME PHONE \n",
      "\n",
      "31    Exempt from public record\n",
      "Name: Home Phone, dtype: object \n",
      "\n",
      "----------------------------------------\n",
      "TREASURER FAX \n",
      "\n",
      "Series([], Name: Treasurer Fax, dtype: object) \n",
      "\n",
      "----------------------------------------\n",
      "TREASURER HOME PHONE \n",
      "\n",
      "210    Exempt from public record\n",
      "Name: Treasurer Home Phone, dtype: object \n",
      "\n",
      "----------------------------------------\n",
      "TREASURER WORK PHONE \n",
      "\n",
      "Series([], Name: Treasurer Work Phone, dtype: object) \n",
      "\n",
      "----------------------------------------\n",
      "WORK PHONE \n",
      "\n",
      "1013    Exempt from public record\n",
      "Name: Work Phone, dtype: object \n",
      "\n"
     ]
    }
   ],
   "source": [
    "ph_pattern = '\\d{3} \\d{3} \\d{4}( x{0,1}\\d{0,4}){0,1}'\n",
    "c = '(Fax|Phone)'\n",
    "check_values(dfs['statement'], c, ph_pattern)"
   ]
  },
  {
   "cell_type": "code",
   "execution_count": 17,
   "metadata": {
    "collapsed": true,
    "deletable": true,
    "editable": true
   },
   "outputs": [],
   "source": [
    "dfs['statement'].to_csv('statement_cleaned.csv', index=False)"
   ]
  },
  {
   "cell_type": "markdown",
   "metadata": {
    "deletable": true,
    "editable": true
   },
   "source": [
    "## Trans Details DF"
   ]
  },
  {
   "cell_type": "code",
   "execution_count": 18,
   "metadata": {
    "collapsed": false,
    "deletable": true,
    "editable": true
   },
   "outputs": [
    {
     "name": "stdout",
     "output_type": "stream",
     "text": [
      "<class 'pandas.core.frame.DataFrame'>\n",
      "RangeIndex: 714391 entries, 0 to 714390\n",
      "Data columns (total 37 columns):\n",
      "Address                             532482 non-null object\n",
      "Address Book Type                   536535 non-null object\n",
      "Agent                               1910 non-null object\n",
      "Aggregate                           664223 non-null object\n",
      "Amount                              714391 non-null object\n",
      "Associations                        10682 non-null object\n",
      "Check                               152195 non-null float64\n",
      "City, State, Zip Code               0 non-null float64\n",
      "CoSigner Obligations                0 non-null float64\n",
      "Description                         209571 non-null object\n",
      "Due Date                            714376 non-null object\n",
      "Employer                            0 non-null float64\n",
      "Employer City, State                0 non-null float64\n",
      "Employer Name                       201455 non-null object\n",
      "Exam Letter Date                    560583 non-null object\n",
      "Filed Date                          714384 non-null object\n",
      "Filer/Committee Name                0 non-null float64\n",
      "In-Kind/Independent Expenditures    191055 non-null object\n",
      "Interest Rate                       1087 non-null object\n",
      "Name                                704485 non-null object\n",
      "Occupation                          157294 non-null object\n",
      "Occupation Letter Date              4128 non-null object\n",
      "Payer of Personal Expenditure       12652 non-null object\n",
      "Payment Method                      206232 non-null object\n",
      "Process Status                      714384 non-null object\n",
      "Purpose                             223175 non-null object\n",
      "Repayment Schedule                  867 non-null object\n",
      "Transaction Amount                  0 non-null float64\n",
      "Transaction Date                    714384 non-null object\n",
      "Transaction Filed Date              0 non-null float64\n",
      "Transaction ID                      714384 non-null object\n",
      "Transaction Id :                    0 non-null float64\n",
      "Transaction Purpose                 0 non-null float64\n",
      "Transaction Sub Type                714384 non-null object\n",
      "Transaction Subtype                 0 non-null float64\n",
      "Transaction Type                    714384 non-null object\n",
      "Type                                0 non-null float64\n",
      "dtypes: float64(12), object(25)\n",
      "memory usage: 201.7+ MB\n"
     ]
    }
   ],
   "source": [
    "dfs['trans_details'].info()"
   ]
  },
  {
   "cell_type": "markdown",
   "metadata": {
    "deletable": true,
    "editable": true
   },
   "source": [
    "### Inspect Columns"
   ]
  },
  {
   "cell_type": "code",
   "execution_count": 19,
   "metadata": {
    "collapsed": false,
    "deletable": true,
    "editable": true
   },
   "outputs": [
    {
     "name": "stdout",
     "output_type": "stream",
     "text": [
      "----------------------------------------\n",
      "ADDRESS \n",
      "\n",
      "['1968 Carriage Way West Linn OR 97068', '7095 Mc Ewan Lake Oswego OR 97035', nan, '25900 Heather Place Wilsonville OR 97070', 'PO Box 4005 Acworth GA 30101-9006', '1010 NW 22nd Avenue #144 Portland OR 97210', '316 North Point Rd Lake Oswego OR 97034', '255 Capital Street, NE Salem OR 97310', '89286 Cranberry Lane Bandon OR 97411', '25920 SW Heather Place Wilsonville OR 97070', '2130 SW 21st Avenue Portland OR 97201', '39848 NW Chalmers Ln Forest Grove OR 97116', '19363 Willamette Drive #251 West Linn OR 97068', '1211 SW Fifth Ave, Ste 1000 Portland OR 97204-3710', '11735 SW Queen Elizabeth St., #101 King City OR 97224', '1300 SW Hoffman Rd West Linn OR 97068', '2110 Mission ST SE Suite 310 Salem OR 97302', '12060 SW Garden Place Tigard OR 97223', '20427 N 27th Ave Phoenix AZ 85027-3241', '121 SW Salmon 1wtc0301 Portland OR 97204', '18912 North Creek Pkwy Ste 201 Bothell WA 98011', '867 Liberty St. NE Salem OR 97301', '11095 W Avery Street Tualatin OR 97062', '3857 Wolverine St NE Ste C22 Salem OR 97305', '707 SW Washington St Ste 927 Portland OR 97205'] \n",
      "\n",
      "----------------------------------------\n",
      "ADDRESS BOOK TYPE \n",
      "\n",
      "['Candidate & Immediate Family', 'Business Entity', nan, 'Individual', 'Other', 'Political Committee', \"Candidate's Immediate Family\", 'Political Party Committee', 'Unregistered Committee', 'Labor Organization'] \n",
      "\n",
      "----------------------------------------\n",
      "AGENT \n",
      "\n",
      "[nan, 'Zerbin Mills Marketing Llc', 'Creative Advertising & Marketing', 'Astley Consulting Group', 'Media Strategies', 'The New Media Firm', 'Media Analysis', 'Friends Of Chip Shields (4741)', 'Us Post Office', 'Com Span Usa', 'The Maentz Agency', 'Run Spot Run Media, Inc.', 'Adams & Co.', 'Compass Media Group', 'Direct Northwest', 'Dalton Public Relations', 'Amanda L Dalton', 'Cindi Miller', 'Media Connections West, Inc.', 'Media Plus', 'Thomas Public Affairs', 'Ugf', 'George Advertising, Inc.', 'The New Media Firm, Inc.', 'Democracy Direct', 'The Lindholm Company', 'Compass Media', 'The Compass Media Group, Inc.', 'The Compass Media Group', 'Command Consulting'] \n",
      "\n",
      "----------------------------------------\n",
      "AGGREGATE \n",
      "\n",
      "[8850.68, 210.0, 0.0, 250.7, 649.29, 160.0, 250.0, 750.0, 15450.0, 430.86, 124.23, 7764.79, 207.1, 10000.0, 5000.0, 7600.0, 174.88, 1000.0, 14500.0, 132.43, 20000.0, 215.43, 2000.0, 7500.0, 3680.0] \n",
      "\n",
      "----------------------------------------\n",
      "AMOUNT \n",
      "\n",
      "[1085.89, 210.0, 90.0, 68.83, 43.6, 43.2, 218.43, 42.8, 41.62, 35.0, 100.0, 35.58, 160.0, 10.68, 4.45, 250.0, 750.0, 950.0, 43.94, 37.75, 215.43, 11.86, 60.0, 12.5, 41.87] \n",
      "\n",
      "----------------------------------------\n",
      "ASSOCIATIONS \n",
      "\n",
      "[nan, 'Loan Received (Non-Exempt) for $5,000.00 from Julie Parrish on 01/19/2018 (2728702) Complete', 'Loan Received (Non-Exempt) for $7,000.00 from Julie Parrish on 09/26/2017 (2625356) Complete', 'Loan Received (Non-Exempt) for $7,000.00 from Julie Parrish on 09/26/2017 (2625356) Associated', 'Cash Expenditure for $230.00 from West Linn Rotary on 08/03/2016 (2305287) Complete', 'Loan Received (Non-Exempt) for $5,000.00 from Julie Parrish on 10/31/2016 (2425285) Associated', 'Account Payable for $1,000.00 from Leona Consulting Co. on 06/23/2015 (2034933) Complete', 'Account Payable for $100.00 from C & A Consulting on 10/26/2014 (1896584) Complete', 'Account Payable for $1,930.00 from Expressions Printing on 10/06/2014 (1860471) Complete', 'Account Payable for $100.00 from Ingrid Nichols on 06/09/2014 (1740333) Complete', 'Account Payable for $1,500.00 from Northwest Market Research on 08/25/2014 (1798696) Complete', \"Account Payable for $250.00 from Bob's Auto Cafe on 08/28/2014 (1802782) Complete\", 'Account Payable for $450.99 from Leona Consulting Co. on 04/13/2014 (1696485) Complete', 'Miscellaneous Account Receivable for $1,063.66 from Oregon Data.Biz on 03/19/2014 (1678567) Complete', 'Account Payable for $576.10 from Oregon Data.Biz on 12/20/2013 (1621114) Complete', 'Account Payable for $900.91 from Oregon Data.Biz on 12/20/2013 (1621122) Complete', 'Loan Received (Non-Exempt) for $500.00 from Julie Parrish on 05/17/2013 (1550545) Complete', 'Account Payable for $2,033.93 from Promote Oregon Leadership PAC on 11/18/2012 (1420607) Complete', 'Cash Expenditure for $2,243.36 from Oregon Data.Biz on 03/21/2012 (1209328) Complete', 'Account Payable for $2,792.21 from Promote Oregon Leadership PAC on 10/29/2010 (949813) Complete', 'Account Payable for $1,024.40 from Promote Oregon Leadership PAC on 07/30/2010 (837009) Complete', 'Account Payable for $2,018.25 from Promote Oregon Leadership PAC on 08/31/2010 (859124) Complete', 'Account Payable for $300.79 from Promote Oregon Leadership PAC on 08/31/2010 (859122) Complete', 'Account Payable for $1,280.00 from Myerz Media on 01/03/2018 (2740222) Complete', 'Loan Received (Non-Exempt) for $200.00 from Craig Pope on 01/23/2014 (1655488) Complete, Loan Received (Non-Exempt) for $60.00 from Craig Pope on 02/17/2010 (708023) Complete'] \n",
      "\n",
      "----------------------------------------\n",
      "CHECK \n",
      "\n",
      "[1587.0, nan, 1586.0, 1585.0, 1583.0, 1582.0, 1580.0, 1578.0, 1579.0, 1577.0, 1575.0, 1574.0, 1573.0, 1572.0, 1571.0, 1570.0, 1569.0, 1568.0, 1567.0, 1566.0, 1565.0, 1540.0, 1539.0, 1537.0, 1536.0] \n",
      "\n",
      "----------------------------------------\n",
      "CITY, STATE, ZIP CODE \n",
      "\n",
      "[nan] \n",
      "\n",
      "----------------------------------------\n",
      "COSIGNER OBLIGATIONS \n",
      "\n",
      "[nan] \n",
      "\n",
      "----------------------------------------\n",
      "DESCRIPTION \n",
      "\n",
      "[nan, 'Storage', 'Auto Fuel', 'Cell Phone', 'Voter Pamphlet Statement', 'Printing', 'Contribution', 'Voter Data', 'Postage and Printing', 'Voter Pamphlet Statement - M101', 'Subscription', 'Leg Photography', 'The Times Subscription', 'West Linn Tidings Subscription', 'Booth and Tickets for Airshow', 'Mail List Service', 'Storage Rental', 'Cell Phone Bill', 'Club Dues', 'Meeting Food', 'Scholarship Donation', 'Office Supplies - toner', 'Meeting Support', 'Donation', 'Hotel Rooms - Dorchester'] \n",
      "\n",
      "----------------------------------------\n",
      "DUE DATE \n",
      "\n",
      "['04/10/2018 11:59:00 PM', '04/02/2018 11:59:00 PM', '03/30/2018 11:59:00 PM', '03/26/2018 11:59:00 PM', '03/23/2018 11:59:00 PM', '03/19/2018 11:59:00 PM', '03/15/2018 11:59:00 PM', '03/12/2018 11:59:00 PM', '02/07/2018 11:59:00 PM', '03/06/2018 11:59:00 PM', '03/05/2018 11:59:00 PM', '03/01/2018 11:59:00 PM', '02/26/2018 11:59:00 PM', '03/29/2018 11:59:00 PM', '02/23/2018 11:59:00 PM', '01/30/2018 11:59:00 PM', '01/29/2018 11:59:00 PM', '01/26/2018 11:59:00 PM', '01/25/2018 11:59:00 PM', '01/23/2018 11:59:00 PM', '01/22/2018 11:59:00 PM', '01/19/2018 11:59:00 PM', '01/16/2018 11:59:00 PM', '01/12/2018 11:59:00 PM', '01/11/2018 11:59:00 PM'] \n",
      "\n",
      "----------------------------------------\n",
      "EMPLOYER \n",
      "\n",
      "[nan] \n",
      "\n",
      "----------------------------------------\n",
      "EMPLOYER CITY, STATE \n",
      "\n",
      "[nan] \n",
      "\n",
      "----------------------------------------\n",
      "EMPLOYER NAME \n",
      "\n",
      "['Self Employed', nan, 'Ferguson Wellman Portland OR', 'Stimson Lumber Portland OR', 'Duyck Machines Forest Grove OR', 'NetZVault Wilsonville OR', 'Not Employed', 'Nike, Inc. Beaverton OR', 'State Street Solutions Lake Oswego OR', 'NetZVault Portland OR', 'Evan Holdings Tualatin OR', 'Direct Marketing Solutions Portland OR', 'Parker Properties Inc Oregon City OR', 'Langdon Farms Aurora OR', 'Barenberg Associates Portland OR', 'Oregon National Guard Salem OR', 'Northwest Strategies Inc Portland OR', 'State of Oregon Salem OR', 'Friends of Julie Parrish West Linn OR', 'Qualcomm, Inc. San Diego CA', 'Sandelie Golf Course West Linn OR', 'Oregon National Guard Tigard OR', 'Innovative Care Management Gladstone OR', 'Polk County Dallas OR', 'Blue Heron Farms Independence OR'] \n",
      "\n",
      "----------------------------------------\n",
      "EXAM LETTER DATE \n",
      "\n",
      "[nan, '04/03/2018', '03/22/2018', '03/26/2018', '02/22/2018', '02/06/2018', '03/09/2018', '03/27/2018', '01/17/2018', '12/29/2017', '12/27/2017', '12/22/2017', '12/13/2017', '12/07/2017', '11/27/2017', '11/16/2017', '11/01/2017', '10/12/2017', '09/22/2017', '08/21/2017', '09/08/2017', '08/14/2017', '08/07/2017', '07/26/2017', '07/21/2017'] \n",
      "\n",
      "----------------------------------------\n",
      "FILED DATE \n",
      "\n",
      "['04/10/2018 11:59:00 PM', '04/02/2018 11:36:20 AM', '03/21/2018 10:16:46 AM', '04/02/2018 11:59:00 PM', '03/30/2018 11:59:00 PM', '03/26/2018 11:59:00 PM', '03/23/2018 11:59:00 PM', '03/19/2018 11:59:00 PM', '03/15/2018 11:59:00 PM', '03/12/2018 11:59:00 PM', '02/10/2018 04:01:40 PM', '02/07/2018 11:59:00 PM', '02/05/2018 07:45:43 AM', '03/05/2018 11:59:00 PM', '03/01/2018 11:59:00 PM', '01/27/2018 02:15:15 PM', '02/26/2018 11:59:00 PM', '03/10/2018 10:12:57 AM', '01/23/2018 08:07:25 AM', '01/26/2018 11:59:00 PM', '01/25/2018 11:59:00 PM', '01/23/2018 11:59:00 PM', '01/16/2018 12:22:10 PM', '01/14/2018 10:03:11 AM', '01/13/2018 09:24:30 AM'] \n",
      "\n",
      "----------------------------------------\n",
      "FILER/COMMITTEE NAME \n",
      "\n",
      "[nan] \n",
      "\n",
      "----------------------------------------\n",
      "IN-KIND/INDEPENDENT EXPENDITURES \n",
      "\n",
      "[nan, 'In-Kind Expenditure - Stop Healthcare Taxes PAC (18864) - $687.73', 'In-Kind Expenditure - Stop Healthcare Taxes PAC (18864) - $1,989.04', 'In-Kind Expenditure - Stop Healthcare Taxes PAC (18864) - $33.07', 'In-Kind Expenditure - Stop Healthcare Taxes PAC (18864) - $38.24', 'In-Kind Expenditure - Stop Healthcare Taxes PAC (18864) - $31.55', 'In-Kind Expenditure - Stop Healthcare Taxes (18706) - $1,420.57', 'In-Kind Expenditure - Stop Healthcare Taxes (18706) - $426.24', 'In-Kind Expenditure - Stop Healthcare Taxes (18706) - $4,044.96', 'In-Kind Expenditure - Stop Healthcare Taxes (18706) - $3,794.22', 'In-Kind Expenditure - Stop Healthcare Taxes (18706) - $340.00', 'In-Kind Expenditure - Stop Healthcare Taxes (18706) - $1,933.62', 'In-Kind Expenditure - Stop Healthcare Taxes (18706) - $4,109.19', 'In-Kind Expenditure - Citizens to Elect Dennis Richardson (4155) - $500.00', 'In-Kind Expenditure - Friends of Jessica Cousineau (17599) - $264.04', 'In-Kind Expenditure - Friends of Jessica Cousineau (17599) - $179.10', 'In-Kind Expenditure - Friends of Jessica Cousineau (17599) - $1,500.00', 'In-Kind Expenditure - Friends of Jessica Cousineau (17599) - $87.50', 'In-Kind Expenditure - Friends of Matt Wingard (17884) - $375.80', 'In-Kind Expenditure - Friends of Matt Wingard (17884) - $296.70', 'In-Kind Expenditure - Friends of Matt Wingard (17884) - $227.43', 'In-Kind Expenditure - Friends of Matt Wingard (17884) - $500.00', 'In-Kind Expenditure - Friends of Matt Wingard (17884) - $1,554.76', 'In-Kind Expenditure - Friends of Jessica Cousineau (17599) - $502.89', 'In-Kind Expenditure - Friends of Matt Wingard (17884) - $1,717.62'] \n",
      "\n",
      "----------------------------------------\n",
      "INTEREST RATE \n",
      "\n",
      "[nan, '0', '0.0', '0.00', '0.00%', '0.0%', '0%', '0.', '6 %', 'o', '6.75', '3.25', '1', 'none', '1%', '.01', '00', '0% per annum', 'Prime rate', '.00', '10.0', '3%', 'zero', 0.0, '7 percent'] \n",
      "\n",
      "----------------------------------------\n",
      "NAME \n",
      "\n",
      "['Julie N Parrish', 'Public Storage', 'Miscellaneous Cash Expenditures $100 and under', 'Miscellaneous Personal Expenditures $100 and under', 'Costco', 'Verizon Wireless', 'Miscellaneous Cash Contributions $100 and under', 'Oregon Lions Sight and Hearing Foundation', 'Steve J Holwerda', 'Secretary of State', 'Stop Healthcare Taxes PAC (18864)', 'Andrew W Miller', 'Andrew Duyck', 'Oregonians for Truth In Politics PAC (17982)', 'AGC Committee for Action (4)', 'Oregonians in Action PAC (2793)', 'Elizabeth Maguire', 'Oregon Realtors Political Action Committee (191)', 'Expressions Printing', 'Albertsons Safeway Companies', 'Portland General Electric Employee Candidate Assistance Fund (2480)', 'L2 Inc', 'Jobs Political Action Committee (16428)', 'Oregon Data.Biz', 'ParkPAC (217)'] \n",
      "\n",
      "----------------------------------------\n",
      "OCCUPATION \n",
      "\n",
      "['Owner of social media company for women', nan, 'Investment Adviser', 'CEO', 'CFO', 'Builder', 'Attorney', 'Doctor', 'Artist', 'Graphic Design', 'Campaign Management Services', 'President/Owner', 'Designer', 'Manager', 'Bookkeeper', 'Sales', 'Investor', 'Owner/Operator', 'Business Services Consultant', 'Conservative Activist', 'Consultant', 'Accountant', 'Army National Guardsmen', 'St. Rep Assistant', 'Campaign manager'] \n",
      "\n",
      "----------------------------------------\n",
      "OCCUPATION LETTER DATE \n",
      "\n",
      "[nan, '07/30/2014', '12/04/2013', '11/06/2012', '09/12/2012', '01/05/2010', '10/11/2010', '09/26/2010', '08/28/2013', '07/29/2013', '04/16/2010', '04/02/2018', '02/24/2018', '01/13/2018', '05/12/2016', '11/20/2015', '06/17/2014', '04/07/2014', '09/26/2013', '04/30/2012', '03/23/2012', '01/23/2012', '01/08/2012', '11/21/2011', '01/09/2010'] \n",
      "\n",
      "----------------------------------------\n",
      "PAYER OF PERSONAL EXPENDITURE \n",
      "\n",
      "[nan, 'Julie Parrish', 'Jesse Alexander', 'Jennifer Waggoner', 'Daniel Peck', 'Constant Contact', 'Craig Pope', 'Jorden Leonard', 'Daniel Rayfield', 'Tony Lapiz', 'Jo Ann Rayfield', 'Ryan Beaston', 'Zach Baker', 'R. Scott Roberts', 'Scott Roberts', 'Donald (Don) Walden', 'Donald (Don) Waldon', 'Rod Runyon', 'Paul Savas', 'Jonathan (Jon) Kloor', 'Jon Kloor', 'Julie Hanna', 'Patrick Sheehan', 'Jonathan Kloor', 'Crazy Fingers Design Group, Inc.'] \n",
      "\n",
      "----------------------------------------\n",
      "PAYMENT METHOD \n",
      "\n",
      "['Check', 'Debit Card', nan, 'Electronic Check', 'Electronic Funds Transfer', 'Credit Card', 'Cash'] \n",
      "\n",
      "----------------------------------------\n",
      "PROCESS STATUS \n",
      "\n",
      "['Filed', 'Complete', 'Insufficient/Statutory', 'Insufficient/General', nan] \n",
      "\n",
      "----------------------------------------\n",
      "PURPOSE \n",
      "\n",
      "['Reimbursement for Personal Expenditures', 'General Operational Expenses (need description)', nan, 'Cash Contribution', 'Literature, Brochures, Printing', 'Literature, Brochures, Printing; Postage', 'Petition Circulators', 'Newspaper and Other Periodical Advertising', 'Other Advertising (yard signs, buttons, etc.)', 'Travel Expenses (need description)', 'Surveys and Polls', 'Broadcast Advertising (radio, tv)', 'Preparation and Production of Advertising', 'Postage', 'Management Services', 'Fundraising Event Expenses', 'Public Office Holder Expenses', 'Utilities', 'Wages, Salaries, Benefits', 'Postage; Preparation and Production of Advertising', 'Newspaper and Other Periodical Advertising; Postage', 'Fundraising Event Expenses; General Operational Expenses (need description)', 'Literature, Brochures, Printing; Newspaper and Other Periodical Advertising', 'Online and Social Media Advertising', 'Other Advertising (yard signs, buttons, etc.); Preparation and Production of Advertising'] \n",
      "\n",
      "----------------------------------------\n",
      "REPAYMENT SCHEDULE \n",
      "\n",
      "[nan, 'On Demand', 'none', 'When Available', '2012/12.31', 'Dec 31 2010', 'December 31, 2010', 'End of Campaign', '30 Days', '13 Months', 'if available', 'when available', 'as funds are available', 'As Available', 'Loan due: 4/1/2011', 'After Election', 'Repay on 11/12', 'To Be Repayed By 11/02/10', 'As available', 'on demand', '1 year', 'DUE 11-30-10', '05/30/2010', '150.00 per month', '12 Months'] \n",
      "\n",
      "----------------------------------------\n",
      "TRANSACTION AMOUNT \n",
      "\n",
      "[nan] \n",
      "\n",
      "----------------------------------------\n",
      "TRANSACTION DATE \n",
      "\n",
      "['04/02/2018', '04/01/2018', '03/31/2018', '03/28/2018', '03/26/2018', '03/21/2018', '03/20/2018', '03/19/2018', '03/17/2018', '03/16/2018', '03/15/2018', '03/14/2018', '03/10/2018', '03/07/2018', '03/03/2018', '03/02/2018', '03/01/2018', '02/28/2018', '02/22/2018', '02/21/2018', '02/16/2018', '02/13/2018', '02/10/2018', '02/09/2018', '02/08/2018'] \n",
      "\n",
      "----------------------------------------\n",
      "TRANSACTION FILED DATE \n",
      "\n",
      "[nan] \n",
      "\n",
      "----------------------------------------\n",
      "TRANSACTION ID \n",
      "\n",
      "[2799712, 2790415, 2790427, 2790426, 2790419, 2790425, 2790417, 2790424, 2803690, 2779404, 2779403, 2779402, 2779387, 2779401, 2779400, 2770353, 2803689, 2770350, 2770351, 2790423, 2791436, 2761978, 2791435, 2789481, 2784029] \n",
      "\n",
      "----------------------------------------\n",
      "TRANSACTION ID : \n",
      "\n",
      "[nan] \n",
      "\n",
      "----------------------------------------\n",
      "TRANSACTION PURPOSE \n",
      "\n",
      "[nan] \n",
      "\n",
      "----------------------------------------\n",
      "TRANSACTION SUB TYPE \n",
      "\n",
      "['Cash Expenditure', 'Personal Expenditure for Reimbursement', 'Cash Contribution', 'Loan Payment (Non-Exempt)', 'In-Kind Contribution', 'Loan Received (Non-Exempt)', 'Refunds and Rebates', 'Lost or Returned Check', 'Account Payable', 'Miscellaneous Other Receipt', 'Miscellaneous Account Receivable', 'Miscellaneous Other Disbursement', 'In-Kind/Forgiven Personal Expenditures', 'Return or Refund of Contribution', 'Loan Forgiven (Non-Exempt)', 'In-Kind/Forgiven Account Payable', 'Cash Balance Adjustment', 'Items Sold at Fair Market Value', 'Pledge of Cash', 'Interest/Investment Income', 'Account Payable Rescinded', 'Uncollectible Pledge of Cash', 'Personal Expenditure Balance Adjustment', 'Expenditure Made by an Agent', 'Nonpartisan Activity', 'Pledge of In-Kind', 'Pledge of Loan', 'Unexpended Agent Balance', 'Loan Received (Exempt)', 'Loan Payment (Exempt)', nan] \n",
      "\n",
      "----------------------------------------\n",
      "TRANSACTION SUBTYPE \n",
      "\n",
      "[nan] \n",
      "\n",
      "----------------------------------------\n",
      "TRANSACTION TYPE \n",
      "\n",
      "['Expenditure', 'Contribution', 'Other Receipt', 'Other Account Receivable', 'Other Disbursement', 'Other', nan] \n",
      "\n",
      "----------------------------------------\n",
      "TYPE \n",
      "\n",
      "[nan] \n",
      "\n",
      "========================================\n",
      "Columns with many unique values:\n",
      "\n",
      "['Address', 'Aggregate', 'Amount', 'Associations', 'Check', 'Description', 'Due Date', 'Employer Name', 'Exam Letter Date', 'Filed Date', 'In-Kind/Independent Expenditures', 'Interest Rate', 'Name', 'Occupation', 'Occupation Letter Date', 'Payer of Personal Expenditure', 'Purpose', 'Repayment Schedule', 'Transaction Date', 'Transaction ID']\n"
     ]
    }
   ],
   "source": [
    "inspect_cols(dfs['trans_details'])"
   ]
  },
  {
   "cell_type": "markdown",
   "metadata": {
    "deletable": true,
    "editable": true
   },
   "source": [
    "### Check Dates"
   ]
  },
  {
   "cell_type": "code",
   "execution_count": 20,
   "metadata": {
    "collapsed": false,
    "deletable": true,
    "editable": true
   },
   "outputs": [
    {
     "name": "stdout",
     "output_type": "stream",
     "text": [
      "----------------------------------------\n",
      "DUE DATE \n",
      "\n",
      "87203    03/13/2023 11:59:00 PM\n",
      "Name: Due Date, dtype: object \n",
      "\n",
      "----------------------------------------\n",
      "EXAM LETTER DATE \n",
      "\n",
      "Series([], Name: Exam Letter Date, dtype: object) \n",
      "\n",
      "----------------------------------------\n",
      "FILED DATE \n",
      "\n",
      "Series([], Name: Filed Date, dtype: object) \n",
      "\n",
      "----------------------------------------\n",
      "OCCUPATION LETTER DATE \n",
      "\n",
      "Series([], Name: Occupation Letter Date, dtype: object) \n",
      "\n",
      "----------------------------------------\n",
      "TRANSACTION DATE \n",
      "\n",
      "33527     06/10/0007\n",
      "87203     02/11/2023\n",
      "110448    06/25/0207\n",
      "293255    05/03/0007\n",
      "305617    11/03/0209\n",
      "305618    02/23/0009\n",
      "305619    03/14/0008\n",
      "305620    02/19/0007\n",
      "352842    02/23/0007\n",
      "389835    01/14/0029\n",
      "418422    01/05/0007\n",
      "429549    12/08/0006\n",
      "Name: Transaction Date, dtype: object \n",
      "\n",
      "----------------------------------------\n",
      "TRANSACTION FILED DATE \n",
      "\n",
      "Series([], Name: Transaction Filed Date, dtype: float64) \n",
      "\n"
     ]
    }
   ],
   "source": [
    "date_pattern = '(0[0-9]|1[0-2])/([0-2][0-9]|3[01])/(19\\d{2}|200[0-9]|201[0-8])'\n",
    "c = '\\w*\\s*Date'\n",
    "check_values(dfs['trans_details'], c, date_pattern)"
   ]
  },
  {
   "cell_type": "markdown",
   "metadata": {
    "deletable": true,
    "editable": true
   },
   "source": [
    "Transaction date of 2023?"
   ]
  },
  {
   "cell_type": "markdown",
   "metadata": {
    "deletable": true,
    "editable": true
   },
   "source": [
    "### Check Trans ID"
   ]
  },
  {
   "cell_type": "code",
   "execution_count": 21,
   "metadata": {
    "collapsed": false,
    "deletable": true,
    "editable": true
   },
   "outputs": [
    {
     "name": "stdout",
     "output_type": "stream",
     "text": [
      "----------------------------------------\n",
      "TRANSACTION ID \n",
      "\n",
      "Series([], Name: Transaction ID, dtype: object) \n",
      "\n"
     ]
    }
   ],
   "source": [
    "id_pattern = '\\d+'\n",
    "c = '\\w*\\s*ID'\n",
    "check_values(dfs['trans_details'], c, id_pattern)"
   ]
  },
  {
   "cell_type": "markdown",
   "metadata": {
    "deletable": true,
    "editable": true
   },
   "source": [
    "### Check Aggregate and Amount"
   ]
  },
  {
   "cell_type": "code",
   "execution_count": 22,
   "metadata": {
    "collapsed": false,
    "deletable": true,
    "editable": true
   },
   "outputs": [
    {
     "name": "stdout",
     "output_type": "stream",
     "text": [
      "----------------------------------------\n",
      "AGGREGATE \n",
      "\n",
      "224329       $648.00\n",
      "224330       $250.00\n",
      "224332       $200.00\n",
      "224335       $400.00\n",
      "224347       $595.00\n",
      "224348       $415.00\n",
      "224350       $210.00\n",
      "224355     $1,000.00\n",
      "224356       $500.00\n",
      "224362       $150.00\n",
      "224371       $300.00\n",
      "224372       $550.00\n",
      "224373     $3,000.00\n",
      "224375       $125.00\n",
      "224381     $4,720.51\n",
      "224383     $4,500.00\n",
      "224385    $24,991.61\n",
      "224387     $2,000.00\n",
      "224390    $18,991.61\n",
      "224392    $10,412.09\n",
      "224394     $7,275.93\n",
      "224395     $2,994.08\n",
      "224398    $15,000.00\n",
      "224399     $1,500.00\n",
      "224400     $5,672.81\n",
      "224401     $5,535.31\n",
      "224408       $272.27\n",
      "224415       $350.00\n",
      "224416       $179.71\n",
      "224418       $750.00\n",
      "             ...    \n",
      "613985       $846.30\n",
      "613986       $786.30\n",
      "613988       $686.25\n",
      "613990       $586.25\n",
      "613999       $848.75\n",
      "614011       $611.50\n",
      "614014     $4,369.75\n",
      "614015     $4,732.00\n",
      "614016       $506.50\n",
      "614020       $401.50\n",
      "614027    $10,950.67\n",
      "614028    $11,975.47\n",
      "614029    $12,250.47\n",
      "614030    $12,389.56\n",
      "614032     $9,096.87\n",
      "614167       $224.16\n",
      "614329       $565.72\n",
      "614332       $517.70\n",
      "614333       $635.52\n",
      "614337       $470.72\n",
      "614338       $425.50\n",
      "614339       $469.68\n",
      "614342       $377.48\n",
      "614343       $384.32\n",
      "614347       $293.76\n",
      "614348       $305.46\n",
      "614351       $201.12\n",
      "614352       $253.60\n",
      "614355       $201.74\n",
      "614358       $149.88\n",
      "Name: Aggregate, Length: 32658, dtype: object \n",
      "\n",
      "----------------------------------------\n",
      "AMOUNT \n",
      "\n",
      "224328      $200.00\n",
      "224329       $53.00\n",
      "224330      $250.00\n",
      "224335      $400.00\n",
      "224347      $180.00\n",
      "224348      $205.00\n",
      "224350      $210.00\n",
      "224351       $30.00\n",
      "224352       $90.00\n",
      "224353       $20.00\n",
      "224354      $275.00\n",
      "224355    $1,000.00\n",
      "224356      $500.00\n",
      "224360      $100.00\n",
      "224362      $150.00\n",
      "224364      $300.00\n",
      "224372      $550.00\n",
      "224373    $3,000.00\n",
      "224375      $125.00\n",
      "224378       $82.75\n",
      "224380      $320.00\n",
      "224381      $220.51\n",
      "224382        $3.95\n",
      "224383    $4,500.00\n",
      "224385    $6,000.00\n",
      "224387    $2,000.00\n",
      "224388        $5.93\n",
      "224390    $4,193.52\n",
      "224391    $4,386.00\n",
      "224392    $3,136.16\n",
      "            ...    \n",
      "614238       $70.69\n",
      "614240      $578.85\n",
      "614259      $113.94\n",
      "614266      $193.11\n",
      "614273      $902.88\n",
      "614278      $611.33\n",
      "614280      $357.60\n",
      "614281      $112.17\n",
      "614286      $203.85\n",
      "614290    $1,194.21\n",
      "614317       $59.61\n",
      "614320       $16.64\n",
      "614322      $229.62\n",
      "614330      $457.70\n",
      "614336      $461.55\n",
      "614340      $208.85\n",
      "614342       $72.02\n",
      "614343       $90.56\n",
      "614345      $161.55\n",
      "614347       $92.64\n",
      "614348       $51.86\n",
      "614351       $94.72\n",
      "614356      $126.27\n",
      "614379       $54.85\n",
      "614382      $303.59\n",
      "614387      $744.41\n",
      "614389      $989.84\n",
      "614397    $1,255.35\n",
      "614398      $358.34\n",
      "614409      $282.45\n",
      "Name: Amount, Length: 24637, dtype: object \n",
      "\n",
      "----------------------------------------\n",
      "TRANSACTION AMOUNT \n",
      "\n",
      "Series([], Name: Transaction Amount, dtype: float64) \n",
      "\n"
     ]
    }
   ],
   "source": [
    "float_pattern = '[-]{0,1}\\d+[.]{0,1}\\d{0,2}'\n",
    "c = '(Agg\\w*|Amount)'\n",
    "check_values(dfs['trans_details'], c, float_pattern)"
   ]
  },
  {
   "cell_type": "markdown",
   "metadata": {
    "deletable": true,
    "editable": true
   },
   "source": [
    "### Clean Trans Detail"
   ]
  },
  {
   "cell_type": "markdown",
   "metadata": {
    "deletable": true,
    "editable": true
   },
   "source": [
    "#### Dates"
   ]
  },
  {
   "cell_type": "code",
   "execution_count": 23,
   "metadata": {
    "collapsed": false,
    "deletable": true,
    "editable": true
   },
   "outputs": [],
   "source": [
    "def fix_date(d):\n",
    "    if d != d:\n",
    "        return None\n",
    "    x = d[-4:]\n",
    "    patterns = {\n",
    "        '(02|91)\\d{2}': x[:2][::-1]+x[2:],\n",
    "        '002\\d': x[2] + x[:2] + x[3],\n",
    "        '000\\d': '200' + x[3],\n",
    "        }\n",
    "    for p in patterns:\n",
    "        if re.match(p, x):\n",
    "            return d[:-4] + patterns[p]\n",
    "    return d\n",
    "\n",
    "dfs['trans_details'].loc[:, 'Transaction Date'] = \\\n",
    "    dfs['trans_details']['Transaction Date'].apply(lambda x: fix_date(x))"
   ]
  },
  {
   "cell_type": "code",
   "execution_count": 24,
   "metadata": {
    "collapsed": false,
    "deletable": true,
    "editable": true
   },
   "outputs": [
    {
     "name": "stdout",
     "output_type": "stream",
     "text": [
      "----------------------------------------\n",
      "DUE DATE \n",
      "\n",
      "87203    03/13/2023 11:59:00 PM\n",
      "Name: Due Date, dtype: object \n",
      "\n",
      "----------------------------------------\n",
      "EXAM LETTER DATE \n",
      "\n",
      "Series([], Name: Exam Letter Date, dtype: object) \n",
      "\n",
      "----------------------------------------\n",
      "FILED DATE \n",
      "\n",
      "Series([], Name: Filed Date, dtype: object) \n",
      "\n",
      "----------------------------------------\n",
      "OCCUPATION LETTER DATE \n",
      "\n",
      "Series([], Name: Occupation Letter Date, dtype: object) \n",
      "\n",
      "----------------------------------------\n",
      "TRANSACTION DATE \n",
      "\n",
      "87203    02/11/2023\n",
      "Name: Transaction Date, dtype: object \n",
      "\n",
      "----------------------------------------\n",
      "TRANSACTION FILED DATE \n",
      "\n",
      "Series([], Name: Transaction Filed Date, dtype: float64) \n",
      "\n"
     ]
    }
   ],
   "source": [
    "date_pattern = '(0[0-9]|1[0-2])/([0-2][0-9]|3[01])/(19\\d{2}|200[0-9]|201[0-8])'\n",
    "c = '\\w*\\s*Date'\n",
    "check_values(dfs['trans_details'], c, date_pattern)"
   ]
  },
  {
   "cell_type": "markdown",
   "metadata": {
    "deletable": true,
    "editable": true
   },
   "source": [
    "#### Agg & Amount"
   ]
  },
  {
   "cell_type": "code",
   "execution_count": 25,
   "metadata": {
    "collapsed": false,
    "deletable": true,
    "editable": true
   },
   "outputs": [],
   "source": [
    "def tofloat(x):\n",
    "    try:\n",
    "        if type(x) == float:\n",
    "            return x\n",
    "        if x.startswith('$'):\n",
    "            x = x.strip('$').replace(',', '')\n",
    "        return float(x)\n",
    "    except:\n",
    "        return None\n",
    "for c in ['Aggregate','Amount']:\n",
    "    dfs['trans_details'].loc[:, c] = dfs['trans_details'].loc[:, c].apply(lambda x: tofloat(x))"
   ]
  },
  {
   "cell_type": "code",
   "execution_count": 26,
   "metadata": {
    "collapsed": false,
    "deletable": true,
    "editable": true
   },
   "outputs": [
    {
     "name": "stdout",
     "output_type": "stream",
     "text": [
      "----------------------------------------\n",
      "AGGREGATE \n",
      "\n",
      "Series([], Name: Aggregate, dtype: float64) \n",
      "\n",
      "----------------------------------------\n",
      "AMOUNT \n",
      "\n",
      "Series([], Name: Amount, dtype: float64) \n",
      "\n",
      "----------------------------------------\n",
      "TRANSACTION AMOUNT \n",
      "\n",
      "Series([], Name: Transaction Amount, dtype: float64) \n",
      "\n"
     ]
    }
   ],
   "source": [
    "float_pattern = '[-]{0,1}\\d+[.]{0,1}\\d{0,2}'\n",
    "c = '(Agg\\w*|Amount)'\n",
    "check_values(dfs['trans_details'], c, float_pattern)"
   ]
  },
  {
   "cell_type": "code",
   "execution_count": 27,
   "metadata": {
    "collapsed": true,
    "deletable": true,
    "editable": true
   },
   "outputs": [],
   "source": [
    "dfs['trans_details'].to_csv('trans_details_cleaned.csv', index=False)"
   ]
  },
  {
   "cell_type": "markdown",
   "metadata": {},
   "source": [
    "## Transactions DF"
   ]
  },
  {
   "cell_type": "code",
   "execution_count": 28,
   "metadata": {
    "collapsed": false
   },
   "outputs": [
    {
     "name": "stdout",
     "output_type": "stream",
     "text": [
      "<class 'pandas.core.frame.DataFrame'>\n",
      "RangeIndex: 996347 entries, 0 to 996346\n",
      "Data columns (total 8 columns):\n",
      "Tran ID              996347 non-null object\n",
      "Tran Date            996347 non-null object\n",
      "Status               996347 non-null object\n",
      "Filer/Committee      996347 non-null object\n",
      "Contributor/Payee    987133 non-null object\n",
      "Sub Type             996347 non-null object\n",
      "Amount               996347 non-null object\n",
      "committee_id         996347 non-null object\n",
      "dtypes: object(8)\n",
      "memory usage: 60.8+ MB\n"
     ]
    }
   ],
   "source": [
    "dfs['transactions'].info()"
   ]
  },
  {
   "cell_type": "markdown",
   "metadata": {},
   "source": [
    "### Inspect Columns"
   ]
  },
  {
   "cell_type": "code",
   "execution_count": 29,
   "metadata": {
    "collapsed": false
   },
   "outputs": [
    {
     "name": "stdout",
     "output_type": "stream",
     "text": [
      "----------------------------------------\n",
      "TRAN ID \n",
      "\n",
      "[2766154, 2766158, 2766153, 2555590, 2452419, 2439203, 2439212, 2437641, 2437643, 2433266, 2432392, 2432401, 2428655, 2428687, 2428710, 2428713, 2441118, 2441119, 2448120, 2425065, 2425080, 2438974, 2439213, 2439513, 2439511] \n",
      "\n",
      "----------------------------------------\n",
      "TRAN DATE \n",
      "\n",
      "['03/05/2018', '05/24/2017', '05/22/2017', '12/02/2016', '11/07/2016', '11/04/2016', '11/03/2016', '11/02/2016', '11/01/2016', '10/31/2016', '10/30/2016', '10/28/2016', '10/27/2016', '10/26/2016', '10/25/2016', '10/23/2016', '10/21/2016', '10/20/2016', '10/18/2016', '10/17/2016', '10/16/2016', '10/13/2016', '10/12/2016', '10/11/2016', '10/10/2016'] \n",
      "\n",
      "----------------------------------------\n",
      "STATUS \n",
      "\n",
      "['Original', 'Amended'] \n",
      "\n",
      "----------------------------------------\n",
      "FILER/COMMITTEE \n",
      "\n",
      "['Studebaker for Mayor', 'Support City Schools Political Action Committee', 'Support Hood River County Schools', 'Sustainable Forestry Network', 'Friends of Ross', 'Committee to Elect John Sweet', 'Claire Syrett for Eugene City Council', 'Taxpayers Union USA', 'Committee to Elect Gerry Tiffany for Sheriff', 'Tipton for Judge', 'Committee to Elect Judge Tipton', 'Friends for Thuy Tran', 'Keep Sheriff Turner', 'Rod Underhill for District Attorney', 'Friends of Rod Underhill', 'Ben Unger for Oregon', 'Committee to Elect Juan Carlos Valle', 'Friends of Brian Van Bergen', 'Viva Las Portland', 'Herb Vloedman for County Judge', 'Herb Vloedman for County Commissioner', 'Vote Yes on Measure 34-201 End the $.02 Gas Tax', 'Committee to Elect Toni Webb - Josephine County Commissioner', 'Friends of Jennifer Wheeler', 'Gail Whitsett for Oregon'] \n",
      "\n",
      "----------------------------------------\n",
      "CONTRIBUTOR/PAYEE \n",
      "\n",
      "['Lake Oswego Veterans Memorial', nan, 'Insightful Marketing (Erin Henry)', 'Kent Studebaker', 'Robert Fallow', 'Paypal', 'SPoT Design', 'Kim Studebaker', 'Fred Baldwin', 'Oregon First (151)', \"Lowell's Print-Inn Inc.\", 'Miscellaneous Cash Contributions $100 and under', 'Miscellaneous Cash Expenditures $100 and under', 'HomeStreet Bank', 'Buz White Screenprint Inc.', 'Robert H Zink', 'Janet Wizer', 'Elaine Franklin', 'Thomas Braden', 'Jonathan Harnish', 'John B. Crowell', 'L2', 'Stafford Roundabout Investors LLC', 'Erika A Miller', 'Prints Charming Photography'] \n",
      "\n",
      "----------------------------------------\n",
      "SUB TYPE \n",
      "\n",
      "['Cash Balance Adjustment', 'Personal Expenditure Balance Adjustment', 'Cash Expenditure', 'Cash Contribution', 'Interest/Investment Income', 'Lost or Returned Check', 'In-Kind Contribution', 'Personal Expenditure for Reimbursement', 'In-Kind/Forgiven Personal Expenditures', 'Account Payable', 'Miscellaneous Other Receipt', 'Items Sold at Fair Market Value', 'Refunds and Rebates', 'Loan Received (Non-Exempt)', 'Loan Payment (Non-Exempt)', 'Pledge of Cash', 'Return or Refund of Contribution', 'Pledge of In-Kind', 'In-Kind/Forgiven Account Payable', 'Loan Forgiven (Non-Exempt)', 'Miscellaneous Other Disbursement', 'Loan Received (Exempt)', 'Nonpartisan Activity', 'Expenditure Made by an Agent', 'Uncollectible Pledge of Cash', 'Loan Payment (Exempt)', 'Account Payable Rescinded', 'Miscellaneous Account Receivable', 'Unexpended Agent Balance', 'Pledge of Loan', 'Uncollectible Pledge of In-Kind'] \n",
      "\n",
      "----------------------------------------\n",
      "AMOUNT \n",
      "\n",
      "[198.5, -397.0, 457.08, 99.28, 200.0, 100.0, 600.0, 6.1, 1300.0, 2351.0, 300.0, 500.0, 6594.0, 150.0, 28.0, 5.55, 804.34, 14.85, 225.0, 75.0, 2.48, 800.0, 1280.0, 50.0, 9579.0] \n",
      "\n",
      "----------------------------------------\n",
      "COMMITTEE_ID \n",
      "\n",
      "[15861, 15584, 15995, 4610, 15626, 15684, 15938, 14604, 15217, 15609, 15483, 15221, 14943, 15238, 15631, 15670, 16021, 15632, 16071, 15728, 15152, 15319, 15426, 15224, 15145] \n",
      "\n",
      "========================================\n",
      "Columns with many unique values:\n",
      "\n",
      "['Tran ID', 'Tran Date', 'Filer/Committee', 'Contributor/Payee', 'Amount', 'committee_id']\n"
     ]
    }
   ],
   "source": [
    "inspect_cols(dfs['transactions'])"
   ]
  },
  {
   "cell_type": "markdown",
   "metadata": {},
   "source": [
    "### Check Tran ID and Committee ID"
   ]
  },
  {
   "cell_type": "code",
   "execution_count": 30,
   "metadata": {
    "collapsed": false
   },
   "outputs": [
    {
     "name": "stdout",
     "output_type": "stream",
     "text": [
      "----------------------------------------\n",
      "TRAN ID \n",
      "\n",
      "Series([], Name: Tran ID, dtype: object) \n",
      "\n",
      "----------------------------------------\n",
      "COMMITTEE_ID \n",
      "\n",
      "Series([], Name: committee_id, dtype: object) \n",
      "\n"
     ]
    }
   ],
   "source": [
    "id_pattern = '\\d+'\n",
    "c = '(\\w*\\s*ID|\\w*_id)'\n",
    "check_values(dfs['transactions'], c, id_pattern)"
   ]
  },
  {
   "cell_type": "markdown",
   "metadata": {},
   "source": [
    "### Check Dates"
   ]
  },
  {
   "cell_type": "code",
   "execution_count": 31,
   "metadata": {
    "collapsed": false
   },
   "outputs": [
    {
     "name": "stdout",
     "output_type": "stream",
     "text": [
      "----------------------------------------\n",
      "TRAN DATE \n",
      "\n",
      "79939     05/03/0007\n",
      "92301     11/03/0209\n",
      "92302     02/23/0009\n",
      "92303     03/14/0008\n",
      "92304     02/19/0007\n",
      "110409    06/10/0007\n",
      "164085    02/11/2023\n",
      "530791    04/23/0607\n",
      "585252    11/17/0006\n",
      "672518    06/25/0207\n",
      "783246    06/04/0200\n",
      "845471    12/26/0006\n",
      "890108    12/13/0006\n",
      "Name: Tran Date, dtype: object \n",
      "\n"
     ]
    }
   ],
   "source": [
    "date_pattern = '(0[0-9]|1[0-2])/([0-2][0-9]|3[01])/(19\\d{2}|200[0-9]|201[0-8])'\n",
    "c = '\\w*\\s*Date'\n",
    "check_values(dfs['transactions'], c, date_pattern)"
   ]
  },
  {
   "cell_type": "markdown",
   "metadata": {},
   "source": [
    "### Check Amount"
   ]
  },
  {
   "cell_type": "code",
   "execution_count": 32,
   "metadata": {
    "collapsed": false
   },
   "outputs": [
    {
     "name": "stdout",
     "output_type": "stream",
     "text": [
      "----------------------------------------\n",
      "AGGREGATE \n",
      "\n",
      "Series([], Name: Aggregate, dtype: float64) \n",
      "\n",
      "----------------------------------------\n",
      "AMOUNT \n",
      "\n",
      "Series([], Name: Amount, dtype: float64) \n",
      "\n",
      "----------------------------------------\n",
      "TRANSACTION AMOUNT \n",
      "\n",
      "Series([], Name: Transaction Amount, dtype: float64) \n",
      "\n"
     ]
    }
   ],
   "source": [
    "float_pattern = '[-]{0,1}\\d+[.]{0,1}\\d{0,2}'\n",
    "c = '(Agg\\w*|Amount)'\n",
    "check_values(dfs['trans_details'], c, float_pattern)"
   ]
  },
  {
   "cell_type": "markdown",
   "metadata": {},
   "source": [
    "### Clean Transactions"
   ]
  },
  {
   "cell_type": "markdown",
   "metadata": {},
   "source": [
    "#### Dates"
   ]
  },
  {
   "cell_type": "code",
   "execution_count": 33,
   "metadata": {
    "collapsed": false
   },
   "outputs": [],
   "source": [
    "dfs['transactions'].loc[:, 'Tran Date'] = \\\n",
    "    dfs['transactions']['Tran Date'].apply(lambda x: fix_date(x))"
   ]
  },
  {
   "cell_type": "code",
   "execution_count": 34,
   "metadata": {
    "collapsed": false
   },
   "outputs": [
    {
     "name": "stdout",
     "output_type": "stream",
     "text": [
      "----------------------------------------\n",
      "TRAN DATE \n",
      "\n",
      "164085    02/11/2023\n",
      "530791    04/23/0607\n",
      "Name: Tran Date, dtype: object \n",
      "\n"
     ]
    }
   ],
   "source": [
    "date_pattern = '(0[0-9]|1[0-2])/([0-2][0-9]|3[01])/(19\\d{2}|200[0-9]|201[0-8])'\n",
    "c = '\\w*\\s*Date'\n",
    "check_values(dfs['transactions'], c, date_pattern)"
   ]
  },
  {
   "cell_type": "code",
   "execution_count": 38,
   "metadata": {
    "collapsed": false
   },
   "outputs": [],
   "source": [
    "dfs['transactions'].loc[530791, 'Tran Date'] = None"
   ]
  },
  {
   "cell_type": "code",
   "execution_count": 39,
   "metadata": {
    "collapsed": true
   },
   "outputs": [],
   "source": [
    "dfs['transactions'].to_csv('transactions_cleaned.csv', index=False)"
   ]
  },
  {
   "cell_type": "markdown",
   "metadata": {},
   "source": [
    "## Election Activity DF"
   ]
  },
  {
   "cell_type": "code",
   "execution_count": 40,
   "metadata": {
    "collapsed": false
   },
   "outputs": [
    {
     "name": "stdout",
     "output_type": "stream",
     "text": [
      "<class 'pandas.core.frame.DataFrame'>\n",
      "RangeIndex: 15347 entries, 0 to 15346\n",
      "Data columns (total 5 columns):\n",
      "election         15347 non-null object\n",
      "active_date      11395 non-null object\n",
      "status           15347 non-null object\n",
      "active_reason    11642 non-null object\n",
      "committee_id     15347 non-null object\n",
      "dtypes: object(5)\n",
      "memory usage: 599.6+ KB\n"
     ]
    }
   ],
   "source": [
    "dfs['election_activity'].info()"
   ]
  },
  {
   "cell_type": "markdown",
   "metadata": {},
   "source": [
    "### Inspect Columns"
   ]
  },
  {
   "cell_type": "code",
   "execution_count": 42,
   "metadata": {
    "collapsed": false
   },
   "outputs": [
    {
     "name": "stdout",
     "output_type": "stream",
     "text": [
      "----------------------------------------\n",
      "ELECTION \n",
      "\n",
      "['2016 General Election', '2016 Primary Election', '2014 General Election', '2014 Primary Election', '2012 General Election', '2012 Primary Election', '2010 General Election', '2010 Primary Election', '2008 General Election', '2008 Primary Election', '1998 General Election', '2006 General Election', '2006 Primary Election', '2004 General Election', '2004 Primary Election', '2002 General Election', '2002 Primary Election', '2000 General Election', '2000 Primary Election', '1998 Biennial Primary Election', '1996 General Election', '1996 Primary Election', '1994 General Election', '1994 Primary', '1992 General Election', '1992 Primary Election', '1990 General Election', '2011 May Election', '2018 Primary Election', '2013 November Election', '2017 May Election', '2017 March Election', '2015 May Election', '2010 Statewide Special Election', '2015 November Election', '2004 February Special Election', '2003 January Special Election', '1997 November Special Election', '1993 November Special Election', '2013 May Election', '2005 November Election', '2018 January Special Election', '2007 November Election', '2007 May Election', '2009 May Election', '2018 March Election', '2017 November Election', '1999 November Special Election', '2011 November Election', '2012 September Election', '2020 Primary Election', '1995 May Special Election', '2014 September Election', '2018 General Election', '2014 March Election', '2009 September Election', '2002 September Special Election', '2011 March Election', 'Recall Election, 10/27/09', '2003 September Special Election', '2012 March Election', '2008 March Election', 'Recall Election, 12/11/12, Baker School District', '2016 March Election', '1990 Primary Election', '2008 September Election', '2013 March Election', '2010 March Election', '2009 November Election', '2019 March Election', '2009 March Election', '2015 March Election', 'Recall Election, 05/23/17, City of Gladstone', 'Recall Election, 02/23/16, Columbia River PUD', 'Recall Election, 06/28/16, Harney County', '2016 September Election', 'Recall Election, 10/17/17, City of Sherwood'] \n",
      "\n",
      "----------------------------------------\n",
      "ACTIVE_DATE \n",
      "\n",
      "['08/08/2016', '02/03/2016', '08/04/2014', '02/24/2014', '08/24/2012', '02/21/2012', '08/13/2010', '03/05/2010', '08/05/2008', '03/08/2008', nan, '04/20/1998', '01/26/2011', '12/14/2012', '04/06/2011', '05/21/2010', '03/02/2011', '05/07/2009', '12/24/2001', '12/20/2017', '11/13/2009', '09/03/2013', '07/08/2008', '11/26/2007', '04/20/2017'] \n",
      "\n",
      "----------------------------------------\n",
      "STATUS \n",
      "\n",
      "['Active', 'Inactive'] \n",
      "\n",
      "----------------------------------------\n",
      "ACTIVE_REASON \n",
      "\n",
      "['System Generated / Primary or General Election', nan, 'User Requested Inactivation', 'Statement of Organization', 'Contribution to Active Candidate or Measure Committee', 'In-Kind or Independent Expenditure', 'User Requested Activation'] \n",
      "\n",
      "----------------------------------------\n",
      "COMMITTEE_ID \n",
      "\n",
      "[5611, 255, 1602, 5608, 11247, 9366, 6044, 13082, 6888, 3061, 5788, 5592, 10527, 6845, 5709, 6606, 9686, 5885, 5726, 5773, 92, 10727, 5673, 151, 4947] \n",
      "\n",
      "========================================\n",
      "Columns with many unique values:\n",
      "\n",
      "['active_date', 'committee_id']\n"
     ]
    }
   ],
   "source": [
    "inspect_cols(dfs['election_activity'])"
   ]
  },
  {
   "cell_type": "markdown",
   "metadata": {},
   "source": [
    "### Check Committee ID"
   ]
  },
  {
   "cell_type": "code",
   "execution_count": 43,
   "metadata": {
    "collapsed": false
   },
   "outputs": [
    {
     "name": "stdout",
     "output_type": "stream",
     "text": [
      "----------------------------------------\n",
      "COMMITTEE_ID \n",
      "\n",
      "Series([], Name: committee_id, dtype: object) \n",
      "\n"
     ]
    }
   ],
   "source": [
    "id_pattern = '\\d+'\n",
    "c = '(\\w*\\s*ID|\\w*_id)'\n",
    "check_values(dfs['election_activity'], c, id_pattern)"
   ]
  },
  {
   "cell_type": "markdown",
   "metadata": {},
   "source": [
    "### Check Dates"
   ]
  },
  {
   "cell_type": "code",
   "execution_count": 48,
   "metadata": {
    "collapsed": false
   },
   "outputs": [
    {
     "name": "stdout",
     "output_type": "stream",
     "text": [
      "----------------------------------------\n",
      "ACTIVE_DATE \n",
      "\n",
      "Series([], Name: active_date, dtype: object) \n",
      "\n"
     ]
    }
   ],
   "source": [
    "date_pattern = '(0[0-9]|1[0-2])/([0-2][0-9]|3[01])/(19\\d{2}|200[0-9]|201[0-8])'\n",
    "c = '\\w*_[dD]ate'\n",
    "check_values(dfs['election_activity'], c, date_pattern)"
   ]
  },
  {
   "cell_type": "code",
   "execution_count": 54,
   "metadata": {
    "collapsed": true
   },
   "outputs": [],
   "source": [
    "dfs['election_activity'].to_csv('election_activity_cleaned.csv', index=False)"
   ]
  },
  {
   "cell_type": "markdown",
   "metadata": {},
   "source": [
    "## Committee History DF"
   ]
  },
  {
   "cell_type": "code",
   "execution_count": 49,
   "metadata": {
    "collapsed": false
   },
   "outputs": [
    {
     "name": "stdout",
     "output_type": "stream",
     "text": [
      "<class 'pandas.core.frame.DataFrame'>\n",
      "RangeIndex: 9611 entries, 0 to 9610\n",
      "Data columns (total 6 columns):\n",
      "committee_name           9611 non-null object\n",
      "committee_description    9611 non-null object\n",
      "effective                9611 non-null object\n",
      "expiration               8012 non-null object\n",
      "filing_type              9611 non-null object\n",
      "committee_id             9611 non-null object\n",
      "dtypes: object(6)\n",
      "memory usage: 450.6+ KB\n"
     ]
    }
   ],
   "source": [
    "dfs['comm_history'].info()"
   ]
  },
  {
   "cell_type": "code",
   "execution_count": 50,
   "metadata": {
    "collapsed": false
   },
   "outputs": [
    {
     "name": "stdout",
     "output_type": "stream",
     "text": [
      "----------------------------------------\n",
      "COMMITTEE_NAME \n",
      "\n",
      "['American Federation of Teachers-Oregon Candidate PAC', 'Amercian Federation of Teachers-Oregon Candidate PAC', 'American Federation of Teachers-Oregon Comm on Political Education PAC', 'American Fed of Teachers-Oregon Comm on Political Education PAC', 'AFT-Oregon Cope PAC', 'AFT-Oregon Legislative PAC', 'OFTEHP Legislative PAC', 'OFTEHP Cope', 'OFT Cope Sl', 'Friends of Jessica Adamson', 'Alliance - PAC', 'Speech Hearing Action Committee', 'Speech & Hearing Action Committee', 'Citizens for Ken Strobeck', 'Strobeck, Ken, Citizens for', 'Citizens for Centennial Schools', 'Friends of Clackamas Community College', 'Committee to Elect Carolyn Oakley', 'Bartel for Eugene Water & Electric Board', 'Constitution Party Of Columbia County', 'Committee to Re-Elect Steve Druckenmiller', 'Jones, Dick, Citizens for', 'Jones, Dick, for State Senate', 'Committee to Elect Scot Langton Deschutes County Assessor', 'Yes for Student Success'] \n",
      "\n",
      "----------------------------------------\n",
      "COMMITTEE_DESCRIPTION \n",
      "\n",
      "['Miscellaneous', 'Director, Sherwood School District, Position 1, Nonpartisan', 'State Representative, 26th District, Democrat', 'State Representative, 6th District, Republican', 'Measure Supports Measure 26-17 - 2000 Supports Measure 26-97 - 2008 Supports Measure 26-175 - 2016', 'Measure Supports Measure 26-17 - 2000 Supports Measure 26-97 - 2008', 'Measure Supports Measure 26-17 - 2000', 'Measure', 'Measure Supports Measure 3-373 - 2011', 'Measure Supports Measure 3-97 - 2000', 'County Commissioner, Benton County, Position 3, Republican', 'Board Member, Eugene Water and Electric Board, At Large, Nonpartisan', 'Political PartyConstitution', 'County Clerk, Linn County, Nonpartisan', 'State Representative, 40th District, Republican', 'State Representative, 25th District, Republican', 'State Senator, 12th District, Republican', 'County Assessor, Deschutes County, Nonpartisan', 'Measure Supports Measure 26-153 - 2013', 'Measure Supports Measure 26-44 - 2002', 'County Clerk, Marion County, Nonpartisan', 'City Commissioner, City of Portland, Position 2, Nonpartisan', 'City Commissioner, City of Portland, Position 1, Nonpartisan', 'County Commissioner, Columbia County, Position 3, Nonpartisan', 'County Commissioner, Benton County, Position 3, Democrat'] \n",
      "\n",
      "----------------------------------------\n",
      "EFFECTIVE \n",
      "\n",
      "['09/26/2016', '04/04/2016', '02/03/2014', '11/04/2013', '10/11/2013', '10/25/2012', '10/07/2009', '09/29/2009', '12/04/2007', '10/12/2007', '12/04/2006', '10/12/2006', '09/01/2006', '08/21/2006', '04/12/2006', '01/30/2006', '07/01/2005', '03/15/2005', '10/20/2004', '08/02/2004', '01/15/2004', '05/14/2003', '11/05/2002', '10/01/2002', '04/29/2002'] \n",
      "\n",
      "----------------------------------------\n",
      "EXPIRATION \n",
      "\n",
      "[nan, '09/26/2016', '04/04/2016', '02/03/2014', '11/04/2013', '10/11/2013', '10/25/2012', '10/06/2009', '09/28/2009', '12/03/2007', '10/11/2007', '12/03/2006', '10/11/2006', '08/31/2006', '08/20/2006', '04/11/2006', '01/29/2006', '06/30/2005', '03/14/2005', '10/19/2004', '08/01/2004', '01/14/2004', '05/13/2003', '11/04/2002', '09/30/2002'] \n",
      "\n",
      "----------------------------------------\n",
      "FILING_TYPE \n",
      "\n",
      "['Amendment', 'Original', 'Discontinuation', 'Administrative Discontinuation'] \n",
      "\n",
      "----------------------------------------\n",
      "COMMITTEE_ID \n",
      "\n",
      "[113, 12510, 4797, 255, 1602, 5608, 11247, 9366, 6044, 13082, 6888, 3061, 5788, 5592, 10527, 6845, 5709, 6606, 9686, 5885, 5726, 5773, 92, 10727, 5673] \n",
      "\n",
      "========================================\n",
      "Columns with many unique values:\n",
      "\n",
      "['committee_name', 'committee_description', 'effective', 'expiration', 'committee_id']\n"
     ]
    }
   ],
   "source": [
    "inspect_cols(dfs['comm_history'])"
   ]
  },
  {
   "cell_type": "markdown",
   "metadata": {},
   "source": [
    "### Check Committee ID"
   ]
  },
  {
   "cell_type": "code",
   "execution_count": null,
   "metadata": {
    "collapsed": true
   },
   "outputs": [],
   "source": [
    "id_pattern = '\\d+'\n",
    "c = '(\\w*\\s*ID|\\w*_id)'\n",
    "check_values(dfs['comm_history'], c, id_pattern)"
   ]
  },
  {
   "cell_type": "markdown",
   "metadata": {},
   "source": [
    "### Check Dates"
   ]
  },
  {
   "cell_type": "code",
   "execution_count": 53,
   "metadata": {
    "collapsed": false
   },
   "outputs": [
    {
     "name": "stdout",
     "output_type": "stream",
     "text": [
      "----------------------------------------\n",
      "EFFECTIVE \n",
      "\n",
      "Series([], Name: effective, dtype: object) \n",
      "\n",
      "----------------------------------------\n",
      "EXPIRATION \n",
      "\n",
      "Series([], Name: expiration, dtype: object) \n",
      "\n"
     ]
    }
   ],
   "source": [
    "date_pattern = '(0[0-9]|1[0-2])/([0-2][0-9]|3[01])/(19\\d{2}|200[0-9]|201[0-8])'\n",
    "c = '(effective|expiration)'\n",
    "check_values(dfs['comm_history'], c, date_pattern)"
   ]
  },
  {
   "cell_type": "code",
   "execution_count": 55,
   "metadata": {
    "collapsed": true
   },
   "outputs": [],
   "source": [
    "dfs['comm_history'].to_csv('comm_history_cleaned.csv', index=False)"
   ]
  },
  {
   "cell_type": "markdown",
   "metadata": {
    "deletable": true,
    "editable": true
   },
   "source": [
    "## Run Scrapers"
   ]
  },
  {
   "cell_type": "code",
   "execution_count": 39,
   "metadata": {
    "collapsed": false,
    "deletable": true,
    "editable": true
   },
   "outputs": [
    {
     "data": {
      "text/plain": [
       "'/home/michaelcrown/Projects/HackOregon/elections-2018'"
      ]
     },
     "execution_count": 39,
     "metadata": {},
     "output_type": "execute_result"
    }
   ],
   "source": [
    "os.chdir('elections-2018')\n",
    "os.getcwd()"
   ]
  },
  {
   "cell_type": "code",
   "execution_count": 32,
   "metadata": {
    "collapsed": true,
    "deletable": true,
    "editable": true
   },
   "outputs": [],
   "source": [
    "def parse_ostar(cid, start, stop):\n",
    "    print('Parsing cid {}'.format(cid))\n",
    "    i = 1\n",
    "    while True:\n",
    "        args = ' '.join([\n",
    "            str(cid), \n",
    "            start.lstrip('0'), \n",
    "            stop.lstrip('0'), \n",
    "            str(i),\n",
    "            ])\n",
    "        print(start, stop)\n",
    "        pypath = os.path.join(os.getcwd(), 'scrape_files/transactions_scrape_date.py')\n",
    "        cmd = 'python {} {}'.format(pypath, args)\n",
    "        os.system(cmd)\n",
    "        file = 'transactions_gaps{}_{}.csv'.format(cid, i)\n",
    "        dfpath = os.path.join(os.getcwd(), file)\n",
    "        df = pd.read_csv(dfpath, parse_dates=['Tran Date'])\n",
    "        if len(df) < 5000:\n",
    "            break\n",
    "        stop = df['Tran Date'].min().date().strftime('%m/%d/%Y')\n",
    "        i += 1"
   ]
  },
  {
   "cell_type": "code",
   "execution_count": null,
   "metadata": {
    "collapsed": true,
    "deletable": true,
    "editable": true
   },
   "outputs": [],
   "source": [
    "parser_args = [\n",
    "#     (4572, '01/1/1900', '12/7/17'),\n",
    "    (4572, '01/1/1900', '09/28/2016'),\n",
    "    (3396, '10/15/11', '9/15/14'),\n",
    "    (191, '5/27/2011', '4/28/13'),\n",
    "    (39, '12/23/2009', '10/25/16'),\n",
    "    ]\n",
    "\n",
    "for args in parser_args:\n",
    "    parse_ostar(*args)"
   ]
  }
 ],
 "metadata": {
  "kernelspec": {
   "display_name": "Python 3",
   "language": "python",
   "name": "python3"
  },
  "language_info": {
   "codemirror_mode": {
    "name": "ipython",
    "version": 3
   },
   "file_extension": ".py",
   "mimetype": "text/x-python",
   "name": "python",
   "nbconvert_exporter": "python",
   "pygments_lexer": "ipython3",
   "version": "3.4.5"
  }
 },
 "nbformat": 4,
 "nbformat_minor": 2
}
