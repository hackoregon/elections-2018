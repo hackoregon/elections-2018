{
 "cells": [
  {
   "cell_type": "code",
   "execution_count": 1,
   "metadata": {
    "collapsed": true
   },
   "outputs": [],
   "source": [
    "import pandas as pd\n",
    "from pandas import DataFrame as DF, Series\n",
    "import numpy as np\n",
    "import psycopg2 as pg\n",
    "\n",
    "import requests\n",
    "import io\n",
    "import json"
   ]
  },
  {
   "cell_type": "code",
   "execution_count": 2,
   "metadata": {
    "collapsed": true
   },
   "outputs": [],
   "source": [
    "def insert_df(df, name):\n",
    "    \"\"\" Inserts rows from a dataframe into a postgres table.\n",
    "    \n",
    "        df : pandas dataframe\n",
    "        name : name of the table in postgres\n",
    "    \"\"\"\n",
    "    global cur\n",
    "    \n",
    "    cols = to_df('select * from ' + name).columns.tolist()\n",
    "    rows = [tuple(r)[1:] for r in df[cols].itertuples()]\n",
    "    n = len(rows[0])\n",
    "    row_values = ','.join([cur.mogrify('({})'.format(\n",
    "        ', '.join(n*['%s'])), r).decode('utf-8') for r in rows])\n",
    "    q = 'INSERT INTO {} VALUES '.format(name.upper()) + row_values\n",
    "    cur.execute(q)\n",
    "    print('Inserted {} rows into {}'.format(len(df), name))\n",
    "\n",
    "    \n",
    "def to_df(q):\n",
    "    \"\"\" Return dataframe containing query results.\n",
    "    \n",
    "        q : query string that will be executed by postgres\n",
    "    \"\"\"\n",
    "    global cur\n",
    "    cur.execute(q)\n",
    "    return DF(cur.fetchall(), \n",
    "              columns=[d[0] for d in cur.description])"
   ]
  },
  {
   "cell_type": "code",
   "execution_count": 3,
   "metadata": {
    "collapsed": true
   },
   "outputs": [],
   "source": [
    "def nan_to_null(f,\n",
    "        _NULL=pg.extensions.AsIs('NULL'),\n",
    "        _NaN=np.NaN,\n",
    "        _Float=pg.extensions.Float):\n",
    "    if f is not _NaN:\n",
    "        return _Float(f)\n",
    "    return _NULL\n",
    "\n",
    "pg.extensions.register_adapter(float, nan_to_null)"
   ]
  },
  {
   "cell_type": "code",
   "execution_count": 4,
   "metadata": {
    "collapsed": false
   },
   "outputs": [],
   "source": [
    "db = pg.connect(host='0.0.0.0', port='5432', user='postgres')\n",
    "cur = db.cursor()"
   ]
  },
  {
   "cell_type": "markdown",
   "metadata": {},
   "source": [
    "## Get Data"
   ]
  },
  {
   "cell_type": "code",
   "execution_count": 5,
   "metadata": {
    "collapsed": true
   },
   "outputs": [],
   "source": [
    "urls = {\n",
    "    'committee_history': \"\"\"https://raw.githubusercontent.com/hackoregon/elections-2018/\n",
    "    master/scrape_files/committee_history_first_batch.csv\"\"\",\n",
    "    'committees_list': \"\"\"https://raw.githubusercontent.com/hackoregon/elections-2018/\n",
    "    master/scrape_files/committees_list.tsv\"\"\",\n",
    "    'statement_of_org': \"\"\"https://raw.githubusercontent.com/hackoregon/elections-2018/\n",
    "    master/scrape_files/statement_of_organization_first_batch.csv\"\"\",\n",
    "    'transactions': \"\"\"https://raw.githubusercontent.com/hackoregon/elections-2018/\n",
    "    master/scrape_files/transactions_first_batch.csv\"\"\",\n",
    "    'transaction_details': \"\"\"https://raw.githubusercontent.com/hackoregon/elections-2018/\n",
    "    master/scrape_files/trans_detail_first_batch_clean.csv\"\"\",\n",
    "    'election_activity': \"\"\"https://raw.githubusercontent.com/hackoregon/elections-2018/\n",
    "    master/scrape_files/election_activity_first_batch.csv\"\"\",\n",
    "}"
   ]
  },
  {
   "cell_type": "code",
   "execution_count": 6,
   "metadata": {
    "collapsed": false
   },
   "outputs": [
    {
     "name": "stdout",
     "output_type": "stream",
     "text": [
      "transaction_details: complete\n",
      "transactions: complete\n",
      "committees_list: complete\n",
      "statement_of_org: complete\n",
      "committee_history: complete\n",
      "election_activity: complete\n"
     ]
    }
   ],
   "source": [
    "import sys\n",
    "all_dfs = {}\n",
    "for name,url in urls.items():\n",
    "    sys.stdout.write('\\r{}: loading'.format(name))\n",
    "    sys.stdout.flush()\n",
    "    r = requests.get(url.replace('\\n', '').replace(' ', ''))\n",
    "    if name == 'transaction_details':\n",
    "        all_dfs[name] = pd.read_csv(io.StringIO(r.content.decode('utf-8')), dtype={2:str})\n",
    "    elif name == 'committees_list':\n",
    "        all_dfs[name] = pd.read_csv(io.StringIO(r.content.decode('utf-8')), sep='\\t')\n",
    "    else:\n",
    "        all_dfs[name] = pd.read_csv(io.StringIO(r.content.decode('utf-8')))\n",
    "    sys.stdout.write('\\r{}: complete'.format(name))\n",
    "    sys.stdout.flush()\n",
    "    print()"
   ]
  },
  {
   "cell_type": "markdown",
   "metadata": {},
   "source": [
    "### Create Dummy Data for Other Tables"
   ]
  },
  {
   "cell_type": "code",
   "execution_count": 7,
   "metadata": {
    "collapsed": true
   },
   "outputs": [],
   "source": [
    "import json"
   ]
  },
  {
   "cell_type": "code",
   "execution_count": 8,
   "metadata": {
    "collapsed": false
   },
   "outputs": [],
   "source": [
    "# donor\n",
    "data = {'donor_id': 123,\n",
    "        'donor_name': 'Cookie Monster',\n",
    "        'donor_address': '456 Sesame Street',\n",
    "        'donor_type': \"Trashcan Donor\",\n",
    "        'donor_cats': json.dumps({'categories': ['trash', 'can', 'trashcan']})}\n",
    "all_dfs['donor'] = DF([data])\n",
    "\n",
    "# payee\n",
    "data = {'payee_id': 789,\n",
    "        'payee_name': 'James Bond'}\n",
    "all_dfs['payee'] = DF([data])\n",
    "\n",
    "# ballots\n",
    "d1 = {'name': 'Jane Smith', \n",
    "      'campaigns': [{'year': 2016, \n",
    "                     'pos': 'myr', \n",
    "                     'votes': {'county_a': 300,\n",
    "                               'county_b': 480}}, \n",
    "                    {'year': 2017, \n",
    "                     'pos': 'gov', \n",
    "                     'votes': {'county_a': 750,\n",
    "                               'county_b': 800,\n",
    "                               'county_c': 650}}\n",
    "                   ]\n",
    "     }\n",
    "d2 = {'name': 'John Doe', \n",
    "      'campaigns': [{'year': 2016, \n",
    "                     'pos': 'myr', \n",
    "                     'votes': {'county_a': 150,\n",
    "                               'county_b': 370}}, \n",
    "                    {'year': 2017, \n",
    "                     'pos': 'sen', \n",
    "                     'votes': {'county_a': 460,\n",
    "                               'county_b': 500,\n",
    "                               'county_d': 350}}\n",
    "                   ]\n",
    "     }\n",
    "data = [['Jane Smith', json.dumps(d1)],\n",
    "        ['John Doe', json.dumps(d2)]]\n",
    "all_dfs['ballots'] = DF(data, columns=['candidate_name', 'json'])"
   ]
  },
  {
   "cell_type": "markdown",
   "metadata": {},
   "source": [
    "## Create Tables"
   ]
  },
  {
   "cell_type": "code",
   "execution_count": 9,
   "metadata": {
    "collapsed": false
   },
   "outputs": [],
   "source": [
    "# run this cell to create local-elections-finance database\n",
    "from psycopg2.extensions import ISOLATION_LEVEL_AUTOCOMMIT\n",
    "db.set_isolation_level(ISOLATION_LEVEL_AUTOCOMMIT)\n",
    "cur = db.cursor()\n",
    "try:\n",
    "    cur.execute('create database \"local-elections-finance\"')\n",
    "    db.commit()\n",
    "except:\n",
    "    db.rollback()\n",
    "    pass"
   ]
  },
  {
   "cell_type": "code",
   "execution_count": 10,
   "metadata": {
    "collapsed": false
   },
   "outputs": [],
   "source": [
    "# connect to local-elections-finance\n",
    "db = pg.connect(host='0.0.0.0', dbname='local-elections-finance', port='5432', user='postgres')\n",
    "cur = db.cursor()"
   ]
  },
  {
   "cell_type": "code",
   "execution_count": 11,
   "metadata": {
    "collapsed": true
   },
   "outputs": [],
   "source": [
    "all_qs = []  # holds create table statements\n",
    "\n",
    "# creates a table from slightly altered markdown (the string)\n",
    "def create_table(string, name):\n",
    "    global cur, db, all_qs\n",
    "    lines = [l.strip() for l in string.replace('*', '').strip().split('\\n')]\n",
    "    start = \"CREATE TABLE IF NOT EXISTS {} (\".format(name)\n",
    "    end = \")\"\n",
    "    q = start + ', '.join(lines) + end\n",
    "    all_qs.append(q)\n",
    "    cur.execute(q)\n",
    "    print('Created table', name.upper())"
   ]
  },
  {
   "cell_type": "code",
   "execution_count": 12,
   "metadata": {
    "collapsed": true
   },
   "outputs": [],
   "source": [
    "# dict to hold all schema strings from markdown\n",
    "schemas = {\n",
    "    'committee_history': \"\"\"* **committee_id** int\n",
    "* **committee_name** varchar(255)\n",
    "* **committee_description** varchar(512)\n",
    "* **effective** date\n",
    "* **expiration** date\n",
    "* **filing_type** varchar(32)\"\"\",\n",
    "    'committees_list': \"\"\"* **id** int primary key\n",
    "* **filer_name** varchar(255)\n",
    "* **filer_description** varchar(255)\"\"\",\n",
    "    'election_activity': \"\"\"* **election** varchar(32)\n",
    "* **committee_id** int\n",
    "* **active_date** date\n",
    "* **status** varchar(8)\n",
    "* **active_reason** varchar(255)\"\"\",\n",
    "    'statement_of_org': \"\"\"* **committee_id** int primary key\n",
    "* **committee_name** varchar(255)\n",
    "* **candidate_address** varchar(255)\n",
    "* **committee_acronym** varchar(32)\n",
    "* **committee_address** varchar(255)\n",
    "* **committee_campaign_phone** varchar(32)\n",
    "* **committee_filing_effective_from** varchar(255)\n",
    "* **committee_filing_type** varchar(10)\n",
    "* **committee_pac_type** varchar(32)\n",
    "* **election_office** varchar(255)\n",
    "* **email_address** varchar(255)\n",
    "* **employer** varchar(255)\n",
    "* **fax** varchar(32)\n",
    "* **home_phone** varchar(32)\n",
    "* **mailing_address** varchar(255)\n",
    "* **name** varchar(255)\n",
    "* **occupation** varchar(255)\n",
    "* **party_affiliation** varchar(11)\n",
    "* **treasurer_email_address** varchar(255)\n",
    "* **treasurer_fax** varchar(32)\n",
    "* **treasurer_home_phone** varchar(32)\n",
    "* **treasurer_mailing_address** varchar(255)\n",
    "* **treasurer_name** varchar(255)\n",
    "* **treasurer_work_phone** varchar(32)\n",
    "* **work_phone** varchar(32)\"\"\",\n",
    "    'transactions': \"\"\"* **transaction_id** int primary key\n",
    "* **committee_id** int\n",
    "* **transaction_date** date\n",
    "* **status** varchar(32)\n",
    "* **filer_committee** varchar(255)\n",
    "* **contributor_payee** varchar(255)\n",
    "* **transaction_subtype** varchar(255)\n",
    "* **amount** numeric\"\"\",\n",
    "    'transaction_details': \"\"\"* **transaction_id** int primary key\n",
    "* **payee_id** int\n",
    "* **donor_id** int\n",
    "* **address** varchar(255)\n",
    "* **address_book_type** varchar(32)\n",
    "* **agent** varchar(64)\n",
    "* **aggregate** numeric\n",
    "* **amount** numeric\n",
    "* **associations** varchar(1024)\n",
    "* **description** varchar(255)\n",
    "* **due_date** timestamp\n",
    "* **employer_name** varchar(255)\n",
    "* **filed_date** timestamp\n",
    "* **name** varchar(255)\n",
    "* **occupation** varchar(255)\n",
    "* **occupation_letter_date** date\n",
    "* **payer_of_personal_expenditure** varchar(255)\n",
    "* **payment_method** varchar(32)\n",
    "* **process_status** varchar(32)\n",
    "* **purpose** varchar(255)\n",
    "* **repayment_schedule** varchar(64)\n",
    "* **transaction_date** date\n",
    "* **transaction_sub_type** varchar(255)\n",
    "* **transaction_type** varchar(32)\"\"\",\n",
    "    'donor': \"\"\"* **donor_id** int primary key\n",
    "* **donor_name** varchar(255)\n",
    "* **donor_address** varchar(255)\n",
    "* **donor_type** varchar(32)\n",
    "* **donor_cats** jsonb\"\"\",\n",
    "    'payee': \"\"\"* **payee_id** int primary key\n",
    "* **payee_name** varchar(255)\"\"\",\n",
    "    'ballots': \"\"\"* **candidate_name** varchar(255) primary key\n",
    "* **json** jsonb\"\"\"}"
   ]
  },
  {
   "cell_type": "code",
   "execution_count": 13,
   "metadata": {
    "collapsed": false
   },
   "outputs": [
    {
     "data": {
      "text/plain": [
       "committee_name            79.0\n",
       "committee_description    318.0\n",
       "effective                 10.0\n",
       "expiration                10.0\n",
       "filing_type                9.0\n",
       "dtype: float64"
      ]
     },
     "execution_count": 13,
     "metadata": {},
     "output_type": "execute_result"
    }
   ],
   "source": [
    "all_dfs['committee_history'].select_dtypes(include=['O']).apply(lambda x: x.str.len()).max()"
   ]
  },
  {
   "cell_type": "code",
   "execution_count": 14,
   "metadata": {
    "collapsed": false
   },
   "outputs": [
    {
     "data": {
      "text/plain": [
       "address                           90.0\n",
       "address_book_type                 28.0\n",
       "agent                             28.0\n",
       "associations                     954.0\n",
       "description                      179.0\n",
       "due_date                          22.0\n",
       "employer_name                     81.0\n",
       "filed_date                        22.0\n",
       "name                             110.0\n",
       "occupation                        84.0\n",
       "occupation_letter_date            10.0\n",
       "payer_of_personal_expenditure     48.0\n",
       "payment_method                    25.0\n",
       "process_status                    22.0\n",
       "purpose                          191.0\n",
       "repayment_schedule                38.0\n",
       "transaction_date                  10.0\n",
       "transaction_sub_type              39.0\n",
       "transaction_type                  24.0\n",
       "dtype: float64"
      ]
     },
     "execution_count": 14,
     "metadata": {},
     "output_type": "execute_result"
    }
   ],
   "source": [
    "all_dfs['transaction_details'].select_dtypes(include=['O']).apply(lambda x: x.str.len()).max()"
   ]
  },
  {
   "cell_type": "markdown",
   "metadata": {},
   "source": [
    "### Loop & Create Tables"
   ]
  },
  {
   "cell_type": "code",
   "execution_count": 15,
   "metadata": {
    "collapsed": false
   },
   "outputs": [
    {
     "name": "stdout",
     "output_type": "stream",
     "text": [
      "Created table TRANSACTION_DETAILS\n",
      "Created table DONOR\n",
      "Created table TRANSACTIONS\n",
      "Created table COMMITTEES_LIST\n",
      "Created table STATEMENT_OF_ORG\n",
      "Created table COMMITTEE_HISTORY\n",
      "Created table BALLOTS\n",
      "Created table ELECTION_ACTIVITY\n",
      "Created table PAYEE\n"
     ]
    }
   ],
   "source": [
    "for n,s in schemas.items():\n",
    "    try:\n",
    "        cur.execute('drop table if exists {}'.format(n))\n",
    "        create_table(s, n)\n",
    "        db.commit()\n",
    "    except Exception as e:\n",
    "        print(e)\n",
    "        db.rollback()"
   ]
  },
  {
   "cell_type": "markdown",
   "metadata": {},
   "source": [
    "## Clean Data"
   ]
  },
  {
   "cell_type": "code",
   "execution_count": 16,
   "metadata": {
    "collapsed": true
   },
   "outputs": [],
   "source": [
    "def tofloat(x):\n",
    "    try:\n",
    "        if x.startswith('$'):\n",
    "            x = x.strip('$').replace(',', '')\n",
    "        return float(x)\n",
    "    except:\n",
    "        return None"
   ]
  },
  {
   "cell_type": "markdown",
   "metadata": {},
   "source": [
    "**Transactions**"
   ]
  },
  {
   "cell_type": "code",
   "execution_count": 17,
   "metadata": {
    "collapsed": false
   },
   "outputs": [],
   "source": [
    "db_cols = to_df('select * from transactions').columns"
   ]
  },
  {
   "cell_type": "code",
   "execution_count": 18,
   "metadata": {
    "collapsed": false
   },
   "outputs": [],
   "source": [
    "# column names to lower_case\n",
    "all_dfs['transactions'].columns = [c.lower().replace(' ', '_').replace('/', '_') for c in all_dfs['transactions']]\n",
    "# rename a few\n",
    "all_dfs['transactions'].rename(columns={'tran_id': 'transaction_id', \n",
    "                                        'tran_date': 'transaction_date',\n",
    "                                        'sub_type': 'transaction_subtype'},\n",
    "                               inplace=True)\n",
    "# reorder columns to match DB\n",
    "all_dfs['transactions'] = all_dfs['transactions'][db_cols]"
   ]
  },
  {
   "cell_type": "code",
   "execution_count": 19,
   "metadata": {
    "collapsed": true
   },
   "outputs": [],
   "source": [
    "# convert amount values to float\n",
    "all_dfs['transactions'].loc[:, 'amount'] = all_dfs['transactions'].amount.apply(lambda x: tofloat(x))"
   ]
  },
  {
   "cell_type": "markdown",
   "metadata": {},
   "source": [
    "**Statement of Org**"
   ]
  },
  {
   "cell_type": "code",
   "execution_count": 20,
   "metadata": {
    "collapsed": true
   },
   "outputs": [],
   "source": [
    "db_cols = to_df('select * from statement_of_org').columns"
   ]
  },
  {
   "cell_type": "code",
   "execution_count": 21,
   "metadata": {
    "collapsed": false
   },
   "outputs": [],
   "source": [
    "# column names to lower_case\n",
    "all_dfs['statement_of_org'].columns = [c.lower().replace(' ', '_').replace('/', '_') \n",
    "                                       for c in all_dfs['statement_of_org']]\n",
    "\n",
    "# reorder columns to match DB\n",
    "all_dfs['statement_of_org'] = all_dfs['statement_of_org'][db_cols]"
   ]
  },
  {
   "cell_type": "markdown",
   "metadata": {},
   "source": [
    "**Committees List**"
   ]
  },
  {
   "cell_type": "code",
   "execution_count": 22,
   "metadata": {
    "collapsed": true
   },
   "outputs": [],
   "source": [
    "db_cols = to_df('select * from committees_list').columns"
   ]
  },
  {
   "cell_type": "code",
   "execution_count": 23,
   "metadata": {
    "collapsed": false
   },
   "outputs": [
    {
     "data": {
      "text/plain": [
       "['id', 'filer_name', 'filer_description']"
      ]
     },
     "execution_count": 23,
     "metadata": {},
     "output_type": "execute_result"
    }
   ],
   "source": [
    "db_cols.tolist()"
   ]
  },
  {
   "cell_type": "code",
   "execution_count": 24,
   "metadata": {
    "collapsed": false
   },
   "outputs": [],
   "source": [
    "# column names to lower_case\n",
    "all_dfs['committees_list'].columns = [c.lower().replace(' ', '_') for c in all_dfs['committees_list']]\n",
    "\n",
    "# reorder columns to match DB\n",
    "all_dfs['committees_list'] = all_dfs['committees_list'][db_cols]"
   ]
  },
  {
   "cell_type": "markdown",
   "metadata": {},
   "source": [
    "## Insert Data"
   ]
  },
  {
   "cell_type": "code",
   "execution_count": 25,
   "metadata": {
    "collapsed": false
   },
   "outputs": [
    {
     "name": "stdout",
     "output_type": "stream",
     "text": [
      "Inserted 125 rows into statement_of_org\n",
      "Inserted 1 rows into donor\n",
      "Inserted 88310 rows into transactions\n",
      "Inserted 1374 rows into committee_history\n",
      "Inserted 88310 rows into transaction_details\n",
      "Inserted 1617 rows into committees_list\n",
      "Inserted 2 rows into ballots\n",
      "Inserted 2056 rows into election_activity\n",
      "Inserted 1 rows into payee\n"
     ]
    }
   ],
   "source": [
    "for name, df in all_dfs.items():\n",
    "    try:\n",
    "        insert_df(df, name)\n",
    "    except Exception as e:\n",
    "        db.rollback()\n",
    "        print(name)\n",
    "        print(e)\n",
    "        print()"
   ]
  }
 ],
 "metadata": {
  "kernelspec": {
   "display_name": "Python 3",
   "language": "python",
   "name": "python3"
  },
  "language_info": {
   "codemirror_mode": {
    "name": "ipython",
    "version": 3
   },
   "file_extension": ".py",
   "mimetype": "text/x-python",
   "name": "python",
   "nbconvert_exporter": "python",
   "pygments_lexer": "ipython3",
   "version": "3.4.5"
  }
 },
 "nbformat": 4,
 "nbformat_minor": 2
}
