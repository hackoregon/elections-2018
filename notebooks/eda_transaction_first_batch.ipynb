{
 "cells": [
  {
   "cell_type": "markdown",
   "metadata": {},
   "source": [
    "# Goal of this notebook:\n",
    "\n",
    "1. High-Level Checks of the dataset\n",
    "    - Check nulls, uniques, and take a look at first and last 5 rows\n",
    "2. Look column by column:\n",
    "    - Go through each column and do a quick check for integrity\n"
   ]
  },
  {
   "cell_type": "code",
   "execution_count": 1,
   "metadata": {
    "collapsed": true
   },
   "outputs": [],
   "source": [
    "import pandas as pd\n",
    "import numpy as np\n",
    "from datetime import datetime\n",
    "import matplotlib.pyplot as plt\n",
    "% matplotlib inline\n",
    "\n",
    "data = pd.read_csv('../transactions_first_batch.csv', low_memory = False, dtype='O')"
   ]
  },
  {
   "cell_type": "markdown",
   "metadata": {},
   "source": [
    "## 1. Data Overview\n",
    "- Check number of records:"
   ]
  },
  {
   "cell_type": "code",
   "execution_count": 2,
   "metadata": {},
   "outputs": [
    {
     "name": "stdout",
     "output_type": "stream",
     "text": [
      "Rows: 88310 Columns: 8 before NUll Drop\n",
      "Rows: 87530 Columns: 8 After NUll Drop\n"
     ]
    }
   ],
   "source": [
    "print(\"Rows: %i Columns: %i before NUll Drop\" % data.shape)\n",
    "print(\"Rows: %i Columns: %i After NUll Drop\" % data.dropna().shape)"
   ]
  },
  {
   "cell_type": "markdown",
   "metadata": {},
   "source": [
    "- Check the number of unique Items across all columns.\n",
    "    - **Note:** Commitee_ID is 104, I expected 100 "
   ]
  },
  {
   "cell_type": "code",
   "execution_count": 3,
   "metadata": {},
   "outputs": [
    {
     "data": {
      "text/plain": [
       "Tran ID              88310\n",
       "Tran Date             4101\n",
       "Status                   2\n",
       "Filer/Committee        142\n",
       "Contributor/Payee    19501\n",
       "Sub Type                29\n",
       "Amount               14639\n",
       "committee_id           104\n",
       "dtype: int64"
      ]
     },
     "execution_count": 3,
     "metadata": {},
     "output_type": "execute_result"
    }
   ],
   "source": [
    "data.apply(lambda x: len(set(x)))"
   ]
  },
  {
   "cell_type": "markdown",
   "metadata": {},
   "source": [
    "- Check the number of Nulls:\n",
    "    - Note: The only column with null values is 780. Additional exploration later in this notebook."
   ]
  },
  {
   "cell_type": "code",
   "execution_count": 4,
   "metadata": {},
   "outputs": [
    {
     "data": {
      "text/plain": [
       "Tran ID                0\n",
       "Tran Date              0\n",
       "Status                 0\n",
       "Filer/Committee        0\n",
       "Contributor/Payee    780\n",
       "Sub Type               0\n",
       "Amount                 0\n",
       "committee_id           0\n",
       "dtype: int64"
      ]
     },
     "execution_count": 4,
     "metadata": {},
     "output_type": "execute_result"
    }
   ],
   "source": [
    "len(data) - data.count()"
   ]
  },
  {
   "cell_type": "markdown",
   "metadata": {},
   "source": [
    "- Look at first and last five"
   ]
  },
  {
   "cell_type": "code",
   "execution_count": 6,
   "metadata": {},
   "outputs": [
    {
     "data": {
      "text/html": [
       "<div>\n",
       "<style>\n",
       "    .dataframe thead tr:only-child th {\n",
       "        text-align: right;\n",
       "    }\n",
       "\n",
       "    .dataframe thead th {\n",
       "        text-align: left;\n",
       "    }\n",
       "\n",
       "    .dataframe tbody tr th {\n",
       "        vertical-align: top;\n",
       "    }\n",
       "</style>\n",
       "<table border=\"1\" class=\"dataframe\">\n",
       "  <thead>\n",
       "    <tr style=\"text-align: right;\">\n",
       "      <th></th>\n",
       "      <th>Tran ID</th>\n",
       "      <th>Tran Date</th>\n",
       "      <th>Status</th>\n",
       "      <th>Filer/Committee</th>\n",
       "      <th>Contributor/Payee</th>\n",
       "      <th>Sub Type</th>\n",
       "      <th>Amount</th>\n",
       "      <th>committee_id</th>\n",
       "    </tr>\n",
       "  </thead>\n",
       "  <tbody>\n",
       "    <tr>\n",
       "      <th>0</th>\n",
       "      <td>1454151</td>\n",
       "      <td>01/24/2013</td>\n",
       "      <td>Original</td>\n",
       "      <td>Speech Hearing Action Committee</td>\n",
       "      <td>Sara Gelser for State Representative (4680)</td>\n",
       "      <td>Lost or Returned Check</td>\n",
       "      <td>$200.00</td>\n",
       "      <td>255</td>\n",
       "    </tr>\n",
       "    <tr>\n",
       "      <th>1</th>\n",
       "      <td>968825</td>\n",
       "      <td>11/30/2010</td>\n",
       "      <td>Original</td>\n",
       "      <td>Speech Hearing Action Committee</td>\n",
       "      <td>Oregon Speech Language Hearing Association</td>\n",
       "      <td>Cash Contribution</td>\n",
       "      <td>$53.00</td>\n",
       "      <td>255</td>\n",
       "    </tr>\n",
       "    <tr>\n",
       "      <th>2</th>\n",
       "      <td>934239</td>\n",
       "      <td>10/18/2010</td>\n",
       "      <td>Original</td>\n",
       "      <td>Speech Hearing Action Committee</td>\n",
       "      <td>Committee to Elect Dr. Alan Bates (3604)</td>\n",
       "      <td>Cash Expenditure</td>\n",
       "      <td>$250.00</td>\n",
       "      <td>255</td>\n",
       "    </tr>\n",
       "    <tr>\n",
       "      <th>3</th>\n",
       "      <td>934242</td>\n",
       "      <td>10/18/2010</td>\n",
       "      <td>Original</td>\n",
       "      <td>Speech Hearing Action Committee</td>\n",
       "      <td>Frank Morse for State Senate (4335)</td>\n",
       "      <td>Cash Expenditure</td>\n",
       "      <td>$250.00</td>\n",
       "      <td>255</td>\n",
       "    </tr>\n",
       "    <tr>\n",
       "      <th>4</th>\n",
       "      <td>934247</td>\n",
       "      <td>10/18/2010</td>\n",
       "      <td>Original</td>\n",
       "      <td>Speech Hearing Action Committee</td>\n",
       "      <td>Friends of Suzanne Bonamici (5254)</td>\n",
       "      <td>Cash Expenditure</td>\n",
       "      <td>$200.00</td>\n",
       "      <td>255</td>\n",
       "    </tr>\n",
       "    <tr>\n",
       "      <th>88305</th>\n",
       "      <td>26967</td>\n",
       "      <td>12/21/2006</td>\n",
       "      <td>Original</td>\n",
       "      <td>Lee, Charles E., for State Representative</td>\n",
       "      <td>Miscellaneous Personal Expenditures $100 and u...</td>\n",
       "      <td>Personal Expenditure for Reimbursement</td>\n",
       "      <td>$31.48</td>\n",
       "      <td>5328</td>\n",
       "    </tr>\n",
       "    <tr>\n",
       "      <th>88306</th>\n",
       "      <td>29612</td>\n",
       "      <td>12/21/2006</td>\n",
       "      <td>Amended</td>\n",
       "      <td>Lee, Charles E., for State Representative</td>\n",
       "      <td>Mary E Lee, Treasurer</td>\n",
       "      <td>Cash Expenditure</td>\n",
       "      <td>$31.48</td>\n",
       "      <td>5328</td>\n",
       "    </tr>\n",
       "    <tr>\n",
       "      <th>88307</th>\n",
       "      <td>16136</td>\n",
       "      <td>12/05/2006</td>\n",
       "      <td>Original</td>\n",
       "      <td>Lee, Charles E., for State Representative</td>\n",
       "      <td>Miscellaneous Cash Expenditures $100 and under</td>\n",
       "      <td>Cash Expenditure</td>\n",
       "      <td>$82.82</td>\n",
       "      <td>5328</td>\n",
       "    </tr>\n",
       "    <tr>\n",
       "      <th>88308</th>\n",
       "      <td>16135</td>\n",
       "      <td>12/01/2006</td>\n",
       "      <td>Original</td>\n",
       "      <td>Lee, Charles E., for State Representative</td>\n",
       "      <td>Miscellaneous Cash Expenditures $100 and under</td>\n",
       "      <td>Cash Expenditure</td>\n",
       "      <td>$80.34</td>\n",
       "      <td>5328</td>\n",
       "    </tr>\n",
       "    <tr>\n",
       "      <th>88309</th>\n",
       "      <td>15872</td>\n",
       "      <td>11/29/2006</td>\n",
       "      <td>Original</td>\n",
       "      <td>Lee, Charles E., for State Representative</td>\n",
       "      <td>Mary E Lee, Treasurer</td>\n",
       "      <td>Cash Expenditure</td>\n",
       "      <td>$700.00</td>\n",
       "      <td>5328</td>\n",
       "    </tr>\n",
       "  </tbody>\n",
       "</table>\n",
       "</div>"
      ],
      "text/plain": [
       "       Tran ID   Tran Date    Status  \\\n",
       "0      1454151  01/24/2013  Original   \n",
       "1       968825  11/30/2010  Original   \n",
       "2       934239  10/18/2010  Original   \n",
       "3       934242  10/18/2010  Original   \n",
       "4       934247  10/18/2010  Original   \n",
       "88305    26967  12/21/2006  Original   \n",
       "88306    29612  12/21/2006   Amended   \n",
       "88307    16136  12/05/2006  Original   \n",
       "88308    16135  12/01/2006  Original   \n",
       "88309    15872  11/29/2006  Original   \n",
       "\n",
       "                                 Filer/Committee  \\\n",
       "0                Speech Hearing Action Committee   \n",
       "1                Speech Hearing Action Committee   \n",
       "2                Speech Hearing Action Committee   \n",
       "3                Speech Hearing Action Committee   \n",
       "4                Speech Hearing Action Committee   \n",
       "88305  Lee, Charles E., for State Representative   \n",
       "88306  Lee, Charles E., for State Representative   \n",
       "88307  Lee, Charles E., for State Representative   \n",
       "88308  Lee, Charles E., for State Representative   \n",
       "88309  Lee, Charles E., for State Representative   \n",
       "\n",
       "                                       Contributor/Payee  \\\n",
       "0            Sara Gelser for State Representative (4680)   \n",
       "1             Oregon Speech Language Hearing Association   \n",
       "2               Committee to Elect Dr. Alan Bates (3604)   \n",
       "3                    Frank Morse for State Senate (4335)   \n",
       "4                     Friends of Suzanne Bonamici (5254)   \n",
       "88305  Miscellaneous Personal Expenditures $100 and u...   \n",
       "88306                              Mary E Lee, Treasurer   \n",
       "88307     Miscellaneous Cash Expenditures $100 and under   \n",
       "88308     Miscellaneous Cash Expenditures $100 and under   \n",
       "88309                              Mary E Lee, Treasurer   \n",
       "\n",
       "                                     Sub Type   Amount committee_id  \n",
       "0                      Lost or Returned Check  $200.00          255  \n",
       "1                           Cash Contribution   $53.00          255  \n",
       "2                            Cash Expenditure  $250.00          255  \n",
       "3                            Cash Expenditure  $250.00          255  \n",
       "4                            Cash Expenditure  $200.00          255  \n",
       "88305  Personal Expenditure for Reimbursement   $31.48         5328  \n",
       "88306                        Cash Expenditure   $31.48         5328  \n",
       "88307                        Cash Expenditure   $82.82         5328  \n",
       "88308                        Cash Expenditure   $80.34         5328  \n",
       "88309                        Cash Expenditure  $700.00         5328  "
      ]
     },
     "execution_count": 6,
     "metadata": {},
     "output_type": "execute_result"
    }
   ],
   "source": [
    "data = pd.read_csv('../transactions_first_batch.csv', low_memory = False, dtype='O')\n",
    "data.head().append(data.tail())"
   ]
  },
  {
   "cell_type": "markdown",
   "metadata": {},
   "source": [
    "- Clean data so that somes symbols are removed:\n",
    "    - **Note**: this might be something we would want to do while pulling data or transforming data for storage"
   ]
  },
  {
   "cell_type": "code",
   "execution_count": 7,
   "metadata": {
    "collapsed": true
   },
   "outputs": [],
   "source": [
    "## Amount\n",
    "for i in ['$',',',')']:\n",
    "    data.Amount = data.Amount.str.replace(i,'')\n",
    "    \n",
    "data.Amount = data.Amount.str.replace('(','-').astype(float)\n"
   ]
  },
  {
   "cell_type": "markdown",
   "metadata": {},
   "source": [
    "# 2. Columns In Detail\n",
    "- **Status Column:** Check  of which there are two unique values. What are the proportions?"
   ]
  },
  {
   "cell_type": "code",
   "execution_count": 8,
   "metadata": {
    "scrolled": true
   },
   "outputs": [
    {
     "data": {
      "text/plain": [
       "Status\n",
       "Amended      1979\n",
       "Original    86331\n",
       "dtype: int64"
      ]
     },
     "execution_count": 8,
     "metadata": {},
     "output_type": "execute_result"
    }
   ],
   "source": [
    "data.groupby('Status').size()"
   ]
  },
  {
   "cell_type": "markdown",
   "metadata": {},
   "source": [
    "- **Sub Type Column:** \n",
    "    - Question: What do each of these relate to? Are some of these categories more important than others?\n",
    "    - [2018 Campaign Finance Manual](http://sos.oregon.gov/elections/Documents/campaign-finance.pdf) : Contains definitions for each of these codes:"
   ]
  },
  {
   "cell_type": "code",
   "execution_count": 9,
   "metadata": {},
   "outputs": [
    {
     "data": {
      "text/plain": [
       "Sub Type\n",
       "Unexpended Agent Balance                       1\n",
       "Pledge of In-Kind                              3\n",
       "Nonpartisan Activity                           3\n",
       "Loan Received (Exempt)                         3\n",
       "Uncollectible Pledge of Cash                   4\n",
       "Loan Payment (Exempt)                          5\n",
       "In-Kind/Forgiven Account Payable               8\n",
       "Miscellaneous Account Receivable              10\n",
       "Account Payable Rescinded                     11\n",
       "Personal Expenditure Balance Adjustment       11\n",
       "Loan Forgiven (Non-Exempt)                    13\n",
       "Expenditure Made by an Agent                  31\n",
       "Loan Payment (Non-Exempt)                     63\n",
       "Cash Balance Adjustment                       66\n",
       "In-Kind/Forgiven Personal Expenditures        68\n",
       "Miscellaneous Other Disbursement              74\n",
       "Loan Received (Non-Exempt)                    79\n",
       "Pledge of Cash                                96\n",
       "Miscellaneous Other Receipt                  108\n",
       "Return or Refund of Contribution             125\n",
       "Lost or Returned Check                       178\n",
       "Refunds and Rebates                          183\n",
       "Account Payable                              659\n",
       "Items Sold at Fair Market Value              892\n",
       "Interest/Investment Income                  1039\n",
       "In-Kind Contribution                        2714\n",
       "Personal Expenditure for Reimbursement      6357\n",
       "Cash Expenditure                           25656\n",
       "Cash Contribution                          49850\n",
       "dtype: int64"
      ]
     },
     "execution_count": 9,
     "metadata": {},
     "output_type": "execute_result"
    }
   ],
   "source": [
    "data.groupby('Sub Type').size().sort_values()"
   ]
  },
  {
   "cell_type": "markdown",
   "metadata": {},
   "source": [
    "- **Contributor/Payee Column:**\n",
    "    - Show Top 10\n",
    "    - Show top 10, sort name\n",
    "        - What does ** notation mean mean?\n",
    "        - Question: Is there a way to easily standardize names? Or do we need to fuzzy match?\n",
    "    - Look at 1&1 internet."
   ]
  },
  {
   "cell_type": "code",
   "execution_count": 10,
   "metadata": {
    "scrolled": true
   },
   "outputs": [
    {
     "data": {
      "text/plain": [
       "Contributor/Payee\n",
       "yvonne tamayo            1\n",
       "Joseph Matarazzo         1\n",
       "Sharon M. Ungerleider    1\n",
       "Sharon Lenz              1\n",
       "Joseph Safirstein        1\n",
       "Sharon L Roy             1\n",
       "Sharon Javna             1\n",
       "Joseph Tennant           1\n",
       "Joseph Weston            1\n",
       "Joseph Young             1\n",
       "dtype: int64"
      ]
     },
     "execution_count": 10,
     "metadata": {},
     "output_type": "execute_result"
    }
   ],
   "source": [
    "data.groupby('Contributor/Payee').size().sort_values().head(10)"
   ]
  },
  {
   "cell_type": "code",
   "execution_count": 11,
   "metadata": {},
   "outputs": [
    {
     "data": {
      "text/plain": [
       "Contributor/Payee\n",
       "1 & 1 Interent                               3\n",
       "1 and 1 Internet, Inc.                       1\n",
       "1&1 Internet Inc                             1\n",
       "1&1 Internet Inc.                           19\n",
       "1-800 Contacts, Inc. **                      3\n",
       "111 Investments                              2\n",
       "111th Square, LLC - Sanchez Family Trust     1\n",
       "1430 KYKN                                    1\n",
       "1st Screen Mobile.com                        1\n",
       "200 Market Building                          7\n",
       "dtype: int64"
      ]
     },
     "execution_count": 11,
     "metadata": {},
     "output_type": "execute_result"
    }
   ],
   "source": [
    "data.groupby('Contributor/Payee').size().sort_index().head(10)"
   ]
  },
  {
   "cell_type": "code",
   "execution_count": 12,
   "metadata": {},
   "outputs": [
    {
     "data": {
      "text/html": [
       "<div>\n",
       "<style>\n",
       "    .dataframe thead tr:only-child th {\n",
       "        text-align: right;\n",
       "    }\n",
       "\n",
       "    .dataframe thead th {\n",
       "        text-align: left;\n",
       "    }\n",
       "\n",
       "    .dataframe tbody tr th {\n",
       "        vertical-align: top;\n",
       "    }\n",
       "</style>\n",
       "<table border=\"1\" class=\"dataframe\">\n",
       "  <thead>\n",
       "    <tr style=\"text-align: right;\">\n",
       "      <th></th>\n",
       "      <th>Tran ID</th>\n",
       "      <th>Tran Date</th>\n",
       "      <th>Status</th>\n",
       "      <th>Filer/Committee</th>\n",
       "      <th>Contributor/Payee</th>\n",
       "      <th>Sub Type</th>\n",
       "      <th>Amount</th>\n",
       "      <th>committee_id</th>\n",
       "    </tr>\n",
       "  </thead>\n",
       "  <tbody>\n",
       "    <tr>\n",
       "      <th>32374</th>\n",
       "      <td>2467683</td>\n",
       "      <td>12/01/2016</td>\n",
       "      <td>Original</td>\n",
       "      <td>People for Libraries</td>\n",
       "      <td>1 &amp; 1 Interent</td>\n",
       "      <td>Cash Expenditure</td>\n",
       "      <td>52.38</td>\n",
       "      <td>6104</td>\n",
       "    </tr>\n",
       "    <tr>\n",
       "      <th>32479</th>\n",
       "      <td>2042190</td>\n",
       "      <td>07/06/2015</td>\n",
       "      <td>Amended</td>\n",
       "      <td>People for Libraries</td>\n",
       "      <td>1 &amp; 1 Interent</td>\n",
       "      <td>Cash Expenditure</td>\n",
       "      <td>52.38</td>\n",
       "      <td>6104</td>\n",
       "    </tr>\n",
       "    <tr>\n",
       "      <th>32541</th>\n",
       "      <td>1765178</td>\n",
       "      <td>07/01/2014</td>\n",
       "      <td>Original</td>\n",
       "      <td>People for Libraries</td>\n",
       "      <td>1 &amp; 1 Interent</td>\n",
       "      <td>Personal Expenditure for Reimbursement</td>\n",
       "      <td>52.38</td>\n",
       "      <td>6104</td>\n",
       "    </tr>\n",
       "    <tr>\n",
       "      <th>55683</th>\n",
       "      <td>665243</td>\n",
       "      <td>12/27/2009</td>\n",
       "      <td>Original</td>\n",
       "      <td>Concerned Oregonians PAC</td>\n",
       "      <td>1 and 1 Internet, Inc.</td>\n",
       "      <td>Miscellaneous Other Receipt</td>\n",
       "      <td>29.97</td>\n",
       "      <td>12512</td>\n",
       "    </tr>\n",
       "  </tbody>\n",
       "</table>\n",
       "</div>"
      ],
      "text/plain": [
       "       Tran ID   Tran Date    Status           Filer/Committee  \\\n",
       "32374  2467683  12/01/2016  Original      People for Libraries   \n",
       "32479  2042190  07/06/2015   Amended      People for Libraries   \n",
       "32541  1765178  07/01/2014  Original      People for Libraries   \n",
       "55683   665243  12/27/2009  Original  Concerned Oregonians PAC   \n",
       "\n",
       "            Contributor/Payee                                Sub Type  Amount  \\\n",
       "32374          1 & 1 Interent                        Cash Expenditure   52.38   \n",
       "32479          1 & 1 Interent                        Cash Expenditure   52.38   \n",
       "32541          1 & 1 Interent  Personal Expenditure for Reimbursement   52.38   \n",
       "55683  1 and 1 Internet, Inc.             Miscellaneous Other Receipt   29.97   \n",
       "\n",
       "      committee_id  \n",
       "32374         6104  \n",
       "32479         6104  \n",
       "32541         6104  \n",
       "55683        12512  "
      ]
     },
     "execution_count": 12,
     "metadata": {},
     "output_type": "execute_result"
    }
   ],
   "source": [
    "# bring up 1&1 to see if anything interesting shows up\n",
    "data[data['Contributor/Payee'].isin(['1 & 1 Interent','1 and 1 Internet, Inc.'])]"
   ]
  },
  {
   "cell_type": "markdown",
   "metadata": {},
   "source": [
    "- **Contributor/Payee Column (cont):**\n",
    "    - Look at Null values across records with and without nulls:\n",
    "        - Note: There seems to be 4 unique subtypes in NULL records while 29 (which is the total number of uniques on an unfiltered dataset) "
   ]
  },
  {
   "cell_type": "code",
   "execution_count": 13,
   "metadata": {},
   "outputs": [
    {
     "data": {
      "text/html": [
       "<div>\n",
       "<style>\n",
       "    .dataframe thead tr:only-child th {\n",
       "        text-align: right;\n",
       "    }\n",
       "\n",
       "    .dataframe thead th {\n",
       "        text-align: left;\n",
       "    }\n",
       "\n",
       "    .dataframe tbody tr th {\n",
       "        vertical-align: top;\n",
       "    }\n",
       "</style>\n",
       "<table border=\"1\" class=\"dataframe\">\n",
       "  <thead>\n",
       "    <tr style=\"text-align: right;\">\n",
       "      <th></th>\n",
       "      <th>Tran ID</th>\n",
       "      <th>Tran Date</th>\n",
       "      <th>Status</th>\n",
       "      <th>Filer/Committee</th>\n",
       "      <th>Contributor/Payee</th>\n",
       "      <th>Sub Type</th>\n",
       "      <th>Amount</th>\n",
       "      <th>committee_id</th>\n",
       "    </tr>\n",
       "  </thead>\n",
       "  <tbody>\n",
       "    <tr>\n",
       "      <th>count</th>\n",
       "      <td>780</td>\n",
       "      <td>780</td>\n",
       "      <td>780</td>\n",
       "      <td>780</td>\n",
       "      <td>0.0</td>\n",
       "      <td>780</td>\n",
       "      <td>780.0</td>\n",
       "      <td>780</td>\n",
       "    </tr>\n",
       "    <tr>\n",
       "      <th>unique</th>\n",
       "      <td>780</td>\n",
       "      <td>534</td>\n",
       "      <td>2</td>\n",
       "      <td>51</td>\n",
       "      <td>0.0</td>\n",
       "      <td>4</td>\n",
       "      <td>NaN</td>\n",
       "      <td>47</td>\n",
       "    </tr>\n",
       "  </tbody>\n",
       "</table>\n",
       "</div>"
      ],
      "text/plain": [
       "       Tran ID Tran Date Status Filer/Committee  Contributor/Payee Sub Type  \\\n",
       "count      780       780    780             780                0.0      780   \n",
       "unique     780       534      2              51                0.0        4   \n",
       "\n",
       "        Amount committee_id  \n",
       "count    780.0          780  \n",
       "unique     NaN           47  "
      ]
     },
     "execution_count": 13,
     "metadata": {},
     "output_type": "execute_result"
    }
   ],
   "source": [
    "null_mask = data['Contributor/Payee'].isnull()\n",
    "data[null_mask].describe(include = 'all').head(2)"
   ]
  },
  {
   "cell_type": "code",
   "execution_count": 14,
   "metadata": {},
   "outputs": [
    {
     "data": {
      "text/html": [
       "<div>\n",
       "<style>\n",
       "    .dataframe thead tr:only-child th {\n",
       "        text-align: right;\n",
       "    }\n",
       "\n",
       "    .dataframe thead th {\n",
       "        text-align: left;\n",
       "    }\n",
       "\n",
       "    .dataframe tbody tr th {\n",
       "        vertical-align: top;\n",
       "    }\n",
       "</style>\n",
       "<table border=\"1\" class=\"dataframe\">\n",
       "  <thead>\n",
       "    <tr style=\"text-align: right;\">\n",
       "      <th></th>\n",
       "      <th>Tran ID</th>\n",
       "      <th>Tran Date</th>\n",
       "      <th>Status</th>\n",
       "      <th>Filer/Committee</th>\n",
       "      <th>Contributor/Payee</th>\n",
       "      <th>Sub Type</th>\n",
       "      <th>Amount</th>\n",
       "      <th>committee_id</th>\n",
       "    </tr>\n",
       "  </thead>\n",
       "  <tbody>\n",
       "    <tr>\n",
       "      <th>count</th>\n",
       "      <td>87530</td>\n",
       "      <td>87530</td>\n",
       "      <td>87530</td>\n",
       "      <td>87530</td>\n",
       "      <td>87530</td>\n",
       "      <td>87530</td>\n",
       "      <td>87530.0</td>\n",
       "      <td>87530</td>\n",
       "    </tr>\n",
       "    <tr>\n",
       "      <th>unique</th>\n",
       "      <td>87530</td>\n",
       "      <td>4100</td>\n",
       "      <td>2</td>\n",
       "      <td>140</td>\n",
       "      <td>19500</td>\n",
       "      <td>29</td>\n",
       "      <td>NaN</td>\n",
       "      <td>103</td>\n",
       "    </tr>\n",
       "  </tbody>\n",
       "</table>\n",
       "</div>"
      ],
      "text/plain": [
       "       Tran ID Tran Date Status Filer/Committee Contributor/Payee Sub Type  \\\n",
       "count    87530     87530  87530           87530             87530    87530   \n",
       "unique   87530      4100      2             140             19500       29   \n",
       "\n",
       "         Amount committee_id  \n",
       "count   87530.0        87530  \n",
       "unique      NaN          103  "
      ]
     },
     "execution_count": 14,
     "metadata": {},
     "output_type": "execute_result"
    }
   ],
   "source": [
    "data[~null_mask].describe(include = 'all').head(2)"
   ]
  },
  {
   "cell_type": "markdown",
   "metadata": {},
   "source": [
    "- **Contributor/Payee Column (cont):**\n",
    "    - Look at Sub Types of records with NULL (n = 780)  in Contributor / Payee and then Non-Null (n = 87530) ..\n",
    "        - Note: The 4 that show up in Null records also show up in non-null records."
   ]
  },
  {
   "cell_type": "code",
   "execution_count": 15,
   "metadata": {},
   "outputs": [
    {
     "name": "stdout",
     "output_type": "stream",
     "text": [
      "Sub Types found in non-null rows:\n",
      "\n",
      " {'Miscellaneous Account Receivable', 'In-Kind/Forgiven Account Payable', 'In-Kind Contribution', 'Interest/Investment Income', 'Unexpended Agent Balance', 'Account Payable Rescinded', 'Loan Payment (Exempt)', 'Loan Received (Exempt)', 'Return or Refund of Contribution', 'Items Sold at Fair Market Value', 'Pledge of Cash', 'Nonpartisan Activity', 'Miscellaneous Other Receipt', 'Personal Expenditure for Reimbursement', 'Cash Expenditure', 'Expenditure Made by an Agent', 'Loan Received (Non-Exempt)', 'Refunds and Rebates', 'Loan Payment (Non-Exempt)', 'Account Payable', 'Miscellaneous Other Disbursement', 'Pledge of In-Kind', 'Loan Forgiven (Non-Exempt)', 'Uncollectible Pledge of Cash', 'Cash Contribution', 'Personal Expenditure Balance Adjustment', 'In-Kind/Forgiven Personal Expenditures', 'Cash Balance Adjustment', 'Lost or Returned Check'}\n"
     ]
    }
   ],
   "source": [
    "non_null_subs = set(data[~null_mask]['Sub Type'].unique())\n",
    "print(\"Sub Types found in non-null rows:\\n\\n\",non_null_subs)"
   ]
  },
  {
   "cell_type": "code",
   "execution_count": 16,
   "metadata": {},
   "outputs": [
    {
     "name": "stdout",
     "output_type": "stream",
     "text": [
      "Sub Types found in records with Null: \n",
      "\n",
      " {'Interest/Investment Income', 'Items Sold at Fair Market Value', 'Personal Expenditure Balance Adjustment', 'Cash Balance Adjustment'}\n"
     ]
    }
   ],
   "source": [
    "null_subs = set(data[null_mask]['Sub Type'].unique())\n",
    "print(\"Sub Types found in records with Null: \\n\\n\",null_subs)"
   ]
  },
  {
   "cell_type": "code",
   "execution_count": 17,
   "metadata": {},
   "outputs": [
    {
     "name": "stdout",
     "output_type": "stream",
     "text": [
      "The following are in both: \n",
      "\n",
      " {'Interest/Investment Income', 'Items Sold at Fair Market Value', 'Personal Expenditure Balance Adjustment', 'Cash Balance Adjustment'}\n"
     ]
    }
   ],
   "source": [
    "both_subs = non_null_subs.intersection(null_subs)\n",
    "print(\"The following are in both: \\n\\n\",both_subs)"
   ]
  },
  {
   "cell_type": "markdown",
   "metadata": {},
   "source": [
    "- **Amount Column:**\n",
    "    - Look at descriptives of \"Amount\""
   ]
  },
  {
   "cell_type": "code",
   "execution_count": 18,
   "metadata": {},
   "outputs": [
    {
     "data": {
      "text/plain": [
       "count     88310.000000\n",
       "mean       1116.298991\n",
       "std        7272.454859\n",
       "min      -29525.510000\n",
       "25%          30.000000\n",
       "50%         130.000000\n",
       "75%         500.000000\n",
       "max      592753.650000\n",
       "Name: Amount, dtype: float64"
      ]
     },
     "execution_count": 18,
     "metadata": {},
     "output_type": "execute_result"
    }
   ],
   "source": [
    "data['Amount'].describe()"
   ]
  },
  {
   "cell_type": "markdown",
   "metadata": {},
   "source": [
    "- **Amount Column (cont):**\n",
    "    - Check how many negative value records -- 37 show up.\n",
    "    - Pull up descriptives on those 37 records with a negative amount value:"
   ]
  },
  {
   "cell_type": "code",
   "execution_count": 19,
   "metadata": {},
   "outputs": [
    {
     "name": "stdout",
     "output_type": "stream",
     "text": [
      "# of negative records: 37\n"
     ]
    },
    {
     "data": {
      "text/html": [
       "<div>\n",
       "<style>\n",
       "    .dataframe thead tr:only-child th {\n",
       "        text-align: right;\n",
       "    }\n",
       "\n",
       "    .dataframe thead th {\n",
       "        text-align: left;\n",
       "    }\n",
       "\n",
       "    .dataframe tbody tr th {\n",
       "        vertical-align: top;\n",
       "    }\n",
       "</style>\n",
       "<table border=\"1\" class=\"dataframe\">\n",
       "  <thead>\n",
       "    <tr style=\"text-align: right;\">\n",
       "      <th></th>\n",
       "      <th>Tran ID</th>\n",
       "      <th>Tran Date</th>\n",
       "      <th>Status</th>\n",
       "      <th>Filer/Committee</th>\n",
       "      <th>Contributor/Payee</th>\n",
       "      <th>Sub Type</th>\n",
       "      <th>Amount</th>\n",
       "      <th>committee_id</th>\n",
       "    </tr>\n",
       "  </thead>\n",
       "  <tbody>\n",
       "    <tr>\n",
       "      <th>count</th>\n",
       "      <td>37</td>\n",
       "      <td>37</td>\n",
       "      <td>37</td>\n",
       "      <td>37</td>\n",
       "      <td>5</td>\n",
       "      <td>37</td>\n",
       "      <td>37.0</td>\n",
       "      <td>37</td>\n",
       "    </tr>\n",
       "    <tr>\n",
       "      <th>unique</th>\n",
       "      <td>37</td>\n",
       "      <td>32</td>\n",
       "      <td>2</td>\n",
       "      <td>29</td>\n",
       "      <td>4</td>\n",
       "      <td>2</td>\n",
       "      <td>NaN</td>\n",
       "      <td>28</td>\n",
       "    </tr>\n",
       "  </tbody>\n",
       "</table>\n",
       "</div>"
      ],
      "text/plain": [
       "       Tran ID Tran Date Status Filer/Committee Contributor/Payee Sub Type  \\\n",
       "count       37        37     37              37                 5       37   \n",
       "unique      37        32      2              29                 4        2   \n",
       "\n",
       "        Amount committee_id  \n",
       "count     37.0           37  \n",
       "unique     NaN           28  "
      ]
     },
     "execution_count": 19,
     "metadata": {},
     "output_type": "execute_result"
    }
   ],
   "source": [
    "amt_negative = data[data['Amount'] < 0]\n",
    "amt_positive = data[data['Amount'] > 0]\n",
    "\n",
    "\n",
    "print(\"# of negative records:\", len(amt_negative))\n",
    "amt_negative.describe(include = 'all').head(2)"
   ]
  },
  {
   "cell_type": "markdown",
   "metadata": {},
   "source": [
    "- **Amount Column (cont):**\n",
    "    - What Sub Type are there for messing values?\n",
    "        - Note: There are two and they both show some sort of adjustment feature. Though I find it strange that Adjustments aren't all \"amendments\""
   ]
  },
  {
   "cell_type": "code",
   "execution_count": 20,
   "metadata": {},
   "outputs": [
    {
     "data": {
      "text/plain": [
       "array(['Personal Expenditure Balance Adjustment', 'Cash Balance Adjustment'], dtype=object)"
      ]
     },
     "execution_count": 20,
     "metadata": {},
     "output_type": "execute_result"
    }
   ],
   "source": [
    "amt_negative['Sub Type'].unique()"
   ]
  },
  {
   "cell_type": "code",
   "execution_count": 21,
   "metadata": {},
   "outputs": [
    {
     "data": {
      "text/html": [
       "<div>\n",
       "<style>\n",
       "    .dataframe thead tr:only-child th {\n",
       "        text-align: right;\n",
       "    }\n",
       "\n",
       "    .dataframe thead th {\n",
       "        text-align: left;\n",
       "    }\n",
       "\n",
       "    .dataframe tbody tr th {\n",
       "        vertical-align: top;\n",
       "    }\n",
       "</style>\n",
       "<table border=\"1\" class=\"dataframe\">\n",
       "  <thead>\n",
       "    <tr style=\"text-align: right;\">\n",
       "      <th></th>\n",
       "      <th>Tran ID</th>\n",
       "      <th>Tran Date</th>\n",
       "      <th>Status</th>\n",
       "      <th>Filer/Committee</th>\n",
       "      <th>Contributor/Payee</th>\n",
       "      <th>Sub Type</th>\n",
       "      <th>Amount</th>\n",
       "      <th>committee_id</th>\n",
       "    </tr>\n",
       "  </thead>\n",
       "  <tbody>\n",
       "    <tr>\n",
       "      <th>213</th>\n",
       "      <td>2551881</td>\n",
       "      <td>05/10/2017</td>\n",
       "      <td>Amended</td>\n",
       "      <td>Friends of Clackamas Community College</td>\n",
       "      <td>Jeanne Magmer</td>\n",
       "      <td>Personal Expenditure Balance Adjustment</td>\n",
       "      <td>-2500.00</td>\n",
       "      <td>11247</td>\n",
       "    </tr>\n",
       "    <tr>\n",
       "      <th>215</th>\n",
       "      <td>2551883</td>\n",
       "      <td>05/10/2017</td>\n",
       "      <td>Amended</td>\n",
       "      <td>Friends of Clackamas Community College</td>\n",
       "      <td>JE Dunn Construction</td>\n",
       "      <td>Cash Balance Adjustment</td>\n",
       "      <td>-6969.93</td>\n",
       "      <td>11247</td>\n",
       "    </tr>\n",
       "    <tr>\n",
       "      <th>216</th>\n",
       "      <td>2551884</td>\n",
       "      <td>05/10/2017</td>\n",
       "      <td>Amended</td>\n",
       "      <td>Friends of Clackamas Community College</td>\n",
       "      <td>JE Dunn Construction</td>\n",
       "      <td>Personal Expenditure Balance Adjustment</td>\n",
       "      <td>-713.34</td>\n",
       "      <td>11247</td>\n",
       "    </tr>\n",
       "    <tr>\n",
       "      <th>489</th>\n",
       "      <td>1440832</td>\n",
       "      <td>12/31/2012</td>\n",
       "      <td>Original</td>\n",
       "      <td>Friends of Clackamas Community College</td>\n",
       "      <td>Clackamas Federal Credit Union</td>\n",
       "      <td>Cash Balance Adjustment</td>\n",
       "      <td>-198.75</td>\n",
       "      <td>11247</td>\n",
       "    </tr>\n",
       "    <tr>\n",
       "      <th>1269</th>\n",
       "      <td>5469</td>\n",
       "      <td>01/25/2007</td>\n",
       "      <td>Original</td>\n",
       "      <td>Citizens for Schools</td>\n",
       "      <td>NaN</td>\n",
       "      <td>Cash Balance Adjustment</td>\n",
       "      <td>-8.81</td>\n",
       "      <td>5592</td>\n",
       "    </tr>\n",
       "  </tbody>\n",
       "</table>\n",
       "</div>"
      ],
      "text/plain": [
       "      Tran ID   Tran Date    Status                         Filer/Committee  \\\n",
       "213   2551881  05/10/2017   Amended  Friends of Clackamas Community College   \n",
       "215   2551883  05/10/2017   Amended  Friends of Clackamas Community College   \n",
       "216   2551884  05/10/2017   Amended  Friends of Clackamas Community College   \n",
       "489   1440832  12/31/2012  Original  Friends of Clackamas Community College   \n",
       "1269     5469  01/25/2007  Original                    Citizens for Schools   \n",
       "\n",
       "                   Contributor/Payee                                 Sub Type  \\\n",
       "213                    Jeanne Magmer  Personal Expenditure Balance Adjustment   \n",
       "215             JE Dunn Construction                  Cash Balance Adjustment   \n",
       "216             JE Dunn Construction  Personal Expenditure Balance Adjustment   \n",
       "489   Clackamas Federal Credit Union                  Cash Balance Adjustment   \n",
       "1269                             NaN                  Cash Balance Adjustment   \n",
       "\n",
       "       Amount committee_id  \n",
       "213  -2500.00        11247  \n",
       "215  -6969.93        11247  \n",
       "216   -713.34        11247  \n",
       "489   -198.75        11247  \n",
       "1269    -8.81         5592  "
      ]
     },
     "execution_count": 21,
     "metadata": {},
     "output_type": "execute_result"
    }
   ],
   "source": [
    "amt_negative.head()"
   ]
  },
  {
   "cell_type": "code",
   "execution_count": 22,
   "metadata": {},
   "outputs": [
    {
     "data": {
      "text/html": [
       "<div>\n",
       "<style>\n",
       "    .dataframe thead tr:only-child th {\n",
       "        text-align: right;\n",
       "    }\n",
       "\n",
       "    .dataframe thead th {\n",
       "        text-align: left;\n",
       "    }\n",
       "\n",
       "    .dataframe tbody tr th {\n",
       "        vertical-align: top;\n",
       "    }\n",
       "</style>\n",
       "<table border=\"1\" class=\"dataframe\">\n",
       "  <thead>\n",
       "    <tr style=\"text-align: right;\">\n",
       "      <th></th>\n",
       "      <th>Status</th>\n",
       "      <th>Amended</th>\n",
       "      <th>Original</th>\n",
       "    </tr>\n",
       "    <tr>\n",
       "      <th></th>\n",
       "      <th>Sub Type</th>\n",
       "      <th></th>\n",
       "      <th></th>\n",
       "    </tr>\n",
       "  </thead>\n",
       "  <tbody>\n",
       "    <tr>\n",
       "      <th rowspan=\"2\" valign=\"top\">len</th>\n",
       "      <th>Cash Balance Adjustment</th>\n",
       "      <td>3</td>\n",
       "      <td>30</td>\n",
       "    </tr>\n",
       "    <tr>\n",
       "      <th>Personal Expenditure Balance Adjustment</th>\n",
       "      <td>2</td>\n",
       "      <td>2</td>\n",
       "    </tr>\n",
       "  </tbody>\n",
       "</table>\n",
       "</div>"
      ],
      "text/plain": [
       "Status                                       Amended  Original\n",
       "    Sub Type                                                  \n",
       "len Cash Balance Adjustment                        3        30\n",
       "    Personal Expenditure Balance Adjustment        2         2"
      ]
     },
     "execution_count": 22,
     "metadata": {},
     "output_type": "execute_result"
    }
   ],
   "source": [
    "amt_negative.pivot_table(index = 'Status', columns = 'Sub Type', values='Tran ID',aggfunc=[len]).T"
   ]
  },
  {
   "cell_type": "code",
   "execution_count": 23,
   "metadata": {},
   "outputs": [
    {
     "data": {
      "text/html": [
       "<div>\n",
       "<style>\n",
       "    .dataframe thead tr:only-child th {\n",
       "        text-align: right;\n",
       "    }\n",
       "\n",
       "    .dataframe thead th {\n",
       "        text-align: left;\n",
       "    }\n",
       "\n",
       "    .dataframe tbody tr th {\n",
       "        vertical-align: top;\n",
       "    }\n",
       "</style>\n",
       "<table border=\"1\" class=\"dataframe\">\n",
       "  <thead>\n",
       "    <tr>\n",
       "      <th></th>\n",
       "      <th colspan=\"21\" halign=\"left\">len</th>\n",
       "    </tr>\n",
       "    <tr>\n",
       "      <th>Sub Type</th>\n",
       "      <th>Account Payable</th>\n",
       "      <th>Account Payable Rescinded</th>\n",
       "      <th>Cash Balance Adjustment</th>\n",
       "      <th>Cash Contribution</th>\n",
       "      <th>Cash Expenditure</th>\n",
       "      <th>Expenditure Made by an Agent</th>\n",
       "      <th>In-Kind Contribution</th>\n",
       "      <th>In-Kind/Forgiven Account Payable</th>\n",
       "      <th>In-Kind/Forgiven Personal Expenditures</th>\n",
       "      <th>Interest/Investment Income</th>\n",
       "      <th>...</th>\n",
       "      <th>Miscellaneous Other Receipt</th>\n",
       "      <th>Nonpartisan Activity</th>\n",
       "      <th>Personal Expenditure Balance Adjustment</th>\n",
       "      <th>Personal Expenditure for Reimbursement</th>\n",
       "      <th>Pledge of Cash</th>\n",
       "      <th>Pledge of In-Kind</th>\n",
       "      <th>Refunds and Rebates</th>\n",
       "      <th>Return or Refund of Contribution</th>\n",
       "      <th>Uncollectible Pledge of Cash</th>\n",
       "      <th>Unexpended Agent Balance</th>\n",
       "    </tr>\n",
       "    <tr>\n",
       "      <th>Status</th>\n",
       "      <th></th>\n",
       "      <th></th>\n",
       "      <th></th>\n",
       "      <th></th>\n",
       "      <th></th>\n",
       "      <th></th>\n",
       "      <th></th>\n",
       "      <th></th>\n",
       "      <th></th>\n",
       "      <th></th>\n",
       "      <th></th>\n",
       "      <th></th>\n",
       "      <th></th>\n",
       "      <th></th>\n",
       "      <th></th>\n",
       "      <th></th>\n",
       "      <th></th>\n",
       "      <th></th>\n",
       "      <th></th>\n",
       "      <th></th>\n",
       "      <th></th>\n",
       "    </tr>\n",
       "  </thead>\n",
       "  <tbody>\n",
       "    <tr>\n",
       "      <th>Amended</th>\n",
       "      <td>31.0</td>\n",
       "      <td>0.0</td>\n",
       "      <td>3.0</td>\n",
       "      <td>821.0</td>\n",
       "      <td>792.0</td>\n",
       "      <td>0.0</td>\n",
       "      <td>125.0</td>\n",
       "      <td>1.0</td>\n",
       "      <td>0.0</td>\n",
       "      <td>7.0</td>\n",
       "      <td>...</td>\n",
       "      <td>9.0</td>\n",
       "      <td>0.0</td>\n",
       "      <td>1.0</td>\n",
       "      <td>103.0</td>\n",
       "      <td>6.0</td>\n",
       "      <td>0.0</td>\n",
       "      <td>3.0</td>\n",
       "      <td>3.0</td>\n",
       "      <td>0.0</td>\n",
       "      <td>0.0</td>\n",
       "    </tr>\n",
       "    <tr>\n",
       "      <th>Original</th>\n",
       "      <td>628.0</td>\n",
       "      <td>11.0</td>\n",
       "      <td>29.0</td>\n",
       "      <td>49029.0</td>\n",
       "      <td>24864.0</td>\n",
       "      <td>31.0</td>\n",
       "      <td>2589.0</td>\n",
       "      <td>7.0</td>\n",
       "      <td>68.0</td>\n",
       "      <td>1032.0</td>\n",
       "      <td>...</td>\n",
       "      <td>99.0</td>\n",
       "      <td>3.0</td>\n",
       "      <td>6.0</td>\n",
       "      <td>6254.0</td>\n",
       "      <td>90.0</td>\n",
       "      <td>3.0</td>\n",
       "      <td>180.0</td>\n",
       "      <td>122.0</td>\n",
       "      <td>4.0</td>\n",
       "      <td>1.0</td>\n",
       "    </tr>\n",
       "  </tbody>\n",
       "</table>\n",
       "<p>2 rows × 29 columns</p>\n",
       "</div>"
      ],
      "text/plain": [
       "                     len                                                    \\\n",
       "Sub Type Account Payable Account Payable Rescinded Cash Balance Adjustment   \n",
       "Status                                                                       \n",
       "Amended             31.0                       0.0                     3.0   \n",
       "Original           628.0                      11.0                    29.0   \n",
       "\n",
       "                                                                          \\\n",
       "Sub Type Cash Contribution Cash Expenditure Expenditure Made by an Agent   \n",
       "Status                                                                     \n",
       "Amended              821.0            792.0                          0.0   \n",
       "Original           49029.0          24864.0                         31.0   \n",
       "\n",
       "                                                                \\\n",
       "Sub Type In-Kind Contribution In-Kind/Forgiven Account Payable   \n",
       "Status                                                           \n",
       "Amended                 125.0                              1.0   \n",
       "Original               2589.0                              7.0   \n",
       "\n",
       "                                                                            \\\n",
       "Sub Type In-Kind/Forgiven Personal Expenditures Interest/Investment Income   \n",
       "Status                                                                       \n",
       "Amended                                     0.0                        7.0   \n",
       "Original                                   68.0                     1032.0   \n",
       "\n",
       "                   ...                                         \\\n",
       "Sub Type           ...            Miscellaneous Other Receipt   \n",
       "Status             ...                                          \n",
       "Amended            ...                                    9.0   \n",
       "Original           ...                                   99.0   \n",
       "\n",
       "                                                                       \\\n",
       "Sub Type Nonpartisan Activity Personal Expenditure Balance Adjustment   \n",
       "Status                                                                  \n",
       "Amended                   0.0                                     1.0   \n",
       "Original                  3.0                                     6.0   \n",
       "\n",
       "                                                                \\\n",
       "Sub Type Personal Expenditure for Reimbursement Pledge of Cash   \n",
       "Status                                                           \n",
       "Amended                                   103.0            6.0   \n",
       "Original                                 6254.0           90.0   \n",
       "\n",
       "                                                \\\n",
       "Sub Type Pledge of In-Kind Refunds and Rebates   \n",
       "Status                                           \n",
       "Amended                0.0                 3.0   \n",
       "Original               3.0               180.0   \n",
       "\n",
       "                                                                        \\\n",
       "Sub Type Return or Refund of Contribution Uncollectible Pledge of Cash   \n",
       "Status                                                                   \n",
       "Amended                               3.0                          0.0   \n",
       "Original                            122.0                          4.0   \n",
       "\n",
       "                                   \n",
       "Sub Type Unexpended Agent Balance  \n",
       "Status                             \n",
       "Amended                       0.0  \n",
       "Original                      1.0  \n",
       "\n",
       "[2 rows x 29 columns]"
      ]
     },
     "execution_count": 23,
     "metadata": {},
     "output_type": "execute_result"
    }
   ],
   "source": [
    "amt_positive.pivot_table(index = 'Status', columns = 'Sub Type', values='Tran ID',aggfunc=[len]).fillna(0)"
   ]
  },
  {
   "cell_type": "markdown",
   "metadata": {},
   "source": [
    "- **Date Column:**\n",
    "    - I had issue converting \"Tran Date\" to datetime, check for integrity:\n",
    "        - Write a test, take all as a series, run through and attempt convert via to_datetime\n",
    "            - Note: **6 Dates are associated with errors:**"
   ]
  },
  {
   "cell_type": "code",
   "execution_count": 24,
   "metadata": {},
   "outputs": [
    {
     "name": "stdout",
     "output_type": "stream",
     "text": [
      "[[4057, '05/03/0007'], [4084, '11/03/0209'], [4085, '02/23/0009'], [4086, '03/14/0008'], [4087, '02/19/0007']]\n"
     ]
    }
   ],
   "source": [
    "test = pd.Series(data['Tran Date'].unique())\n",
    "errors = []\n",
    "for number,value in test.iteritems():\n",
    "    try: \n",
    "        pd.to_datetime(value)\n",
    "    except:\n",
    "        errors.append([number,value])\n",
    "        \n",
    "erroneous_date_strings = [i[1] for i in errors]\n",
    "print(errors)"
   ]
  },
  {
   "cell_type": "markdown",
   "metadata": {},
   "source": [
    "- **Date Column (cont) :**\n",
    "    - Below show erroneous records:"
   ]
  },
  {
   "cell_type": "code",
   "execution_count": 25,
   "metadata": {},
   "outputs": [
    {
     "data": {
      "text/html": [
       "<div>\n",
       "<style>\n",
       "    .dataframe thead tr:only-child th {\n",
       "        text-align: right;\n",
       "    }\n",
       "\n",
       "    .dataframe thead th {\n",
       "        text-align: left;\n",
       "    }\n",
       "\n",
       "    .dataframe tbody tr th {\n",
       "        vertical-align: top;\n",
       "    }\n",
       "</style>\n",
       "<table border=\"1\" class=\"dataframe\">\n",
       "  <thead>\n",
       "    <tr style=\"text-align: right;\">\n",
       "      <th></th>\n",
       "      <th>Tran ID</th>\n",
       "      <th>Tran Date</th>\n",
       "      <th>Status</th>\n",
       "      <th>Filer/Committee</th>\n",
       "      <th>Contributor/Payee</th>\n",
       "      <th>Sub Type</th>\n",
       "      <th>Amount</th>\n",
       "      <th>committee_id</th>\n",
       "    </tr>\n",
       "  </thead>\n",
       "  <tbody>\n",
       "    <tr>\n",
       "      <th>68927</th>\n",
       "      <td>57262</td>\n",
       "      <td>05/03/0007</td>\n",
       "      <td>Original</td>\n",
       "      <td>Committee To Elect DeShazer</td>\n",
       "      <td>Miscellaneous Cash Expenditures $100 and under</td>\n",
       "      <td>Cash Expenditure</td>\n",
       "      <td>20.00</td>\n",
       "      <td>8667</td>\n",
       "    </tr>\n",
       "    <tr>\n",
       "      <th>81289</th>\n",
       "      <td>640760</td>\n",
       "      <td>11/03/0209</td>\n",
       "      <td>Original</td>\n",
       "      <td>Josephine County Republican Central Committee</td>\n",
       "      <td>Miscellaneous In-Kind Contributions $100 and u...</td>\n",
       "      <td>In-Kind Contribution</td>\n",
       "      <td>71.20</td>\n",
       "      <td>319</td>\n",
       "    </tr>\n",
       "    <tr>\n",
       "      <th>81290</th>\n",
       "      <td>541960</td>\n",
       "      <td>02/23/0009</td>\n",
       "      <td>Original</td>\n",
       "      <td>Josephine County Republican Central Committee</td>\n",
       "      <td>Miscellaneous Cash Contributions $100 and under</td>\n",
       "      <td>Cash Contribution</td>\n",
       "      <td>75.00</td>\n",
       "      <td>319</td>\n",
       "    </tr>\n",
       "    <tr>\n",
       "      <th>81291</th>\n",
       "      <td>526699</td>\n",
       "      <td>03/14/0008</td>\n",
       "      <td>Original</td>\n",
       "      <td>Josephine County Republican Central Committee</td>\n",
       "      <td>Miscellaneous Cash Contributions $100 and under</td>\n",
       "      <td>Cash Contribution</td>\n",
       "      <td>80.00</td>\n",
       "      <td>319</td>\n",
       "    </tr>\n",
       "    <tr>\n",
       "      <th>81292</th>\n",
       "      <td>39429</td>\n",
       "      <td>02/19/0007</td>\n",
       "      <td>Original</td>\n",
       "      <td>Josephine County Republican Central Committee</td>\n",
       "      <td>Keith Heck</td>\n",
       "      <td>Items Sold at Fair Market Value</td>\n",
       "      <td>62.64</td>\n",
       "      <td>319</td>\n",
       "    </tr>\n",
       "    <tr>\n",
       "      <th>81293</th>\n",
       "      <td>39458</td>\n",
       "      <td>02/19/0007</td>\n",
       "      <td>Original</td>\n",
       "      <td>Josephine County Republican Central Committee</td>\n",
       "      <td>Doneta Thomason</td>\n",
       "      <td>Items Sold at Fair Market Value</td>\n",
       "      <td>62.64</td>\n",
       "      <td>319</td>\n",
       "    </tr>\n",
       "  </tbody>\n",
       "</table>\n",
       "</div>"
      ],
      "text/plain": [
       "      Tran ID   Tran Date    Status  \\\n",
       "68927   57262  05/03/0007  Original   \n",
       "81289  640760  11/03/0209  Original   \n",
       "81290  541960  02/23/0009  Original   \n",
       "81291  526699  03/14/0008  Original   \n",
       "81292   39429  02/19/0007  Original   \n",
       "81293   39458  02/19/0007  Original   \n",
       "\n",
       "                                     Filer/Committee  \\\n",
       "68927                    Committee To Elect DeShazer   \n",
       "81289  Josephine County Republican Central Committee   \n",
       "81290  Josephine County Republican Central Committee   \n",
       "81291  Josephine County Republican Central Committee   \n",
       "81292  Josephine County Republican Central Committee   \n",
       "81293  Josephine County Republican Central Committee   \n",
       "\n",
       "                                       Contributor/Payee  \\\n",
       "68927     Miscellaneous Cash Expenditures $100 and under   \n",
       "81289  Miscellaneous In-Kind Contributions $100 and u...   \n",
       "81290    Miscellaneous Cash Contributions $100 and under   \n",
       "81291    Miscellaneous Cash Contributions $100 and under   \n",
       "81292                                         Keith Heck   \n",
       "81293                                    Doneta Thomason   \n",
       "\n",
       "                              Sub Type  Amount committee_id  \n",
       "68927                 Cash Expenditure   20.00         8667  \n",
       "81289             In-Kind Contribution   71.20          319  \n",
       "81290                Cash Contribution   75.00          319  \n",
       "81291                Cash Contribution   80.00          319  \n",
       "81292  Items Sold at Fair Market Value   62.64          319  \n",
       "81293  Items Sold at Fair Market Value   62.64          319  "
      ]
     },
     "execution_count": 25,
     "metadata": {},
     "output_type": "execute_result"
    }
   ],
   "source": [
    "data[data['Tran Date'].isin(erroneous_date_strings)]"
   ]
  }
 ],
 "metadata": {
  "kernelspec": {
   "display_name": "Python 3",
   "language": "python",
   "name": "python3"
  },
  "language_info": {
   "codemirror_mode": {
    "name": "ipython",
    "version": 3
   },
   "file_extension": ".py",
   "mimetype": "text/x-python",
   "name": "python",
   "nbconvert_exporter": "python",
   "pygments_lexer": "ipython3",
   "version": "3.6.0"
  }
 },
 "nbformat": 4,
 "nbformat_minor": 2
}
