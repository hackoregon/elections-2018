{
 "cells": [
  {
   "cell_type": "markdown",
   "metadata": {
    "deletable": true,
    "editable": true
   },
   "source": [
    "# QA: Cols 15-28 (14-27)"
   ]
  },
  {
   "cell_type": "code",
   "execution_count": 1,
   "metadata": {
    "collapsed": true,
    "deletable": true,
    "editable": true
   },
   "outputs": [],
   "source": [
    "import io\n",
    "\n",
    "import pandas as pd\n",
    "from pandas import DataFrame as DF, Series\n",
    "import numpy as np\n",
    "\n",
    "import requests\n",
    "import re\n",
    "import missingno as msn\n",
    "\n",
    "import matplotlib.pyplot as plt\n",
    "%matplotlib inline\n",
    "import seaborn as sns\n",
    "sns.set_style('whitegrid')"
   ]
  },
  {
   "cell_type": "markdown",
   "metadata": {
    "deletable": true,
    "editable": true
   },
   "source": [
    "## Get Data"
   ]
  },
  {
   "cell_type": "code",
   "execution_count": 6,
   "metadata": {
    "collapsed": false
   },
   "outputs": [
    {
     "data": {
      "text/plain": [
       "b'\\n\\n\\n\\n\\n\\n<!DOCTYPE html>\\n<html lang=\"en\">\\n  <head>\\n    <meta charset=\"utf-8\">\\n  <link rel=\"dns-prefetch\" href=\"https://assets-cdn.github.com\">\\n  <link rel=\"dns-prefetch\" href=\"https://avatars0.githubusercontent.com\">\\n  <link rel=\"dns-prefetch\" href=\"https://avatars1.githubusercontent.com\">\\n  <link rel=\"dns-prefetch\" href=\"https://avatars2.githubusercontent.com\">\\n  <link rel=\"dns-prefetch\" href=\"https://avatars3.githubusercontent.com\">\\n  <link rel=\"dns-prefetch\" href=\"https://github-cloud.s3.amazonaws.com\">\\n  <link rel=\"dns-prefetch\" href=\"https://user-images.githubusercontent.com/\">\\n\\n\\n\\n  <link crossorigin=\"anonymous\" media=\"all\" rel=\"stylesheet\" href=\"https://assets-cdn.github.com/assets/frameworks-7d09971c51977b60c6626362003ef38a.css\" />\\n  <link crossorigin=\"anonymous\" media=\"all\" rel=\"stylesheet\" href=\"https://assets-cdn.github.com/assets/github-b41cf1470327d5ea4cbf14fec59fa423.css\" />\\n  \\n  \\n  <link crossorigin=\"anonymous\" media=\"all\" rel=\"stylesheet\" href=\"https://assets-cdn.github.com/assets/site-83dc1f7ebc9c7461fe1eab799b56c4c4.css\" />\\n  \\n\\n  <meta name=\"viewport\" content=\"width=device-width\">\\n  \\n  <title>elections-2018/transaction_detail_first_batch.csv at master \\xc2\\xb7 hackoregon/elections-2018 \\xc2\\xb7 GitHub</title>\\n    <meta name=\"description\" content=\"GitHub is where people build software. More than 27 million people use GitHub to discover, fork, and contribute to over 80 million projects.\">\\n  <link rel=\"search\" type=\"application/opensearchdescription+xml\" href=\"/opensearch.xml\" title=\"GitHub\">\\n  <link rel=\"fluid-icon\" href=\"https://github.com/fluidicon.png\" title=\"GitHub\">\\n  <meta property=\"fb:app_id\" content=\"1401488693436528\">\\n\\n    \\n    <meta property=\"og:image\" content=\"https://avatars1.githubusercontent.com/u/6343574?s=400&amp;v=4\" /><meta property=\"og:site_name\" content=\"GitHub\" /><meta property=\"og:type\" content=\"object\" /><meta property=\"og:title\" content=\"hackoregon/elections-2018\" /><meta property=\"og:url\" content=\"https://github.com/hackoregon/elections-2018\" /><meta property=\"og:description\" content=\"Contribute to elections-2018 development by creating an account on GitHub.\" />\\n\\n  <link rel=\"assets\" href=\"https://assets-cdn.github.com/\">\\n  \\n  <meta name=\"pjax-timeout\" content=\"1000\">\\n  \\n  <meta name=\"request-id\" content=\"A716:1CED:2A809:44531:5AB97C60\" data-pjax-transient>\\n\\n\\n  \\n\\n  <meta name=\"selected-link\" value=\"repo_source\" data-pjax-transient>\\n\\n    <meta name=\"google-site-verification\" content=\"KT5gs8h0wvaagLKAVWq8bbeNwnZZK1r1XQysX3xurLU\">\\n  <meta name=\"google-site-verification\" content=\"ZzhVyEFwb7w3e0-uOTltm8Jsck2F5StVihD0exw2fsA\">\\n  <meta name=\"google-site-verification\" content=\"GXs5KoUUkNCoaAZn7wPN-t01Pywp9M3sEjnt_3_ZWPc\">\\n    <meta name=\"google-analytics\" content=\"UA-3769691-2\">\\n\\n<meta name=\"octolytics-host\" content=\"collector.githubapp.com\" /><meta name=\"octolytics-app-id\" content=\"github\" /><meta name=\"octolytics-event-url\" content=\"https://collector.githubapp.com/github-external/browser_event\" /><meta name=\"octolytics-dimension-request_id\" content=\"A716:1CED:2A809:44531:5AB97C60\" /><meta name=\"octolytics-dimension-region_edge\" content=\"sea\" /><meta name=\"octolytics-dimension-region_render\" content=\"iad\" />\\n<meta name=\"hydro-events-url\" content=\"https://github.com/hydro_browser_events\" />\\n<meta name=\"analytics-location\" content=\"/&lt;user-name&gt;/&lt;repo-name&gt;/blob/show\" data-pjax-transient=\"true\" />\\n\\n\\n\\n\\n  <meta class=\"js-ga-set\" name=\"dimension1\" content=\"Logged Out\">\\n\\n\\n  \\n\\n      <meta name=\"hostname\" content=\"github.com\">\\n    <meta name=\"user-login\" content=\"\">\\n\\n      <meta name=\"expected-hostname\" content=\"github.com\">\\n    <meta name=\"js-proxy-site-detection-payload\" content=\"YTgzMTZlNDM0ODllZjhjNzFmMDVhOTUwNjA5NmU0MGNiOTgyYzhiZDI1YTEzNDVlZWRhZWViMjg3MGQwMmZhMHx7InJlbW90ZV9hZGRyZXNzIjoiNjcuNS4yMzAuNjgiLCJyZXF1ZXN0X2lkIjoiQTcxNjoxQ0VEOjJBODA5OjQ0NTMxOjVBQjk3QzYwIiwidGltZXN0YW1wIjoxNTIyMTA1NDQxLCJob3N0IjoiZ2l0aHViLmNvbSJ9\">\\n\\n    <meta name=\"enabled-features\" content=\"UNIVERSE_BANNER,FREE_TRIALS,MARKETPLACE_INSIGHTS,MARKETPLACE_INSIGHTS_CONVERSION_PERCENTAGES\">\\n\\n  <meta name=\"html-safe-nonce\" content=\"a44b017028780342e20e2c2ee6ff95869811867a\">\\n\\n  <meta http-equiv=\"x-pjax-version\" content=\"52bf7b38c497042485da0e0c8622e335\">\\n  \\n\\n      <link href=\"https://github.com/hackoregon/elections-2018/commits/master.atom\" rel=\"alternate\" title=\"Recent Commits to elections-2018:master\" type=\"application/atom+xml\">\\n\\n  <meta name=\"description\" content=\"Contribute to elections-2018 development by creating an account on GitHub.\">\\n  <meta name=\"go-import\" content=\"github.com/hackoregon/elections-2018 git https://github.com/hackoregon/elections-2018.git\">\\n\\n  <meta name=\"octolytics-dimension-user_id\" content=\"6343574\" /><meta name=\"octolytics-dimension-user_login\" content=\"hackoregon\" /><meta name=\"octolytics-dimension-repository_id\" content=\"119751828\" /><meta name=\"octolytics-dimension-repository_nwo\" content=\"hackoregon/elections-2018\" /><meta name=\"octolytics-dimension-repository_public\" content=\"true\" /><meta name=\"octolytics-dimension-repository_is_fork\" content=\"false\" /><meta name=\"octolytics-dimension-repository_network_root_id\" content=\"119751828\" /><meta name=\"octolytics-dimension-repository_network_root_nwo\" content=\"hackoregon/elections-2018\" /><meta name=\"octolytics-dimension-repository_explore_github_marketplace_ci_cta_shown\" content=\"false\" />\\n\\n\\n    <link rel=\"canonical\" href=\"https://github.com/hackoregon/elections-2018/blob/master/scrape_files/transaction_detail_first_batch.csv\" data-pjax-transient>\\n\\n\\n  <meta name=\"browser-stats-url\" content=\"https://api.github.com/_private/browser/stats\">\\n\\n  <meta name=\"browser-errors-url\" content=\"https://api.github.com/_private/browser/errors\">\\n\\n  <link rel=\"mask-icon\" href=\"https://assets-cdn.github.com/pinned-octocat.svg\" color=\"#000000\">\\n  <link rel=\"icon\" type=\"image/x-icon\" class=\"js-site-favicon\" href=\"https://assets-cdn.github.com/favicon.ico\">\\n\\n<meta name=\"theme-color\" content=\"#1e2327\">\\n\\n\\n\\n<link rel=\"manifest\" href=\"/manifest.json\" crossOrigin=\"use-credentials\">\\n\\n  </head>\\n\\n  <body class=\"logged-out env-production page-blob\">\\n    \\n\\n  <div class=\"position-relative js-header-wrapper \">\\n    <a href=\"#start-of-content\" tabindex=\"1\" class=\"px-2 py-4 show-on-focus js-skip-to-content\">Skip to content</a>\\n    <div id=\"js-pjax-loader-bar\" class=\"pjax-loader-bar\"><div class=\"progress\"></div></div>\\n\\n    \\n    \\n    \\n\\n\\n\\n        <header class=\"Header header-logged-out  position-relative f4 py-3\" role=\"banner\">\\n  <div class=\"container-lg d-flex px-3\">\\n    <div class=\"d-flex flex-justify-between flex-items-center\">\\n      <a class=\"header-logo-invertocat my-0\" href=\"https://github.com/\" aria-label=\"Homepage\" data-ga-click=\"(Logged out) Header, go to homepage, icon:logo-wordmark\">\\n        <svg height=\"32\" class=\"octicon octicon-mark-github\" viewBox=\"0 0 16 16\" version=\"1.1\" width=\"32\" aria-hidden=\"true\"><path fill-rule=\"evenodd\" d=\"M8 0C3.58 0 0 3.58 0 8c0 3.54 2.29 6.53 5.47 7.59.4.07.55-.17.55-.38 0-.19-.01-.82-.01-1.49-2.01.37-2.53-.49-2.69-.94-.09-.23-.48-.94-.82-1.13-.28-.15-.68-.52-.01-.53.63-.01 1.08.58 1.23.82.72 1.21 1.87.87 2.33.66.07-.52.28-.87.51-1.07-1.78-.2-3.64-.89-3.64-3.95 0-.87.31-1.59.82-2.15-.08-.2-.36-1.02.08-2.12 0 0 .67-.21 2.2.82.64-.18 1.32-.27 2-.27.68 0 1.36.09 2 .27 1.53-1.04 2.2-.82 2.2-.82.44 1.1.16 1.92.08 2.12.51.56.82 1.27.82 2.15 0 3.07-1.87 3.75-3.65 3.95.29.25.54.73.54 1.48 0 1.07-.01 1.93-.01 2.2 0 .21.15.46.55.38A8.013 8.013 0 0 0 16 8c0-4.42-3.58-8-8-8z\"/></svg>\\n      </a>\\n\\n    </div>\\n\\n    <div class=\"HeaderMenu HeaderMenu--bright d-flex flex-justify-between flex-auto\">\\n        <nav class=\"mt-0\">\\n          <ul class=\"d-flex list-style-none\">\\n              <li class=\"ml-2\">\\n                <a class=\"js-selected-navigation-item HeaderNavlink px-0 py-2 m-0\" data-ga-click=\"Header, click, Nav menu - item:features\" data-selected-links=\"/features /features/project-management /features/code-review /features/project-management /features/integrations /features\" href=\"/features\">\\n                  Features\\n</a>              </li>\\n              <li class=\"ml-4\">\\n                <a class=\"js-selected-navigation-item HeaderNavlink px-0 py-2 m-0\" data-ga-click=\"Header, click, Nav menu - item:business\" data-selected-links=\"/business /business/security /business/customers /business\" href=\"/business\">\\n                  Business\\n</a>              </li>\\n\\n              <li class=\"ml-4\">\\n                <a class=\"js-selected-navigation-item HeaderNavlink px-0 py-2 m-0\" data-ga-click=\"Header, click, Nav menu - item:explore\" data-selected-links=\"/explore /trending /trending/developers /integrations /integrations/feature/code /integrations/feature/collaborate /integrations/feature/ship showcases showcases_search showcases_landing /explore\" href=\"/explore\">\\n                  Explore\\n</a>              </li>\\n\\n              <li class=\"ml-4\">\\n                    <a class=\"js-selected-navigation-item HeaderNavlink px-0 py-2 m-0\" data-ga-click=\"Header, click, Nav menu - item:marketplace\" data-selected-links=\" /marketplace\" href=\"/marketplace\">\\n                      Marketplace\\n</a>              </li>\\n              <li class=\"ml-4\">\\n                <a class=\"js-selected-navigation-item HeaderNavlink px-0 py-2 m-0\" data-ga-click=\"Header, click, Nav menu - item:pricing\" data-selected-links=\"/pricing /pricing/developer /pricing/team /pricing/business-hosted /pricing/business-enterprise /pricing\" href=\"/pricing\">\\n                  Pricing\\n</a>              </li>\\n          </ul>\\n        </nav>\\n\\n      <div class=\"d-flex\">\\n          <div class=\"d-lg-flex flex-items-center mr-3\">\\n            <div class=\"header-search scoped-search site-scoped-search js-site-search\" role=\"search\">\\n  <!-- \\'\"` --><!-- </textarea></xmp> --></option></form><form class=\"js-site-search-form\" data-scoped-search-url=\"/hackoregon/elections-2018/search\" data-unscoped-search-url=\"/search\" action=\"/hackoregon/elections-2018/search\" accept-charset=\"UTF-8\" method=\"get\"><input name=\"utf8\" type=\"hidden\" value=\"&#x2713;\" />\\n    <label class=\"form-control header-search-wrapper js-chromeless-input-container\">\\n        <a class=\"header-search-scope no-underline\" href=\"/hackoregon/elections-2018/blob/master/scrape_files/transaction_detail_first_batch.csv\">This repository</a>\\n      <input type=\"text\"\\n        class=\"form-control header-search-input js-site-search-focus js-site-search-field is-clearable\"\\n        data-hotkey=\"s,/\"\\n        name=\"q\"\\n        value=\"\"\\n        placeholder=\"Search\"\\n        aria-label=\"Search this repository\"\\n        data-unscoped-placeholder=\"Search GitHub\"\\n        data-scoped-placeholder=\"Search\"\\n        autocapitalize=\"off\">\\n        <input type=\"hidden\" class=\"js-site-search-type-field\" name=\"type\" >\\n    </label>\\n</form></div>\\n\\n          </div>\\n\\n        <span class=\"d-inline-block\">\\n            <div class=\"HeaderNavlink px-0 py-2 m-0\">\\n              <a class=\"text-bold text-white no-underline\" href=\"/login?return_to=%2Fhackoregon%2Felections-2018%2Fblob%2Fmaster%2Fscrape_files%2Ftransaction_detail_first_batch.csv\" data-ga-click=\"(Logged out) Header, clicked Sign in, text:sign-in\">Sign in</a>\\n                <span class=\"text-gray\">or</span>\\n                <a class=\"text-bold text-white no-underline\" href=\"/join?source=header-repo\" data-ga-click=\"(Logged out) Header, clicked Sign up, text:sign-up\">Sign up</a>\\n            </div>\\n        </span>\\n      </div>\\n    </div>\\n  </div>\\n</header>\\n\\n  </div>\\n\\n  <div id=\"start-of-content\" class=\"show-on-focus\"></div>\\n\\n    <div id=\"js-flash-container\">\\n</div>\\n\\n\\n\\n  <div role=\"main\" class=\"application-main \">\\n        <div itemscope itemtype=\"http://schema.org/SoftwareSourceCode\" class=\"\">\\n    <div id=\"js-repo-pjax-container\" data-pjax-container >\\n      \\n\\n\\n\\n\\n\\n  \\n\\n\\n\\n  <div class=\"pagehead repohead instapaper_ignore readability-menu experiment-repo-nav  \">\\n    <div class=\"repohead-details-container clearfix container\">\\n\\n      <ul class=\"pagehead-actions\">\\n  <li>\\n      <a href=\"/login?return_to=%2Fhackoregon%2Felections-2018\"\\n    class=\"btn btn-sm btn-with-count tooltipped tooltipped-n\"\\n    aria-label=\"You must be signed in to watch a repository\" rel=\"nofollow\">\\n    <svg class=\"octicon octicon-eye\" viewBox=\"0 0 16 16\" version=\"1.1\" width=\"16\" height=\"16\" aria-hidden=\"true\"><path fill-rule=\"evenodd\" d=\"M8.06 2C3 2 0 8 0 8s3 6 8.06 6C13 14 16 8 16 8s-3-6-7.94-6zM8 12c-2.2 0-4-1.78-4-4 0-2.2 1.8-4 4-4 2.22 0 4 1.8 4 4 0 2.22-1.78 4-4 4zm2-4c0 1.11-.89 2-2 2-1.11 0-2-.89-2-2 0-1.11.89-2 2-2 1.11 0 2 .89 2 2z\"/></svg>\\n    Watch\\n  </a>\\n  <a class=\"social-count\" href=\"/hackoregon/elections-2018/watchers\"\\n     aria-label=\"11 users are watching this repository\">\\n    11\\n  </a>\\n\\n  </li>\\n\\n  <li>\\n      <a href=\"/login?return_to=%2Fhackoregon%2Felections-2018\"\\n    class=\"btn btn-sm btn-with-count tooltipped tooltipped-n\"\\n    aria-label=\"You must be signed in to star a repository\" rel=\"nofollow\">\\n    <svg class=\"octicon octicon-star\" viewBox=\"0 0 14 16\" version=\"1.1\" width=\"14\" height=\"16\" aria-hidden=\"true\"><path fill-rule=\"evenodd\" d=\"M14 6l-4.9-.64L7 1 4.9 5.36 0 6l3.6 3.26L2.67 14 7 11.67 11.33 14l-.93-4.74z\"/></svg>\\n    Star\\n  </a>\\n\\n    <a class=\"social-count js-social-count\" href=\"/hackoregon/elections-2018/stargazers\"\\n      aria-label=\"2 users starred this repository\">\\n      2\\n    </a>\\n\\n  </li>\\n\\n  <li>\\n      <a href=\"/login?return_to=%2Fhackoregon%2Felections-2018\"\\n        class=\"btn btn-sm btn-with-count tooltipped tooltipped-n\"\\n        aria-label=\"You must be signed in to fork a repository\" rel=\"nofollow\">\\n        <svg class=\"octicon octicon-repo-forked\" viewBox=\"0 0 10 16\" version=\"1.1\" width=\"10\" height=\"16\" aria-hidden=\"true\"><path fill-rule=\"evenodd\" d=\"M8 1a1.993 1.993 0 0 0-1 3.72V6L5 8 3 6V4.72A1.993 1.993 0 0 0 2 1a1.993 1.993 0 0 0-1 3.72V6.5l3 3v1.78A1.993 1.993 0 0 0 5 15a1.993 1.993 0 0 0 1-3.72V9.5l3-3V4.72A1.993 1.993 0 0 0 8 1zM2 4.2C1.34 4.2.8 3.65.8 3c0-.65.55-1.2 1.2-1.2.65 0 1.2.55 1.2 1.2 0 .65-.55 1.2-1.2 1.2zm3 10c-.66 0-1.2-.55-1.2-1.2 0-.65.55-1.2 1.2-1.2.65 0 1.2.55 1.2 1.2 0 .65-.55 1.2-1.2 1.2zm3-10c-.66 0-1.2-.55-1.2-1.2 0-.65.55-1.2 1.2-1.2.65 0 1.2.55 1.2 1.2 0 .65-.55 1.2-1.2 1.2z\"/></svg>\\n        Fork\\n      </a>\\n\\n    <a href=\"/hackoregon/elections-2018/network\" class=\"social-count\"\\n       aria-label=\"2 users forked this repository\">\\n      2\\n    </a>\\n  </li>\\n</ul>\\n\\n      <h1 class=\"public \">\\n  <svg class=\"octicon octicon-repo\" viewBox=\"0 0 12 16\" version=\"1.1\" width=\"12\" height=\"16\" aria-hidden=\"true\"><path fill-rule=\"evenodd\" d=\"M4 9H3V8h1v1zm0-3H3v1h1V6zm0-2H3v1h1V4zm0-2H3v1h1V2zm8-1v12c0 .55-.45 1-1 1H6v2l-1.5-1.5L3 16v-2H1c-.55 0-1-.45-1-1V1c0-.55.45-1 1-1h10c.55 0 1 .45 1 1zm-1 10H1v2h2v-1h3v1h5v-2zm0-10H2v9h9V1z\"/></svg>\\n  <span class=\"author\" itemprop=\"author\"><a class=\"url fn\" rel=\"author\" href=\"/hackoregon\">hackoregon</a></span><!--\\n--><span class=\"path-divider\">/</span><!--\\n--><strong itemprop=\"name\"><a data-pjax=\"#js-repo-pjax-container\" href=\"/hackoregon/elections-2018\">elections-2018</a></strong>\\n\\n</h1>\\n\\n    </div>\\n    \\n<nav class=\"reponav js-repo-nav js-sidenav-container-pjax container\"\\n     itemscope\\n     itemtype=\"http://schema.org/BreadcrumbList\"\\n     role=\"navigation\"\\n     data-pjax=\"#js-repo-pjax-container\">\\n\\n  <span itemscope itemtype=\"http://schema.org/ListItem\" itemprop=\"itemListElement\">\\n    <a class=\"js-selected-navigation-item selected reponav-item\" itemprop=\"url\" data-hotkey=\"g c\" data-selected-links=\"repo_source repo_downloads repo_commits repo_releases repo_tags repo_branches repo_packages /hackoregon/elections-2018\" href=\"/hackoregon/elections-2018\">\\n      <svg class=\"octicon octicon-code\" viewBox=\"0 0 14 16\" version=\"1.1\" width=\"14\" height=\"16\" aria-hidden=\"true\"><path fill-rule=\"evenodd\" d=\"M9.5 3L8 4.5 11.5 8 8 11.5 9.5 13 14 8 9.5 3zm-5 0L0 8l4.5 5L6 11.5 2.5 8 6 4.5 4.5 3z\"/></svg>\\n      <span itemprop=\"name\">Code</span>\\n      <meta itemprop=\"position\" content=\"1\">\\n</a>  </span>\\n\\n    <span itemscope itemtype=\"http://schema.org/ListItem\" itemprop=\"itemListElement\">\\n      <a itemprop=\"url\" data-hotkey=\"g i\" class=\"js-selected-navigation-item reponav-item\" data-selected-links=\"repo_issues repo_labels repo_milestones /hackoregon/elections-2018/issues\" href=\"/hackoregon/elections-2018/issues\">\\n        <svg class=\"octicon octicon-issue-opened\" viewBox=\"0 0 14 16\" version=\"1.1\" width=\"14\" height=\"16\" aria-hidden=\"true\"><path fill-rule=\"evenodd\" d=\"M7 2.3c3.14 0 5.7 2.56 5.7 5.7s-2.56 5.7-5.7 5.7A5.71 5.71 0 0 1 1.3 8c0-3.14 2.56-5.7 5.7-5.7zM7 1C3.14 1 0 4.14 0 8s3.14 7 7 7 7-3.14 7-7-3.14-7-7-7zm1 3H6v5h2V4zm0 6H6v2h2v-2z\"/></svg>\\n        <span itemprop=\"name\">Issues</span>\\n        <span class=\"Counter\">14</span>\\n        <meta itemprop=\"position\" content=\"2\">\\n</a>    </span>\\n\\n  <span itemscope itemtype=\"http://schema.org/ListItem\" itemprop=\"itemListElement\">\\n    <a data-hotkey=\"g p\" itemprop=\"url\" class=\"js-selected-navigation-item reponav-item\" data-selected-links=\"repo_pulls checks /hackoregon/elections-2018/pulls\" href=\"/hackoregon/elections-2018/pulls\">\\n      <svg class=\"octicon octicon-git-pull-request\" viewBox=\"0 0 12 16\" version=\"1.1\" width=\"12\" height=\"16\" aria-hidden=\"true\"><path fill-rule=\"evenodd\" d=\"M11 11.28V5c-.03-.78-.34-1.47-.94-2.06C9.46 2.35 8.78 2.03 8 2H7V0L4 3l3 3V4h1c.27.02.48.11.69.31.21.2.3.42.31.69v6.28A1.993 1.993 0 0 0 10 15a1.993 1.993 0 0 0 1-3.72zm-1 2.92c-.66 0-1.2-.55-1.2-1.2 0-.65.55-1.2 1.2-1.2.65 0 1.2.55 1.2 1.2 0 .65-.55 1.2-1.2 1.2zM4 3c0-1.11-.89-2-2-2a1.993 1.993 0 0 0-1 3.72v6.56A1.993 1.993 0 0 0 2 15a1.993 1.993 0 0 0 1-3.72V4.72c.59-.34 1-.98 1-1.72zm-.8 10c0 .66-.55 1.2-1.2 1.2-.65 0-1.2-.55-1.2-1.2 0-.65.55-1.2 1.2-1.2.65 0 1.2.55 1.2 1.2zM2 4.2C1.34 4.2.8 3.65.8 3c0-.65.55-1.2 1.2-1.2.65 0 1.2.55 1.2 1.2 0 .65-.55 1.2-1.2 1.2z\"/></svg>\\n      <span itemprop=\"name\">Pull requests</span>\\n      <span class=\"Counter\">0</span>\\n      <meta itemprop=\"position\" content=\"3\">\\n</a>  </span>\\n\\n    <a data-hotkey=\"g b\" class=\"js-selected-navigation-item reponav-item\" data-selected-links=\"repo_projects new_repo_project repo_project /hackoregon/elections-2018/projects\" href=\"/hackoregon/elections-2018/projects\">\\n      <svg class=\"octicon octicon-project\" viewBox=\"0 0 15 16\" version=\"1.1\" width=\"15\" height=\"16\" aria-hidden=\"true\"><path fill-rule=\"evenodd\" d=\"M10 12h3V2h-3v10zm-4-2h3V2H6v8zm-4 4h3V2H2v12zm-1 1h13V1H1v14zM14 0H1a1 1 0 0 0-1 1v14a1 1 0 0 0 1 1h13a1 1 0 0 0 1-1V1a1 1 0 0 0-1-1z\"/></svg>\\n      Projects\\n      <span class=\"Counter\" >0</span>\\n</a>\\n\\n\\n  <a class=\"js-selected-navigation-item reponav-item\" data-selected-links=\"repo_graphs repo_contributors dependency_graph pulse /hackoregon/elections-2018/pulse\" href=\"/hackoregon/elections-2018/pulse\">\\n    <svg class=\"octicon octicon-graph\" viewBox=\"0 0 16 16\" version=\"1.1\" width=\"16\" height=\"16\" aria-hidden=\"true\"><path fill-rule=\"evenodd\" d=\"M16 14v1H0V0h1v14h15zM5 13H3V8h2v5zm4 0H7V3h2v10zm4 0h-2V6h2v7z\"/></svg>\\n    Insights\\n</a>\\n\\n</nav>\\n\\n\\n  </div>\\n\\n<div class=\"container new-discussion-timeline experiment-repo-nav  \">\\n  <div class=\"repository-content \">\\n\\n    \\n  <a class=\"d-none js-permalink-shortcut\" data-hotkey=\"y\" href=\"/hackoregon/elections-2018/blob/1ec699a581a204c4b5550582a69ded32e14eddf5/scrape_files/transaction_detail_first_batch.csv\">Permalink</a>\\n\\n  <!-- blob contrib key: blob_contributors:v21:57726631e507c6aa1d5c7d240105e072 -->\\n\\n  <div class=\"file-navigation\">\\n    \\n<div class=\"select-menu branch-select-menu js-menu-container js-select-menu float-left\">\\n  <button class=\" btn btn-sm select-menu-button js-menu-target css-truncate\" data-hotkey=\"w\"\\n    \\n    type=\"button\" aria-label=\"Switch branches or tags\" aria-expanded=\"false\" aria-haspopup=\"true\">\\n      <i>Branch:</i>\\n      <span class=\"js-select-button css-truncate-target\">master</span>\\n  </button>\\n\\n  <div class=\"select-menu-modal-holder js-menu-content js-navigation-container\" data-pjax>\\n\\n    <div class=\"select-menu-modal\">\\n      <div class=\"select-menu-header\">\\n        <svg class=\"octicon octicon-x js-menu-close\" role=\"img\" aria-label=\"Close\" viewBox=\"0 0 12 16\" version=\"1.1\" width=\"12\" height=\"16\"><path fill-rule=\"evenodd\" d=\"M7.48 8l3.75 3.75-1.48 1.48L6 9.48l-3.75 3.75-1.48-1.48L4.52 8 .77 4.25l1.48-1.48L6 6.52l3.75-3.75 1.48 1.48z\"/></svg>\\n        <span class=\"select-menu-title\">Switch branches/tags</span>\\n      </div>\\n\\n      <div class=\"select-menu-filters\">\\n        <div class=\"select-menu-text-filter\">\\n          <input type=\"text\" aria-label=\"Filter branches/tags\" id=\"context-commitish-filter-field\" class=\"form-control js-filterable-field js-navigation-enable\" placeholder=\"Filter branches/tags\">\\n        </div>\\n        <div class=\"select-menu-tabs\">\\n          <ul>\\n            <li class=\"select-menu-tab\">\\n              <a href=\"#\" data-tab-filter=\"branches\" data-filter-placeholder=\"Filter branches/tags\" class=\"js-select-menu-tab\" role=\"tab\">Branches</a>\\n            </li>\\n            <li class=\"select-menu-tab\">\\n              <a href=\"#\" data-tab-filter=\"tags\" data-filter-placeholder=\"Find a tag\\xe2\\x80\\xa6\" class=\"js-select-menu-tab\" role=\"tab\">Tags</a>\\n            </li>\\n          </ul>\\n        </div>\\n      </div>\\n\\n      <div class=\"select-menu-list select-menu-tab-bucket js-select-menu-tab-bucket\" data-tab-filter=\"branches\" role=\"menu\">\\n\\n        <div data-filterable-for=\"context-commitish-filter-field\" data-filterable-type=\"substring\">\\n\\n\\n            <a class=\"select-menu-item js-navigation-item js-navigation-open selected\"\\n               href=\"/hackoregon/elections-2018/blob/master/scrape_files/transaction_detail_first_batch.csv\"\\n               data-name=\"master\"\\n               data-skip-pjax=\"true\"\\n               rel=\"nofollow\">\\n              <svg class=\"octicon octicon-check select-menu-item-icon\" viewBox=\"0 0 12 16\" version=\"1.1\" width=\"12\" height=\"16\" aria-hidden=\"true\"><path fill-rule=\"evenodd\" d=\"M12 5l-8 8-4-4 1.5-1.5L4 10l6.5-6.5z\"/></svg>\\n              <span class=\"select-menu-item-text css-truncate-target js-select-menu-filter-text\">\\n                master\\n              </span>\\n            </a>\\n        </div>\\n\\n          <div class=\"select-menu-no-results\">Nothing to show</div>\\n      </div>\\n\\n      <div class=\"select-menu-list select-menu-tab-bucket js-select-menu-tab-bucket\" data-tab-filter=\"tags\">\\n        <div data-filterable-for=\"context-commitish-filter-field\" data-filterable-type=\"substring\">\\n\\n\\n        </div>\\n\\n        <div class=\"select-menu-no-results\">Nothing to show</div>\\n      </div>\\n\\n    </div>\\n  </div>\\n</div>\\n\\n    <div class=\"BtnGroup float-right\">\\n      <a href=\"/hackoregon/elections-2018/find/master\"\\n            class=\"js-pjax-capture-input btn btn-sm BtnGroup-item\"\\n            data-pjax\\n            data-hotkey=\"t\">\\n        Find file\\n      </a>\\n      <clipboard-copy\\n            for=\"blob-path\"\\n            aria-label=\"Copy file path to clipboard\"\\n            class=\"btn btn-sm BtnGroup-item tooltipped tooltipped-s\"\\n            copied-label=\"Copied!\">\\n        Copy path\\n      </clipboard-copy>\\n    </div>\\n    <div id=\"blob-path\" class=\"breadcrumb\">\\n      <span class=\"repo-root js-repo-root\"><span class=\"js-path-segment\"><a data-pjax=\"true\" href=\"/hackoregon/elections-2018\"><span>elections-2018</span></a></span></span><span class=\"separator\">/</span><span class=\"js-path-segment\"><a data-pjax=\"true\" href=\"/hackoregon/elections-2018/tree/master/scrape_files\"><span>scrape_files</span></a></span><span class=\"separator\">/</span><strong class=\"final-path\">transaction_detail_first_batch.csv</strong>\\n    </div>\\n  </div>\\n\\n\\n  <include-fragment src=\"/hackoregon/elections-2018/contributors/master/scrape_files/transaction_detail_first_batch.csv\" class=\"commit-tease\">\\n    <div>\\n      Fetching contributors&hellip;\\n    </div>\\n\\n    <div class=\"commit-tease-contributors\">\\n      <img alt=\"\" class=\"loader-loading float-left\" src=\"https://assets-cdn.github.com/images/spinners/octocat-spinner-32-EAF2F5.gif\" width=\"16\" height=\"16\" />\\n      <span class=\"loader-error\">Cannot retrieve contributors at this time</span>\\n    </div>\\n</include-fragment>\\n\\n  <div class=\"file\">\\n    <div class=\"file-header\">\\n  <div class=\"file-actions\">\\n\\n    <div class=\"BtnGroup\">\\n      <a id=\"raw-url\" class=\"btn btn-sm BtnGroup-item\" href=\"/hackoregon/elections-2018/raw/master/scrape_files/transaction_detail_first_batch.csv\">Download</a>\\n      <a rel=\"nofollow\" class=\"btn btn-sm BtnGroup-item\" href=\"/hackoregon/elections-2018/commits/master/scrape_files/transaction_detail_first_batch.csv\">History</a>\\n    </div>\\n\\n\\n        <!-- \\'\"` --><!-- </textarea></xmp> --></option></form><form class=\"inline-form\" action=\"/hackoregon/elections-2018/delete/master/scrape_files/transaction_detail_first_batch.csv\" accept-charset=\"UTF-8\" method=\"post\"><input name=\"utf8\" type=\"hidden\" value=\"&#x2713;\" /><input type=\"hidden\" name=\"authenticity_token\" value=\"DuxWetzrksktmtQWm8IDGP+ZcF4dW4EFy+9YOJqGFnChbyQjt/7pEmMHvzaE4CWe8I2nVPFn1pCT4hEI8Blwtg==\" />\\n          <button class=\"btn-octicon btn-octicon-danger tooltipped tooltipped-nw\" type=\"submit\"\\n            aria-label=\"You must be signed in to make or propose changes\" data-disable-with>\\n            <svg class=\"octicon octicon-trashcan\" viewBox=\"0 0 12 16\" version=\"1.1\" width=\"12\" height=\"16\" aria-hidden=\"true\"><path fill-rule=\"evenodd\" d=\"M11 2H9c0-.55-.45-1-1-1H5c-.55 0-1 .45-1 1H2c-.55 0-1 .45-1 1v1c0 .55.45 1 1 1v9c0 .55.45 1 1 1h7c.55 0 1-.45 1-1V5c.55 0 1-.45 1-1V3c0-.55-.45-1-1-1zm-1 12H3V5h1v8h1V5h1v8h1V5h1v8h1V5h1v9zm1-10H2V3h9v1z\"/></svg>\\n          </button>\\n</form>  </div>\\n\\n  <div class=\"file-info\">\\n    20.9 MB\\n  </div>\\n</div>\\n\\n    \\n\\n  <div itemprop=\"text\" class=\"blob-wrapper data type-text\">\\n      <div class=\"image\">\\n          <a href=\"/hackoregon/elections-2018/blob/master/scrape_files/transaction_detail_first_batch.csv?raw=true\">View Raw</a>\\n            <p>(Sorry about that, but we can\\xe2\\x80\\x99t show files that are this big right now.)</p>\\n      </div>\\n  </div>\\n\\n  </div>\\n\\n  <button type=\"button\" data-facebox=\"#jump-to-line\" data-facebox-class=\"linejump\" data-hotkey=\"l\" class=\"d-none\">Jump to Line</button>\\n  <div id=\"jump-to-line\" style=\"display:none\">\\n    <!-- \\'\"` --><!-- </textarea></xmp> --></option></form><form class=\"js-jump-to-line-form\" action=\"\" accept-charset=\"UTF-8\" method=\"get\"><input name=\"utf8\" type=\"hidden\" value=\"&#x2713;\" />\\n      <input class=\"form-control linejump-input js-jump-to-line-field\" type=\"text\" placeholder=\"Jump to line&hellip;\" aria-label=\"Jump to line\" autofocus>\\n      <button type=\"submit\" class=\"btn\">Go</button>\\n</form>  </div>\\n\\n\\n  </div>\\n  <div class=\"modal-backdrop js-touch-events\"></div>\\n</div>\\n\\n    </div>\\n  </div>\\n\\n  </div>\\n\\n      \\n<div class=\"footer container-lg px-3\" role=\"contentinfo\">\\n  <div class=\"position-relative d-flex flex-justify-between py-6 mt-6 f6 text-gray border-top border-gray-light \">\\n    <ul class=\"list-style-none d-flex flex-wrap \">\\n      <li class=\"mr-3\">&copy; 2018 <span title=\"0.30648s from unicorn-4162479912-0f893\">GitHub</span>, Inc.</li>\\n        <li class=\"mr-3\"><a href=\"/site/terms\" data-ga-click=\"Footer, go to terms, text:terms\">Terms</a></li>\\n        <li class=\"mr-3\"><a href=\"/site/privacy\" data-ga-click=\"Footer, go to privacy, text:privacy\">Privacy</a></li>\\n        <li class=\"mr-3\"><a href=\"https://help.github.com/articles/github-security/\" data-ga-click=\"Footer, go to security, text:security\">Security</a></li>\\n        <li class=\"mr-3\"><a href=\"https://status.github.com/\" data-ga-click=\"Footer, go to status, text:status\">Status</a></li>\\n        <li><a data-ga-click=\"Footer, go to help, text:help\" href=\"https://help.github.com\">Help</a></li>\\n    </ul>\\n\\n    <a aria-label=\"Homepage\" title=\"GitHub\" class=\"footer-octicon\" href=\"https://github.com\">\\n      <svg height=\"24\" class=\"octicon octicon-mark-github\" viewBox=\"0 0 16 16\" version=\"1.1\" width=\"24\" aria-hidden=\"true\"><path fill-rule=\"evenodd\" d=\"M8 0C3.58 0 0 3.58 0 8c0 3.54 2.29 6.53 5.47 7.59.4.07.55-.17.55-.38 0-.19-.01-.82-.01-1.49-2.01.37-2.53-.49-2.69-.94-.09-.23-.48-.94-.82-1.13-.28-.15-.68-.52-.01-.53.63-.01 1.08.58 1.23.82.72 1.21 1.87.87 2.33.66.07-.52.28-.87.51-1.07-1.78-.2-3.64-.89-3.64-3.95 0-.87.31-1.59.82-2.15-.08-.2-.36-1.02.08-2.12 0 0 .67-.21 2.2.82.64-.18 1.32-.27 2-.27.68 0 1.36.09 2 .27 1.53-1.04 2.2-.82 2.2-.82.44 1.1.16 1.92.08 2.12.51.56.82 1.27.82 2.15 0 3.07-1.87 3.75-3.65 3.95.29.25.54.73.54 1.48 0 1.07-.01 1.93-.01 2.2 0 .21.15.46.55.38A8.013 8.013 0 0 0 16 8c0-4.42-3.58-8-8-8z\"/></svg>\\n</a>\\n    <ul class=\"list-style-none d-flex flex-wrap \">\\n        <li class=\"mr-3\"><a data-ga-click=\"Footer, go to contact, text:contact\" href=\"https://github.com/contact\">Contact GitHub</a></li>\\n      <li class=\"mr-3\"><a href=\"https://developer.github.com\" data-ga-click=\"Footer, go to api, text:api\">API</a></li>\\n      <li class=\"mr-3\"><a href=\"https://training.github.com\" data-ga-click=\"Footer, go to training, text:training\">Training</a></li>\\n      <li class=\"mr-3\"><a href=\"https://shop.github.com\" data-ga-click=\"Footer, go to shop, text:shop\">Shop</a></li>\\n        <li class=\"mr-3\"><a data-ga-click=\"Footer, go to blog, text:blog\" href=\"https://github.com/blog\">Blog</a></li>\\n        <li><a data-ga-click=\"Footer, go to about, text:about\" href=\"https://github.com/about\">About</a></li>\\n\\n    </ul>\\n  </div>\\n</div>\\n\\n\\n\\n  <div id=\"ajax-error-message\" class=\"ajax-error-message flash flash-error\">\\n    <svg class=\"octicon octicon-alert\" viewBox=\"0 0 16 16\" version=\"1.1\" width=\"16\" height=\"16\" aria-hidden=\"true\"><path fill-rule=\"evenodd\" d=\"M8.865 1.52c-.18-.31-.51-.5-.87-.5s-.69.19-.87.5L.275 13.5c-.18.31-.18.69 0 1 .19.31.52.5.87.5h13.7c.36 0 .69-.19.86-.5.17-.31.18-.69.01-1L8.865 1.52zM8.995 13h-2v-2h2v2zm0-3h-2V6h2v4z\"/></svg>\\n    <button type=\"button\" class=\"flash-close js-ajax-error-dismiss\" aria-label=\"Dismiss error\">\\n      <svg class=\"octicon octicon-x\" viewBox=\"0 0 12 16\" version=\"1.1\" width=\"12\" height=\"16\" aria-hidden=\"true\"><path fill-rule=\"evenodd\" d=\"M7.48 8l3.75 3.75-1.48 1.48L6 9.48l-3.75 3.75-1.48-1.48L4.52 8 .77 4.25l1.48-1.48L6 6.52l3.75-3.75 1.48 1.48z\"/></svg>\\n    </button>\\n    You can\\'t perform that action at this time.\\n  </div>\\n\\n\\n    <script crossorigin=\"anonymous\" type=\"application/javascript\" src=\"https://assets-cdn.github.com/assets/compat-af4f19572e1d43f69746f70aa5f01dc9.js\"></script>\\n    <script crossorigin=\"anonymous\" type=\"application/javascript\" src=\"https://assets-cdn.github.com/assets/frameworks-a4cd615937be93c673467fec53d0395c.js\"></script>\\n    \\n    <script crossorigin=\"anonymous\" async=\"async\" type=\"application/javascript\" src=\"https://assets-cdn.github.com/assets/github-e9e7b6878a67deea54bd416c6f2a6b75.js\"></script>\\n    \\n    \\n    \\n    \\n  <div class=\"js-stale-session-flash stale-session-flash flash flash-warn flash-banner d-none\">\\n    <svg class=\"octicon octicon-alert\" viewBox=\"0 0 16 16\" version=\"1.1\" width=\"16\" height=\"16\" aria-hidden=\"true\"><path fill-rule=\"evenodd\" d=\"M8.865 1.52c-.18-.31-.51-.5-.87-.5s-.69.19-.87.5L.275 13.5c-.18.31-.18.69 0 1 .19.31.52.5.87.5h13.7c.36 0 .69-.19.86-.5.17-.31.18-.69.01-1L8.865 1.52zM8.995 13h-2v-2h2v2zm0-3h-2V6h2v4z\"/></svg>\\n    <span class=\"signed-in-tab-flash\">You signed in with another tab or window. <a href=\"\">Reload</a> to refresh your session.</span>\\n    <span class=\"signed-out-tab-flash\">You signed out in another tab or window. <a href=\"\">Reload</a> to refresh your session.</span>\\n  </div>\\n  <div class=\"facebox\" id=\"facebox\" style=\"display:none;\">\\n  <div class=\"facebox-popup\">\\n    <div class=\"facebox-content\" role=\"dialog\" aria-labelledby=\"facebox-header\" aria-describedby=\"facebox-description\">\\n    </div>\\n    <button type=\"button\" class=\"facebox-close js-facebox-close\" aria-label=\"Close modal\">\\n      <svg class=\"octicon octicon-x\" viewBox=\"0 0 12 16\" version=\"1.1\" width=\"12\" height=\"16\" aria-hidden=\"true\"><path fill-rule=\"evenodd\" d=\"M7.48 8l3.75 3.75-1.48 1.48L6 9.48l-3.75 3.75-1.48-1.48L4.52 8 .77 4.25l1.48-1.48L6 6.52l3.75-3.75 1.48 1.48z\"/></svg>\\n    </button>\\n  </div>\\n</div>\\n\\n  <div class=\"Popover js-hovercard-content position-absolute\" style=\"display: none; outline: none;\" tabindex=\"0\">\\n  <div class=\"Popover-message Popover-message--bottom-left Popover-message--large Box box-shadow-large px-3 pb-3 my-3\" style=\"width:360px;\">\\n  </div>\\n</div>\\n\\n<div id=\"hovercard-aria-description\" class=\"sr-only\">\\n  Press h to open a hovercard with more details.\\n</div>\\n\\n\\n  </body>\\n</html>\\n\\n'"
      ]
     },
     "execution_count": 6,
     "metadata": {},
     "output_type": "execute_result"
    }
   ],
   "source": [
    "r.content"
   ]
  },
  {
   "cell_type": "code",
   "execution_count": 4,
   "metadata": {
    "collapsed": false,
    "deletable": true,
    "editable": true
   },
   "outputs": [
    {
     "ename": "ParserError",
     "evalue": "Error tokenizing data. C error: Expected 1 fields in line 31, saw 3\n",
     "output_type": "error",
     "traceback": [
      "\u001b[0;31m---------------------------------------------------------------------------\u001b[0m",
      "\u001b[0;31mParserError\u001b[0m                               Traceback (most recent call last)",
      "\u001b[0;32m<ipython-input-4-e96188d40f39>\u001b[0m in \u001b[0;36m<module>\u001b[0;34m()\u001b[0m\n\u001b[1;32m      3\u001b[0m \u001b[0murl\u001b[0m \u001b[0;34m=\u001b[0m \u001b[0;34m\"\"\"https://github.com/hackoregon/elections-2018/tree/master/scrape_files/transaction_detail_first_batch.csv\"\"\"\u001b[0m\u001b[0;34m\u001b[0m\u001b[0m\n\u001b[1;32m      4\u001b[0m \u001b[0mr\u001b[0m \u001b[0;34m=\u001b[0m \u001b[0mrequests\u001b[0m\u001b[0;34m.\u001b[0m\u001b[0mget\u001b[0m\u001b[0;34m(\u001b[0m\u001b[0murl\u001b[0m\u001b[0;34m.\u001b[0m\u001b[0mreplace\u001b[0m\u001b[0;34m(\u001b[0m\u001b[0;34m'\\n'\u001b[0m\u001b[0;34m,\u001b[0m \u001b[0;34m''\u001b[0m\u001b[0;34m)\u001b[0m\u001b[0;34m)\u001b[0m\u001b[0;34m\u001b[0m\u001b[0m\n\u001b[0;32m----> 5\u001b[0;31m \u001b[0mdf\u001b[0m \u001b[0;34m=\u001b[0m \u001b[0mpd\u001b[0m\u001b[0;34m.\u001b[0m\u001b[0mread_csv\u001b[0m\u001b[0;34m(\u001b[0m\u001b[0mio\u001b[0m\u001b[0;34m.\u001b[0m\u001b[0mStringIO\u001b[0m\u001b[0;34m(\u001b[0m\u001b[0mr\u001b[0m\u001b[0;34m.\u001b[0m\u001b[0mcontent\u001b[0m\u001b[0;34m.\u001b[0m\u001b[0mdecode\u001b[0m\u001b[0;34m(\u001b[0m\u001b[0;34m'utf-8'\u001b[0m\u001b[0;34m)\u001b[0m\u001b[0;34m)\u001b[0m\u001b[0;34m,\u001b[0m \u001b[0mdtype\u001b[0m\u001b[0;34m=\u001b[0m\u001b[0;34m{\u001b[0m\u001b[0;34m'Agent'\u001b[0m\u001b[0;34m:\u001b[0m \u001b[0mstr\u001b[0m\u001b[0;34m}\u001b[0m\u001b[0;34m)\u001b[0m\u001b[0;34m\u001b[0m\u001b[0m\n\u001b[0m\u001b[1;32m      6\u001b[0m \u001b[0modf\u001b[0m \u001b[0;34m=\u001b[0m \u001b[0mpd\u001b[0m\u001b[0;34m.\u001b[0m\u001b[0mread_csv\u001b[0m\u001b[0;34m(\u001b[0m\u001b[0mio\u001b[0m\u001b[0;34m.\u001b[0m\u001b[0mStringIO\u001b[0m\u001b[0;34m(\u001b[0m\u001b[0mr\u001b[0m\u001b[0;34m.\u001b[0m\u001b[0mcontent\u001b[0m\u001b[0;34m.\u001b[0m\u001b[0mdecode\u001b[0m\u001b[0;34m(\u001b[0m\u001b[0;34m'utf-8'\u001b[0m\u001b[0;34m)\u001b[0m\u001b[0;34m)\u001b[0m\u001b[0;34m,\u001b[0m \u001b[0mdtype\u001b[0m\u001b[0;34m=\u001b[0m\u001b[0;34m'O'\u001b[0m\u001b[0;34m)\u001b[0m\u001b[0;34m\u001b[0m\u001b[0m\n",
      "\u001b[0;32m/Users/michaelcrown/anaconda/lib/python3.4/site-packages/pandas/io/parsers.py\u001b[0m in \u001b[0;36mparser_f\u001b[0;34m(filepath_or_buffer, sep, delimiter, header, names, index_col, usecols, squeeze, prefix, mangle_dupe_cols, dtype, engine, converters, true_values, false_values, skipinitialspace, skiprows, nrows, na_values, keep_default_na, na_filter, verbose, skip_blank_lines, parse_dates, infer_datetime_format, keep_date_col, date_parser, dayfirst, iterator, chunksize, compression, thousands, decimal, lineterminator, quotechar, quoting, escapechar, comment, encoding, dialect, tupleize_cols, error_bad_lines, warn_bad_lines, skipfooter, skip_footer, doublequote, delim_whitespace, as_recarray, compact_ints, use_unsigned, low_memory, buffer_lines, memory_map, float_precision)\u001b[0m\n\u001b[1;32m    653\u001b[0m                     skip_blank_lines=skip_blank_lines)\n\u001b[1;32m    654\u001b[0m \u001b[0;34m\u001b[0m\u001b[0m\n\u001b[0;32m--> 655\u001b[0;31m         \u001b[0;32mreturn\u001b[0m \u001b[0m_read\u001b[0m\u001b[0;34m(\u001b[0m\u001b[0mfilepath_or_buffer\u001b[0m\u001b[0;34m,\u001b[0m \u001b[0mkwds\u001b[0m\u001b[0;34m)\u001b[0m\u001b[0;34m\u001b[0m\u001b[0m\n\u001b[0m\u001b[1;32m    656\u001b[0m \u001b[0;34m\u001b[0m\u001b[0m\n\u001b[1;32m    657\u001b[0m     \u001b[0mparser_f\u001b[0m\u001b[0;34m.\u001b[0m\u001b[0m__name__\u001b[0m \u001b[0;34m=\u001b[0m \u001b[0mname\u001b[0m\u001b[0;34m\u001b[0m\u001b[0m\n",
      "\u001b[0;32m/Users/michaelcrown/anaconda/lib/python3.4/site-packages/pandas/io/parsers.py\u001b[0m in \u001b[0;36m_read\u001b[0;34m(filepath_or_buffer, kwds)\u001b[0m\n\u001b[1;32m    409\u001b[0m \u001b[0;34m\u001b[0m\u001b[0m\n\u001b[1;32m    410\u001b[0m     \u001b[0;32mtry\u001b[0m\u001b[0;34m:\u001b[0m\u001b[0;34m\u001b[0m\u001b[0m\n\u001b[0;32m--> 411\u001b[0;31m         \u001b[0mdata\u001b[0m \u001b[0;34m=\u001b[0m \u001b[0mparser\u001b[0m\u001b[0;34m.\u001b[0m\u001b[0mread\u001b[0m\u001b[0;34m(\u001b[0m\u001b[0mnrows\u001b[0m\u001b[0;34m)\u001b[0m\u001b[0;34m\u001b[0m\u001b[0m\n\u001b[0m\u001b[1;32m    412\u001b[0m     \u001b[0;32mfinally\u001b[0m\u001b[0;34m:\u001b[0m\u001b[0;34m\u001b[0m\u001b[0m\n\u001b[1;32m    413\u001b[0m         \u001b[0mparser\u001b[0m\u001b[0;34m.\u001b[0m\u001b[0mclose\u001b[0m\u001b[0;34m(\u001b[0m\u001b[0;34m)\u001b[0m\u001b[0;34m\u001b[0m\u001b[0m\n",
      "\u001b[0;32m/Users/michaelcrown/anaconda/lib/python3.4/site-packages/pandas/io/parsers.py\u001b[0m in \u001b[0;36mread\u001b[0;34m(self, nrows)\u001b[0m\n\u001b[1;32m   1003\u001b[0m                 \u001b[0;32mraise\u001b[0m \u001b[0mValueError\u001b[0m\u001b[0;34m(\u001b[0m\u001b[0;34m'skipfooter not supported for iteration'\u001b[0m\u001b[0;34m)\u001b[0m\u001b[0;34m\u001b[0m\u001b[0m\n\u001b[1;32m   1004\u001b[0m \u001b[0;34m\u001b[0m\u001b[0m\n\u001b[0;32m-> 1005\u001b[0;31m         \u001b[0mret\u001b[0m \u001b[0;34m=\u001b[0m \u001b[0mself\u001b[0m\u001b[0;34m.\u001b[0m\u001b[0m_engine\u001b[0m\u001b[0;34m.\u001b[0m\u001b[0mread\u001b[0m\u001b[0;34m(\u001b[0m\u001b[0mnrows\u001b[0m\u001b[0;34m)\u001b[0m\u001b[0;34m\u001b[0m\u001b[0m\n\u001b[0m\u001b[1;32m   1006\u001b[0m \u001b[0;34m\u001b[0m\u001b[0m\n\u001b[1;32m   1007\u001b[0m         \u001b[0;32mif\u001b[0m \u001b[0mself\u001b[0m\u001b[0;34m.\u001b[0m\u001b[0moptions\u001b[0m\u001b[0;34m.\u001b[0m\u001b[0mget\u001b[0m\u001b[0;34m(\u001b[0m\u001b[0;34m'as_recarray'\u001b[0m\u001b[0;34m)\u001b[0m\u001b[0;34m:\u001b[0m\u001b[0;34m\u001b[0m\u001b[0m\n",
      "\u001b[0;32m/Users/michaelcrown/anaconda/lib/python3.4/site-packages/pandas/io/parsers.py\u001b[0m in \u001b[0;36mread\u001b[0;34m(self, nrows)\u001b[0m\n\u001b[1;32m   1746\u001b[0m     \u001b[0;32mdef\u001b[0m \u001b[0mread\u001b[0m\u001b[0;34m(\u001b[0m\u001b[0mself\u001b[0m\u001b[0;34m,\u001b[0m \u001b[0mnrows\u001b[0m\u001b[0;34m=\u001b[0m\u001b[0;32mNone\u001b[0m\u001b[0;34m)\u001b[0m\u001b[0;34m:\u001b[0m\u001b[0;34m\u001b[0m\u001b[0m\n\u001b[1;32m   1747\u001b[0m         \u001b[0;32mtry\u001b[0m\u001b[0;34m:\u001b[0m\u001b[0;34m\u001b[0m\u001b[0m\n\u001b[0;32m-> 1748\u001b[0;31m             \u001b[0mdata\u001b[0m \u001b[0;34m=\u001b[0m \u001b[0mself\u001b[0m\u001b[0;34m.\u001b[0m\u001b[0m_reader\u001b[0m\u001b[0;34m.\u001b[0m\u001b[0mread\u001b[0m\u001b[0;34m(\u001b[0m\u001b[0mnrows\u001b[0m\u001b[0;34m)\u001b[0m\u001b[0;34m\u001b[0m\u001b[0m\n\u001b[0m\u001b[1;32m   1749\u001b[0m         \u001b[0;32mexcept\u001b[0m \u001b[0mStopIteration\u001b[0m\u001b[0;34m:\u001b[0m\u001b[0;34m\u001b[0m\u001b[0m\n\u001b[1;32m   1750\u001b[0m             \u001b[0;32mif\u001b[0m \u001b[0mself\u001b[0m\u001b[0;34m.\u001b[0m\u001b[0m_first_chunk\u001b[0m\u001b[0;34m:\u001b[0m\u001b[0;34m\u001b[0m\u001b[0m\n",
      "\u001b[0;32mpandas/_libs/parsers.pyx\u001b[0m in \u001b[0;36mpandas._libs.parsers.TextReader.read (pandas/_libs/parsers.c:10862)\u001b[0;34m()\u001b[0m\n",
      "\u001b[0;32mpandas/_libs/parsers.pyx\u001b[0m in \u001b[0;36mpandas._libs.parsers.TextReader._read_low_memory (pandas/_libs/parsers.c:11138)\u001b[0;34m()\u001b[0m\n",
      "\u001b[0;32mpandas/_libs/parsers.pyx\u001b[0m in \u001b[0;36mpandas._libs.parsers.TextReader._read_rows (pandas/_libs/parsers.c:11884)\u001b[0;34m()\u001b[0m\n",
      "\u001b[0;32mpandas/_libs/parsers.pyx\u001b[0m in \u001b[0;36mpandas._libs.parsers.TextReader._tokenize_rows (pandas/_libs/parsers.c:11755)\u001b[0;34m()\u001b[0m\n",
      "\u001b[0;32mpandas/_libs/parsers.pyx\u001b[0m in \u001b[0;36mpandas._libs.parsers.raise_parser_error (pandas/_libs/parsers.c:28765)\u001b[0;34m()\u001b[0m\n",
      "\u001b[0;31mParserError\u001b[0m: Error tokenizing data. C error: Expected 1 fields in line 31, saw 3\n"
     ]
    }
   ],
   "source": [
    "import io\n",
    "\n",
    "url = \"\"\"https://github.com/hackoregon/elections-2018/tree/master/scrape_files/transaction_detail_first_batch.csv\"\"\"\n",
    "r = requests.get(url.replace('\\n', ''))\n",
    "df = pd.read_csv(io.StringIO(r.content.decode('utf-8')), dtype={'Agent': str})\n",
    "odf = pd.read_csv(io.StringIO(r.content.decode('utf-8')), dtype='O')"
   ]
  },
  {
   "cell_type": "markdown",
   "metadata": {
    "deletable": true,
    "editable": true
   },
   "source": [
    "## Basic Inspection"
   ]
  },
  {
   "cell_type": "markdown",
   "metadata": {
    "deletable": true,
    "editable": true
   },
   "source": [
    "### Missing Values"
   ]
  },
  {
   "cell_type": "markdown",
   "metadata": {
    "deletable": true,
    "editable": true
   },
   "source": [
    "Visual inspection of missing values:"
   ]
  },
  {
   "cell_type": "code",
   "execution_count": 3,
   "metadata": {
    "collapsed": false,
    "deletable": true,
    "editable": true
   },
   "outputs": [
    {
     "name": "stderr",
     "output_type": "stream",
     "text": [
      "/Users/michaelcrown/anaconda/lib/python3.4/site-packages/matplotlib/axes/_base.py:3239: UserWarning: Attempting to set identical bottom==top results\n",
      "in singular transformations; automatically expanding.\n",
      "bottom=-0.5, top=-0.5\n",
      "  'bottom=%s, top=%s') % (bottom, top))\n"
     ]
    },
    {
     "ename": "ValueError",
     "evalue": "min() arg is an empty sequence",
     "output_type": "error",
     "traceback": [
      "\u001b[0;31m---------------------------------------------------------------------------\u001b[0m",
      "\u001b[0;31mValueError\u001b[0m                                Traceback (most recent call last)",
      "\u001b[0;32m<ipython-input-3-be44a11af111>\u001b[0m in \u001b[0;36m<module>\u001b[0;34m()\u001b[0m\n\u001b[0;32m----> 1\u001b[0;31m \u001b[0mmsn\u001b[0m\u001b[0;34m.\u001b[0m\u001b[0mmatrix\u001b[0m\u001b[0;34m(\u001b[0m\u001b[0mdf\u001b[0m\u001b[0;34m.\u001b[0m\u001b[0miloc\u001b[0m\u001b[0;34m[\u001b[0m\u001b[0;36m14\u001b[0m\u001b[0;34m:\u001b[0m\u001b[0;34m]\u001b[0m\u001b[0;34m)\u001b[0m\u001b[0;34m\u001b[0m\u001b[0m\n\u001b[0m",
      "\u001b[0;32m/Users/michaelcrown/anaconda/lib/python3.4/site-packages/missingno/missingno.py\u001b[0m in \u001b[0;36mmatrix\u001b[0;34m(df, filter, n, p, sort, figsize, width_ratios, color, fontsize, labels, sparkline, inline, freq)\u001b[0m\n\u001b[1;32m    243\u001b[0m         \u001b[0mx_domain\u001b[0m \u001b[0;34m=\u001b[0m \u001b[0mlist\u001b[0m\u001b[0;34m(\u001b[0m\u001b[0mrange\u001b[0m\u001b[0;34m(\u001b[0m\u001b[0;36m0\u001b[0m\u001b[0;34m,\u001b[0m \u001b[0mheight\u001b[0m\u001b[0;34m)\u001b[0m\u001b[0;34m)\u001b[0m\u001b[0;34m\u001b[0m\u001b[0m\n\u001b[1;32m    244\u001b[0m         \u001b[0my_range\u001b[0m \u001b[0;34m=\u001b[0m \u001b[0mlist\u001b[0m\u001b[0;34m(\u001b[0m\u001b[0mreversed\u001b[0m\u001b[0;34m(\u001b[0m\u001b[0mcompleteness_srs\u001b[0m\u001b[0;34m.\u001b[0m\u001b[0mvalues\u001b[0m\u001b[0;34m)\u001b[0m\u001b[0;34m)\u001b[0m\u001b[0;34m\u001b[0m\u001b[0m\n\u001b[0;32m--> 245\u001b[0;31m         \u001b[0mmin_completeness\u001b[0m \u001b[0;34m=\u001b[0m \u001b[0mmin\u001b[0m\u001b[0;34m(\u001b[0m\u001b[0my_range\u001b[0m\u001b[0;34m)\u001b[0m\u001b[0;34m\u001b[0m\u001b[0m\n\u001b[0m\u001b[1;32m    246\u001b[0m         \u001b[0mmax_completeness\u001b[0m \u001b[0;34m=\u001b[0m \u001b[0mmax\u001b[0m\u001b[0;34m(\u001b[0m\u001b[0my_range\u001b[0m\u001b[0;34m)\u001b[0m\u001b[0;34m\u001b[0m\u001b[0m\n\u001b[1;32m    247\u001b[0m         \u001b[0mmin_completeness_index\u001b[0m \u001b[0;34m=\u001b[0m \u001b[0my_range\u001b[0m\u001b[0;34m.\u001b[0m\u001b[0mindex\u001b[0m\u001b[0;34m(\u001b[0m\u001b[0mmin_completeness\u001b[0m\u001b[0;34m)\u001b[0m\u001b[0;34m\u001b[0m\u001b[0m\n",
      "\u001b[0;31mValueError\u001b[0m: min() arg is an empty sequence"
     ]
    },
    {
     "data": {
      "image/png": "[encoded data removed]",
      "text/plain": [
       "<matplotlib.figure.Figure at 0x1063273c8>"
      ]
     },
     "metadata": {},
     "output_type": "display_data"
    }
   ],
   "source": [
    "msn.matrix(df.iloc[14:])"
   ]
  },
  {
   "cell_type": "markdown",
   "metadata": {
    "deletable": true,
    "editable": true
   },
   "source": [
    "Missing values per column:"
   ]
  },
  {
   "cell_type": "code",
   "execution_count": 4,
   "metadata": {
    "collapsed": false,
    "deletable": true,
    "editable": true
   },
   "outputs": [
    {
     "data": {
      "text/plain": [
       "Interest Rate                    88070\n",
       "Name                               780\n",
       "Occupation                       63064\n",
       "Occupation Letter Date           87855\n",
       "Payer of Personal Expenditure    86758\n",
       "Payment Method                   66544\n",
       "Process Status                       0\n",
       "Purpose                          63435\n",
       "Repayment Schedule               88232\n",
       "Transaction Date                     0\n",
       "Transaction ID                       0\n",
       "Transaction Sub Type                 0\n",
       "Transaction Type                     0\n",
       "dtype: int64"
      ]
     },
     "execution_count": 4,
     "metadata": {},
     "output_type": "execute_result"
    }
   ],
   "source": [
    "len(df) - df.iloc[:, 14:].count()"
   ]
  },
  {
   "cell_type": "markdown",
   "metadata": {
    "deletable": true,
    "editable": true
   },
   "source": [
    "### Unique Value Counts"
   ]
  },
  {
   "cell_type": "code",
   "execution_count": 5,
   "metadata": {
    "collapsed": false,
    "deletable": true,
    "editable": true
   },
   "outputs": [
    {
     "data": {
      "text/plain": [
       "Interest Rate                      120\n",
       "Name                             19262\n",
       "Occupation                        2674\n",
       "Occupation Letter Date             248\n",
       "Payer of Personal Expenditure      198\n",
       "Payment Method                       6\n",
       "Process Status                       4\n",
       "Purpose                            125\n",
       "Repayment Schedule                  48\n",
       "Transaction Date                  4101\n",
       "Transaction ID                   88310\n",
       "Transaction Sub Type                29\n",
       "Transaction Type                     6\n",
       "dtype: int64"
      ]
     },
     "execution_count": 5,
     "metadata": {},
     "output_type": "execute_result"
    }
   ],
   "source": [
    "df.iloc[:, 14:].apply(lambda x: x.nunique())"
   ]
  },
  {
   "cell_type": "markdown",
   "metadata": {
    "deletable": true,
    "editable": true
   },
   "source": [
    "## Visual Inspection of Columns\n",
    "**(including only those with fewer than 50 unique entries)**"
   ]
  },
  {
   "cell_type": "code",
   "execution_count": 37,
   "metadata": {
    "collapsed": false,
    "deletable": true,
    "editable": true
   },
   "outputs": [
    {
     "name": "stdout",
     "output_type": "stream",
     "text": [
      "---------- \n",
      "\n",
      "Payment Method (unique count: 6)\n",
      "\n",
      "Check                        17357\n",
      "Electronic Funds Transfer     2354\n",
      "Debit Card                    1640\n",
      "Electronic Check               343\n",
      "Credit Card                     71\n",
      "Cash                             1\n",
      "Name: Payment Method, dtype: int64\n",
      "\n",
      "---------- \n",
      "\n",
      "Process Status (unique count: 4)\n",
      "\n",
      "Complete                  87682\n",
      "Filed                       254\n",
      "Insufficient/Statutory      212\n",
      "Insufficient/General        162\n",
      "Name: Process Status, dtype: int64\n",
      "\n",
      "---------- \n",
      "\n",
      "Repayment Schedule (unique count: 48)\n",
      "\n",
      "When funds available                      12\n",
      "repay when funds are available             4\n",
      "On Demand                                  3\n",
      "when funds are available                   3\n",
      "As funds are available                     3\n",
      "30 Days                                    3\n",
      "when available                             3\n",
      "6 months                                   2\n",
      "as funds available                         2\n",
      "ASAP                                       2\n",
      "0                                          2\n",
      "none                                       2\n",
      "As soon as possible                        2\n",
      "None                                       1\n",
      "90 days                                    1\n",
      "2 months                                   1\n",
      "3 months                                   1\n",
      "net 90 days                                1\n",
      "When Funds Available                       1\n",
      "Due 9/10/08                                1\n",
      "when or if available                       1\n",
      "As available                               1\n",
      "120 days                                   1\n",
      "payable when funds available               1\n",
      "ln docs on file, avail on req              1\n",
      "upon request                               1\n",
      "as funds are available                     1\n",
      "not determined                             1\n",
      "to be repaid as funds become available     1\n",
      "Pay as receive contributions               1\n",
      "as available                               1\n",
      "1 year                                     1\n",
      "when funds available                       1\n",
      "1 month                                    1\n",
      "5 years                                    1\n",
      "12-31-16                                   1\n",
      "funds due when avaiable                    1\n",
      "payback when available                     1\n",
      "0.00                                       1\n",
      "to be paid as funds become available       1\n",
      "9/18/2009                                  1\n",
      "As funds available                         1\n",
      "Asap                                       1\n",
      "When funds become available.               1\n",
      "As Funds Available                         1\n",
      "net 90                                     1\n",
      "Due upon demand                            1\n",
      "payable 11/03/16                           1\n",
      "Name: Repayment Schedule, dtype: int64\n",
      "\n",
      "---------- \n",
      "\n",
      "Transaction Sub Type (unique count: 29)\n",
      "\n",
      "Cash Contribution                          49850\n",
      "Cash Expenditure                           25656\n",
      "Personal Expenditure for Reimbursement      6357\n",
      "In-Kind Contribution                        2714\n",
      "Interest/Investment Income                  1039\n",
      "Items Sold at Fair Market Value              892\n",
      "Account Payable                              659\n",
      "Refunds and Rebates                          183\n",
      "Lost or Returned Check                       178\n",
      "Return or Refund of Contribution             125\n",
      "Miscellaneous Other Receipt                  108\n",
      "Pledge of Cash                                96\n",
      "Loan Received (Non-Exempt)                    79\n",
      "Miscellaneous Other Disbursement              74\n",
      "In-Kind/Forgiven Personal Expenditures        68\n",
      "Cash Balance Adjustment                       66\n",
      "Loan Payment (Non-Exempt)                     63\n",
      "Expenditure Made by an Agent                  31\n",
      "Loan Forgiven (Non-Exempt)                    13\n",
      "Account Payable Rescinded                     11\n",
      "Personal Expenditure Balance Adjustment       11\n",
      "Miscellaneous Account Receivable              10\n",
      "In-Kind/Forgiven Account Payable               8\n",
      "Loan Payment (Exempt)                          5\n",
      "Uncollectible Pledge of Cash                   4\n",
      "Pledge of In-Kind                              3\n",
      "Loan Received (Exempt)                         3\n",
      "Nonpartisan Activity                           3\n",
      "Unexpended Agent Balance                       1\n",
      "Name: Transaction Sub Type, dtype: int64\n",
      "\n",
      "---------- \n",
      "\n",
      "Transaction Type (unique count: 6)\n",
      "\n",
      "Contribution                52818\n",
      "Expenditure                 32766\n",
      "Other Receipt                2403\n",
      "Other Disbursement            207\n",
      "Other                         105\n",
      "Other Account Receivable       11\n",
      "Name: Transaction Type, dtype: int64\n",
      "\n",
      "==================== \n",
      "\n",
      "Excluded Columns\n",
      "\n",
      "['Interest Rate', 'Name', 'Occupation', 'Occupation Letter Date', 'Payer of Personal Expenditure', 'Purpose', 'Transaction Date', 'Transaction ID']\n"
     ]
    }
   ],
   "source": [
    "long_cols = []\n",
    "for c in df.iloc[:, 14:]:\n",
    "    n = df.loc[:, c].nunique()\n",
    "    if n < 50:\n",
    "        print(10*'-','\\n')\n",
    "        print('{} (unique count: {})\\n'.format(c, n))\n",
    "        print(df.loc[:, c].value_counts())\n",
    "        print()\n",
    "    else:\n",
    "        long_cols.append(c)\n",
    "print(20*'=', '\\n')\n",
    "print('Excluded Columns\\n')\n",
    "print(long_cols)"
   ]
  },
  {
   "cell_type": "markdown",
   "metadata": {
    "deletable": true,
    "editable": true
   },
   "source": [
    "All of these look good, although *Repayment Schedule* is just a mess of unique values that would ideally be grouped/consolidated."
   ]
  },
  {
   "cell_type": "markdown",
   "metadata": {
    "deletable": true,
    "editable": true
   },
   "source": [
    "## Looking At Longer Columns"
   ]
  },
  {
   "cell_type": "markdown",
   "metadata": {
    "deletable": true,
    "editable": true
   },
   "source": [
    "### Transaction Date"
   ]
  },
  {
   "cell_type": "markdown",
   "metadata": {
    "deletable": true,
    "editable": true
   },
   "source": [
    "Quick descriptive stats"
   ]
  },
  {
   "cell_type": "code",
   "execution_count": 7,
   "metadata": {
    "collapsed": false,
    "deletable": true,
    "editable": true
   },
   "outputs": [
    {
     "data": {
      "text/plain": [
       "count          88310\n",
       "unique          4101\n",
       "top       11/09/2017\n",
       "freq            1656\n",
       "Name: Transaction Date, dtype: object"
      ]
     },
     "execution_count": 7,
     "metadata": {},
     "output_type": "execute_result"
    }
   ],
   "source": [
    "df['Transaction Date'].describe()"
   ]
  },
  {
   "cell_type": "markdown",
   "metadata": {
    "deletable": true,
    "editable": true
   },
   "source": [
    "Checking if any dates don't match the expected format, which includes any invalid values for month, day, year."
   ]
  },
  {
   "cell_type": "code",
   "execution_count": 8,
   "metadata": {
    "collapsed": false,
    "deletable": true,
    "editable": true
   },
   "outputs": [
    {
     "data": {
      "text/plain": [
       "68927    05/03/0007\n",
       "81289    11/03/0209\n",
       "81290    02/23/0009\n",
       "81291    03/14/0008\n",
       "81292    02/19/0007\n",
       "81293    02/19/0007\n",
       "Name: Transaction Date, dtype: object"
      ]
     },
     "execution_count": 8,
     "metadata": {},
     "output_type": "execute_result"
    }
   ],
   "source": [
    "# return the index and value of any dates not matching expected format\n",
    "date_pattern = '(0[0-9]|1[0-2])/([0-2][0-9]|3[01])/(19\\d{2}|200[0-9]|201[0-8])'\n",
    "df.loc[:, 'Transaction Date'][df.loc[:, 'Transaction Date'].apply(lambda x: not re.match(date_pattern, x))]"
   ]
  },
  {
   "cell_type": "markdown",
   "metadata": {
    "deletable": true,
    "editable": true
   },
   "source": [
    "### Interest Rate"
   ]
  },
  {
   "cell_type": "markdown",
   "metadata": {
    "deletable": true,
    "editable": true
   },
   "source": [
    "Quick descriptive stats"
   ]
  },
  {
   "cell_type": "code",
   "execution_count": 9,
   "metadata": {
    "collapsed": false,
    "deletable": true,
    "editable": true
   },
   "outputs": [
    {
     "data": {
      "text/plain": [
       "count     240\n",
       "unique    120\n",
       "top         0\n",
       "freq       51\n",
       "Name: Interest Rate, dtype: object"
      ]
     },
     "execution_count": 9,
     "metadata": {},
     "output_type": "execute_result"
    }
   ],
   "source": [
    "df['Interest Rate'].describe()"
   ]
  },
  {
   "cell_type": "markdown",
   "metadata": {
    "deletable": true,
    "editable": true
   },
   "source": [
    "10 most frequent values"
   ]
  },
  {
   "cell_type": "code",
   "execution_count": 10,
   "metadata": {
    "collapsed": false,
    "deletable": true,
    "editable": true
   },
   "outputs": [
    {
     "data": {
      "text/plain": [
       "0           51\n",
       "150.00      10\n",
       "200.00       9\n",
       "0.00%        7\n",
       "0.00         7\n",
       "2503.00      6\n",
       "68389.61     4\n",
       "25545.33     4\n",
       "83913.84     3\n",
       "6041.76      3\n",
       "Name: Interest Rate, dtype: int64"
      ]
     },
     "execution_count": 10,
     "metadata": {},
     "output_type": "execute_result"
    }
   ],
   "source": [
    "df['Interest Rate'].value_counts().head(10)"
   ]
  },
  {
   "cell_type": "markdown",
   "metadata": {
    "deletable": true,
    "editable": true
   },
   "source": [
    "Check all unique values"
   ]
  },
  {
   "cell_type": "code",
   "execution_count": 17,
   "metadata": {
    "collapsed": false,
    "deletable": true,
    "editable": true
   },
   "outputs": [
    {
     "name": "stdout",
     "output_type": "stream",
     "text": [
      "[nan '0.0' 'zero' 'none' '0' '7 percent' '0.00' '104500.00' '4105.00'\n",
      " '3105.00' '72343.75' '223.99' '1605.00' '10096.00' '605.00' '3399.00'\n",
      " '10%' '0.00%' '3.5%' '150.00' '2500.00' '1563.52' '134.61' '200.00'\n",
      " '125.00' '500.00' '133.96' '152.11' '141545.33' '98146.99' '458.87'\n",
      " '250.00' '709.53' '109389.08' '107889.08' '1470.52' '10000.00' '506.13'\n",
      " '1500.00' '94841.00' '494.97' '2850.00' '570.23' '45545.33' '418.49'\n",
      " '1516.12' '89376.36' '44045.33' '83913.84' '78389.61' '1200.11' '1312.50'\n",
      " '449.57' '42545.33' '307.08' '362.28' '41045.33' '68389.61' '60879.97'\n",
      " '900.11' '309.85' '39545.33' '271.87' '305.85' '56101.43' '1980.00'\n",
      " '51322.90' '37545.33' '600.11' '215.96' '155.23' '4850.00' '35545.33'\n",
      " '154.15' '46542.69' '42691.55' '33545.33' '29191.55' '300.11' '101.51'\n",
      " '31545.33' '19350.50' '15489.34' '13541.76' '29545.33' '27545.33'\n",
      " '6041.76' '350.00' '1610.00' '815.00' '1000.00' '25545.33' '5503.00'\n",
      " '59195.75' '55619.31' '83448.53' '52620.18' '5331.23' '79448.53' '5330.73'\n",
      " '5000.94' '3503.00' '5176.23' '49064.81' '5001.02' '51985.56' '4180.94'\n",
      " '2565.00' '45520.90' '49985.56' '43717.46' '2503.00' '47985.56' '40143.58'\n",
      " '312.16' '45985.56' '36569.69' '15000.00' '0%' '1%' '.25%']\n"
     ]
    }
   ],
   "source": [
    "print(df['Interest Rate'].unique())"
   ]
  },
  {
   "cell_type": "markdown",
   "metadata": {
    "deletable": true,
    "editable": true
   },
   "source": [
    "**Observations**\n",
    "\n",
    "* There are some extremely large values for interest rate (???)\n",
    "* Entry formats:\n",
    "    - float\n",
    "    - numeric with % symbol\n",
    "    - numeric with 'percent'\n",
    "    - string (e.g. 'zero')\n",
    "* These could potentially be automatically reformatted"
   ]
  },
  {
   "cell_type": "markdown",
   "metadata": {
    "deletable": true,
    "editable": true
   },
   "source": [
    "**Attempt to interperate the large Interest Rate values**\n",
    "\n",
    "The script below converts all values in 'Amount', 'Interest Rate' and 'Aggregate' to numeric values."
   ]
  },
  {
   "cell_type": "code",
   "execution_count": 12,
   "metadata": {
    "collapsed": false,
    "deletable": true,
    "editable": true
   },
   "outputs": [
    {
     "data": {
      "text/html": [
       "<div>\n",
       "<style>\n",
       "    .dataframe thead tr:only-child th {\n",
       "        text-align: right;\n",
       "    }\n",
       "\n",
       "    .dataframe thead th {\n",
       "        text-align: left;\n",
       "    }\n",
       "\n",
       "    .dataframe tbody tr th {\n",
       "        vertical-align: top;\n",
       "    }\n",
       "</style>\n",
       "<table border=\"1\" class=\"dataframe\">\n",
       "  <thead>\n",
       "    <tr style=\"text-align: right;\">\n",
       "      <th></th>\n",
       "      <th>Name</th>\n",
       "      <th>Amount</th>\n",
       "      <th>Interest Rate</th>\n",
       "      <th>Aggregate</th>\n",
       "    </tr>\n",
       "  </thead>\n",
       "  <tbody>\n",
       "    <tr>\n",
       "      <th>9091</th>\n",
       "      <td>Oregon Family Council Issues PAC (5446)</td>\n",
       "      <td>32156.25</td>\n",
       "      <td>104500.00</td>\n",
       "      <td>104500.00</td>\n",
       "    </tr>\n",
       "    <tr>\n",
       "      <th>9092</th>\n",
       "      <td>US Postal Service</td>\n",
       "      <td>1000.00</td>\n",
       "      <td>4105.00</td>\n",
       "      <td>4105.00</td>\n",
       "    </tr>\n",
       "    <tr>\n",
       "      <th>9096</th>\n",
       "      <td>US Postal Service</td>\n",
       "      <td>1500.00</td>\n",
       "      <td>3105.00</td>\n",
       "      <td>3105.00</td>\n",
       "    </tr>\n",
       "    <tr>\n",
       "      <th>9097</th>\n",
       "      <td>Oregon Family Council Issues PAC (5446)</td>\n",
       "      <td>62343.75</td>\n",
       "      <td>72343.75</td>\n",
       "      <td>72343.75</td>\n",
       "    </tr>\n",
       "    <tr>\n",
       "      <th>9099</th>\n",
       "      <td>US Postal Service</td>\n",
       "      <td>1000.00</td>\n",
       "      <td>1605.00</td>\n",
       "      <td>1605.00</td>\n",
       "    </tr>\n",
       "    <tr>\n",
       "      <th>9100</th>\n",
       "      <td>Oregon Family Council Issues PAC (5446)</td>\n",
       "      <td>10000.00</td>\n",
       "      <td>10096.00</td>\n",
       "      <td>10096.00</td>\n",
       "    </tr>\n",
       "    <tr>\n",
       "      <th>9102</th>\n",
       "      <td>Diana Nashif</td>\n",
       "      <td>3399.00</td>\n",
       "      <td>3399.00</td>\n",
       "      <td>3399.00</td>\n",
       "    </tr>\n",
       "    <tr>\n",
       "      <th>31438</th>\n",
       "      <td>US Postal Service</td>\n",
       "      <td>1000.00</td>\n",
       "      <td>2500.00</td>\n",
       "      <td>2500.00</td>\n",
       "    </tr>\n",
       "    <tr>\n",
       "      <th>31439</th>\n",
       "      <td>Jack Louman</td>\n",
       "      <td>93.00</td>\n",
       "      <td>1563.52</td>\n",
       "      <td>1563.52</td>\n",
       "    </tr>\n",
       "    <tr>\n",
       "      <th>31459</th>\n",
       "      <td>Gateway Communications</td>\n",
       "      <td>32156.25</td>\n",
       "      <td>141545.33</td>\n",
       "      <td>141545.33</td>\n",
       "    </tr>\n",
       "  </tbody>\n",
       "</table>\n",
       "</div>"
      ],
      "text/plain": [
       "                                          Name    Amount  Interest Rate  \\\n",
       "9091   Oregon Family Council Issues PAC (5446)  32156.25      104500.00   \n",
       "9092                         US Postal Service   1000.00        4105.00   \n",
       "9096                         US Postal Service   1500.00        3105.00   \n",
       "9097   Oregon Family Council Issues PAC (5446)  62343.75       72343.75   \n",
       "9099                         US Postal Service   1000.00        1605.00   \n",
       "9100   Oregon Family Council Issues PAC (5446)  10000.00       10096.00   \n",
       "9102                              Diana Nashif   3399.00        3399.00   \n",
       "31438                        US Postal Service   1000.00        2500.00   \n",
       "31439                              Jack Louman     93.00        1563.52   \n",
       "31459                   Gateway Communications  32156.25      141545.33   \n",
       "\n",
       "       Aggregate  \n",
       "9091   104500.00  \n",
       "9092     4105.00  \n",
       "9096     3105.00  \n",
       "9097    72343.75  \n",
       "9099     1605.00  \n",
       "9100    10096.00  \n",
       "9102     3399.00  \n",
       "31438    2500.00  \n",
       "31439    1563.52  \n",
       "31459  141545.33  "
      ]
     },
     "execution_count": 12,
     "metadata": {},
     "output_type": "execute_result"
    }
   ],
   "source": [
    "temp = df.loc[:, ['Name', 'Amount', 'Interest Rate', 'Aggregate']].dropna().copy()\n",
    "def tofloat(x):\n",
    "    try:\n",
    "        if x.startswith('$'):\n",
    "            x = x.strip('$').replace(',', '')\n",
    "        return float(x)\n",
    "    except:\n",
    "        return None\n",
    "for c in temp:\n",
    "    if c != 'Name':\n",
    "        temp.loc[:, c] = temp.loc[:, c].apply(lambda x: tofloat(x))\n",
    "temp[temp['Interest Rate'] > 1000].head(10)"
   ]
  },
  {
   "cell_type": "markdown",
   "metadata": {
    "deletable": true,
    "editable": true
   },
   "source": [
    "Group temp by 'Name' and aggregate the numeric values to determine the following:\n",
    "\n",
    "1. Is Aggregate the total amount contributed by one Name over time?\n",
    "2. Check if "
   ]
  },
  {
   "cell_type": "code",
   "execution_count": 77,
   "metadata": {
    "collapsed": false,
    "deletable": true,
    "editable": true
   },
   "outputs": [
    {
     "data": {
      "text/html": [
       "<div>\n",
       "<style>\n",
       "    .dataframe thead tr:only-child th {\n",
       "        text-align: right;\n",
       "    }\n",
       "\n",
       "    .dataframe thead th {\n",
       "        text-align: left;\n",
       "    }\n",
       "\n",
       "    .dataframe tbody tr th {\n",
       "        vertical-align: top;\n",
       "    }\n",
       "</style>\n",
       "<table border=\"1\" class=\"dataframe\">\n",
       "  <thead>\n",
       "    <tr>\n",
       "      <th></th>\n",
       "      <th>Amount</th>\n",
       "      <th>Aggregate</th>\n",
       "      <th colspan=\"4\" halign=\"left\">Interest Rate</th>\n",
       "    </tr>\n",
       "    <tr>\n",
       "      <th></th>\n",
       "      <th>Amount</th>\n",
       "      <th>Aggregate</th>\n",
       "      <th>min</th>\n",
       "      <th>mean</th>\n",
       "      <th>max</th>\n",
       "      <th>count</th>\n",
       "    </tr>\n",
       "    <tr>\n",
       "      <th>Name</th>\n",
       "      <th></th>\n",
       "      <th></th>\n",
       "      <th></th>\n",
       "      <th></th>\n",
       "      <th></th>\n",
       "      <th></th>\n",
       "    </tr>\n",
       "  </thead>\n",
       "  <tbody>\n",
       "    <tr>\n",
       "      <th>Bernards Garage Inc</th>\n",
       "      <td>3700.00</td>\n",
       "      <td>5560.36</td>\n",
       "      <td>0.00</td>\n",
       "      <td>0.000000</td>\n",
       "      <td>0.00</td>\n",
       "      <td>2</td>\n",
       "    </tr>\n",
       "    <tr>\n",
       "      <th>Bill J. Burgess</th>\n",
       "      <td>2800.00</td>\n",
       "      <td>2300.00</td>\n",
       "      <td>0.00</td>\n",
       "      <td>0.000000</td>\n",
       "      <td>0.00</td>\n",
       "      <td>2</td>\n",
       "    </tr>\n",
       "    <tr>\n",
       "      <th>C &amp; A Consulting</th>\n",
       "      <td>780.03</td>\n",
       "      <td>500.00</td>\n",
       "      <td>0.00</td>\n",
       "      <td>0.000000</td>\n",
       "      <td>0.00</td>\n",
       "      <td>3</td>\n",
       "    </tr>\n",
       "    <tr>\n",
       "      <th>Capitol Accounting Service</th>\n",
       "      <td>3863.99</td>\n",
       "      <td>2850.00</td>\n",
       "      <td>223.99</td>\n",
       "      <td>1686.798000</td>\n",
       "      <td>2850.00</td>\n",
       "      <td>5</td>\n",
       "    </tr>\n",
       "    <tr>\n",
       "      <th>Christopher Edwards</th>\n",
       "      <td>1500.00</td>\n",
       "      <td>1640.19</td>\n",
       "      <td>0.00</td>\n",
       "      <td>0.000000</td>\n",
       "      <td>0.00</td>\n",
       "      <td>2</td>\n",
       "    </tr>\n",
       "    <tr>\n",
       "      <th>Costco</th>\n",
       "      <td>455.30</td>\n",
       "      <td>506.13</td>\n",
       "      <td>101.51</td>\n",
       "      <td>315.023333</td>\n",
       "      <td>506.13</td>\n",
       "      <td>9</td>\n",
       "    </tr>\n",
       "    <tr>\n",
       "      <th>Edward T. Wheeler</th>\n",
       "      <td>233000.00</td>\n",
       "      <td>233000.00</td>\n",
       "      <td>0.00</td>\n",
       "      <td>0.000000</td>\n",
       "      <td>0.00</td>\n",
       "      <td>10</td>\n",
       "    </tr>\n",
       "    <tr>\n",
       "      <th>Gateway Communications</th>\n",
       "      <td>179008.30</td>\n",
       "      <td>141545.33</td>\n",
       "      <td>25545.33</td>\n",
       "      <td>51160.114167</td>\n",
       "      <td>141545.33</td>\n",
       "      <td>24</td>\n",
       "    </tr>\n",
       "    <tr>\n",
       "      <th>Granella Thompson</th>\n",
       "      <td>750.00</td>\n",
       "      <td>500.00</td>\n",
       "      <td>250.00</td>\n",
       "      <td>375.000000</td>\n",
       "      <td>500.00</td>\n",
       "      <td>2</td>\n",
       "    </tr>\n",
       "    <tr>\n",
       "      <th>Jack Louman</th>\n",
       "      <td>1563.52</td>\n",
       "      <td>1563.52</td>\n",
       "      <td>300.11</td>\n",
       "      <td>1005.746667</td>\n",
       "      <td>1563.52</td>\n",
       "      <td>6</td>\n",
       "    </tr>\n",
       "  </tbody>\n",
       "</table>\n",
       "</div>"
      ],
      "text/plain": [
       "                               Amount  Aggregate Interest Rate                \\\n",
       "                               Amount  Aggregate           min          mean   \n",
       "Name                                                                           \n",
       "Bernards Garage Inc           3700.00    5560.36          0.00      0.000000   \n",
       "Bill J. Burgess               2800.00    2300.00          0.00      0.000000   \n",
       "C & A Consulting               780.03     500.00          0.00      0.000000   \n",
       "Capitol Accounting Service    3863.99    2850.00        223.99   1686.798000   \n",
       "Christopher Edwards           1500.00    1640.19          0.00      0.000000   \n",
       "Costco                         455.30     506.13        101.51    315.023333   \n",
       "Edward T. Wheeler           233000.00  233000.00          0.00      0.000000   \n",
       "Gateway Communications      179008.30  141545.33      25545.33  51160.114167   \n",
       "Granella Thompson              750.00     500.00        250.00    375.000000   \n",
       "Jack Louman                   1563.52    1563.52        300.11   1005.746667   \n",
       "\n",
       "                                             \n",
       "                                  max count  \n",
       "Name                                         \n",
       "Bernards Garage Inc              0.00     2  \n",
       "Bill J. Burgess                  0.00     2  \n",
       "C & A Consulting                 0.00     3  \n",
       "Capitol Accounting Service    2850.00     5  \n",
       "Christopher Edwards              0.00     2  \n",
       "Costco                         506.13     9  \n",
       "Edward T. Wheeler                0.00    10  \n",
       "Gateway Communications      141545.33    24  \n",
       "Granella Thompson              500.00     2  \n",
       "Jack Louman                   1563.52     6  "
      ]
     },
     "execution_count": 77,
     "metadata": {},
     "output_type": "execute_result"
    }
   ],
   "source": [
    "g = temp.groupby('Name').agg({'Amount': sum, 'Interest Rate': {'count','min','mean','max'}, 'Aggregate': max})\n",
    "g[g.loc[:, ('Interest Rate', 'count')] > 1].head(10)"
   ]
  },
  {
   "cell_type": "code",
   "execution_count": 78,
   "metadata": {
    "collapsed": false,
    "deletable": true,
    "editable": true
   },
   "outputs": [
    {
     "data": {
      "text/plain": [
       "count        93.000000\n",
       "mean        363.684301\n",
       "std       11726.642885\n",
       "min      -37462.970000\n",
       "25%           0.000000\n",
       "50%           0.000000\n",
       "75%          97.350000\n",
       "max      100000.000000\n",
       "dtype: float64"
      ]
     },
     "execution_count": 78,
     "metadata": {},
     "output_type": "execute_result"
    }
   ],
   "source": [
    "agg_amount_diff = g.Aggregate.Aggregate.sub(g.Amount.Amount)\n",
    "agg_amount_diff.describe()"
   ]
  },
  {
   "cell_type": "code",
   "execution_count": 81,
   "metadata": {
    "collapsed": false,
    "deletable": true,
    "editable": true
   },
   "outputs": [
    {
     "data": {
      "image/png": "[encoded data removed]",
      "text/plain": [
       "<matplotlib.figure.Figure at 0x11facffd0>"
      ]
     },
     "metadata": {},
     "output_type": "display_data"
    }
   ],
   "source": [
    "agg_amount_diff.plot.hist(bins=100, figsize=(14,4));"
   ]
  },
  {
   "cell_type": "code",
   "execution_count": 84,
   "metadata": {
    "collapsed": false,
    "deletable": true,
    "editable": true
   },
   "outputs": [
    {
     "data": {
      "text/plain": [
       "count    46.0\n",
       "mean      0.0\n",
       "std       0.0\n",
       "min       0.0\n",
       "25%       0.0\n",
       "50%       0.0\n",
       "75%       0.0\n",
       "max       0.0\n",
       "dtype: float64"
      ]
     },
     "execution_count": 84,
     "metadata": {},
     "output_type": "execute_result"
    }
   ],
   "source": [
    "gtemp = g[g.loc[:, ('Interest Rate', 'max')] > 0]\n",
    "agg_imax_diff = gtemp.Aggregate.Aggregate.sub(gtemp.loc[:, ('Interest Rate', 'max')])\n",
    "agg_imax_diff.describe()"
   ]
  },
  {
   "cell_type": "markdown",
   "metadata": {
    "deletable": true,
    "editable": true
   },
   "source": [
    "The maximum value for Interest Rate (when Interest Rate is a numeric value) is always equal to the aggregate for any given Name.\n",
    "\n",
    "What about interest rate per record? Is it always equal to the current aggregate in that record?"
   ]
  },
  {
   "cell_type": "code",
   "execution_count": 86,
   "metadata": {
    "collapsed": false,
    "deletable": true,
    "editable": true
   },
   "outputs": [
    {
     "data": {
      "text/plain": [
       "count       219.000000\n",
       "mean       7854.356986\n",
       "std       31286.684538\n",
       "min           0.000000\n",
       "25%           0.000000\n",
       "50%           0.000000\n",
       "75%         170.015000\n",
       "max      233000.000000\n",
       "dtype: float64"
      ]
     },
     "execution_count": 86,
     "metadata": {},
     "output_type": "execute_result"
    }
   ],
   "source": [
    "temp.Aggregate.sub(temp.loc[:, 'Interest Rate']).describe()"
   ]
  },
  {
   "cell_type": "markdown",
   "metadata": {
    "deletable": true,
    "editable": true
   },
   "source": [
    "The answer to the above is no.\n",
    "\n",
    "Are the number of unique interest rates per Name equal to the number of records per Name?"
   ]
  },
  {
   "cell_type": "code",
   "execution_count": 96,
   "metadata": {
    "collapsed": false,
    "deletable": true,
    "editable": true
   },
   "outputs": [
    {
     "data": {
      "text/html": [
       "<div>\n",
       "<style>\n",
       "    .dataframe thead tr:only-child th {\n",
       "        text-align: right;\n",
       "    }\n",
       "\n",
       "    .dataframe thead th {\n",
       "        text-align: left;\n",
       "    }\n",
       "\n",
       "    .dataframe tbody tr th {\n",
       "        vertical-align: top;\n",
       "    }\n",
       "</style>\n",
       "<table border=\"1\" class=\"dataframe\">\n",
       "  <thead>\n",
       "    <tr style=\"text-align: right;\">\n",
       "      <th></th>\n",
       "      <th>nunique</th>\n",
       "      <th>count</th>\n",
       "    </tr>\n",
       "  </thead>\n",
       "  <tbody>\n",
       "    <tr>\n",
       "      <th>count</th>\n",
       "      <td>83.000000</td>\n",
       "      <td>83.000000</td>\n",
       "    </tr>\n",
       "    <tr>\n",
       "      <th>mean</th>\n",
       "      <td>1.987952</td>\n",
       "      <td>2.638554</td>\n",
       "    </tr>\n",
       "    <tr>\n",
       "      <th>std</th>\n",
       "      <td>3.697375</td>\n",
       "      <td>6.127862</td>\n",
       "    </tr>\n",
       "    <tr>\n",
       "      <th>min</th>\n",
       "      <td>1.000000</td>\n",
       "      <td>1.000000</td>\n",
       "    </tr>\n",
       "    <tr>\n",
       "      <th>25%</th>\n",
       "      <td>1.000000</td>\n",
       "      <td>1.000000</td>\n",
       "    </tr>\n",
       "    <tr>\n",
       "      <th>50%</th>\n",
       "      <td>1.000000</td>\n",
       "      <td>1.000000</td>\n",
       "    </tr>\n",
       "    <tr>\n",
       "      <th>75%</th>\n",
       "      <td>1.000000</td>\n",
       "      <td>1.500000</td>\n",
       "    </tr>\n",
       "    <tr>\n",
       "      <th>max</th>\n",
       "      <td>25.000000</td>\n",
       "      <td>49.000000</td>\n",
       "    </tr>\n",
       "  </tbody>\n",
       "</table>\n",
       "</div>"
      ],
      "text/plain": [
       "         nunique      count\n",
       "count  83.000000  83.000000\n",
       "mean    1.987952   2.638554\n",
       "std     3.697375   6.127862\n",
       "min     1.000000   1.000000\n",
       "25%     1.000000   1.000000\n",
       "50%     1.000000   1.000000\n",
       "75%     1.000000   1.500000\n",
       "max    25.000000  49.000000"
      ]
     },
     "execution_count": 96,
     "metadata": {},
     "output_type": "execute_result"
    }
   ],
   "source": [
    "# summary stats for number of unique Interest Rate values per name,\n",
    "# and total number of records per name\n",
    "interest_nunique = temp.dropna().groupby('Name')['Interest Rate'].agg({Series.nunique, 'count'})\n",
    "interest_nunique.describe()"
   ]
  },
  {
   "cell_type": "markdown",
   "metadata": {
    "deletable": true,
    "editable": true
   },
   "source": [
    "The following is used in the next cell, and it describes the normalized difference of number of records and number of unique Interest Rate values per Name.\n",
    "\n",
    "$$D_p = \\frac{count - nunique}{count - 1}$$\n",
    "\n",
    "This is applied to only the names that have at least 2 records."
   ]
  },
  {
   "cell_type": "code",
   "execution_count": 110,
   "metadata": {
    "collapsed": false,
    "deletable": true,
    "editable": true
   },
   "outputs": [
    {
     "data": {
      "text/plain": [
       "count    21.000000\n",
       "mean      0.525259\n",
       "std       0.481310\n",
       "min       0.000000\n",
       "25%       0.000000\n",
       "50%       0.500000\n",
       "75%       1.000000\n",
       "max       1.000000\n",
       "dtype: float64"
      ]
     },
     "execution_count": 110,
     "metadata": {},
     "output_type": "execute_result"
    }
   ],
   "source": [
    "# summary stats for the difference between count per name and number of unique interest rates\n",
    "# in proportion to the count\n",
    "int_unique_filt = interest_nunique[interest_nunique['count'] > 1]\n",
    "Dp = int_unique_filt['count'].sub(int_unique_filt['nunique']).div(int_unique_filt['count'] - 1)\n",
    "Dp.describe()"
   ]
  },
  {
   "cell_type": "markdown",
   "metadata": {
    "deletable": true,
    "editable": true
   },
   "source": [
    "The number of unique Interest Rate (IR) values is inconsistent: At least 25% of the names have only one unique IR for multiple records, while another 25% (at least) have the same number of unique IR as number of records."
   ]
  },
  {
   "cell_type": "code",
   "execution_count": 14,
   "metadata": {
    "collapsed": false,
    "deletable": true,
    "editable": true
   },
   "outputs": [],
   "source": [
    "subtype_max = df.loc[:, ['Transaction Sub Type', 'Transaction ID', 'Amount']].copy()\n",
    "subtype_max = subtype_max.groupby('Transaction Sub Type').max()"
   ]
  },
  {
   "cell_type": "code",
   "execution_count": 15,
   "metadata": {
    "collapsed": false,
    "deletable": true,
    "editable": true,
    "scrolled": false
   },
   "outputs": [
    {
     "data": {
      "text/html": [
       "<div>\n",
       "<style>\n",
       "    .dataframe thead tr:only-child th {\n",
       "        text-align: right;\n",
       "    }\n",
       "\n",
       "    .dataframe thead th {\n",
       "        text-align: left;\n",
       "    }\n",
       "\n",
       "    .dataframe tbody tr th {\n",
       "        vertical-align: top;\n",
       "    }\n",
       "</style>\n",
       "<table border=\"1\" class=\"dataframe\">\n",
       "  <thead>\n",
       "    <tr style=\"text-align: right;\">\n",
       "      <th></th>\n",
       "      <th>Transaction ID</th>\n",
       "      <th>Amount</th>\n",
       "    </tr>\n",
       "    <tr>\n",
       "      <th>Transaction Sub Type</th>\n",
       "      <th></th>\n",
       "      <th></th>\n",
       "    </tr>\n",
       "  </thead>\n",
       "  <tbody>\n",
       "    <tr>\n",
       "      <th>Account Payable</th>\n",
       "      <td>995140</td>\n",
       "      <td>$994.61</td>\n",
       "    </tr>\n",
       "    <tr>\n",
       "      <th>Account Payable Rescinded</th>\n",
       "      <td>982809</td>\n",
       "      <td>$8,857.25</td>\n",
       "    </tr>\n",
       "    <tr>\n",
       "      <th>Cash Balance Adjustment</th>\n",
       "      <td>996144</td>\n",
       "      <td>($975.00)</td>\n",
       "    </tr>\n",
       "    <tr>\n",
       "      <th>Cash Contribution</th>\n",
       "      <td>999998</td>\n",
       "      <td>$999.51</td>\n",
       "    </tr>\n",
       "    <tr>\n",
       "      <th>Cash Expenditure</th>\n",
       "      <td>999688</td>\n",
       "      <td>$999.00</td>\n",
       "    </tr>\n",
       "    <tr>\n",
       "      <th>Expenditure Made by an Agent</th>\n",
       "      <td>494110</td>\n",
       "      <td>$862.75</td>\n",
       "    </tr>\n",
       "    <tr>\n",
       "      <th>In-Kind Contribution</th>\n",
       "      <td>998205</td>\n",
       "      <td>$998.28</td>\n",
       "    </tr>\n",
       "    <tr>\n",
       "      <th>In-Kind/Forgiven Account Payable</th>\n",
       "      <td>85299</td>\n",
       "      <td>$964.50</td>\n",
       "    </tr>\n",
       "    <tr>\n",
       "      <th>In-Kind/Forgiven Personal Expenditures</th>\n",
       "      <td>982816</td>\n",
       "      <td>$93.97</td>\n",
       "    </tr>\n",
       "    <tr>\n",
       "      <th>Interest/Investment Income</th>\n",
       "      <td>999560</td>\n",
       "      <td>$936.06</td>\n",
       "    </tr>\n",
       "  </tbody>\n",
       "</table>\n",
       "</div>"
      ],
      "text/plain": [
       "                                       Transaction ID     Amount\n",
       "Transaction Sub Type                                            \n",
       "Account Payable                                995140    $994.61\n",
       "Account Payable Rescinded                      982809  $8,857.25\n",
       "Cash Balance Adjustment                        996144  ($975.00)\n",
       "Cash Contribution                              999998    $999.51\n",
       "Cash Expenditure                               999688    $999.00\n",
       "Expenditure Made by an Agent                   494110    $862.75\n",
       "In-Kind Contribution                           998205    $998.28\n",
       "In-Kind/Forgiven Account Payable                85299    $964.50\n",
       "In-Kind/Forgiven Personal Expenditures         982816     $93.97\n",
       "Interest/Investment Income                     999560    $936.06"
      ]
     },
     "execution_count": 15,
     "metadata": {},
     "output_type": "execute_result"
    }
   ],
   "source": [
    "subtype_max.head(10)"
   ]
  },
  {
   "cell_type": "code",
   "execution_count": 16,
   "metadata": {
    "collapsed": false,
    "deletable": true,
    "editable": true
   },
   "outputs": [
    {
     "data": {
      "text/plain": [
       "Amount         Amount       1563.520000\n",
       "Aggregate      Aggregate    1563.520000\n",
       "Interest Rate  min           300.110000\n",
       "               mean         1005.746667\n",
       "               max          1563.520000\n",
       "Name: Jack Louman, dtype: float64"
      ]
     },
     "execution_count": 16,
     "metadata": {},
     "output_type": "execute_result"
    }
   ],
   "source": [
    "g.loc['Jack Louman']"
   ]
  },
  {
   "cell_type": "markdown",
   "metadata": {
    "deletable": true,
    "editable": true
   },
   "source": [
    "### Name"
   ]
  },
  {
   "cell_type": "code",
   "execution_count": 18,
   "metadata": {
    "collapsed": false,
    "deletable": true,
    "editable": true
   },
   "outputs": [
    {
     "data": {
      "text/plain": [
       "count                                               87530\n",
       "unique                                              19262\n",
       "top       Miscellaneous Cash Contributions $100 and under\n",
       "freq                                                 9442\n",
       "Name: Name, dtype: object"
      ]
     },
     "execution_count": 18,
     "metadata": {},
     "output_type": "execute_result"
    }
   ],
   "source": [
    "df.Name.describe()"
   ]
  },
  {
   "cell_type": "markdown",
   "metadata": {
    "deletable": true,
    "editable": true
   },
   "source": [
    "**Convert all to lower case and recheck unique count**"
   ]
  },
  {
   "cell_type": "code",
   "execution_count": 19,
   "metadata": {
    "collapsed": false,
    "deletable": true,
    "editable": true
   },
   "outputs": [
    {
     "data": {
      "text/plain": [
       "count                                               87530\n",
       "unique                                              19052\n",
       "top       miscellaneous cash contributions $100 and under\n",
       "freq                                                 9571\n",
       "Name: Name, dtype: object"
      ]
     },
     "execution_count": 19,
     "metadata": {},
     "output_type": "execute_result"
    }
   ],
   "source": [
    "df.Name.dropna().apply(lambda x: x.lower()).describe()"
   ]
  },
  {
   "cell_type": "markdown",
   "metadata": {
    "deletable": true,
    "editable": true
   },
   "source": [
    "There are 210 fewer unique values after correcting names for case differences"
   ]
  },
  {
   "cell_type": "markdown",
   "metadata": {
    "deletable": true,
    "editable": true
   },
   "source": [
    "**10 most common names to find any generic values**"
   ]
  },
  {
   "cell_type": "code",
   "execution_count": 20,
   "metadata": {
    "collapsed": false,
    "deletable": true,
    "editable": true
   },
   "outputs": [
    {
     "data": {
      "text/plain": [
       "Miscellaneous Cash Contributions $100 and under       9442\n",
       "Miscellaneous Cash Expenditures $100 and under        4989\n",
       "Miscellaneous Personal Expenditures $100 and under    3237\n",
       "C&E Systems                                            622\n",
       "Postmaster                                             587\n",
       "Bank of America                                        415\n",
       "Miscellaneous In-Kind Contributions $100 and under     403\n",
       "US Postal Service                                      329\n",
       "Gateway Communications                                 310\n",
       "Senate Democratic Leadership Fund (1471)               306\n",
       "Name: Name, dtype: int64"
      ]
     },
     "execution_count": 20,
     "metadata": {},
     "output_type": "execute_result"
    }
   ],
   "source": [
    "df.Name.value_counts().head(10)"
   ]
  },
  {
   "cell_type": "markdown",
   "metadata": {
    "deletable": true,
    "editable": true
   },
   "source": [
    "Miscellaneous Cash/Personal Contributions/Expenditures $100 and under account for three unique values.\n",
    "* Is there a Personal Contributions?\n",
    "* What are the differences between these?"
   ]
  },
  {
   "cell_type": "markdown",
   "metadata": {
    "deletable": true,
    "editable": true
   },
   "source": [
    "### Occupation"
   ]
  },
  {
   "cell_type": "code",
   "execution_count": 21,
   "metadata": {
    "collapsed": false,
    "deletable": true,
    "editable": true
   },
   "outputs": [
    {
     "data": {
      "text/plain": [
       "count       25246\n",
       "unique       2674\n",
       "top       Dentist\n",
       "freq         4576\n",
       "Name: Occupation, dtype: object"
      ]
     },
     "execution_count": 21,
     "metadata": {},
     "output_type": "execute_result"
    }
   ],
   "source": [
    "df.Occupation.describe()"
   ]
  },
  {
   "cell_type": "markdown",
   "metadata": {
    "deletable": true,
    "editable": true
   },
   "source": [
    "There are many unique values in occupation, and surely some can be grouped together.\n",
    "How is the unique count affected after correcting for case?"
   ]
  },
  {
   "cell_type": "code",
   "execution_count": 22,
   "metadata": {
    "collapsed": false,
    "deletable": true,
    "editable": true
   },
   "outputs": [
    {
     "data": {
      "text/plain": [
       "count       25246\n",
       "unique       2305\n",
       "top       dentist\n",
       "freq         4577\n",
       "Name: Occupation, dtype: object"
      ]
     },
     "execution_count": 22,
     "metadata": {},
     "output_type": "execute_result"
    }
   ],
   "source": [
    "df.Occupation.dropna().apply(lambda x: x.lower()).describe()"
   ]
  },
  {
   "cell_type": "markdown",
   "metadata": {
    "deletable": true,
    "editable": true
   },
   "source": [
    "There are 369 fewer unique values after accounting for case.\n",
    "* Digging deeper: we can also strip white space, digits, special chars."
   ]
  },
  {
   "cell_type": "markdown",
   "metadata": {
    "deletable": true,
    "editable": true
   },
   "source": [
    "**Most Common Values**"
   ]
  },
  {
   "cell_type": "code",
   "execution_count": 23,
   "metadata": {
    "collapsed": false,
    "deletable": true,
    "editable": true
   },
   "outputs": [
    {
     "data": {
      "text/plain": [
       "Dentist                       4576\n",
       "HOMECARE WORKER               1782\n",
       "PERSONAL SUPPORT WORKER       1647\n",
       "firefighter                   1501\n",
       "Attorney                       806\n",
       "Firefighter                    510\n",
       "President                      492\n",
       "Trustee                        423\n",
       "Bus. Agent, Teamsters #305     349\n",
       "Police officer                 344\n",
       "Name: Occupation, dtype: int64"
      ]
     },
     "execution_count": 23,
     "metadata": {},
     "output_type": "execute_result"
    }
   ],
   "source": [
    "df.Occupation.value_counts().head(10)"
   ]
  },
  {
   "cell_type": "markdown",
   "metadata": {
    "deletable": true,
    "editable": true
   },
   "source": [
    "**Least Common Values**"
   ]
  },
  {
   "cell_type": "code",
   "execution_count": 24,
   "metadata": {
    "collapsed": false,
    "deletable": true,
    "editable": true
   },
   "outputs": [
    {
     "data": {
      "text/plain": [
       "President/General Manager                                                              1\n",
       "RESTAURANT MANAGER                                                                     1\n",
       "Home builder                                                                           1\n",
       "Sales, ABC Office Machines, Owner, Sells & Maintains Copiers, Faxes, Printers, etc.    1\n",
       "Outdoor advertiser                                                                     1\n",
       "Director Government & Public Affairs                                                   1\n",
       "Owner/President - Gold Hill Associates                                                 1\n",
       "fundraiser                                                                             1\n",
       "Chef                                                                                   1\n",
       "Owner of trucking firm                                                                 1\n",
       "Name: Occupation, dtype: int64"
      ]
     },
     "execution_count": 24,
     "metadata": {},
     "output_type": "execute_result"
    }
   ],
   "source": [
    "df.Occupation.value_counts().tail(10)"
   ]
  },
  {
   "cell_type": "markdown",
   "metadata": {
    "deletable": true,
    "editable": true
   },
   "source": [
    "**Values that contain numbers or special characters**"
   ]
  },
  {
   "cell_type": "code",
   "execution_count": 25,
   "metadata": {
    "collapsed": false,
    "deletable": true,
    "editable": true,
    "scrolled": true
   },
   "outputs": [
    {
     "data": {
      "text/plain": [
       "Bus. Agent, Teamsters #305                                                              349\n",
       "Bus. Agent, Teamsters #162                                                              171\n",
       "Trustee, Teamsters #58                                                                  133\n",
       "Bus. Agent, Teamsters #58                                                               127\n",
       "Union Representative, Teamsters #206                                                     98\n",
       "Pres., Teamsters Jt. Council #37                                                         89\n",
       "Labor Rep., Teamsters #223                                                               88\n",
       "Sec.-Treas., Teamsters #962                                                              82\n",
       "Sec.-Treas., Teamsters #223                                                              76\n",
       "OFFICE SPECIALIST 2                                                                      70\n",
       "Pres., Teamsters #162                                                                    65\n",
       "Trustee, Teamsters #223                                                                  63\n",
       "Lead Org., Teamsters Jt. Council #37                                                     62\n",
       "Office Sec., Teamsters #962                                                              62\n",
       "Sec.-Treas., Teamsters #206                                                              62\n",
       "Bus. Agent, Teamsters #962                                                               60\n",
       "Office Sec., Teamsters #305                                                              56\n",
       "SOCIAL SERVICE SPEC 1                                                                    55\n",
       "Trustee of Teamsters Local Union No. 58 Executive Board                                  45\n",
       "Trustee, Teamsters #305                                                                  44\n",
       "HUMAN SERVICES SPECIALIST 3                                                              44\n",
       "Pres., Teamsters #305                                                                    40\n",
       "Sec., Teamsters #162                                                                     39\n",
       "President/CEO                                                                            29\n",
       "ADULT AGING & PEOPLE W/DISABILITIES                                                      29\n",
       "Rec. Sec., Teamsters #305                                                                26\n",
       "Business Agent, Teamsters Local 162                                                      24\n",
       "J. N. Hartsock Project Management                                                        23\n",
       "Sec., Teamsters #223                                                                     22\n",
       "Office Man., Teamsters Jt. Council #37                                                   22\n",
       "                                                                                       ... \n",
       "Digital/IT Project Manager                                                                1\n",
       "Senior Vice President & General Manager                                                   1\n",
       "Architect/Urban Designer                                                                  1\n",
       "Vice president & general manager                                                          1\n",
       "PIPE & STEAM FITTER                                                                       1\n",
       "PROGRAM ANALYST 3                                                                         1\n",
       "Managing director, CPA                                                                    1\n",
       "Developer/ Site Work..Dow Bros. Inc.                                                      1\n",
       "RN/Public Administrator                                                                   1\n",
       "Architect/Engineer                                                                        1\n",
       "Real Estate Broker, Manager                                                               1\n",
       "Owner/Founder, Evergreen International Airlines, Inc. &subsidiaries, McMinnville, OR      1\n",
       "EPIDEMIOLOGIST 1                                                                          1\n",
       "Algelican Priest, Lawyer                                                                  1\n",
       "Risk Manager/Project Manager                                                              1\n",
       "Vice President, Public Policy                                                             1\n",
       "Real estate investor/developer                                                            1\n",
       "Letter sent 12/7/12                                                                       1\n",
       "TRANSPORTATION MAINT COORD 2                                                              1\n",
       "Agriculture & urban development consultant                                                1\n",
       "Retired/consulting part time                                                              1\n",
       "Owner/Executive Officer                                                                   1\n",
       "Letter sent 1/5/07                                                                        1\n",
       "Owner/Filmmaker                                                                           1\n",
       "President & COO                                                                           1\n",
       "Executive director/non-profit                                                             1\n",
       "MEDICAL TRANSCRIPTIONIST 2                                                                1\n",
       "pharmacist/physician                                                                      1\n",
       "owner.CEO...\"Business Consultant Services\"...                                             1\n",
       "BIO SCIENCE RSRCH TECH 2                                                                  1\n",
       "Name: Occupation, Length: 623, dtype: int64"
      ]
     },
     "execution_count": 25,
     "metadata": {},
     "output_type": "execute_result"
    }
   ],
   "source": [
    "def is_special(x):\n",
    "    pattern = \"\"\"[\\w\\s]*[!$%^&*()_+#|~=`{}\\[\\]:\";'<>?.,/0-9]+[\\w\\s]*\"\"\"\n",
    "    if re.match(pattern, x):\n",
    "        return True\n",
    "    else:\n",
    "        return False\n",
    "df.Occupation.dropna()[df.Occupation.dropna().apply(lambda x: is_special(x))].value_counts()"
   ]
  },
  {
   "cell_type": "markdown",
   "metadata": {
    "deletable": true,
    "editable": true
   },
   "source": [
    "### Occupation Letter Date"
   ]
  },
  {
   "cell_type": "code",
   "execution_count": 26,
   "metadata": {
    "collapsed": false,
    "deletable": true,
    "editable": true
   },
   "outputs": [
    {
     "data": {
      "text/plain": [
       "count            455\n",
       "unique           248\n",
       "top       10/23/2012\n",
       "freq              15\n",
       "Name: Occupation Letter Date, dtype: object"
      ]
     },
     "execution_count": 26,
     "metadata": {},
     "output_type": "execute_result"
    }
   ],
   "source": [
    "df['Occupation Letter Date'].describe()"
   ]
  },
  {
   "cell_type": "code",
   "execution_count": 27,
   "metadata": {
    "collapsed": false,
    "deletable": true,
    "editable": true
   },
   "outputs": [
    {
     "data": {
      "text/plain": [
       "Series([], Name: Occupation Letter Date, dtype: object)"
      ]
     },
     "execution_count": 27,
     "metadata": {},
     "output_type": "execute_result"
    }
   ],
   "source": [
    "# return the index and value of any dates not matching expected format\n",
    "df.loc[:, 'Occupation Letter Date'].dropna()\\\n",
    "    [df.loc[:, 'Occupation Letter Date'].dropna().apply(lambda x: not re.match(date_pattern, x))]"
   ]
  },
  {
   "cell_type": "markdown",
   "metadata": {
    "deletable": true,
    "editable": true
   },
   "source": [
    "Except for a null value, all dates match expected format"
   ]
  },
  {
   "cell_type": "markdown",
   "metadata": {
    "deletable": true,
    "editable": true
   },
   "source": [
    "### Payer of Personal Expenditure"
   ]
  },
  {
   "cell_type": "code",
   "execution_count": 28,
   "metadata": {
    "collapsed": false,
    "deletable": true,
    "editable": true
   },
   "outputs": [
    {
     "data": {
      "text/plain": [
       "count              1552\n",
       "unique              198\n",
       "top       Bill Kennemer\n",
       "freq                318\n",
       "Name: Payer of Personal Expenditure, dtype: object"
      ]
     },
     "execution_count": 28,
     "metadata": {},
     "output_type": "execute_result"
    }
   ],
   "source": [
    "df['Payer of Personal Expenditure'].describe()"
   ]
  },
  {
   "cell_type": "code",
   "execution_count": 29,
   "metadata": {
    "collapsed": false,
    "deletable": true,
    "editable": true
   },
   "outputs": [
    {
     "name": "stdout",
     "output_type": "stream",
     "text": [
      "[nan 'Jeremy Wright' 'Marcia Latta Communications' 'Sue Tate'\n",
      " 'Stefanie Craft' 'Wright Public Affairs' 'Daniel Lewkow' 'John Hartsock'\n",
      " 'Bill Burgess' 'Victoria Parker' 'Patricia Schechter' 'James Barta'\n",
      " 'Path To Victory Llc' 'Tony Hyde' 'Annabelle Jaramillo' 'Bill Kennemer'\n",
      " 'Or Family Council - Paid To Credit Card' 'Pac/West'\n",
      " 'Christopher Proudfoot' 'Celine Rixey' 'Tess Milio' 'Martha Schrader'\n",
      " 'Laura Illig' 'Joy Marshall' 'Joan Obie' 'Tom Balmer' 'Tammy Baney'\n",
      " 'Rhonda Bohall' 'Keri Carland' 'Jeffrey Scroggin' 'Alan Bates'\n",
      " 'Laurie Bates' 'Julia Mcfadden' 'Cathy Shaw' 'Trevor Beltz' 'Chuck Keil'\n",
      " 'James Bernard' 'Tom Brian' 'Hailey Sasse' 'Joseph Skipper'\n",
      " 'Mackenzie Carroll' 'Nicole Watson' 'Tiernan Donohue' 'Thomas Wheatley'\n",
      " 'Janet Carlson' 'Maryalice Russell' 'Steven Macy' 'Kris Olsen'\n",
      " 'Joseph Justice' 'Danelle Wilson' 'Deirdre (Lindy) Moore'\n",
      " 'Pelroy & Associates Llc' 'Roger Cox' 'Multnomah County' 'Robert Lawrence'\n",
      " 'Duyck Machine Inc.' 'Kathy Hall' 'Brigetta Martell' 'Chris Edwards'\n",
      " 'Tiffany Telfer' 'Christine Lewis' 'Peter Truax' 'Kathryn Harrington'\n",
      " 'Bob Hermann' 'Kristi Jo Lewis' 'Michael Hanna' 'Brian Wilson'\n",
      " 'Rachel Gumpert' 'Keith Mays' 'Patricia (Patti) Milne' 'Patricia Milne'\n",
      " 'Lou Ogden' 'Jack Louman' 'Capitol Accounting Service'\n",
      " 'Oregon Family Council (Paid To Credit Card)' 'Michele Caldwell'\n",
      " 'Bobbie Regan' 'Strategic Partnering Group' 'Mary Schutten' 'Sam Blackman'\n",
      " 'Alexia Halen' 'Gwen Schnurman' 'Emma Meskill' 'Betsy Schultz'\n",
      " 'Robert Strosser' 'Larry Frank' 'Jay Meredith' 'Stacey Yarrish'\n",
      " 'Terry Thompson' 'Cheryl Simpson' 'Jennifer Arguinzoni' 'Michael Cox'\n",
      " 'Anne Ellison' 'Thomas Gornick' 'Nathan Howard' 'Thomas W. Gornick'\n",
      " 'Megan Wever' 'Jacquenette Mcintire' 'Yoni Kahn' 'Laura Imeson'\n",
      " 'Elizabeth (Libby) Batlan' 'Katrina Wheeler' 'Michael Selvaggio'\n",
      " 'Richard Reiten' 'Elizabeth Batlan' 'Winningmark' 'David Matthews'\n",
      " 'Charles Dixon' 'Elizabeth Kaufman' 'Betsy Close' 'Dru Draper'\n",
      " 'Steven Winokur' 'Jean Nelson' 'Jeff Jimerson' 'Pamela Hunter'\n",
      " 'John Detweiler' 'Jacob Vandever' 'Jerry Jackson' 'Paul Rentz' 'Kim Rowe'\n",
      " 'Kristie Hernandez' 'Stella Guenther' 'Carolyn Webb' 'Sandy Mchenry'\n",
      " 'Stanley Baker' 'Beverly Mc Neil' 'Gerald Tsupros' 'Ted Fullmer'\n",
      " 'Clackamas County Event Center' 'Casey Flesch' 'Ron Leblanc'\n",
      " 'David Stewart' 'Linda Larson-Neace' 'Dave Stewart' 'Pamela Rumage'\n",
      " 'Larry Talbert' 'John Lee' 'Jake Wilkins' 'Victoria Pounds' 'Mark Fitz'\n",
      " 'John Savory' 'John Irwin' 'Warren Kitchen' 'Kay Helbling'\n",
      " 'Gertrude Reusser' 'Dan Balm' 'Peter Courtney' 'Christine Kotek'\n",
      " 'Debbie Miller' 'Anna Braun' 'Lisa Herzog' 'Phil Bentley' 'Tom Powers'\n",
      " 'Ginny Burdick' 'Cynthia Moody' 'Oregon Dental Association'\n",
      " 'George Okulitch' 'Richard Devlin' 'Ellie Boggs' 'Emily Brixey'\n",
      " 'Megan Gleason' 'Kristin Johnson' 'Rebecca Davies' 'Kevin Neely'\n",
      " 'Amy Zubko' 'Portland Firefighters Association Iaff Local #43'\n",
      " 'Ufcw Local 555' 'Joshua Robinson' 'Eric Schaafsma' 'Dennis Dickson'\n",
      " 'Georglyn Lamphier' 'Vivian Kirkpatrick-Pilger' 'Bill Ghena'\n",
      " 'Vivian Pilger' 'Deanne Ertel' 'Grants Pass Water Lab'\n",
      " 'Sandra (Sandy) Abercrombie' 'Dick Smith' 'Alan Koebrick' 'Nancy Trahern'\n",
      " 'Matthew Robinson' 'Keith Trahern' 'Yvette Burtley' 'Bill Ertel'\n",
      " 'Debbie Chambers' 'Jack Swift' 'Adan Villarreal'\n",
      " 'Future Pac, House Builders (1524)' 'Kathleen Hallgren' 'Annette Rose'\n",
      " 'Andrea Short' 'Tim Inman' 'Zach Klonoski' 'Heidi Eggert'\n",
      " 'Amelia Porterfield' 'Kim Duncan' 'Chuck Lee' 'Andrew Ross' 'Krina Lemons']\n"
     ]
    }
   ],
   "source": [
    "print(df['Payer of Personal Expenditure'].unique())"
   ]
  },
  {
   "cell_type": "markdown",
   "metadata": {
    "deletable": true,
    "editable": true
   },
   "source": [
    "All of the names above look reasonable"
   ]
  },
  {
   "cell_type": "markdown",
   "metadata": {
    "deletable": true,
    "editable": true
   },
   "source": [
    "### Purpose"
   ]
  },
  {
   "cell_type": "code",
   "execution_count": 30,
   "metadata": {
    "collapsed": false,
    "deletable": true,
    "editable": true
   },
   "outputs": [
    {
     "data": {
      "text/plain": [
       "count                                               24875\n",
       "unique                                                125\n",
       "top       General Operational Expenses (need description)\n",
       "freq                                                 6213\n",
       "Name: Purpose, dtype: object"
      ]
     },
     "execution_count": 30,
     "metadata": {},
     "output_type": "execute_result"
    }
   ],
   "source": [
    "df.Purpose.describe()"
   ]
  },
  {
   "cell_type": "code",
   "execution_count": 31,
   "metadata": {
    "collapsed": false,
    "deletable": true,
    "editable": true,
    "scrolled": true
   },
   "outputs": [
    {
     "data": {
      "text/plain": [
       "General Operational Expenses (need description)                                                                                                                                                    6213\n",
       "Cash Contribution                                                                                                                                                                                  3608\n",
       "Postage                                                                                                                                                                                            1906\n",
       "Reimbursement for Personal Expenditures                                                                                                                                                            1713\n",
       "Wages, Salaries, Benefits                                                                                                                                                                          1670\n",
       "Management Services                                                                                                                                                                                1636\n",
       "Literature, Brochures, Printing                                                                                                                                                                    1353\n",
       "Fundraising Event Expenses                                                                                                                                                                         1302\n",
       "Utilities                                                                                                                                                                                          1103\n",
       "Travel Expenses (need description)                                                                                                                                                                  981\n",
       "Other Advertising (yard signs, buttons, etc.)                                                                                                                                                       814\n",
       "Newspaper and Other Periodical Advertising                                                                                                                                                          325\n",
       "Management Services; Postage                                                                                                                                                                        306\n",
       "Broadcast Advertising (radio, tv)                                                                                                                                                                   295\n",
       "Surveys and Polls                                                                                                                                                                                   261\n",
       "Preparation and Production of Advertising                                                                                                                                                           224\n",
       "General Operational Expenses (need description); Management Services; Postage                                                                                                                       220\n",
       "Literature, Brochures, Printing; Postage                                                                                                                                                            165\n",
       "General Operational Expenses (need description); Management Services                                                                                                                                123\n",
       "Public Office Holder Expenses                                                                                                                                                                        76\n",
       "Fundraising Event Expenses; General Operational Expenses (need description)                                                                                                                          69\n",
       "General Operational Expenses (need description); Other Advertising (yard signs, buttons, etc.)                                                                                                       49\n",
       "General Operational Expenses (need description); Postage                                                                                                                                             38\n",
       "General Operational Expenses (need description); Literature, Brochures, Printing                                                                                                                     32\n",
       "Management Services; Other Advertising (yard signs, buttons, etc.)                                                                                                                                   27\n",
       "Cash Contribution; General Operational Expenses (need description)                                                                                                                                   20\n",
       "General Operational Expenses (need description); Travel Expenses (need description)                                                                                                                  17\n",
       "General Operational Expenses (need description); Wages, Salaries, Benefits                                                                                                                           17\n",
       "General Operational Expenses (need description); Literature, Brochures, Printing; Postage                                                                                                            17\n",
       "Management Services; Preparation and Production of Advertising                                                                                                                                       16\n",
       "                                                                                                                                                                                                   ... \n",
       "General Operational Expenses (need description); General Operational Expenses (need description)                                                                                                      1\n",
       "General Operational Expenses (need description); Newspaper and Other Periodical Advertising; Other Advertising (yard signs, buttons, etc.)                                                            1\n",
       "General Operational Expenses (need description); Literature, Brochures, Printing; Management Services; Other Advertising (yard signs, buttons, etc.); Preparation and Production of Advertising       1\n",
       "Literature, Brochures, Printing; Petition Circulators                                                                                                                                                 1\n",
       "General Operational Expenses (need description); Literature, Brochures, Printing; Other Advertising (yard signs, buttons, etc.); Postage                                                              1\n",
       "Literature, Brochures, Printing; Management Services; Other Advertising (yard signs, buttons, etc.); Preparation and Production of Advertising                                                        1\n",
       "Public Office Holder Expenses; Travel Expenses (need description)                                                                                                                                     1\n",
       "Broadcast Advertising (radio, tv); Newspaper and Other Periodical Advertising; Other Advertising (yard signs, buttons, etc.)                                                                          1\n",
       "Fundraising Event Expenses; Management Services                                                                                                                                                       1\n",
       "Literature, Brochures, Printing; Other Advertising (yard signs, buttons, etc.); Preparation and Production of Advertising                                                                             1\n",
       "Broadcast Advertising (radio, tv); Other Advertising (yard signs, buttons, etc.)                                                                                                                      1\n",
       "General Operational Expenses (need description); Literature, Brochures, Printing; Postage; Preparation and Production of Advertising                                                                  1\n",
       "Literature, Brochures, Printing; Other Advertising (yard signs, buttons, etc.); Preparation and Production of Advertising; Surveys and Polls                                                          1\n",
       "General Operational Expenses (need description); Utilities; Wages, Salaries, Benefits                                                                                                                 1\n",
       "Broadcast Advertising (radio, tv); Literature, Brochures, Printing; Postage                                                                                                                           1\n",
       "Literature, Brochures, Printing; Other Advertising (yard signs, buttons, etc.); Postage; Wages, Salaries, Benefits                                                                                    1\n",
       "Newspaper and Other Periodical Advertising; Reimbursement for Personal Expenditures                                                                                                                   1\n",
       "Management Services; Newspaper and Other Periodical Advertising; Preparation and Production of Advertising                                                                                            1\n",
       "Management Services; Travel Expenses (need description); Utilities                                                                                                                                    1\n",
       "Cash Contribution; Newspaper and Other Periodical Advertising                                                                                                                                         1\n",
       "General Operational Expenses (need description); Newspaper and Other Periodical Advertising                                                                                                           1\n",
       "Literature, Brochures, Printing; Surveys and Polls                                                                                                                                                    1\n",
       "General Operational Expenses (need description); Literature, Brochures, Printing; Management Services; Other Advertising (yard signs, buttons, etc.); Postage                                         1\n",
       "Other Advertising (yard signs, buttons, etc.); Other Advertising (yard signs, buttons, etc.)                                                                                                          1\n",
       "Newspaper and Other Periodical Advertising; Postage                                                                                                                                                   1\n",
       "Management Services; Other Advertising (yard signs, buttons, etc.); Travel Expenses (need description)                                                                                                1\n",
       "Literature, Brochures, Printing; Newspaper and Other Periodical Advertising; Postage; Preparation and Production of Advertising                                                                       1\n",
       "Cash Contribution; Management Services                                                                                                                                                                1\n",
       "Preparation and Production of Advertising; Travel Expenses (need description)                                                                                                                         1\n",
       "Cash Contribution; Literature, Brochures, Printing                                                                                                                                                    1\n",
       "Name: Purpose, Length: 125, dtype: int64"
      ]
     },
     "execution_count": 31,
     "metadata": {},
     "output_type": "execute_result"
    }
   ],
   "source": [
    "df.Purpose.value_counts()"
   ]
  },
  {
   "cell_type": "code",
   "execution_count": 32,
   "metadata": {
    "collapsed": false,
    "deletable": true,
    "editable": true
   },
   "outputs": [
    {
     "data": {
      "text/plain": [
       "36"
      ]
     },
     "execution_count": 32,
     "metadata": {},
     "output_type": "execute_result"
    }
   ],
   "source": [
    "df.Purpose.dropna()[df.Purpose.dropna().apply(lambda x: x.startswith('General Operational') \n",
    "                                              or x.startswith('Literature, Brocures'))].nunique()"
   ]
  },
  {
   "cell_type": "markdown",
   "metadata": {
    "deletable": true,
    "editable": true
   },
   "source": [
    "There are many versions of similar Purpose values, containing only minor differences. If we use this attribute, we should group similar values together."
   ]
  },
  {
   "cell_type": "markdown",
   "metadata": {
    "deletable": true,
    "editable": true
   },
   "source": [
    "### Transaction ID"
   ]
  },
  {
   "cell_type": "code",
   "execution_count": 33,
   "metadata": {
    "collapsed": false,
    "deletable": true,
    "editable": true
   },
   "outputs": [
    {
     "data": {
      "text/plain": [
       "count       88310\n",
       "unique      88310\n",
       "top       1705227\n",
       "freq            1\n",
       "Name: Transaction ID, dtype: object"
      ]
     },
     "execution_count": 33,
     "metadata": {},
     "output_type": "execute_result"
    }
   ],
   "source": [
    "df.loc[:, 'Transaction ID'].describe()"
   ]
  },
  {
   "cell_type": "code",
   "execution_count": 34,
   "metadata": {
    "collapsed": false,
    "deletable": true,
    "editable": true
   },
   "outputs": [
    {
     "data": {
      "text/plain": [
       "0    1454151\n",
       "1     968825\n",
       "2     934239\n",
       "3     934242\n",
       "4     934247\n",
       "Name: Transaction ID, dtype: object"
      ]
     },
     "execution_count": 34,
     "metadata": {},
     "output_type": "execute_result"
    }
   ],
   "source": [
    "df.loc[:, 'Transaction ID'].head()"
   ]
  },
  {
   "cell_type": "code",
   "execution_count": 35,
   "metadata": {
    "collapsed": false,
    "deletable": true,
    "editable": true
   },
   "outputs": [
    {
     "data": {
      "text/plain": [
       "False"
      ]
     },
     "execution_count": 35,
     "metadata": {},
     "output_type": "execute_result"
    }
   ],
   "source": [
    "# are all ID values numeric?\n",
    "all(df.loc[:, 'Transaction ID'].apply(lambda x: x.isnumeric()))"
   ]
  },
  {
   "cell_type": "code",
   "execution_count": 36,
   "metadata": {
    "collapsed": false,
    "deletable": true,
    "editable": true
   },
   "outputs": [
    {
     "data": {
      "text/plain": [
       "38    1152259, \n",
       "40     677249, \n",
       "47     461972, \n",
       "48     461975, \n",
       "49     461971, \n",
       "Name: Transaction ID, dtype: object"
      ]
     },
     "execution_count": 36,
     "metadata": {},
     "output_type": "execute_result"
    }
   ],
   "source": [
    "# get values that are not numeric\n",
    "df.loc[:, 'Transaction ID'][df.loc[:, 'Transaction ID'].apply(lambda x: not x.isnumeric())].head()"
   ]
  },
  {
   "cell_type": "markdown",
   "metadata": {
    "deletable": true,
    "editable": true
   },
   "source": [
    "There are ID values that contain commas"
   ]
  }
 ],
 "metadata": {
  "kernelspec": {
   "display_name": "Python 3",
   "language": "python",
   "name": "python3"
  },
  "language_info": {
   "codemirror_mode": {
    "name": "ipython",
    "version": 3
   },
   "file_extension": ".py",
   "mimetype": "text/x-python",
   "name": "python",
   "nbconvert_exporter": "python",
   "pygments_lexer": "ipython3",
   "version": "3.4.5"
  }
 },
 "nbformat": 4,
 "nbformat_minor": 2
}
