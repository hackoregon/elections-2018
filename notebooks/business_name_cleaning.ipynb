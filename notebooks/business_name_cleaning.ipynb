{
 "cells": [
  {
   "cell_type": "code",
   "execution_count": 58,
   "metadata": {},
   "outputs": [],
   "source": [
    "import pandas as pd\n",
    "import numpy as np\n",
    "from fuzzywuzzy import fuzz\n",
    "from fuzzywuzzy import process\n",
    "import time\n",
    "import json\n",
    "import os"
   ]
  },
  {
   "cell_type": "code",
   "execution_count": 2,
   "metadata": {},
   "outputs": [],
   "source": [
    "transaction_detail_df = pd.read_csv(\"../transaction_detail_first_batch.csv\", low_memory=False)"
   ]
  },
  {
   "cell_type": "code",
   "execution_count": 5,
   "metadata": {},
   "outputs": [
    {
     "name": "stdout",
     "output_type": "stream",
     "text": [
      "Address\n",
      "Address Book Type\n",
      "Agent\n",
      "Aggregate\n",
      "Amount\n",
      "Associations\n",
      "Check\n",
      "CoSigner Obligations\n",
      "Description\n",
      "Due Date\n",
      "Employer Name\n",
      "Exam Letter Date\n",
      "Filed Date\n",
      "In-Kind/Independent Expenditures\n",
      "Interest Rate\n",
      "Name\n",
      "Occupation\n",
      "Occupation Letter Date\n",
      "Payer of Personal Expenditure\n",
      "Payment Method\n",
      "Process Status\n",
      "Purpose\n",
      "Repayment Schedule\n",
      "Transaction Date\n",
      "Transaction ID\n",
      "Transaction Sub Type\n",
      "Transaction Type\n"
     ]
    }
   ],
   "source": [
    "for col in transaction_detail_df.columns:\n",
    "    print(col)"
   ]
  },
  {
   "cell_type": "code",
   "execution_count": 18,
   "metadata": {},
   "outputs": [],
   "source": [
    "business_sub_df = transaction_detail_df[transaction_detail_df[\"Address Book Type\"] == \"Business Entity\"].copy()"
   ]
  },
  {
   "cell_type": "code",
   "execution_count": 21,
   "metadata": {},
   "outputs": [
    {
     "data": {
      "text/plain": [
       "0.2108880007798031"
      ]
     },
     "execution_count": 21,
     "metadata": {},
     "output_type": "execute_result"
    }
   ],
   "source": [
    "len(np.unique(list(business_sub_df[\"Name\"])))/len(business_sub_df)"
   ]
  },
  {
   "cell_type": "markdown",
   "metadata": {},
   "source": [
    "Create a dict of arrays: original_name: [[% match, name], ...]"
   ]
  },
  {
   "cell_type": "code",
   "execution_count": 24,
   "metadata": {},
   "outputs": [
    {
     "data": {
      "text/plain": [
       "'2030 Investors LLC'"
      ]
     },
     "execution_count": 24,
     "metadata": {},
     "output_type": "execute_result"
    }
   ],
   "source": [
    "np.unique(list(business_sub_df[\"Name\"]))[10]"
   ]
  },
  {
   "cell_type": "code",
   "execution_count": 26,
   "metadata": {},
   "outputs": [],
   "source": [
    "query = np.unique(list(business_sub_df[\"Name\"]))[10]\n"
   ]
  },
  {
   "cell_type": "code",
   "execution_count": 29,
   "metadata": {
    "scrolled": true
   },
   "outputs": [
    {
     "data": {
      "text/plain": [
       "[('2030 Investors LLC', 100),\n",
       " ('3701 Investors LLC', 89),\n",
       " ('111th Square, LLC - Sanchez Family Trust', 86),\n",
       " ('525, LLC', 86),\n",
       " ('6 Foot 8 LLC', 86),\n",
       " ('76 Words LLC', 86),\n",
       " ('ADG 3 LLC', 86),\n",
       " ('ADP LLC', 86),\n",
       " ('ADP, LLC', 86),\n",
       " ('ART LLC', 86),\n",
       " ('Active Family Chiropractic LLC', 86),\n",
       " ('Advantage Heating & Air Conditioning LLC', 86),\n",
       " ('Advantage Professional Management, LLC', 86),\n",
       " ('AllCare Health Management Services, LLC', 86),\n",
       " ('AllCare Management Services, LLC', 86),\n",
       " ('Andaluz LLC', 86),\n",
       " ('Appropriate Development Group III, LLC', 86),\n",
       " ('Arms LLC', 86),\n",
       " ('BEST hq LLC', 86),\n",
       " ('BTU LLC', 86)]"
      ]
     },
     "execution_count": 29,
     "metadata": {},
     "output_type": "execute_result"
    }
   ],
   "source": [
    "# Get a list of matches ordered by score, default limit to 5\n",
    "choices = np.unique(list(business_sub_df[\"Name\"]))"
   ]
  },
  {
   "cell_type": "code",
   "execution_count": 38,
   "metadata": {},
   "outputs": [
    {
     "name": "stdout",
     "output_type": "stream",
     "text": [
      "0\n",
      "[1, 2, 3, 4, 5, 6, 7, 8, 9]\n",
      "1\n",
      "[0, 2, 3, 4, 5, 6, 7, 8, 9]\n",
      "2\n",
      "[0, 1, 3, 4, 5, 6, 7, 8, 9]\n",
      "3\n",
      "[0, 1, 2, 4, 5, 6, 7, 8, 9]\n",
      "4\n",
      "[0, 1, 2, 3, 5, 6, 7, 8, 9]\n",
      "5\n",
      "[0, 1, 2, 3, 4, 6, 7, 8, 9]\n",
      "6\n",
      "[0, 1, 2, 3, 4, 5, 7, 8, 9]\n",
      "7\n",
      "[0, 1, 2, 3, 4, 5, 6, 8, 9]\n",
      "8\n",
      "[0, 1, 2, 3, 4, 5, 6, 7, 9]\n",
      "9\n",
      "[0, 1, 2, 3, 4, 5, 6, 7, 8]\n"
     ]
    }
   ],
   "source": [
    "a = list(range(0,10))\n",
    "for i,n in enumerate(a):\n",
    "    print(n)\n",
    "    print(a[:i] + a[i+1:])"
   ]
  },
  {
   "cell_type": "code",
   "execution_count": 36,
   "metadata": {},
   "outputs": [
    {
     "data": {
      "text/plain": [
       "[0, 1, 2, 3, 4, 5, 6, 7, 8, 9]"
      ]
     },
     "execution_count": 36,
     "metadata": {},
     "output_type": "execute_result"
    }
   ],
   "source": []
  },
  {
   "cell_type": "code",
   "execution_count": null,
   "metadata": {},
   "outputs": [],
   "source": []
  },
  {
   "cell_type": "code",
   "execution_count": 62,
   "metadata": {},
   "outputs": [
    {
     "name": "stdout",
     "output_type": "stream",
     "text": [
      "0.0%\n",
      "0.46144986152648926\n",
      "1661   1\n",
      "2.3%\n",
      "47.58176398277283\n",
      "151385   100\n",
      "4.6%\n",
      "97.72590899467468\n",
      "302936   100\n",
      "6.9%\n",
      "145.89507913589478\n",
      "453226   100\n",
      "9.2%\n",
      "192.75103211402893\n",
      "603535   100\n",
      "11.600000000000001%\n",
      "239.15482211112976\n",
      "754360   100\n",
      "13.900000000000002%\n",
      "285.6901149749756\n",
      "904356   100\n",
      "16.2%\n",
      "331.0252468585968\n",
      "1053517   100\n",
      "18.5%\n",
      "377.261990070343\n",
      "1207616   100\n",
      "20.8%\n",
      "424.3091068267822\n",
      "1359077   100\n",
      "23.1%\n",
      "468.8106610774994\n",
      "1507819   100\n",
      "25.4%\n",
      "513.2184240818024\n",
      "1658468   100\n",
      "27.700000000000003%\n",
      "559.4051880836487\n",
      "1808444   100\n",
      "30.0%\n",
      "607.9299409389496\n",
      "1958870   100\n",
      "32.4%\n",
      "654.3247210979462\n",
      "2107796   100\n",
      "34.699999999999996%\n",
      "700.55127120018\n",
      "2256289   100\n",
      "37.0%\n",
      "748.3388550281525\n",
      "2404971   100\n",
      "39.300000000000004%\n",
      "795.2689678668976\n",
      "2553698   100\n",
      "41.6%\n",
      "841.7601451873779\n",
      "2702503   100\n",
      "43.9%\n",
      "887.5808119773865\n",
      "2852549   100\n",
      "46.2%\n",
      "933.0598320960999\n",
      "2999533   100\n",
      "48.5%\n",
      "981.3507170677185\n",
      "3150148   100\n",
      "50.8%\n",
      "1027.3287360668182\n",
      "3298216   100\n",
      "53.2%\n",
      "1073.274889945984\n",
      "3450776   100\n",
      "55.50000000000001%\n",
      "1119.0151929855347\n",
      "3603875   100\n",
      "57.8%\n",
      "1165.7736308574677\n",
      "3752898   100\n",
      "60.099999999999994%\n",
      "1215.644569158554\n",
      "3903050   100\n",
      "62.4%\n",
      "1264.2032308578491\n",
      "4055878   100\n",
      "64.7%\n",
      "1314.8139262199402\n",
      "4211852   100\n",
      "67.0%\n",
      "1362.4282929897308\n",
      "4366431   100\n",
      "69.3%\n",
      "1410.1628651618958\n",
      "4514120   100\n",
      "71.6%\n",
      "1456.7065169811249\n",
      "4669129   100\n",
      "74.0%\n",
      "1500.6397948265076\n",
      "4819612   100\n",
      "76.3%\n",
      "1545.02596616745\n",
      "4970499   100\n",
      "78.60000000000001%\n",
      "1590.4246990680695\n",
      "5119735   100\n",
      "80.9%\n",
      "1635.9397602081299\n",
      "5268647   100\n",
      "83.2%\n",
      "1681.46604013443\n",
      "5418006   100\n",
      "85.5%\n",
      "1727.0918681621552\n",
      "5569150   100\n",
      "87.8%\n",
      "1771.072494983673\n",
      "5727244   100\n",
      "90.10000000000001%\n",
      "1814.938285112381\n",
      "5879693   100\n",
      "92.4%\n",
      "1859.4004180431366\n",
      "6031767   100\n",
      "94.8%\n",
      "1903.450602054596\n",
      "6181890   100\n",
      "97.1%\n",
      "1947.3964071273804\n",
      "6332327   100\n",
      "99.4%\n",
      "1991.2785201072693\n",
      "6484138   100\n"
     ]
    }
   ],
   "source": [
    "top_choices_dict = {}\n",
    "start_time = time.time()\n",
    "full_list = list(np.unique(list(business_sub_df[\"Name\"])))\n",
    "for i,name in enumerate(full_list):\n",
    "    query = name\n",
    "    choices = full_list[:i] + full_list[i+1:]\n",
    "    top_choices_dict[name] = process.extract(query, choices, limit=20)\n",
    "    if i % 100 == 0:\n",
    "        print(str(np.round(i/len(full_list),3) * 100) + \"%\")\n",
    "        print(str(time.time() - start_time))\n",
    "        with open(\"match_dict.json\", 'a') as f:\n",
    "            json.dump(top_choices_dict, f, indent=4)\n",
    "        print(os.stat(\"match_dict.json\").st_size, \" \", len(top_choices_dict))\n",
    "        del(top_choices_dict)\n",
    "        top_choices_dict = {}\n",
    "print(str(np.round(i/len(full_list),3) * 100) + \"%\")\n",
    "print(str(time.time() - start_time))\n",
    "with open(\"match_dict.json\", 'a') as f:\n",
    "    json.dump(top_choices_dict, f, indent=4)"
   ]
  },
  {
   "cell_type": "code",
   "execution_count": null,
   "metadata": {},
   "outputs": [],
   "source": []
  }
 ],
 "metadata": {
  "kernelspec": {
   "display_name": "Python 3",
   "language": "python",
   "name": "python3"
  },
  "language_info": {
   "codemirror_mode": {
    "name": "ipython",
    "version": 3
   },
   "file_extension": ".py",
   "mimetype": "text/x-python",
   "name": "python",
   "nbconvert_exporter": "python",
   "pygments_lexer": "ipython3",
   "version": "3.6.1"
  }
 },
 "nbformat": 4,
 "nbformat_minor": 2
}
