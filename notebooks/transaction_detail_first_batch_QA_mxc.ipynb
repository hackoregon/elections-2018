{
 "cells": [
  {
   "cell_type": "markdown",
   "metadata": {
    "deletable": true,
    "editable": true
   },
   "source": [
    "# QA: Cols 15-28 (14-27)"
   ]
  },
  {
   "cell_type": "code",
   "execution_count": 3,
   "metadata": {
    "collapsed": true,
    "deletable": true,
    "editable": true
   },
   "outputs": [],
   "source": [
    "import io\n",
    "\n",
    "import pandas as pd\n",
    "from pandas import DataFrame as DF, Series\n",
    "import numpy as np\n",
    "\n",
    "import requests\n",
    "import re\n",
    "import missingno as msn\n",
    "\n",
    "import matplotlib.pyplot as plt\n",
    "%matplotlib inline\n",
    "import seaborn as sns\n",
    "sns.set_style('whitegrid')"
   ]
  },
  {
   "cell_type": "markdown",
   "metadata": {
    "deletable": true,
    "editable": true
   },
   "source": [
    "## Check All Files"
   ]
  },
  {
   "cell_type": "code",
   "execution_count": 9,
   "metadata": {
    "collapsed": true,
    "deletable": true,
    "editable": true
   },
   "outputs": [],
   "source": [
    "urls = {\n",
    "    'com_hist': \"\"\"https://raw.githubusercontent.com/hackoregon/elections-2018/\n",
    "    master/scrape_files/committee_history_first_batch.csv\"\"\",\n",
    "    'com_list': \"\"\"https://raw.githubusercontent.com/hackoregon/elections-2018/\n",
    "    master/scrape_files/committees_list.tsv\"\"\",\n",
    "    'org_stmt': \"\"\"https://raw.githubusercontent.com/hackoregon/elections-2018/\n",
    "    master/scrape_files/statement_of_organization_first_batch.csv\"\"\",\n",
    "    'trans': \"\"\"https://raw.githubusercontent.com/hackoregon/elections-2018/\n",
    "    master/scrape_files/transactions_first_batch.csv\"\"\",\n",
    "    'elec_activ': \"\"\"https://raw.githubusercontent.com/hackoregon/elections-2018/\n",
    "    master/scrape_files/election_activity_first_batch.csv\"\"\",\n",
    "}"
   ]
  },
  {
   "cell_type": "code",
   "execution_count": 10,
   "metadata": {
    "collapsed": false,
    "deletable": true,
    "editable": true
   },
   "outputs": [],
   "source": [
    "r = requests.get(urls['elec_activ'].replace('\\n', '').replace(' ', ''))\n",
    "trans = pd.read_csv(io.StringIO(r.content.decode('utf-8')))"
   ]
  },
  {
   "cell_type": "code",
   "execution_count": 12,
   "metadata": {
    "collapsed": false
   },
   "outputs": [
    {
     "data": {
      "text/plain": [
       "0.02772373540856031"
      ]
     },
     "execution_count": 12,
     "metadata": {},
     "output_type": "execute_result"
    }
   ],
   "source": [
    "trans.election.nunique()/len(trans)"
   ]
  },
  {
   "cell_type": "code",
   "execution_count": 91,
   "metadata": {
    "collapsed": false,
    "deletable": true,
    "editable": true
   },
   "outputs": [
    {
     "data": {
      "text/plain": [
       "1.0"
      ]
     },
     "execution_count": 91,
     "metadata": {},
     "output_type": "execute_result"
    }
   ],
   "source": [
    "org_stmt['Committee Name'].nunique()/len(org_stmt)"
   ]
  },
  {
   "cell_type": "code",
   "execution_count": 69,
   "metadata": {
    "collapsed": false,
    "deletable": true,
    "editable": true
   },
   "outputs": [
    {
     "name": "stdout",
     "output_type": "stream",
     "text": [
      "<class 'pandas.core.frame.DataFrame'>\n",
      "RangeIndex: 1617 entries, 0 to 1616\n",
      "Data columns (total 3 columns):\n",
      "filer_name           1617 non-null object\n",
      "ID                   1617 non-null int64\n",
      "filer_description    1617 non-null object\n",
      "dtypes: int64(1), object(2)\n",
      "memory usage: 38.0+ KB\n"
     ]
    }
   ],
   "source": [
    "comlist_df.info()"
   ]
  },
  {
   "cell_type": "code",
   "execution_count": 71,
   "metadata": {
    "collapsed": false,
    "deletable": true,
    "editable": true
   },
   "outputs": [
    {
     "data": {
      "text/plain": [
       "1.0"
      ]
     },
     "execution_count": 71,
     "metadata": {},
     "output_type": "execute_result"
    }
   ],
   "source": [
    "comlist_df.ID.nunique()/len(comlist_df)"
   ]
  },
  {
   "cell_type": "code",
   "execution_count": 66,
   "metadata": {
    "collapsed": false,
    "deletable": true,
    "editable": true
   },
   "outputs": [
    {
     "data": {
      "text/html": [
       "<div>\n",
       "<style>\n",
       "    .dataframe thead tr:only-child th {\n",
       "        text-align: right;\n",
       "    }\n",
       "\n",
       "    .dataframe thead th {\n",
       "        text-align: left;\n",
       "    }\n",
       "\n",
       "    .dataframe tbody tr th {\n",
       "        vertical-align: top;\n",
       "    }\n",
       "</style>\n",
       "<table border=\"1\" class=\"dataframe\">\n",
       "  <thead>\n",
       "    <tr style=\"text-align: right;\">\n",
       "      <th></th>\n",
       "      <th>filer_name</th>\n",
       "      <th>filer_description</th>\n",
       "    </tr>\n",
       "  </thead>\n",
       "  <tbody>\n",
       "    <tr>\n",
       "      <th>count</th>\n",
       "      <td>1617</td>\n",
       "      <td>1617</td>\n",
       "    </tr>\n",
       "    <tr>\n",
       "      <th>unique</th>\n",
       "      <td>1616</td>\n",
       "      <td>818</td>\n",
       "    </tr>\n",
       "    <tr>\n",
       "      <th>top</th>\n",
       "      <td>Libertarian Party of Oregon</td>\n",
       "      <td>Miscellaneous</td>\n",
       "    </tr>\n",
       "    <tr>\n",
       "      <th>freq</th>\n",
       "      <td>2</td>\n",
       "      <td>397</td>\n",
       "    </tr>\n",
       "  </tbody>\n",
       "</table>\n",
       "</div>"
      ],
      "text/plain": [
       "                         filer_name filer_description\n",
       "count                          1617              1617\n",
       "unique                         1616               818\n",
       "top     Libertarian Party of Oregon     Miscellaneous\n",
       "freq                              2               397"
      ]
     },
     "execution_count": 66,
     "metadata": {},
     "output_type": "execute_result"
    }
   ],
   "source": [
    "comlist_df.describe(include=['O'])"
   ]
  },
  {
   "cell_type": "code",
   "execution_count": 73,
   "metadata": {
    "collapsed": false,
    "deletable": true,
    "editable": true
   },
   "outputs": [
    {
     "data": {
      "text/html": [
       "<div>\n",
       "<style>\n",
       "    .dataframe thead tr:only-child th {\n",
       "        text-align: right;\n",
       "    }\n",
       "\n",
       "    .dataframe thead th {\n",
       "        text-align: left;\n",
       "    }\n",
       "\n",
       "    .dataframe tbody tr th {\n",
       "        vertical-align: top;\n",
       "    }\n",
       "</style>\n",
       "<table border=\"1\" class=\"dataframe\">\n",
       "  <thead>\n",
       "    <tr style=\"text-align: right;\">\n",
       "      <th></th>\n",
       "      <th>filer_name</th>\n",
       "      <th>ID</th>\n",
       "      <th>filer_description</th>\n",
       "    </tr>\n",
       "  </thead>\n",
       "  <tbody>\n",
       "    <tr>\n",
       "      <th>0</th>\n",
       "      <td>Ivancie, Daniel|Committee for Dan Ivancie</td>\n",
       "      <td>5611</td>\n",
       "      <td>County Commissioner, Multnomah County, Distric...</td>\n",
       "    </tr>\n",
       "    <tr>\n",
       "      <th>1</th>\n",
       "      <td>Speech Hearing Action Committee</td>\n",
       "      <td>255</td>\n",
       "      <td>Miscellaneous</td>\n",
       "    </tr>\n",
       "    <tr>\n",
       "      <th>2</th>\n",
       "      <td>Strobeck, Ken|Citizens for Ken Strobeck</td>\n",
       "      <td>1602</td>\n",
       "      <td>State Representative, 6th District|Republican</td>\n",
       "    </tr>\n",
       "    <tr>\n",
       "      <th>3</th>\n",
       "      <td>Citizens for Centennial Schools</td>\n",
       "      <td>5608</td>\n",
       "      <td>Measure|Supports Measure 26-17 - 2000|Supports...</td>\n",
       "    </tr>\n",
       "    <tr>\n",
       "      <th>4</th>\n",
       "      <td>Friends of Clackamas Community College</td>\n",
       "      <td>11247</td>\n",
       "      <td>Measure</td>\n",
       "    </tr>\n",
       "  </tbody>\n",
       "</table>\n",
       "</div>"
      ],
      "text/plain": [
       "                                  filer_name     ID  \\\n",
       "0  Ivancie, Daniel|Committee for Dan Ivancie   5611   \n",
       "1            Speech Hearing Action Committee    255   \n",
       "2    Strobeck, Ken|Citizens for Ken Strobeck   1602   \n",
       "3            Citizens for Centennial Schools   5608   \n",
       "4     Friends of Clackamas Community College  11247   \n",
       "\n",
       "                                   filer_description  \n",
       "0  County Commissioner, Multnomah County, Distric...  \n",
       "1                                      Miscellaneous  \n",
       "2      State Representative, 6th District|Republican  \n",
       "3  Measure|Supports Measure 26-17 - 2000|Supports...  \n",
       "4                                            Measure  "
      ]
     },
     "execution_count": 73,
     "metadata": {},
     "output_type": "execute_result"
    }
   ],
   "source": [
    "comlist_df.head()"
   ]
  },
  {
   "cell_type": "code",
   "execution_count": 72,
   "metadata": {
    "collapsed": false,
    "deletable": true,
    "editable": true
   },
   "outputs": [
    {
     "data": {
      "text/plain": [
       "105"
      ]
     },
     "execution_count": 72,
     "metadata": {},
     "output_type": "execute_result"
    }
   ],
   "source": [
    "comlist_df.filer_name.apply(lambda x: len(x)).max()"
   ]
  },
  {
   "cell_type": "markdown",
   "metadata": {
    "deletable": true,
    "editable": true
   },
   "source": [
    "## Get Data"
   ]
  },
  {
   "cell_type": "code",
   "execution_count": 12,
   "metadata": {
    "collapsed": false,
    "deletable": true,
    "editable": true
   },
   "outputs": [],
   "source": [
    "import io\n",
    "\n",
    "url = \"\"\"https://raw.githubusercontent.com/hackoregon/elections-2018/\n",
    "master/scrape_files/transaction_detail_first_batch.csv\"\"\"\n",
    "r = requests.get(url.replace('\\n', ''))\n",
    "df = pd.read_csv(io.StringIO(r.content.decode('utf-8')), dtype={'Agent': str})\n",
    "odf = pd.read_csv(io.StringIO(r.content.decode('utf-8')), dtype='O')"
   ]
  },
  {
   "cell_type": "markdown",
   "metadata": {
    "deletable": true,
    "editable": true
   },
   "source": [
    "## Basic Inspection"
   ]
  },
  {
   "cell_type": "code",
   "execution_count": 94,
   "metadata": {
    "collapsed": false,
    "deletable": true,
    "editable": true
   },
   "outputs": [
    {
     "data": {
      "text/plain": [
       "count       88310\n",
       "unique      88310\n",
       "top       1661659\n",
       "freq            1\n",
       "Name: Transaction ID, dtype: object"
      ]
     },
     "execution_count": 94,
     "metadata": {},
     "output_type": "execute_result"
    }
   ],
   "source": [
    "df['Transaction ID'].describe()"
   ]
  },
  {
   "cell_type": "code",
   "execution_count": 97,
   "metadata": {
    "collapsed": false,
    "deletable": true,
    "editable": true
   },
   "outputs": [
    {
     "data": {
      "text/plain": [
       "False"
      ]
     },
     "execution_count": 97,
     "metadata": {},
     "output_type": "execute_result"
    }
   ],
   "source": [
    "set(trans.columns).issubset(set(df.columns))"
   ]
  },
  {
   "cell_type": "code",
   "execution_count": 98,
   "metadata": {
    "collapsed": false,
    "deletable": true,
    "editable": true
   },
   "outputs": [
    {
     "data": {
      "text/plain": [
       "{'Contributor/Payee',\n",
       " 'Filer/Committee',\n",
       " 'Status',\n",
       " 'Sub Type',\n",
       " 'Tran Date',\n",
       " 'Tran ID',\n",
       " 'committee_id'}"
      ]
     },
     "execution_count": 98,
     "metadata": {},
     "output_type": "execute_result"
    }
   ],
   "source": [
    "set(trans.columns).difference(set(df.columns))"
   ]
  },
  {
   "cell_type": "code",
   "execution_count": 105,
   "metadata": {
    "collapsed": false,
    "deletable": true,
    "editable": true
   },
   "outputs": [
    {
     "data": {
      "text/plain": [
       "Tran ID              88310\n",
       "Tran Date             4101\n",
       "Status                   2\n",
       "Filer/Committee        142\n",
       "Contributor/Payee    19500\n",
       "Sub Type                29\n",
       "Amount               14639\n",
       "committee_id           104\n",
       "dtype: int64"
      ]
     },
     "execution_count": 105,
     "metadata": {},
     "output_type": "execute_result"
    }
   ],
   "source": [
    "trans.apply(lambda x: x.nunique())"
   ]
  },
  {
   "cell_type": "code",
   "execution_count": 107,
   "metadata": {
    "collapsed": false,
    "deletable": true,
    "editable": true
   },
   "outputs": [
    {
     "data": {
      "text/html": [
       "<div>\n",
       "<style>\n",
       "    .dataframe thead tr:only-child th {\n",
       "        text-align: right;\n",
       "    }\n",
       "\n",
       "    .dataframe thead th {\n",
       "        text-align: left;\n",
       "    }\n",
       "\n",
       "    .dataframe tbody tr th {\n",
       "        vertical-align: top;\n",
       "    }\n",
       "</style>\n",
       "<table border=\"1\" class=\"dataframe\">\n",
       "  <thead>\n",
       "    <tr style=\"text-align: right;\">\n",
       "      <th></th>\n",
       "      <th>Tran ID</th>\n",
       "      <th>Tran Date</th>\n",
       "      <th>Status</th>\n",
       "      <th>Filer/Committee</th>\n",
       "      <th>Contributor/Payee</th>\n",
       "      <th>Sub Type</th>\n",
       "      <th>Amount</th>\n",
       "      <th>committee_id</th>\n",
       "    </tr>\n",
       "  </thead>\n",
       "  <tbody>\n",
       "    <tr>\n",
       "      <th>0</th>\n",
       "      <td>1454151</td>\n",
       "      <td>01/24/2013</td>\n",
       "      <td>Original</td>\n",
       "      <td>Speech Hearing Action Committee</td>\n",
       "      <td>Sara Gelser for State Representative (4680)</td>\n",
       "      <td>Lost or Returned Check</td>\n",
       "      <td>$200.00</td>\n",
       "      <td>255</td>\n",
       "    </tr>\n",
       "    <tr>\n",
       "      <th>1</th>\n",
       "      <td>968825</td>\n",
       "      <td>11/30/2010</td>\n",
       "      <td>Original</td>\n",
       "      <td>Speech Hearing Action Committee</td>\n",
       "      <td>Oregon Speech Language Hearing Association</td>\n",
       "      <td>Cash Contribution</td>\n",
       "      <td>$53.00</td>\n",
       "      <td>255</td>\n",
       "    </tr>\n",
       "    <tr>\n",
       "      <th>2</th>\n",
       "      <td>934239</td>\n",
       "      <td>10/18/2010</td>\n",
       "      <td>Original</td>\n",
       "      <td>Speech Hearing Action Committee</td>\n",
       "      <td>Committee to Elect Dr. Alan Bates (3604)</td>\n",
       "      <td>Cash Expenditure</td>\n",
       "      <td>$250.00</td>\n",
       "      <td>255</td>\n",
       "    </tr>\n",
       "    <tr>\n",
       "      <th>3</th>\n",
       "      <td>934242</td>\n",
       "      <td>10/18/2010</td>\n",
       "      <td>Original</td>\n",
       "      <td>Speech Hearing Action Committee</td>\n",
       "      <td>Frank Morse for State Senate (4335)</td>\n",
       "      <td>Cash Expenditure</td>\n",
       "      <td>$250.00</td>\n",
       "      <td>255</td>\n",
       "    </tr>\n",
       "    <tr>\n",
       "      <th>4</th>\n",
       "      <td>934247</td>\n",
       "      <td>10/18/2010</td>\n",
       "      <td>Original</td>\n",
       "      <td>Speech Hearing Action Committee</td>\n",
       "      <td>Friends of Suzanne Bonamici (5254)</td>\n",
       "      <td>Cash Expenditure</td>\n",
       "      <td>$200.00</td>\n",
       "      <td>255</td>\n",
       "    </tr>\n",
       "  </tbody>\n",
       "</table>\n",
       "</div>"
      ],
      "text/plain": [
       "   Tran ID   Tran Date    Status                  Filer/Committee  \\\n",
       "0  1454151  01/24/2013  Original  Speech Hearing Action Committee   \n",
       "1   968825  11/30/2010  Original  Speech Hearing Action Committee   \n",
       "2   934239  10/18/2010  Original  Speech Hearing Action Committee   \n",
       "3   934242  10/18/2010  Original  Speech Hearing Action Committee   \n",
       "4   934247  10/18/2010  Original  Speech Hearing Action Committee   \n",
       "\n",
       "                             Contributor/Payee                Sub Type  \\\n",
       "0  Sara Gelser for State Representative (4680)  Lost or Returned Check   \n",
       "1   Oregon Speech Language Hearing Association       Cash Contribution   \n",
       "2     Committee to Elect Dr. Alan Bates (3604)        Cash Expenditure   \n",
       "3          Frank Morse for State Senate (4335)        Cash Expenditure   \n",
       "4           Friends of Suzanne Bonamici (5254)        Cash Expenditure   \n",
       "\n",
       "    Amount  committee_id  \n",
       "0  $200.00           255  \n",
       "1   $53.00           255  \n",
       "2  $250.00           255  \n",
       "3  $250.00           255  \n",
       "4  $200.00           255  "
      ]
     },
     "execution_count": 107,
     "metadata": {},
     "output_type": "execute_result"
    }
   ],
   "source": [
    "trans.head()"
   ]
  },
  {
   "cell_type": "code",
   "execution_count": 123,
   "metadata": {
    "collapsed": false,
    "deletable": true,
    "editable": true
   },
   "outputs": [
    {
     "data": {
      "text/plain": [
       "Miscellaneous Cash Contributions $100 and under       9442\n",
       "Miscellaneous Cash Expenditures $100 and under        4989\n",
       "Miscellaneous Personal Expenditures $100 and under    3237\n",
       "C&E Systems                                            622\n",
       "Postmaster *                                           443\n",
       "Bank of America                                        415\n",
       "Miscellaneous In-Kind Contributions $100 and under     403\n",
       "Senate Democratic Leadership Fund (1471)               306\n",
       "Gateway Communications                                 301\n",
       "Democratic Party of Oregon (353)                       273\n",
       "Future PAC, House Builders (1524)                      271\n",
       "US Postal Service                                      264\n",
       "Markus Lay                                             221\n",
       "US Bank                                                214\n",
       "Mandate Media                                          212\n",
       "Payroll Specialties, Inc.                              187\n",
       "Office Depot                                           187\n",
       "The Pivot Group *                                      174\n",
       "McCann's Pharmacy *                                    168\n",
       "Oregon Family Council, Inc.                            165\n",
       "ADP, Inc.                                              161\n",
       "Winning Mark *                                         152\n",
       "OR Family Council Association                          152\n",
       "American Payroll                                       148\n",
       "Pilot Travel Centers                                   147\n",
       "Postmaster                                             144\n",
       "C&E Systems, LLC                                       141\n",
       "Oregon Health Care Association PAC (275)               140\n",
       "T-Mobile                                               134\n",
       "Peter Courtney                                         133\n",
       "                                                      ... \n",
       "Ron Cutter                                               1\n",
       "Lenny Langley                                            1\n",
       "Friends for Thuy Tran (15483)                            1\n",
       "Diana Cubbage                                            1\n",
       "Alex Berke                                               1\n",
       "JULIA BROWN                                              1\n",
       "JAYLENE SEELEY                                           1\n",
       "VERA LASHIER                                             1\n",
       "CAUSA Oregon                                             1\n",
       "St. Charles Medical Center                               1\n",
       "Sandra Jilton                                            1\n",
       "Build It For Kids                                        1\n",
       "Seth Senestraro                                          1\n",
       "HALI STUCKY                                              1\n",
       "Denise M. Dion                                           1\n",
       "MARSHA HUNT                                              1\n",
       "William Trevor                                           1\n",
       "Jeffrey Carlson                                          1\n",
       "Temple Emek Shalom                                       1\n",
       "Oregon TV                                                1\n",
       "CHARI COLLINS                                            1\n",
       "Norman Rickles                                           1\n",
       "InFocus Corporations                                     1\n",
       "Robert Seiler                                            1\n",
       "Covanta Energy Corp. **                                  1\n",
       "Ross Betzer                                              1\n",
       "Mary Hull Caballero                                      1\n",
       "KAREN PHEGLEY                                            1\n",
       "Lowell Miles                                             1\n",
       "Cynthia Miscikowski **                                   1\n",
       "Name: Contributor/Payee, Length: 19500, dtype: int64"
      ]
     },
     "execution_count": 123,
     "metadata": {},
     "output_type": "execute_result"
    }
   ],
   "source": [
    "trans['Contributor/Payee'].value_counts()"
   ]
  },
  {
   "cell_type": "code",
   "execution_count": 106,
   "metadata": {
    "collapsed": false,
    "deletable": true,
    "editable": true
   },
   "outputs": [
    {
     "data": {
      "text/plain": [
       "Address                             20537\n",
       "Address Book Type                       8\n",
       "Agent                                   6\n",
       "Aggregate                           15210\n",
       "Amount                              14639\n",
       "Associations                         1008\n",
       "Check                                6480\n",
       "CoSigner Obligations                    0\n",
       "Description                          9252\n",
       "Due Date                             2677\n",
       "Employer Name                        3202\n",
       "Exam Letter Date                     2437\n",
       "Filed Date                          20869\n",
       "In-Kind/Independent Expenditures     1272\n",
       "Interest Rate                         120\n",
       "Name                                19262\n",
       "Occupation                           2674\n",
       "Occupation Letter Date                248\n",
       "Payer of Personal Expenditure         198\n",
       "Payment Method                          6\n",
       "Process Status                          4\n",
       "Purpose                               125\n",
       "Repayment Schedule                     48\n",
       "Transaction Date                     4101\n",
       "Transaction ID                      88310\n",
       "Transaction Sub Type                   29\n",
       "Transaction Type                        6\n",
       "dtype: int64"
      ]
     },
     "execution_count": 106,
     "metadata": {},
     "output_type": "execute_result"
    }
   ],
   "source": [
    "df.apply(lambda x: x.nunique())"
   ]
  },
  {
   "cell_type": "code",
   "execution_count": 92,
   "metadata": {
    "collapsed": false,
    "deletable": true,
    "editable": true,
    "scrolled": false
   },
   "outputs": [
    {
     "data": {
      "text/html": [
       "<div>\n",
       "<style>\n",
       "    .dataframe thead tr:only-child th {\n",
       "        text-align: right;\n",
       "    }\n",
       "\n",
       "    .dataframe thead th {\n",
       "        text-align: left;\n",
       "    }\n",
       "\n",
       "    .dataframe tbody tr th {\n",
       "        vertical-align: top;\n",
       "    }\n",
       "</style>\n",
       "<table border=\"1\" class=\"dataframe\">\n",
       "  <thead>\n",
       "    <tr style=\"text-align: right;\">\n",
       "      <th></th>\n",
       "      <th>0</th>\n",
       "      <th>1</th>\n",
       "      <th>2</th>\n",
       "      <th>3</th>\n",
       "      <th>4</th>\n",
       "    </tr>\n",
       "  </thead>\n",
       "  <tbody>\n",
       "    <tr>\n",
       "      <th>Address</th>\n",
       "      <td>1804 SW Brooklane Dr Corvallis OR 97333</td>\n",
       "      <td>PO Box 523 Salem OR 97308</td>\n",
       "      <td>2859 State St, Ste 101 Medford OR 97504</td>\n",
       "      <td>494 State St Ste 230 (no mail) Salem OR 97301</td>\n",
       "      <td>2236 SE 10th Ave. Portland OR 97214</td>\n",
       "    </tr>\n",
       "    <tr>\n",
       "      <th>Address Book Type</th>\n",
       "      <td>Political Committee</td>\n",
       "      <td>Business Entity</td>\n",
       "      <td>Political Committee</td>\n",
       "      <td>Political Committee</td>\n",
       "      <td>Political Committee</td>\n",
       "    </tr>\n",
       "    <tr>\n",
       "      <th>Agent</th>\n",
       "      <td>NaN</td>\n",
       "      <td>NaN</td>\n",
       "      <td>NaN</td>\n",
       "      <td>NaN</td>\n",
       "      <td>NaN</td>\n",
       "    </tr>\n",
       "    <tr>\n",
       "      <th>Aggregate</th>\n",
       "      <td>NaN</td>\n",
       "      <td>$648.00</td>\n",
       "      <td>$250.00</td>\n",
       "      <td>$250.00</td>\n",
       "      <td>$200.00</td>\n",
       "    </tr>\n",
       "    <tr>\n",
       "      <th>Amount</th>\n",
       "      <td>$200.00</td>\n",
       "      <td>$53.00</td>\n",
       "      <td>$250.00</td>\n",
       "      <td>$250.00</td>\n",
       "      <td>$200.00</td>\n",
       "    </tr>\n",
       "    <tr>\n",
       "      <th>Associations</th>\n",
       "      <td>Cash Expenditure for $200.00 from Sara Gelser ...</td>\n",
       "      <td>NaN</td>\n",
       "      <td>NaN</td>\n",
       "      <td>NaN</td>\n",
       "      <td>NaN</td>\n",
       "    </tr>\n",
       "    <tr>\n",
       "      <th>Check</th>\n",
       "      <td>NaN</td>\n",
       "      <td>NaN</td>\n",
       "      <td>1024</td>\n",
       "      <td>1025</td>\n",
       "      <td>1026</td>\n",
       "    </tr>\n",
       "    <tr>\n",
       "      <th>CoSigner Obligations</th>\n",
       "      <td>NaN</td>\n",
       "      <td>NaN</td>\n",
       "      <td>NaN</td>\n",
       "      <td>NaN</td>\n",
       "      <td>NaN</td>\n",
       "    </tr>\n",
       "    <tr>\n",
       "      <th>Description</th>\n",
       "      <td>NaN</td>\n",
       "      <td>NaN</td>\n",
       "      <td>NaN</td>\n",
       "      <td>NaN</td>\n",
       "      <td>NaN</td>\n",
       "    </tr>\n",
       "    <tr>\n",
       "      <th>Due Date</th>\n",
       "      <td>02/25/2013 11:59:00 PM</td>\n",
       "      <td>12/30/2010 11:59:00 PM</td>\n",
       "      <td>10/25/2010 11:59:00 PM</td>\n",
       "      <td>10/25/2010 11:59:00 PM</td>\n",
       "      <td>10/25/2010 11:59:00 PM</td>\n",
       "    </tr>\n",
       "    <tr>\n",
       "      <th>Employer Name</th>\n",
       "      <td>NaN</td>\n",
       "      <td>NaN</td>\n",
       "      <td>NaN</td>\n",
       "      <td>NaN</td>\n",
       "      <td>NaN</td>\n",
       "    </tr>\n",
       "    <tr>\n",
       "      <th>Exam Letter Date</th>\n",
       "      <td>01/25/2013</td>\n",
       "      <td>12/06/2010</td>\n",
       "      <td>10/22/2010</td>\n",
       "      <td>10/22/2010</td>\n",
       "      <td>10/22/2010</td>\n",
       "    </tr>\n",
       "    <tr>\n",
       "      <th>Filed Date</th>\n",
       "      <td>01/24/2013 08:39:24 AM</td>\n",
       "      <td>12/06/2010 01:16:12 PM</td>\n",
       "      <td>10/21/2010 04:12:23 PM</td>\n",
       "      <td>10/21/2010 04:12:23 PM</td>\n",
       "      <td>10/21/2010 04:12:23 PM</td>\n",
       "    </tr>\n",
       "    <tr>\n",
       "      <th>In-Kind/Independent Expenditures</th>\n",
       "      <td>,</td>\n",
       "      <td>,</td>\n",
       "      <td>,</td>\n",
       "      <td>,</td>\n",
       "      <td>,</td>\n",
       "    </tr>\n",
       "    <tr>\n",
       "      <th>Interest Rate</th>\n",
       "      <td>NaN</td>\n",
       "      <td>NaN</td>\n",
       "      <td>NaN</td>\n",
       "      <td>NaN</td>\n",
       "      <td>NaN</td>\n",
       "    </tr>\n",
       "    <tr>\n",
       "      <th>Name</th>\n",
       "      <td>Sara Gelser for State Representative (4680)</td>\n",
       "      <td>Oregon Speech Language Hearing Association</td>\n",
       "      <td>Committee to Elect Dr. Alan Bates (3604)</td>\n",
       "      <td>Frank Morse for State Senate (4335)</td>\n",
       "      <td>Friends of Suzanne Bonamici (5254)</td>\n",
       "    </tr>\n",
       "    <tr>\n",
       "      <th>Occupation</th>\n",
       "      <td>NaN</td>\n",
       "      <td>NaN</td>\n",
       "      <td>NaN</td>\n",
       "      <td>NaN</td>\n",
       "      <td>NaN</td>\n",
       "    </tr>\n",
       "    <tr>\n",
       "      <th>Occupation Letter Date</th>\n",
       "      <td>NaN</td>\n",
       "      <td>NaN</td>\n",
       "      <td>NaN</td>\n",
       "      <td>NaN</td>\n",
       "      <td>NaN</td>\n",
       "    </tr>\n",
       "    <tr>\n",
       "      <th>Payer of Personal Expenditure</th>\n",
       "      <td>NaN</td>\n",
       "      <td>NaN</td>\n",
       "      <td>NaN</td>\n",
       "      <td>NaN</td>\n",
       "      <td>NaN</td>\n",
       "    </tr>\n",
       "    <tr>\n",
       "      <th>Payment Method</th>\n",
       "      <td>NaN</td>\n",
       "      <td>NaN</td>\n",
       "      <td>Check</td>\n",
       "      <td>Check</td>\n",
       "      <td>Check</td>\n",
       "    </tr>\n",
       "    <tr>\n",
       "      <th>Process Status</th>\n",
       "      <td>Complete</td>\n",
       "      <td>Complete</td>\n",
       "      <td>Complete</td>\n",
       "      <td>Complete</td>\n",
       "      <td>Complete</td>\n",
       "    </tr>\n",
       "    <tr>\n",
       "      <th>Purpose</th>\n",
       "      <td>NaN</td>\n",
       "      <td>NaN</td>\n",
       "      <td>Cash Contribution</td>\n",
       "      <td>Cash Contribution</td>\n",
       "      <td>Cash Contribution</td>\n",
       "    </tr>\n",
       "    <tr>\n",
       "      <th>Repayment Schedule</th>\n",
       "      <td>NaN</td>\n",
       "      <td>NaN</td>\n",
       "      <td>NaN</td>\n",
       "      <td>NaN</td>\n",
       "      <td>NaN</td>\n",
       "    </tr>\n",
       "    <tr>\n",
       "      <th>Transaction Date</th>\n",
       "      <td>01/24/2013</td>\n",
       "      <td>11/30/2010</td>\n",
       "      <td>10/18/2010</td>\n",
       "      <td>10/18/2010</td>\n",
       "      <td>10/18/2010</td>\n",
       "    </tr>\n",
       "    <tr>\n",
       "      <th>Transaction ID</th>\n",
       "      <td>1454151</td>\n",
       "      <td>968825</td>\n",
       "      <td>934239</td>\n",
       "      <td>934242</td>\n",
       "      <td>934247</td>\n",
       "    </tr>\n",
       "    <tr>\n",
       "      <th>Transaction Sub Type</th>\n",
       "      <td>Lost or Returned Check</td>\n",
       "      <td>Cash Contribution</td>\n",
       "      <td>Cash Expenditure</td>\n",
       "      <td>Cash Expenditure</td>\n",
       "      <td>Cash Expenditure</td>\n",
       "    </tr>\n",
       "    <tr>\n",
       "      <th>Transaction Type</th>\n",
       "      <td>Other Receipt</td>\n",
       "      <td>Contribution</td>\n",
       "      <td>Expenditure</td>\n",
       "      <td>Expenditure</td>\n",
       "      <td>Expenditure</td>\n",
       "    </tr>\n",
       "  </tbody>\n",
       "</table>\n",
       "</div>"
      ],
      "text/plain": [
       "                                                                                  0  \\\n",
       "Address                                     1804 SW Brooklane Dr Corvallis OR 97333   \n",
       "Address Book Type                                               Political Committee   \n",
       "Agent                                                                           NaN   \n",
       "Aggregate                                                                       NaN   \n",
       "Amount                                                                      $200.00   \n",
       "Associations                      Cash Expenditure for $200.00 from Sara Gelser ...   \n",
       "Check                                                                           NaN   \n",
       "CoSigner Obligations                                                            NaN   \n",
       "Description                                                                     NaN   \n",
       "Due Date                                                     02/25/2013 11:59:00 PM   \n",
       "Employer Name                                                                   NaN   \n",
       "Exam Letter Date                                                         01/25/2013   \n",
       "Filed Date                                                   01/24/2013 08:39:24 AM   \n",
       "In-Kind/Independent Expenditures                                                 ,    \n",
       "Interest Rate                                                                   NaN   \n",
       "Name                                    Sara Gelser for State Representative (4680)   \n",
       "Occupation                                                                      NaN   \n",
       "Occupation Letter Date                                                          NaN   \n",
       "Payer of Personal Expenditure                                                   NaN   \n",
       "Payment Method                                                                  NaN   \n",
       "Process Status                                                             Complete   \n",
       "Purpose                                                                         NaN   \n",
       "Repayment Schedule                                                              NaN   \n",
       "Transaction Date                                                         01/24/2013   \n",
       "Transaction ID                                                              1454151   \n",
       "Transaction Sub Type                                         Lost or Returned Check   \n",
       "Transaction Type                                                      Other Receipt   \n",
       "\n",
       "                                                                           1  \\\n",
       "Address                                            PO Box 523 Salem OR 97308   \n",
       "Address Book Type                                            Business Entity   \n",
       "Agent                                                                    NaN   \n",
       "Aggregate                                                            $648.00   \n",
       "Amount                                                                $53.00   \n",
       "Associations                                                             NaN   \n",
       "Check                                                                    NaN   \n",
       "CoSigner Obligations                                                     NaN   \n",
       "Description                                                              NaN   \n",
       "Due Date                                              12/30/2010 11:59:00 PM   \n",
       "Employer Name                                                            NaN   \n",
       "Exam Letter Date                                                  12/06/2010   \n",
       "Filed Date                                            12/06/2010 01:16:12 PM   \n",
       "In-Kind/Independent Expenditures                                          ,    \n",
       "Interest Rate                                                            NaN   \n",
       "Name                              Oregon Speech Language Hearing Association   \n",
       "Occupation                                                               NaN   \n",
       "Occupation Letter Date                                                   NaN   \n",
       "Payer of Personal Expenditure                                            NaN   \n",
       "Payment Method                                                           NaN   \n",
       "Process Status                                                      Complete   \n",
       "Purpose                                                                  NaN   \n",
       "Repayment Schedule                                                       NaN   \n",
       "Transaction Date                                                  11/30/2010   \n",
       "Transaction ID                                                        968825   \n",
       "Transaction Sub Type                                       Cash Contribution   \n",
       "Transaction Type                                                Contribution   \n",
       "\n",
       "                                                                         2  \\\n",
       "Address                            2859 State St, Ste 101 Medford OR 97504   \n",
       "Address Book Type                                      Political Committee   \n",
       "Agent                                                                  NaN   \n",
       "Aggregate                                                          $250.00   \n",
       "Amount                                                             $250.00   \n",
       "Associations                                                           NaN   \n",
       "Check                                                                 1024   \n",
       "CoSigner Obligations                                                   NaN   \n",
       "Description                                                            NaN   \n",
       "Due Date                                            10/25/2010 11:59:00 PM   \n",
       "Employer Name                                                          NaN   \n",
       "Exam Letter Date                                                10/22/2010   \n",
       "Filed Date                                          10/21/2010 04:12:23 PM   \n",
       "In-Kind/Independent Expenditures                                        ,    \n",
       "Interest Rate                                                          NaN   \n",
       "Name                              Committee to Elect Dr. Alan Bates (3604)   \n",
       "Occupation                                                             NaN   \n",
       "Occupation Letter Date                                                 NaN   \n",
       "Payer of Personal Expenditure                                          NaN   \n",
       "Payment Method                                                       Check   \n",
       "Process Status                                                    Complete   \n",
       "Purpose                                                  Cash Contribution   \n",
       "Repayment Schedule                                                     NaN   \n",
       "Transaction Date                                                10/18/2010   \n",
       "Transaction ID                                                      934239   \n",
       "Transaction Sub Type                                      Cash Expenditure   \n",
       "Transaction Type                                               Expenditure   \n",
       "\n",
       "                                                                              3  \\\n",
       "Address                           494 State St Ste 230 (no mail) Salem OR 97301   \n",
       "Address Book Type                                           Political Committee   \n",
       "Agent                                                                       NaN   \n",
       "Aggregate                                                               $250.00   \n",
       "Amount                                                                  $250.00   \n",
       "Associations                                                                NaN   \n",
       "Check                                                                      1025   \n",
       "CoSigner Obligations                                                        NaN   \n",
       "Description                                                                 NaN   \n",
       "Due Date                                                 10/25/2010 11:59:00 PM   \n",
       "Employer Name                                                               NaN   \n",
       "Exam Letter Date                                                     10/22/2010   \n",
       "Filed Date                                               10/21/2010 04:12:23 PM   \n",
       "In-Kind/Independent Expenditures                                             ,    \n",
       "Interest Rate                                                               NaN   \n",
       "Name                                        Frank Morse for State Senate (4335)   \n",
       "Occupation                                                                  NaN   \n",
       "Occupation Letter Date                                                      NaN   \n",
       "Payer of Personal Expenditure                                               NaN   \n",
       "Payment Method                                                            Check   \n",
       "Process Status                                                         Complete   \n",
       "Purpose                                                       Cash Contribution   \n",
       "Repayment Schedule                                                          NaN   \n",
       "Transaction Date                                                     10/18/2010   \n",
       "Transaction ID                                                           934242   \n",
       "Transaction Sub Type                                           Cash Expenditure   \n",
       "Transaction Type                                                    Expenditure   \n",
       "\n",
       "                                                                    4  \n",
       "Address                           2236 SE 10th Ave. Portland OR 97214  \n",
       "Address Book Type                                 Political Committee  \n",
       "Agent                                                             NaN  \n",
       "Aggregate                                                     $200.00  \n",
       "Amount                                                        $200.00  \n",
       "Associations                                                      NaN  \n",
       "Check                                                            1026  \n",
       "CoSigner Obligations                                              NaN  \n",
       "Description                                                       NaN  \n",
       "Due Date                                       10/25/2010 11:59:00 PM  \n",
       "Employer Name                                                     NaN  \n",
       "Exam Letter Date                                           10/22/2010  \n",
       "Filed Date                                     10/21/2010 04:12:23 PM  \n",
       "In-Kind/Independent Expenditures                                   ,   \n",
       "Interest Rate                                                     NaN  \n",
       "Name                               Friends of Suzanne Bonamici (5254)  \n",
       "Occupation                                                        NaN  \n",
       "Occupation Letter Date                                            NaN  \n",
       "Payer of Personal Expenditure                                     NaN  \n",
       "Payment Method                                                  Check  \n",
       "Process Status                                               Complete  \n",
       "Purpose                                             Cash Contribution  \n",
       "Repayment Schedule                                                NaN  \n",
       "Transaction Date                                           10/18/2010  \n",
       "Transaction ID                                                 934247  \n",
       "Transaction Sub Type                                 Cash Expenditure  \n",
       "Transaction Type                                          Expenditure  "
      ]
     },
     "execution_count": 92,
     "metadata": {},
     "output_type": "execute_result"
    }
   ],
   "source": [
    "df.head().T"
   ]
  },
  {
   "cell_type": "markdown",
   "metadata": {
    "deletable": true,
    "editable": true
   },
   "source": [
    "### Missing Values"
   ]
  },
  {
   "cell_type": "markdown",
   "metadata": {
    "deletable": true,
    "editable": true
   },
   "source": [
    "Visual inspection of missing values:"
   ]
  },
  {
   "cell_type": "code",
   "execution_count": 13,
   "metadata": {
    "collapsed": false,
    "deletable": true,
    "editable": true
   },
   "outputs": [
    {
     "data": {
      "image/png": "[encoded data removed]",
      "text/plain": [
       "<matplotlib.figure.Figure at 0x1197377f0>"
      ]
     },
     "metadata": {},
     "output_type": "display_data"
    }
   ],
   "source": [
    "msn.matrix(df.iloc[:, 14:])"
   ]
  },
  {
   "cell_type": "markdown",
   "metadata": {
    "deletable": true,
    "editable": true
   },
   "source": [
    "Missing values per column:"
   ]
  },
  {
   "cell_type": "code",
   "execution_count": 14,
   "metadata": {
    "collapsed": false,
    "deletable": true,
    "editable": true
   },
   "outputs": [
    {
     "data": {
      "text/plain": [
       "Interest Rate                    88070\n",
       "Name                               780\n",
       "Occupation                       63064\n",
       "Occupation Letter Date           87855\n",
       "Payer of Personal Expenditure    86758\n",
       "Payment Method                   66544\n",
       "Process Status                       0\n",
       "Purpose                          63435\n",
       "Repayment Schedule               88232\n",
       "Transaction Date                     0\n",
       "Transaction ID                       0\n",
       "Transaction Sub Type                 0\n",
       "Transaction Type                     0\n",
       "dtype: int64"
      ]
     },
     "execution_count": 14,
     "metadata": {},
     "output_type": "execute_result"
    }
   ],
   "source": [
    "len(df) - df.iloc[:, 14:].count()"
   ]
  },
  {
   "cell_type": "markdown",
   "metadata": {
    "deletable": true,
    "editable": true
   },
   "source": [
    "### Unique Value Counts"
   ]
  },
  {
   "cell_type": "code",
   "execution_count": 15,
   "metadata": {
    "collapsed": false,
    "deletable": true,
    "editable": true
   },
   "outputs": [
    {
     "data": {
      "text/plain": [
       "Interest Rate                      120\n",
       "Name                             19262\n",
       "Occupation                        2674\n",
       "Occupation Letter Date             248\n",
       "Payer of Personal Expenditure      198\n",
       "Payment Method                       6\n",
       "Process Status                       4\n",
       "Purpose                            125\n",
       "Repayment Schedule                  48\n",
       "Transaction Date                  4101\n",
       "Transaction ID                   88310\n",
       "Transaction Sub Type                29\n",
       "Transaction Type                     6\n",
       "dtype: int64"
      ]
     },
     "execution_count": 15,
     "metadata": {},
     "output_type": "execute_result"
    }
   ],
   "source": [
    "df.iloc[:, 14:].apply(lambda x: x.nunique())"
   ]
  },
  {
   "cell_type": "markdown",
   "metadata": {
    "deletable": true,
    "editable": true
   },
   "source": [
    "## Visual Inspection of Columns\n",
    "**(including only those with fewer than 50 unique entries)**"
   ]
  },
  {
   "cell_type": "code",
   "execution_count": 16,
   "metadata": {
    "collapsed": false,
    "deletable": true,
    "editable": true
   },
   "outputs": [
    {
     "name": "stdout",
     "output_type": "stream",
     "text": [
      "---------- \n",
      "\n",
      "Payment Method (unique count: 6)\n",
      "\n",
      "Check                        17357\n",
      "Electronic Funds Transfer     2354\n",
      "Debit Card                    1640\n",
      "Electronic Check               343\n",
      "Credit Card                     71\n",
      "Cash                             1\n",
      "Name: Payment Method, dtype: int64\n",
      "\n",
      "---------- \n",
      "\n",
      "Process Status (unique count: 4)\n",
      "\n",
      "Complete                  87682\n",
      "Filed                       254\n",
      "Insufficient/Statutory      212\n",
      "Insufficient/General        162\n",
      "Name: Process Status, dtype: int64\n",
      "\n",
      "---------- \n",
      "\n",
      "Repayment Schedule (unique count: 48)\n",
      "\n",
      "When funds available                      12\n",
      "repay when funds are available             4\n",
      "when available                             3\n",
      "As funds are available                     3\n",
      "30 Days                                    3\n",
      "On Demand                                  3\n",
      "when funds are available                   3\n",
      "0                                          2\n",
      "none                                       2\n",
      "6 months                                   2\n",
      "As soon as possible                        2\n",
      "as funds available                         2\n",
      "ASAP                                       2\n",
      "as available                               1\n",
      "to be paid as funds become available       1\n",
      "when or if available                       1\n",
      "payable 11/03/16                           1\n",
      "when funds available                       1\n",
      "Due upon demand                            1\n",
      "When funds become available.               1\n",
      "12-31-16                                   1\n",
      "payback when available                     1\n",
      "As available                               1\n",
      "to be repaid as funds become available     1\n",
      "net 90                                     1\n",
      "120 days                                   1\n",
      "Pay as receive contributions               1\n",
      "As funds available                         1\n",
      "funds due when avaiable                    1\n",
      "1 year                                     1\n",
      "2 months                                   1\n",
      "1 month                                    1\n",
      "as funds are available                     1\n",
      "None                                       1\n",
      "5 years                                    1\n",
      "3 months                                   1\n",
      "payable when funds available               1\n",
      "9/18/2009                                  1\n",
      "upon request                               1\n",
      "As Funds Available                         1\n",
      "Due 9/10/08                                1\n",
      "When Funds Available                       1\n",
      "90 days                                    1\n",
      "net 90 days                                1\n",
      "Asap                                       1\n",
      "not determined                             1\n",
      "0.00                                       1\n",
      "ln docs on file, avail on req              1\n",
      "Name: Repayment Schedule, dtype: int64\n",
      "\n",
      "---------- \n",
      "\n",
      "Transaction Sub Type (unique count: 29)\n",
      "\n",
      "Cash Contribution                          49850\n",
      "Cash Expenditure                           25656\n",
      "Personal Expenditure for Reimbursement      6357\n",
      "In-Kind Contribution                        2714\n",
      "Interest/Investment Income                  1039\n",
      "Items Sold at Fair Market Value              892\n",
      "Account Payable                              659\n",
      "Refunds and Rebates                          183\n",
      "Lost or Returned Check                       178\n",
      "Return or Refund of Contribution             125\n",
      "Miscellaneous Other Receipt                  108\n",
      "Pledge of Cash                                96\n",
      "Loan Received (Non-Exempt)                    79\n",
      "Miscellaneous Other Disbursement              74\n",
      "In-Kind/Forgiven Personal Expenditures        68\n",
      "Cash Balance Adjustment                       66\n",
      "Loan Payment (Non-Exempt)                     63\n",
      "Expenditure Made by an Agent                  31\n",
      "Loan Forgiven (Non-Exempt)                    13\n",
      "Personal Expenditure Balance Adjustment       11\n",
      "Account Payable Rescinded                     11\n",
      "Miscellaneous Account Receivable              10\n",
      "In-Kind/Forgiven Account Payable               8\n",
      "Loan Payment (Exempt)                          5\n",
      "Uncollectible Pledge of Cash                   4\n",
      "Pledge of In-Kind                              3\n",
      "Nonpartisan Activity                           3\n",
      "Loan Received (Exempt)                         3\n",
      "Unexpended Agent Balance                       1\n",
      "Name: Transaction Sub Type, dtype: int64\n",
      "\n",
      "---------- \n",
      "\n",
      "Transaction Type (unique count: 6)\n",
      "\n",
      "Contribution                52818\n",
      "Expenditure                 32766\n",
      "Other Receipt                2403\n",
      "Other Disbursement            207\n",
      "Other                         105\n",
      "Other Account Receivable       11\n",
      "Name: Transaction Type, dtype: int64\n",
      "\n",
      "==================== \n",
      "\n",
      "Excluded Columns\n",
      "\n",
      "['Interest Rate', 'Name', 'Occupation', 'Occupation Letter Date', 'Payer of Personal Expenditure', 'Purpose', 'Transaction Date', 'Transaction ID']\n"
     ]
    }
   ],
   "source": [
    "long_cols = []\n",
    "for c in df.iloc[:, 14:]:\n",
    "    n = df.loc[:, c].nunique()\n",
    "    if n < 50:\n",
    "        print(10*'-','\\n')\n",
    "        print('{} (unique count: {})\\n'.format(c, n))\n",
    "        print(df.loc[:, c].value_counts())\n",
    "        print()\n",
    "    else:\n",
    "        long_cols.append(c)\n",
    "print(20*'=', '\\n')\n",
    "print('Excluded Columns\\n')\n",
    "print(long_cols)"
   ]
  },
  {
   "cell_type": "markdown",
   "metadata": {
    "deletable": true,
    "editable": true
   },
   "source": [
    "All of these look good, although *Repayment Schedule* is just a mess of unique values that would ideally be grouped/consolidated."
   ]
  },
  {
   "cell_type": "markdown",
   "metadata": {
    "deletable": true,
    "editable": true
   },
   "source": [
    "## Looking At Longer Columns"
   ]
  },
  {
   "cell_type": "markdown",
   "metadata": {
    "deletable": true,
    "editable": true
   },
   "source": [
    "### Transaction Date"
   ]
  },
  {
   "cell_type": "markdown",
   "metadata": {
    "deletable": true,
    "editable": true
   },
   "source": [
    "Quick descriptive stats"
   ]
  },
  {
   "cell_type": "code",
   "execution_count": 17,
   "metadata": {
    "collapsed": false,
    "deletable": true,
    "editable": true
   },
   "outputs": [
    {
     "data": {
      "text/plain": [
       "count          88310\n",
       "unique          4101\n",
       "top       11/09/2017\n",
       "freq            1656\n",
       "Name: Transaction Date, dtype: object"
      ]
     },
     "execution_count": 17,
     "metadata": {},
     "output_type": "execute_result"
    }
   ],
   "source": [
    "df['Transaction Date'].describe()"
   ]
  },
  {
   "cell_type": "markdown",
   "metadata": {
    "deletable": true,
    "editable": true
   },
   "source": [
    "Checking if any dates don't match the expected format, which includes any invalid values for month, day, year."
   ]
  },
  {
   "cell_type": "code",
   "execution_count": 18,
   "metadata": {
    "collapsed": false,
    "deletable": true,
    "editable": true
   },
   "outputs": [
    {
     "data": {
      "text/plain": [
       "68927    05/03/0007\n",
       "81289    11/03/0209\n",
       "81290    02/23/0009\n",
       "81291    03/14/0008\n",
       "81292    02/19/0007\n",
       "81293    02/19/0007\n",
       "Name: Transaction Date, dtype: object"
      ]
     },
     "execution_count": 18,
     "metadata": {},
     "output_type": "execute_result"
    }
   ],
   "source": [
    "# return the index and value of any dates not matching expected format\n",
    "date_pattern = '(0[0-9]|1[0-2])/([0-2][0-9]|3[01])/(19\\d{2}|200[0-9]|201[0-8])'\n",
    "df.loc[:, 'Transaction Date'][df.loc[:, 'Transaction Date'].apply(lambda x: not re.match(date_pattern, x))]"
   ]
  },
  {
   "cell_type": "markdown",
   "metadata": {
    "deletable": true,
    "editable": true
   },
   "source": [
    "### Interest Rate"
   ]
  },
  {
   "cell_type": "markdown",
   "metadata": {
    "deletable": true,
    "editable": true
   },
   "source": [
    "Quick descriptive stats"
   ]
  },
  {
   "cell_type": "code",
   "execution_count": 19,
   "metadata": {
    "collapsed": false,
    "deletable": true,
    "editable": true
   },
   "outputs": [
    {
     "data": {
      "text/plain": [
       "count     240\n",
       "unique    120\n",
       "top         0\n",
       "freq       51\n",
       "Name: Interest Rate, dtype: object"
      ]
     },
     "execution_count": 19,
     "metadata": {},
     "output_type": "execute_result"
    }
   ],
   "source": [
    "df['Interest Rate'].describe()"
   ]
  },
  {
   "cell_type": "markdown",
   "metadata": {
    "deletable": true,
    "editable": true
   },
   "source": [
    "10 most frequent values"
   ]
  },
  {
   "cell_type": "code",
   "execution_count": 20,
   "metadata": {
    "collapsed": false,
    "deletable": true,
    "editable": true
   },
   "outputs": [
    {
     "data": {
      "text/plain": [
       "0           51\n",
       "150.00      10\n",
       "200.00       9\n",
       "0.00%        7\n",
       "0.00         7\n",
       "2503.00      6\n",
       "68389.61     4\n",
       "25545.33     4\n",
       "83913.84     3\n",
       "29191.55     3\n",
       "Name: Interest Rate, dtype: int64"
      ]
     },
     "execution_count": 20,
     "metadata": {},
     "output_type": "execute_result"
    }
   ],
   "source": [
    "df['Interest Rate'].value_counts().head(10)"
   ]
  },
  {
   "cell_type": "markdown",
   "metadata": {
    "deletable": true,
    "editable": true
   },
   "source": [
    "Check all unique values"
   ]
  },
  {
   "cell_type": "code",
   "execution_count": 21,
   "metadata": {
    "collapsed": false,
    "deletable": true,
    "editable": true
   },
   "outputs": [
    {
     "name": "stdout",
     "output_type": "stream",
     "text": [
      "[nan '0.0' 'zero' 'none' '0' '7 percent' '0.00' '104500.00' '4105.00'\n",
      " '3105.00' '72343.75' '223.99' '1605.00' '10096.00' '605.00' '3399.00'\n",
      " '10%' '0.00%' '3.5%' '150.00' '2500.00' '1563.52' '134.61' '200.00'\n",
      " '125.00' '500.00' '133.96' '152.11' '141545.33' '98146.99' '458.87'\n",
      " '250.00' '709.53' '109389.08' '107889.08' '1470.52' '10000.00' '506.13'\n",
      " '1500.00' '94841.00' '494.97' '2850.00' '570.23' '45545.33' '418.49'\n",
      " '1516.12' '89376.36' '44045.33' '83913.84' '78389.61' '1200.11' '1312.50'\n",
      " '449.57' '42545.33' '307.08' '362.28' '41045.33' '68389.61' '60879.97'\n",
      " '900.11' '309.85' '39545.33' '271.87' '305.85' '56101.43' '1980.00'\n",
      " '51322.90' '37545.33' '600.11' '215.96' '155.23' '4850.00' '35545.33'\n",
      " '154.15' '46542.69' '42691.55' '33545.33' '29191.55' '300.11' '101.51'\n",
      " '31545.33' '19350.50' '15489.34' '13541.76' '29545.33' '27545.33'\n",
      " '6041.76' '350.00' '1610.00' '815.00' '1000.00' '25545.33' '5503.00'\n",
      " '59195.75' '55619.31' '83448.53' '52620.18' '5331.23' '79448.53' '5330.73'\n",
      " '5000.94' '3503.00' '5176.23' '49064.81' '5001.02' '51985.56' '4180.94'\n",
      " '2565.00' '45520.90' '49985.56' '43717.46' '2503.00' '47985.56' '40143.58'\n",
      " '312.16' '45985.56' '36569.69' '15000.00' '0%' '1%' '.25%']\n"
     ]
    }
   ],
   "source": [
    "print(df['Interest Rate'].unique())"
   ]
  },
  {
   "cell_type": "markdown",
   "metadata": {
    "deletable": true,
    "editable": true
   },
   "source": [
    "**Observations**\n",
    "\n",
    "* There are some extremely large values for interest rate (???)\n",
    "* Entry formats:\n",
    "    - float\n",
    "    - numeric with % symbol\n",
    "    - numeric with 'percent'\n",
    "    - string (e.g. 'zero')\n",
    "* These could potentially be automatically reformatted"
   ]
  },
  {
   "cell_type": "markdown",
   "metadata": {
    "deletable": true,
    "editable": true
   },
   "source": [
    "**Attempt to interperate the large Interest Rate values**\n",
    "\n",
    "The script below converts all values in 'Amount', 'Interest Rate' and 'Aggregate' to numeric values."
   ]
  },
  {
   "cell_type": "code",
   "execution_count": 22,
   "metadata": {
    "collapsed": false,
    "deletable": true,
    "editable": true
   },
   "outputs": [
    {
     "data": {
      "text/html": [
       "<div>\n",
       "<style>\n",
       "    .dataframe thead tr:only-child th {\n",
       "        text-align: right;\n",
       "    }\n",
       "\n",
       "    .dataframe thead th {\n",
       "        text-align: left;\n",
       "    }\n",
       "\n",
       "    .dataframe tbody tr th {\n",
       "        vertical-align: top;\n",
       "    }\n",
       "</style>\n",
       "<table border=\"1\" class=\"dataframe\">\n",
       "  <thead>\n",
       "    <tr style=\"text-align: right;\">\n",
       "      <th></th>\n",
       "      <th>Name</th>\n",
       "      <th>Amount</th>\n",
       "      <th>Interest Rate</th>\n",
       "      <th>Aggregate</th>\n",
       "    </tr>\n",
       "  </thead>\n",
       "  <tbody>\n",
       "    <tr>\n",
       "      <th>9091</th>\n",
       "      <td>Oregon Family Council Issues PAC (5446)</td>\n",
       "      <td>32156.25</td>\n",
       "      <td>104500.00</td>\n",
       "      <td>104500.00</td>\n",
       "    </tr>\n",
       "    <tr>\n",
       "      <th>9092</th>\n",
       "      <td>US Postal Service</td>\n",
       "      <td>1000.00</td>\n",
       "      <td>4105.00</td>\n",
       "      <td>4105.00</td>\n",
       "    </tr>\n",
       "    <tr>\n",
       "      <th>9096</th>\n",
       "      <td>US Postal Service</td>\n",
       "      <td>1500.00</td>\n",
       "      <td>3105.00</td>\n",
       "      <td>3105.00</td>\n",
       "    </tr>\n",
       "    <tr>\n",
       "      <th>9097</th>\n",
       "      <td>Oregon Family Council Issues PAC (5446)</td>\n",
       "      <td>62343.75</td>\n",
       "      <td>72343.75</td>\n",
       "      <td>72343.75</td>\n",
       "    </tr>\n",
       "    <tr>\n",
       "      <th>9099</th>\n",
       "      <td>US Postal Service</td>\n",
       "      <td>1000.00</td>\n",
       "      <td>1605.00</td>\n",
       "      <td>1605.00</td>\n",
       "    </tr>\n",
       "    <tr>\n",
       "      <th>9100</th>\n",
       "      <td>Oregon Family Council Issues PAC (5446)</td>\n",
       "      <td>10000.00</td>\n",
       "      <td>10096.00</td>\n",
       "      <td>10096.00</td>\n",
       "    </tr>\n",
       "    <tr>\n",
       "      <th>9102</th>\n",
       "      <td>Diana Nashif</td>\n",
       "      <td>3399.00</td>\n",
       "      <td>3399.00</td>\n",
       "      <td>3399.00</td>\n",
       "    </tr>\n",
       "    <tr>\n",
       "      <th>31438</th>\n",
       "      <td>US Postal Service</td>\n",
       "      <td>1000.00</td>\n",
       "      <td>2500.00</td>\n",
       "      <td>2500.00</td>\n",
       "    </tr>\n",
       "    <tr>\n",
       "      <th>31439</th>\n",
       "      <td>Jack Louman</td>\n",
       "      <td>93.00</td>\n",
       "      <td>1563.52</td>\n",
       "      <td>1563.52</td>\n",
       "    </tr>\n",
       "    <tr>\n",
       "      <th>31459</th>\n",
       "      <td>Gateway Communications</td>\n",
       "      <td>32156.25</td>\n",
       "      <td>141545.33</td>\n",
       "      <td>141545.33</td>\n",
       "    </tr>\n",
       "  </tbody>\n",
       "</table>\n",
       "</div>"
      ],
      "text/plain": [
       "                                          Name    Amount  Interest Rate  \\\n",
       "9091   Oregon Family Council Issues PAC (5446)  32156.25      104500.00   \n",
       "9092                         US Postal Service   1000.00        4105.00   \n",
       "9096                         US Postal Service   1500.00        3105.00   \n",
       "9097   Oregon Family Council Issues PAC (5446)  62343.75       72343.75   \n",
       "9099                         US Postal Service   1000.00        1605.00   \n",
       "9100   Oregon Family Council Issues PAC (5446)  10000.00       10096.00   \n",
       "9102                              Diana Nashif   3399.00        3399.00   \n",
       "31438                        US Postal Service   1000.00        2500.00   \n",
       "31439                              Jack Louman     93.00        1563.52   \n",
       "31459                   Gateway Communications  32156.25      141545.33   \n",
       "\n",
       "       Aggregate  \n",
       "9091   104500.00  \n",
       "9092     4105.00  \n",
       "9096     3105.00  \n",
       "9097    72343.75  \n",
       "9099     1605.00  \n",
       "9100    10096.00  \n",
       "9102     3399.00  \n",
       "31438    2500.00  \n",
       "31439    1563.52  \n",
       "31459  141545.33  "
      ]
     },
     "execution_count": 22,
     "metadata": {},
     "output_type": "execute_result"
    }
   ],
   "source": [
    "temp = df.loc[:, ['Name', 'Amount', 'Interest Rate', 'Aggregate']].dropna().copy()\n",
    "def tofloat(x):\n",
    "    try:\n",
    "        if x.startswith('$'):\n",
    "            x = x.strip('$').replace(',', '')\n",
    "        return float(x)\n",
    "    except:\n",
    "        return None\n",
    "for c in temp:\n",
    "    if c != 'Name':\n",
    "        temp.loc[:, c] = temp.loc[:, c].apply(lambda x: tofloat(x))\n",
    "temp[temp['Interest Rate'] > 1000].head(10)"
   ]
  },
  {
   "cell_type": "markdown",
   "metadata": {
    "deletable": true,
    "editable": true
   },
   "source": [
    "Group temp by 'Name' and aggregate the numeric values to determine the following:\n",
    "\n",
    "1. Is Aggregate the total amount contributed by one Name over time?\n",
    "2. Check if "
   ]
  },
  {
   "cell_type": "code",
   "execution_count": 23,
   "metadata": {
    "collapsed": false,
    "deletable": true,
    "editable": true
   },
   "outputs": [
    {
     "data": {
      "text/html": [
       "<div>\n",
       "<style>\n",
       "    .dataframe thead tr:only-child th {\n",
       "        text-align: right;\n",
       "    }\n",
       "\n",
       "    .dataframe thead th {\n",
       "        text-align: left;\n",
       "    }\n",
       "\n",
       "    .dataframe tbody tr th {\n",
       "        vertical-align: top;\n",
       "    }\n",
       "</style>\n",
       "<table border=\"1\" class=\"dataframe\">\n",
       "  <thead>\n",
       "    <tr>\n",
       "      <th></th>\n",
       "      <th>Amount</th>\n",
       "      <th>Aggregate</th>\n",
       "      <th colspan=\"4\" halign=\"left\">Interest Rate</th>\n",
       "    </tr>\n",
       "    <tr>\n",
       "      <th></th>\n",
       "      <th>Amount</th>\n",
       "      <th>Aggregate</th>\n",
       "      <th>mean</th>\n",
       "      <th>min</th>\n",
       "      <th>count</th>\n",
       "      <th>max</th>\n",
       "    </tr>\n",
       "    <tr>\n",
       "      <th>Name</th>\n",
       "      <th></th>\n",
       "      <th></th>\n",
       "      <th></th>\n",
       "      <th></th>\n",
       "      <th></th>\n",
       "      <th></th>\n",
       "    </tr>\n",
       "  </thead>\n",
       "  <tbody>\n",
       "    <tr>\n",
       "      <th>Bernards Garage Inc</th>\n",
       "      <td>3700.00</td>\n",
       "      <td>5560.36</td>\n",
       "      <td>0.000000</td>\n",
       "      <td>0.00</td>\n",
       "      <td>2</td>\n",
       "      <td>0.00</td>\n",
       "    </tr>\n",
       "    <tr>\n",
       "      <th>Bill J. Burgess</th>\n",
       "      <td>2800.00</td>\n",
       "      <td>2300.00</td>\n",
       "      <td>0.000000</td>\n",
       "      <td>0.00</td>\n",
       "      <td>2</td>\n",
       "      <td>0.00</td>\n",
       "    </tr>\n",
       "    <tr>\n",
       "      <th>C &amp; A Consulting</th>\n",
       "      <td>780.03</td>\n",
       "      <td>500.00</td>\n",
       "      <td>0.000000</td>\n",
       "      <td>0.00</td>\n",
       "      <td>3</td>\n",
       "      <td>0.00</td>\n",
       "    </tr>\n",
       "    <tr>\n",
       "      <th>Capitol Accounting Service</th>\n",
       "      <td>3863.99</td>\n",
       "      <td>2850.00</td>\n",
       "      <td>1686.798000</td>\n",
       "      <td>223.99</td>\n",
       "      <td>5</td>\n",
       "      <td>2850.00</td>\n",
       "    </tr>\n",
       "    <tr>\n",
       "      <th>Christopher Edwards</th>\n",
       "      <td>1500.00</td>\n",
       "      <td>1640.19</td>\n",
       "      <td>0.000000</td>\n",
       "      <td>0.00</td>\n",
       "      <td>2</td>\n",
       "      <td>0.00</td>\n",
       "    </tr>\n",
       "    <tr>\n",
       "      <th>Costco</th>\n",
       "      <td>455.30</td>\n",
       "      <td>506.13</td>\n",
       "      <td>315.023333</td>\n",
       "      <td>101.51</td>\n",
       "      <td>9</td>\n",
       "      <td>506.13</td>\n",
       "    </tr>\n",
       "    <tr>\n",
       "      <th>Edward T. Wheeler</th>\n",
       "      <td>233000.00</td>\n",
       "      <td>233000.00</td>\n",
       "      <td>0.000000</td>\n",
       "      <td>0.00</td>\n",
       "      <td>10</td>\n",
       "      <td>0.00</td>\n",
       "    </tr>\n",
       "    <tr>\n",
       "      <th>Gateway Communications</th>\n",
       "      <td>179008.30</td>\n",
       "      <td>141545.33</td>\n",
       "      <td>51160.114167</td>\n",
       "      <td>25545.33</td>\n",
       "      <td>24</td>\n",
       "      <td>141545.33</td>\n",
       "    </tr>\n",
       "    <tr>\n",
       "      <th>Granella Thompson</th>\n",
       "      <td>750.00</td>\n",
       "      <td>500.00</td>\n",
       "      <td>375.000000</td>\n",
       "      <td>250.00</td>\n",
       "      <td>2</td>\n",
       "      <td>500.00</td>\n",
       "    </tr>\n",
       "    <tr>\n",
       "      <th>Jack Louman</th>\n",
       "      <td>1563.52</td>\n",
       "      <td>1563.52</td>\n",
       "      <td>1005.746667</td>\n",
       "      <td>300.11</td>\n",
       "      <td>6</td>\n",
       "      <td>1563.52</td>\n",
       "    </tr>\n",
       "  </tbody>\n",
       "</table>\n",
       "</div>"
      ],
      "text/plain": [
       "                               Amount  Aggregate Interest Rate            \\\n",
       "                               Amount  Aggregate          mean       min   \n",
       "Name                                                                       \n",
       "Bernards Garage Inc           3700.00    5560.36      0.000000      0.00   \n",
       "Bill J. Burgess               2800.00    2300.00      0.000000      0.00   \n",
       "C & A Consulting               780.03     500.00      0.000000      0.00   \n",
       "Capitol Accounting Service    3863.99    2850.00   1686.798000    223.99   \n",
       "Christopher Edwards           1500.00    1640.19      0.000000      0.00   \n",
       "Costco                         455.30     506.13    315.023333    101.51   \n",
       "Edward T. Wheeler           233000.00  233000.00      0.000000      0.00   \n",
       "Gateway Communications      179008.30  141545.33  51160.114167  25545.33   \n",
       "Granella Thompson              750.00     500.00    375.000000    250.00   \n",
       "Jack Louman                   1563.52    1563.52   1005.746667    300.11   \n",
       "\n",
       "                                             \n",
       "                           count        max  \n",
       "Name                                         \n",
       "Bernards Garage Inc            2       0.00  \n",
       "Bill J. Burgess                2       0.00  \n",
       "C & A Consulting               3       0.00  \n",
       "Capitol Accounting Service     5    2850.00  \n",
       "Christopher Edwards            2       0.00  \n",
       "Costco                         9     506.13  \n",
       "Edward T. Wheeler             10       0.00  \n",
       "Gateway Communications        24  141545.33  \n",
       "Granella Thompson              2     500.00  \n",
       "Jack Louman                    6    1563.52  "
      ]
     },
     "execution_count": 23,
     "metadata": {},
     "output_type": "execute_result"
    }
   ],
   "source": [
    "g = temp.groupby('Name').agg({'Amount': sum, 'Interest Rate': {'count','min','mean','max'}, 'Aggregate': max})\n",
    "g[g.loc[:, ('Interest Rate', 'count')] > 1].head(10)"
   ]
  },
  {
   "cell_type": "code",
   "execution_count": 24,
   "metadata": {
    "collapsed": false,
    "deletable": true,
    "editable": true
   },
   "outputs": [
    {
     "data": {
      "text/plain": [
       "count        93.000000\n",
       "mean        363.684301\n",
       "std       11726.642885\n",
       "min      -37462.970000\n",
       "25%           0.000000\n",
       "50%           0.000000\n",
       "75%          97.350000\n",
       "max      100000.000000\n",
       "dtype: float64"
      ]
     },
     "execution_count": 24,
     "metadata": {},
     "output_type": "execute_result"
    }
   ],
   "source": [
    "agg_amount_diff = g.Aggregate.Aggregate.sub(g.Amount.Amount)\n",
    "agg_amount_diff.describe()"
   ]
  },
  {
   "cell_type": "code",
   "execution_count": 25,
   "metadata": {
    "collapsed": false,
    "deletable": true,
    "editable": true
   },
   "outputs": [
    {
     "data": {
      "image/png": "[encoded data removed]",
      "text/plain": [
       "<matplotlib.figure.Figure at 0x11c5f1a20>"
      ]
     },
     "metadata": {},
     "output_type": "display_data"
    }
   ],
   "source": [
    "agg_amount_diff.plot.hist(bins=100, figsize=(14,4));"
   ]
  },
  {
   "cell_type": "code",
   "execution_count": 26,
   "metadata": {
    "collapsed": false,
    "deletable": true,
    "editable": true
   },
   "outputs": [
    {
     "data": {
      "text/plain": [
       "count    46.0\n",
       "mean      0.0\n",
       "std       0.0\n",
       "min       0.0\n",
       "25%       0.0\n",
       "50%       0.0\n",
       "75%       0.0\n",
       "max       0.0\n",
       "dtype: float64"
      ]
     },
     "execution_count": 26,
     "metadata": {},
     "output_type": "execute_result"
    }
   ],
   "source": [
    "gtemp = g[g.loc[:, ('Interest Rate', 'max')] > 0]\n",
    "agg_imax_diff = gtemp.Aggregate.Aggregate.sub(gtemp.loc[:, ('Interest Rate', 'max')])\n",
    "agg_imax_diff.describe()"
   ]
  },
  {
   "cell_type": "markdown",
   "metadata": {
    "deletable": true,
    "editable": true
   },
   "source": [
    "The maximum value for Interest Rate (when Interest Rate is a numeric value) is always equal to the aggregate for any given Name.\n",
    "\n",
    "What about interest rate per record? Is it always equal to the current aggregate in that record?"
   ]
  },
  {
   "cell_type": "code",
   "execution_count": 27,
   "metadata": {
    "collapsed": false,
    "deletable": true,
    "editable": true
   },
   "outputs": [
    {
     "data": {
      "text/plain": [
       "count       219.000000\n",
       "mean       7854.356986\n",
       "std       31286.684538\n",
       "min           0.000000\n",
       "25%           0.000000\n",
       "50%           0.000000\n",
       "75%         170.015000\n",
       "max      233000.000000\n",
       "dtype: float64"
      ]
     },
     "execution_count": 27,
     "metadata": {},
     "output_type": "execute_result"
    }
   ],
   "source": [
    "temp.Aggregate.sub(temp.loc[:, 'Interest Rate']).describe()"
   ]
  },
  {
   "cell_type": "markdown",
   "metadata": {
    "deletable": true,
    "editable": true
   },
   "source": [
    "The answer to the above is no.\n",
    "\n",
    "Are the number of unique interest rates per Name equal to the number of records per Name?"
   ]
  },
  {
   "cell_type": "code",
   "execution_count": 28,
   "metadata": {
    "collapsed": false,
    "deletable": true,
    "editable": true
   },
   "outputs": [
    {
     "data": {
      "text/html": [
       "<div>\n",
       "<style>\n",
       "    .dataframe thead tr:only-child th {\n",
       "        text-align: right;\n",
       "    }\n",
       "\n",
       "    .dataframe thead th {\n",
       "        text-align: left;\n",
       "    }\n",
       "\n",
       "    .dataframe tbody tr th {\n",
       "        vertical-align: top;\n",
       "    }\n",
       "</style>\n",
       "<table border=\"1\" class=\"dataframe\">\n",
       "  <thead>\n",
       "    <tr style=\"text-align: right;\">\n",
       "      <th></th>\n",
       "      <th>count</th>\n",
       "      <th>nunique</th>\n",
       "    </tr>\n",
       "  </thead>\n",
       "  <tbody>\n",
       "    <tr>\n",
       "      <th>count</th>\n",
       "      <td>83.000000</td>\n",
       "      <td>83.000000</td>\n",
       "    </tr>\n",
       "    <tr>\n",
       "      <th>mean</th>\n",
       "      <td>2.638554</td>\n",
       "      <td>1.987952</td>\n",
       "    </tr>\n",
       "    <tr>\n",
       "      <th>std</th>\n",
       "      <td>6.127862</td>\n",
       "      <td>3.697375</td>\n",
       "    </tr>\n",
       "    <tr>\n",
       "      <th>min</th>\n",
       "      <td>1.000000</td>\n",
       "      <td>1.000000</td>\n",
       "    </tr>\n",
       "    <tr>\n",
       "      <th>25%</th>\n",
       "      <td>1.000000</td>\n",
       "      <td>1.000000</td>\n",
       "    </tr>\n",
       "    <tr>\n",
       "      <th>50%</th>\n",
       "      <td>1.000000</td>\n",
       "      <td>1.000000</td>\n",
       "    </tr>\n",
       "    <tr>\n",
       "      <th>75%</th>\n",
       "      <td>1.500000</td>\n",
       "      <td>1.000000</td>\n",
       "    </tr>\n",
       "    <tr>\n",
       "      <th>max</th>\n",
       "      <td>49.000000</td>\n",
       "      <td>25.000000</td>\n",
       "    </tr>\n",
       "  </tbody>\n",
       "</table>\n",
       "</div>"
      ],
      "text/plain": [
       "           count    nunique\n",
       "count  83.000000  83.000000\n",
       "mean    2.638554   1.987952\n",
       "std     6.127862   3.697375\n",
       "min     1.000000   1.000000\n",
       "25%     1.000000   1.000000\n",
       "50%     1.000000   1.000000\n",
       "75%     1.500000   1.000000\n",
       "max    49.000000  25.000000"
      ]
     },
     "execution_count": 28,
     "metadata": {},
     "output_type": "execute_result"
    }
   ],
   "source": [
    "# summary stats for number of unique Interest Rate values per name,\n",
    "# and total number of records per name\n",
    "interest_nunique = temp.dropna().groupby('Name')['Interest Rate'].agg({Series.nunique, 'count'})\n",
    "interest_nunique.describe()"
   ]
  },
  {
   "cell_type": "markdown",
   "metadata": {
    "deletable": true,
    "editable": true
   },
   "source": [
    "The following is used in the next cell, and it describes the normalized difference of number of records and number of unique Interest Rate values per Name.\n",
    "\n",
    "$$D_p = \\frac{count - nunique}{count - 1}$$\n",
    "\n",
    "This is applied to only the names that have at least 2 records."
   ]
  },
  {
   "cell_type": "code",
   "execution_count": 29,
   "metadata": {
    "collapsed": false,
    "deletable": true,
    "editable": true
   },
   "outputs": [
    {
     "data": {
      "text/plain": [
       "count    21.000000\n",
       "mean      0.525259\n",
       "std       0.481310\n",
       "min       0.000000\n",
       "25%       0.000000\n",
       "50%       0.500000\n",
       "75%       1.000000\n",
       "max       1.000000\n",
       "dtype: float64"
      ]
     },
     "execution_count": 29,
     "metadata": {},
     "output_type": "execute_result"
    }
   ],
   "source": [
    "# summary stats for the difference between count per name and number of unique interest rates\n",
    "# in proportion to the count\n",
    "int_unique_filt = interest_nunique[interest_nunique['count'] > 1]\n",
    "Dp = int_unique_filt['count'].sub(int_unique_filt['nunique']).div(int_unique_filt['count'] - 1)\n",
    "Dp.describe()"
   ]
  },
  {
   "cell_type": "markdown",
   "metadata": {
    "deletable": true,
    "editable": true
   },
   "source": [
    "The number of unique Interest Rate (IR) values is inconsistent: At least 25% of the names have only one unique IR for multiple records, while another 25% (at least) have the same number of unique IR as number of records."
   ]
  },
  {
   "cell_type": "code",
   "execution_count": 30,
   "metadata": {
    "collapsed": false,
    "deletable": true,
    "editable": true
   },
   "outputs": [],
   "source": [
    "subtype_max = df.loc[:, ['Transaction Sub Type', 'Transaction ID', 'Amount']].copy()\n",
    "subtype_max = subtype_max.groupby('Transaction Sub Type').max()"
   ]
  },
  {
   "cell_type": "code",
   "execution_count": 31,
   "metadata": {
    "collapsed": false,
    "deletable": true,
    "editable": true,
    "scrolled": false
   },
   "outputs": [
    {
     "data": {
      "text/html": [
       "<div>\n",
       "<style>\n",
       "    .dataframe thead tr:only-child th {\n",
       "        text-align: right;\n",
       "    }\n",
       "\n",
       "    .dataframe thead th {\n",
       "        text-align: left;\n",
       "    }\n",
       "\n",
       "    .dataframe tbody tr th {\n",
       "        vertical-align: top;\n",
       "    }\n",
       "</style>\n",
       "<table border=\"1\" class=\"dataframe\">\n",
       "  <thead>\n",
       "    <tr style=\"text-align: right;\">\n",
       "      <th></th>\n",
       "      <th>Transaction ID</th>\n",
       "      <th>Amount</th>\n",
       "    </tr>\n",
       "    <tr>\n",
       "      <th>Transaction Sub Type</th>\n",
       "      <th></th>\n",
       "      <th></th>\n",
       "    </tr>\n",
       "  </thead>\n",
       "  <tbody>\n",
       "    <tr>\n",
       "      <th>Account Payable</th>\n",
       "      <td>995140</td>\n",
       "      <td>$994.61</td>\n",
       "    </tr>\n",
       "    <tr>\n",
       "      <th>Account Payable Rescinded</th>\n",
       "      <td>982809</td>\n",
       "      <td>$8,857.25</td>\n",
       "    </tr>\n",
       "    <tr>\n",
       "      <th>Cash Balance Adjustment</th>\n",
       "      <td>996144</td>\n",
       "      <td>($975.00)</td>\n",
       "    </tr>\n",
       "    <tr>\n",
       "      <th>Cash Contribution</th>\n",
       "      <td>999998</td>\n",
       "      <td>$999.51</td>\n",
       "    </tr>\n",
       "    <tr>\n",
       "      <th>Cash Expenditure</th>\n",
       "      <td>999688</td>\n",
       "      <td>$999.00</td>\n",
       "    </tr>\n",
       "    <tr>\n",
       "      <th>Expenditure Made by an Agent</th>\n",
       "      <td>494110</td>\n",
       "      <td>$862.75</td>\n",
       "    </tr>\n",
       "    <tr>\n",
       "      <th>In-Kind Contribution</th>\n",
       "      <td>998205</td>\n",
       "      <td>$998.28</td>\n",
       "    </tr>\n",
       "    <tr>\n",
       "      <th>In-Kind/Forgiven Account Payable</th>\n",
       "      <td>85299</td>\n",
       "      <td>$964.50</td>\n",
       "    </tr>\n",
       "    <tr>\n",
       "      <th>In-Kind/Forgiven Personal Expenditures</th>\n",
       "      <td>982816</td>\n",
       "      <td>$93.97</td>\n",
       "    </tr>\n",
       "    <tr>\n",
       "      <th>Interest/Investment Income</th>\n",
       "      <td>999560</td>\n",
       "      <td>$936.06</td>\n",
       "    </tr>\n",
       "  </tbody>\n",
       "</table>\n",
       "</div>"
      ],
      "text/plain": [
       "                                       Transaction ID     Amount\n",
       "Transaction Sub Type                                            \n",
       "Account Payable                                995140    $994.61\n",
       "Account Payable Rescinded                      982809  $8,857.25\n",
       "Cash Balance Adjustment                        996144  ($975.00)\n",
       "Cash Contribution                              999998    $999.51\n",
       "Cash Expenditure                               999688    $999.00\n",
       "Expenditure Made by an Agent                   494110    $862.75\n",
       "In-Kind Contribution                           998205    $998.28\n",
       "In-Kind/Forgiven Account Payable                85299    $964.50\n",
       "In-Kind/Forgiven Personal Expenditures         982816     $93.97\n",
       "Interest/Investment Income                     999560    $936.06"
      ]
     },
     "execution_count": 31,
     "metadata": {},
     "output_type": "execute_result"
    }
   ],
   "source": [
    "subtype_max.head(10)"
   ]
  },
  {
   "cell_type": "code",
   "execution_count": 32,
   "metadata": {
    "collapsed": false,
    "deletable": true,
    "editable": true
   },
   "outputs": [
    {
     "data": {
      "text/plain": [
       "Amount         Amount       1563.520000\n",
       "Aggregate      Aggregate    1563.520000\n",
       "Interest Rate  mean         1005.746667\n",
       "               min           300.110000\n",
       "               count           6.000000\n",
       "               max          1563.520000\n",
       "Name: Jack Louman, dtype: float64"
      ]
     },
     "execution_count": 32,
     "metadata": {},
     "output_type": "execute_result"
    }
   ],
   "source": [
    "g.loc['Jack Louman']"
   ]
  },
  {
   "cell_type": "markdown",
   "metadata": {
    "deletable": true,
    "editable": true
   },
   "source": [
    "### Name"
   ]
  },
  {
   "cell_type": "code",
   "execution_count": 33,
   "metadata": {
    "collapsed": false,
    "deletable": true,
    "editable": true
   },
   "outputs": [
    {
     "data": {
      "text/plain": [
       "count                                               87530\n",
       "unique                                              19262\n",
       "top       Miscellaneous Cash Contributions $100 and under\n",
       "freq                                                 9442\n",
       "Name: Name, dtype: object"
      ]
     },
     "execution_count": 33,
     "metadata": {},
     "output_type": "execute_result"
    }
   ],
   "source": [
    "df.Name.describe()"
   ]
  },
  {
   "cell_type": "markdown",
   "metadata": {
    "deletable": true,
    "editable": true
   },
   "source": [
    "**Convert all to lower case and recheck unique count**"
   ]
  },
  {
   "cell_type": "code",
   "execution_count": 34,
   "metadata": {
    "collapsed": false,
    "deletable": true,
    "editable": true
   },
   "outputs": [
    {
     "data": {
      "text/plain": [
       "count                                               87530\n",
       "unique                                              19052\n",
       "top       miscellaneous cash contributions $100 and under\n",
       "freq                                                 9571\n",
       "Name: Name, dtype: object"
      ]
     },
     "execution_count": 34,
     "metadata": {},
     "output_type": "execute_result"
    }
   ],
   "source": [
    "df.Name.dropna().apply(lambda x: x.lower()).describe()"
   ]
  },
  {
   "cell_type": "markdown",
   "metadata": {
    "deletable": true,
    "editable": true
   },
   "source": [
    "There are 210 fewer unique values after correcting names for case differences"
   ]
  },
  {
   "cell_type": "markdown",
   "metadata": {
    "deletable": true,
    "editable": true
   },
   "source": [
    "**10 most common names to find any generic values**"
   ]
  },
  {
   "cell_type": "code",
   "execution_count": 35,
   "metadata": {
    "collapsed": false,
    "deletable": true,
    "editable": true
   },
   "outputs": [
    {
     "data": {
      "text/plain": [
       "Miscellaneous Cash Contributions $100 and under       9442\n",
       "Miscellaneous Cash Expenditures $100 and under        4989\n",
       "Miscellaneous Personal Expenditures $100 and under    3237\n",
       "C&E Systems                                            622\n",
       "Postmaster                                             587\n",
       "Bank of America                                        415\n",
       "Miscellaneous In-Kind Contributions $100 and under     403\n",
       "US Postal Service                                      329\n",
       "Gateway Communications                                 310\n",
       "Senate Democratic Leadership Fund (1471)               306\n",
       "Name: Name, dtype: int64"
      ]
     },
     "execution_count": 35,
     "metadata": {},
     "output_type": "execute_result"
    }
   ],
   "source": [
    "df.Name.value_counts().head(10)"
   ]
  },
  {
   "cell_type": "markdown",
   "metadata": {
    "deletable": true,
    "editable": true
   },
   "source": [
    "Miscellaneous Cash/Personal Contributions/Expenditures $100 and under account for three unique values.\n",
    "* Is there a Personal Contributions?\n",
    "* What are the differences between these?"
   ]
  },
  {
   "cell_type": "markdown",
   "metadata": {
    "deletable": true,
    "editable": true
   },
   "source": [
    "### Occupation"
   ]
  },
  {
   "cell_type": "code",
   "execution_count": 36,
   "metadata": {
    "collapsed": false,
    "deletable": true,
    "editable": true
   },
   "outputs": [
    {
     "data": {
      "text/plain": [
       "count       25246\n",
       "unique       2674\n",
       "top       Dentist\n",
       "freq         4576\n",
       "Name: Occupation, dtype: object"
      ]
     },
     "execution_count": 36,
     "metadata": {},
     "output_type": "execute_result"
    }
   ],
   "source": [
    "df.Occupation.describe()"
   ]
  },
  {
   "cell_type": "markdown",
   "metadata": {
    "deletable": true,
    "editable": true
   },
   "source": [
    "There are many unique values in occupation, and surely some can be grouped together.\n",
    "How is the unique count affected after correcting for case?"
   ]
  },
  {
   "cell_type": "code",
   "execution_count": 37,
   "metadata": {
    "collapsed": false,
    "deletable": true,
    "editable": true
   },
   "outputs": [
    {
     "data": {
      "text/plain": [
       "count       25246\n",
       "unique       2305\n",
       "top       dentist\n",
       "freq         4577\n",
       "Name: Occupation, dtype: object"
      ]
     },
     "execution_count": 37,
     "metadata": {},
     "output_type": "execute_result"
    }
   ],
   "source": [
    "df.Occupation.dropna().apply(lambda x: x.lower()).describe()"
   ]
  },
  {
   "cell_type": "markdown",
   "metadata": {
    "deletable": true,
    "editable": true
   },
   "source": [
    "There are 369 fewer unique values after accounting for case.\n",
    "* Digging deeper: we can also strip white space, digits, special chars."
   ]
  },
  {
   "cell_type": "markdown",
   "metadata": {
    "deletable": true,
    "editable": true
   },
   "source": [
    "**Most Common Values**"
   ]
  },
  {
   "cell_type": "code",
   "execution_count": 38,
   "metadata": {
    "collapsed": false,
    "deletable": true,
    "editable": true
   },
   "outputs": [
    {
     "data": {
      "text/plain": [
       "Dentist                       4576\n",
       "HOMECARE WORKER               1782\n",
       "PERSONAL SUPPORT WORKER       1647\n",
       "firefighter                   1501\n",
       "Attorney                       806\n",
       "Firefighter                    510\n",
       "President                      492\n",
       "Trustee                        423\n",
       "Bus. Agent, Teamsters #305     349\n",
       "Police officer                 344\n",
       "Name: Occupation, dtype: int64"
      ]
     },
     "execution_count": 38,
     "metadata": {},
     "output_type": "execute_result"
    }
   ],
   "source": [
    "df.Occupation.value_counts().head(10)"
   ]
  },
  {
   "cell_type": "markdown",
   "metadata": {
    "deletable": true,
    "editable": true
   },
   "source": [
    "**Least Common Values**"
   ]
  },
  {
   "cell_type": "code",
   "execution_count": 39,
   "metadata": {
    "collapsed": false,
    "deletable": true,
    "editable": true
   },
   "outputs": [
    {
     "data": {
      "text/plain": [
       "Real estate investor/developer    1\n",
       "Secretarial Services              1\n",
       "Customer Service                  1\n",
       "SCIENCE LAB PREPARATOR            1\n",
       "Sr. VP, Gov't & Pub Affairs       1\n",
       "Real estate underwriter           1\n",
       "Shoe retailing executive          1\n",
       "Multnomah County Chair            1\n",
       "education consultant              1\n",
       "District Manager                  1\n",
       "Name: Occupation, dtype: int64"
      ]
     },
     "execution_count": 39,
     "metadata": {},
     "output_type": "execute_result"
    }
   ],
   "source": [
    "df.Occupation.value_counts().tail(10)"
   ]
  },
  {
   "cell_type": "markdown",
   "metadata": {
    "deletable": true,
    "editable": true
   },
   "source": [
    "**Values that contain numbers or special characters**"
   ]
  },
  {
   "cell_type": "code",
   "execution_count": 40,
   "metadata": {
    "collapsed": false,
    "deletable": true,
    "editable": true,
    "scrolled": true
   },
   "outputs": [
    {
     "data": {
      "text/plain": [
       "Bus. Agent, Teamsters #305                                 349\n",
       "Bus. Agent, Teamsters #162                                 171\n",
       "Trustee, Teamsters #58                                     133\n",
       "Bus. Agent, Teamsters #58                                  127\n",
       "Union Representative, Teamsters #206                        98\n",
       "Pres., Teamsters Jt. Council #37                            89\n",
       "Labor Rep., Teamsters #223                                  88\n",
       "Sec.-Treas., Teamsters #962                                 82\n",
       "Sec.-Treas., Teamsters #223                                 76\n",
       "OFFICE SPECIALIST 2                                         70\n",
       "Pres., Teamsters #162                                       65\n",
       "Trustee, Teamsters #223                                     63\n",
       "Office Sec., Teamsters #962                                 62\n",
       "Lead Org., Teamsters Jt. Council #37                        62\n",
       "Sec.-Treas., Teamsters #206                                 62\n",
       "Bus. Agent, Teamsters #962                                  60\n",
       "Office Sec., Teamsters #305                                 56\n",
       "SOCIAL SERVICE SPEC 1                                       55\n",
       "Trustee of Teamsters Local Union No. 58 Executive Board     45\n",
       "HUMAN SERVICES SPECIALIST 3                                 44\n",
       "Trustee, Teamsters #305                                     44\n",
       "Pres., Teamsters #305                                       40\n",
       "Sec., Teamsters #162                                        39\n",
       "President/CEO                                               29\n",
       "ADULT AGING & PEOPLE W/DISABILITIES                         29\n",
       "Rec. Sec., Teamsters #305                                   26\n",
       "Business Agent, Teamsters Local 162                         24\n",
       "J. N. Hartsock Project Management                           23\n",
       "Consultant/Campaign Manager                                 22\n",
       "Office Man., Teamsters Jt. Council #37                      22\n",
       "                                                          ... \n",
       "INSTRUMENT TECH 3-ELEC                                       1\n",
       "FACILITIES OPERATIONS SPECIAL 2                              1\n",
       "Printer/CEO                                                  1\n",
       "Assistant director for Srs & People wDisabilities            1\n",
       "ENVIRONMENTAL ENGINEER 3                                     1\n",
       "Architect/Engineer                                           1\n",
       "Programs & Information Specialist                            1\n",
       "law professor/general counsel                                1\n",
       "Vice president & general manager                             1\n",
       "New Products & Svcs Manager                                  1\n",
       "NATURAL RESOURCE SPECIALIST 1                                1\n",
       "VP External Affairs / Assoc. Counsel                         1\n",
       "Assoc. Professor                                             1\n",
       "President, Anderson Die & Mfg Company                        1\n",
       "MEDICAL TRANSCRIPTIONIST 2                                   1\n",
       "Sales / Pilot                                                1\n",
       "President, Strategic Director                                1\n",
       "CEO/Managing Partner                                         1\n",
       "Vice President/General Manager                               1\n",
       "Executive Coach/Consultant                                   1\n",
       "Attorney & Executive Director                                1\n",
       "investor, real estate                                        1\n",
       "VP; Chief Exec - Oregon                                      1\n",
       "Digital Strategist/Website Designer                          1\n",
       "Arbitration & mediation                                      1\n",
       "RN/Public Administrator                                      1\n",
       "Const. Consultant                                            1\n",
       "SUPPORT SPECIALIST 2                                         1\n",
       "TRANSPORTATION SERVICE REP 2                                 1\n",
       "Prof. of Art History                                         1\n",
       "Name: Occupation, Length: 623, dtype: int64"
      ]
     },
     "execution_count": 40,
     "metadata": {},
     "output_type": "execute_result"
    }
   ],
   "source": [
    "def is_special(x):\n",
    "    pattern = \"\"\"[\\w\\s]*[!$%^&*()_+#|~=`{}\\[\\]:\";'<>?.,/0-9]+[\\w\\s]*\"\"\"\n",
    "    if re.match(pattern, x):\n",
    "        return True\n",
    "    else:\n",
    "        return False\n",
    "df.Occupation.dropna()[df.Occupation.dropna().apply(lambda x: is_special(x))].value_counts()"
   ]
  },
  {
   "cell_type": "markdown",
   "metadata": {
    "deletable": true,
    "editable": true
   },
   "source": [
    "### Occupation Letter Date"
   ]
  },
  {
   "cell_type": "code",
   "execution_count": 41,
   "metadata": {
    "collapsed": false,
    "deletable": true,
    "editable": true
   },
   "outputs": [
    {
     "data": {
      "text/plain": [
       "count            455\n",
       "unique           248\n",
       "top       10/23/2012\n",
       "freq              15\n",
       "Name: Occupation Letter Date, dtype: object"
      ]
     },
     "execution_count": 41,
     "metadata": {},
     "output_type": "execute_result"
    }
   ],
   "source": [
    "df['Occupation Letter Date'].describe()"
   ]
  },
  {
   "cell_type": "code",
   "execution_count": 42,
   "metadata": {
    "collapsed": false,
    "deletable": true,
    "editable": true
   },
   "outputs": [
    {
     "data": {
      "text/plain": [
       "Series([], Name: Occupation Letter Date, dtype: object)"
      ]
     },
     "execution_count": 42,
     "metadata": {},
     "output_type": "execute_result"
    }
   ],
   "source": [
    "# return the index and value of any dates not matching expected format\n",
    "df.loc[:, 'Occupation Letter Date'].dropna()\\\n",
    "    [df.loc[:, 'Occupation Letter Date'].dropna().apply(lambda x: not re.match(date_pattern, x))]"
   ]
  },
  {
   "cell_type": "markdown",
   "metadata": {
    "deletable": true,
    "editable": true
   },
   "source": [
    "Except for a null value, all dates match expected format"
   ]
  },
  {
   "cell_type": "markdown",
   "metadata": {
    "deletable": true,
    "editable": true
   },
   "source": [
    "### Payer of Personal Expenditure"
   ]
  },
  {
   "cell_type": "code",
   "execution_count": 43,
   "metadata": {
    "collapsed": false,
    "deletable": true,
    "editable": true
   },
   "outputs": [
    {
     "data": {
      "text/plain": [
       "count              1552\n",
       "unique              198\n",
       "top       Bill Kennemer\n",
       "freq                318\n",
       "Name: Payer of Personal Expenditure, dtype: object"
      ]
     },
     "execution_count": 43,
     "metadata": {},
     "output_type": "execute_result"
    }
   ],
   "source": [
    "df['Payer of Personal Expenditure'].describe()"
   ]
  },
  {
   "cell_type": "code",
   "execution_count": 44,
   "metadata": {
    "collapsed": false,
    "deletable": true,
    "editable": true
   },
   "outputs": [
    {
     "name": "stdout",
     "output_type": "stream",
     "text": [
      "[nan 'Jeremy Wright' 'Marcia Latta Communications' 'Sue Tate'\n",
      " 'Stefanie Craft' 'Wright Public Affairs' 'Daniel Lewkow' 'John Hartsock'\n",
      " 'Bill Burgess' 'Victoria Parker' 'Patricia Schechter' 'James Barta'\n",
      " 'Path To Victory Llc' 'Tony Hyde' 'Annabelle Jaramillo' 'Bill Kennemer'\n",
      " 'Or Family Council - Paid To Credit Card' 'Pac/West'\n",
      " 'Christopher Proudfoot' 'Celine Rixey' 'Tess Milio' 'Martha Schrader'\n",
      " 'Laura Illig' 'Joy Marshall' 'Joan Obie' 'Tom Balmer' 'Tammy Baney'\n",
      " 'Rhonda Bohall' 'Keri Carland' 'Jeffrey Scroggin' 'Alan Bates'\n",
      " 'Laurie Bates' 'Julia Mcfadden' 'Cathy Shaw' 'Trevor Beltz' 'Chuck Keil'\n",
      " 'James Bernard' 'Tom Brian' 'Hailey Sasse' 'Joseph Skipper'\n",
      " 'Mackenzie Carroll' 'Nicole Watson' 'Tiernan Donohue' 'Thomas Wheatley'\n",
      " 'Janet Carlson' 'Maryalice Russell' 'Steven Macy' 'Kris Olsen'\n",
      " 'Joseph Justice' 'Danelle Wilson' 'Deirdre (Lindy) Moore'\n",
      " 'Pelroy & Associates Llc' 'Roger Cox' 'Multnomah County' 'Robert Lawrence'\n",
      " 'Duyck Machine Inc.' 'Kathy Hall' 'Brigetta Martell' 'Chris Edwards'\n",
      " 'Tiffany Telfer' 'Christine Lewis' 'Peter Truax' 'Kathryn Harrington'\n",
      " 'Bob Hermann' 'Kristi Jo Lewis' 'Michael Hanna' 'Brian Wilson'\n",
      " 'Rachel Gumpert' 'Keith Mays' 'Patricia (Patti) Milne' 'Patricia Milne'\n",
      " 'Lou Ogden' 'Jack Louman' 'Capitol Accounting Service'\n",
      " 'Oregon Family Council (Paid To Credit Card)' 'Michele Caldwell'\n",
      " 'Bobbie Regan' 'Strategic Partnering Group' 'Mary Schutten' 'Sam Blackman'\n",
      " 'Alexia Halen' 'Gwen Schnurman' 'Emma Meskill' 'Betsy Schultz'\n",
      " 'Robert Strosser' 'Larry Frank' 'Jay Meredith' 'Stacey Yarrish'\n",
      " 'Terry Thompson' 'Cheryl Simpson' 'Jennifer Arguinzoni' 'Michael Cox'\n",
      " 'Anne Ellison' 'Thomas Gornick' 'Nathan Howard' 'Thomas W. Gornick'\n",
      " 'Megan Wever' 'Jacquenette Mcintire' 'Yoni Kahn' 'Laura Imeson'\n",
      " 'Elizabeth (Libby) Batlan' 'Katrina Wheeler' 'Michael Selvaggio'\n",
      " 'Richard Reiten' 'Elizabeth Batlan' 'Winningmark' 'David Matthews'\n",
      " 'Charles Dixon' 'Elizabeth Kaufman' 'Betsy Close' 'Dru Draper'\n",
      " 'Steven Winokur' 'Jean Nelson' 'Jeff Jimerson' 'Pamela Hunter'\n",
      " 'John Detweiler' 'Jacob Vandever' 'Jerry Jackson' 'Paul Rentz' 'Kim Rowe'\n",
      " 'Kristie Hernandez' 'Stella Guenther' 'Carolyn Webb' 'Sandy Mchenry'\n",
      " 'Stanley Baker' 'Beverly Mc Neil' 'Gerald Tsupros' 'Ted Fullmer'\n",
      " 'Clackamas County Event Center' 'Casey Flesch' 'Ron Leblanc'\n",
      " 'David Stewart' 'Linda Larson-Neace' 'Dave Stewart' 'Pamela Rumage'\n",
      " 'Larry Talbert' 'John Lee' 'Jake Wilkins' 'Victoria Pounds' 'Mark Fitz'\n",
      " 'John Savory' 'John Irwin' 'Warren Kitchen' 'Kay Helbling'\n",
      " 'Gertrude Reusser' 'Dan Balm' 'Peter Courtney' 'Christine Kotek'\n",
      " 'Debbie Miller' 'Anna Braun' 'Lisa Herzog' 'Phil Bentley' 'Tom Powers'\n",
      " 'Ginny Burdick' 'Cynthia Moody' 'Oregon Dental Association'\n",
      " 'George Okulitch' 'Richard Devlin' 'Ellie Boggs' 'Emily Brixey'\n",
      " 'Megan Gleason' 'Kristin Johnson' 'Rebecca Davies' 'Kevin Neely'\n",
      " 'Amy Zubko' 'Portland Firefighters Association Iaff Local #43'\n",
      " 'Ufcw Local 555' 'Joshua Robinson' 'Eric Schaafsma' 'Dennis Dickson'\n",
      " 'Georglyn Lamphier' 'Vivian Kirkpatrick-Pilger' 'Bill Ghena'\n",
      " 'Vivian Pilger' 'Deanne Ertel' 'Grants Pass Water Lab'\n",
      " 'Sandra (Sandy) Abercrombie' 'Dick Smith' 'Alan Koebrick' 'Nancy Trahern'\n",
      " 'Matthew Robinson' 'Keith Trahern' 'Yvette Burtley' 'Bill Ertel'\n",
      " 'Debbie Chambers' 'Jack Swift' 'Adan Villarreal'\n",
      " 'Future Pac, House Builders (1524)' 'Kathleen Hallgren' 'Annette Rose'\n",
      " 'Andrea Short' 'Tim Inman' 'Zach Klonoski' 'Heidi Eggert'\n",
      " 'Amelia Porterfield' 'Kim Duncan' 'Chuck Lee' 'Andrew Ross' 'Krina Lemons']\n"
     ]
    }
   ],
   "source": [
    "print(df['Payer of Personal Expenditure'].unique())"
   ]
  },
  {
   "cell_type": "markdown",
   "metadata": {
    "deletable": true,
    "editable": true
   },
   "source": [
    "All of the names above look reasonable"
   ]
  },
  {
   "cell_type": "markdown",
   "metadata": {
    "deletable": true,
    "editable": true
   },
   "source": [
    "### Purpose"
   ]
  },
  {
   "cell_type": "code",
   "execution_count": 45,
   "metadata": {
    "collapsed": false,
    "deletable": true,
    "editable": true
   },
   "outputs": [
    {
     "data": {
      "text/plain": [
       "count                                               24875\n",
       "unique                                                125\n",
       "top       General Operational Expenses (need description)\n",
       "freq                                                 6213\n",
       "Name: Purpose, dtype: object"
      ]
     },
     "execution_count": 45,
     "metadata": {},
     "output_type": "execute_result"
    }
   ],
   "source": [
    "df.Purpose.describe()"
   ]
  },
  {
   "cell_type": "code",
   "execution_count": 46,
   "metadata": {
    "collapsed": false,
    "deletable": true,
    "editable": true,
    "scrolled": true
   },
   "outputs": [
    {
     "data": {
      "text/plain": [
       "General Operational Expenses (need description)                                                                                                                                        6213\n",
       "Cash Contribution                                                                                                                                                                      3608\n",
       "Postage                                                                                                                                                                                1906\n",
       "Reimbursement for Personal Expenditures                                                                                                                                                1713\n",
       "Wages, Salaries, Benefits                                                                                                                                                              1670\n",
       "Management Services                                                                                                                                                                    1636\n",
       "Literature, Brochures, Printing                                                                                                                                                        1353\n",
       "Fundraising Event Expenses                                                                                                                                                             1302\n",
       "Utilities                                                                                                                                                                              1103\n",
       "Travel Expenses (need description)                                                                                                                                                      981\n",
       "Other Advertising (yard signs, buttons, etc.)                                                                                                                                           814\n",
       "Newspaper and Other Periodical Advertising                                                                                                                                              325\n",
       "Management Services; Postage                                                                                                                                                            306\n",
       "Broadcast Advertising (radio, tv)                                                                                                                                                       295\n",
       "Surveys and Polls                                                                                                                                                                       261\n",
       "Preparation and Production of Advertising                                                                                                                                               224\n",
       "General Operational Expenses (need description); Management Services; Postage                                                                                                           220\n",
       "Literature, Brochures, Printing; Postage                                                                                                                                                165\n",
       "General Operational Expenses (need description); Management Services                                                                                                                    123\n",
       "Public Office Holder Expenses                                                                                                                                                            76\n",
       "Fundraising Event Expenses; General Operational Expenses (need description)                                                                                                              69\n",
       "General Operational Expenses (need description); Other Advertising (yard signs, buttons, etc.)                                                                                           49\n",
       "General Operational Expenses (need description); Postage                                                                                                                                 38\n",
       "General Operational Expenses (need description); Literature, Brochures, Printing                                                                                                         32\n",
       "Management Services; Other Advertising (yard signs, buttons, etc.)                                                                                                                       27\n",
       "Cash Contribution; General Operational Expenses (need description)                                                                                                                       20\n",
       "General Operational Expenses (need description); Wages, Salaries, Benefits                                                                                                               17\n",
       "General Operational Expenses (need description); Literature, Brochures, Printing; Postage                                                                                                17\n",
       "General Operational Expenses (need description); Travel Expenses (need description)                                                                                                      17\n",
       "Management Services; Preparation and Production of Advertising                                                                                                                           16\n",
       "                                                                                                                                                                                       ... \n",
       "General Operational Expenses (need description); Newspaper and Other Periodical Advertising; Other Advertising (yard signs, buttons, etc.)                                                1\n",
       "Literature, Brochures, Printing; Management Services; Newspaper and Other Periodical Advertising                                                                                          1\n",
       "Public Office Holder Expenses; Travel Expenses (need description)                                                                                                                         1\n",
       "Reimbursement for Personal Expenditures; Reimbursement for Personal Expenditures; Reimbursement for Personal Expenditures                                                                 1\n",
       "Broadcast Advertising (radio, tv); Travel Expenses (need description)                                                                                                                     1\n",
       "Literature, Brochures, Printing; Surveys and Polls                                                                                                                                        1\n",
       "Other Advertising (yard signs, buttons, etc.); Other Advertising (yard signs, buttons, etc.)                                                                                              1\n",
       "Preparation and Production of Advertising; Travel Expenses (need description)                                                                                                             1\n",
       "General Operational Expenses (need description); Literature, Brochures, Printing; Postage; Preparation and Production of Advertising                                                      1\n",
       "Broadcast Advertising (radio, tv); Literature, Brochures, Printing; Other Advertising (yard signs, buttons, etc.); Preparation and Production of Advertising                              1\n",
       "Postage; Wages, Salaries, Benefits                                                                                                                                                        1\n",
       "Management Services; Newspaper and Other Periodical Advertising; Preparation and Production of Advertising                                                                                1\n",
       "Literature, Brochures, Printing; Management Services; Other Advertising (yard signs, buttons, etc.)                                                                                       1\n",
       "Literature, Brochures, Printing; Newspaper and Other Periodical Advertising; Postage                                                                                                      1\n",
       "Broadcast Advertising (radio, tv); Surveys and Polls                                                                                                                                      1\n",
       "Fundraising Event Expenses; Management Services; Postage                                                                                                                                  1\n",
       "Travel Expenses (need description); Utilities                                                                                                                                             1\n",
       "General Operational Expenses (need description); Literature, Brochures, Printing; Other Advertising (yard signs, buttons, etc.); Postage; Preparation and Production of Advertising       1\n",
       "General Operational Expenses (need description); Postage; Wages, Salaries, Benefits                                                                                                       1\n",
       "Management Services; Other Advertising (yard signs, buttons, etc.); Travel Expenses (need description)                                                                                    1\n",
       "General Operational Expenses (need description); Petition Circulators                                                                                                                     1\n",
       "Reimbursement for Personal Expenditures; Travel Expenses (need description)                                                                                                               1\n",
       "Literature, Brochures, Printing; Other Advertising (yard signs, buttons, etc.); Postage                                                                                                   1\n",
       "Newspaper and Other Periodical Advertising; Reimbursement for Personal Expenditures                                                                                                       1\n",
       "General Operational Expenses (need description); Literature, Brochures, Printing; Other Advertising (yard signs, buttons, etc.); Postage                                                  1\n",
       "General Operational Expenses (need description); Postage; Utilities                                                                                                                       1\n",
       "General Operational Expenses (need description); General Operational Expenses (need description)                                                                                          1\n",
       "Literature, Brochures, Printing; Other Advertising (yard signs, buttons, etc.); Postage; Wages, Salaries, Benefits                                                                        1\n",
       "Management Services; Management Services                                                                                                                                                  1\n",
       "General Operational Expenses (need description); Newspaper and Other Periodical Advertising                                                                                               1\n",
       "Name: Purpose, Length: 125, dtype: int64"
      ]
     },
     "execution_count": 46,
     "metadata": {},
     "output_type": "execute_result"
    }
   ],
   "source": [
    "df.Purpose.value_counts()"
   ]
  },
  {
   "cell_type": "code",
   "execution_count": 47,
   "metadata": {
    "collapsed": false,
    "deletable": true,
    "editable": true
   },
   "outputs": [
    {
     "data": {
      "text/plain": [
       "36"
      ]
     },
     "execution_count": 47,
     "metadata": {},
     "output_type": "execute_result"
    }
   ],
   "source": [
    "df.Purpose.dropna()[df.Purpose.dropna().apply(lambda x: x.startswith('General Operational') \n",
    "                                              or x.startswith('Literature, Brocures'))].nunique()"
   ]
  },
  {
   "cell_type": "markdown",
   "metadata": {
    "deletable": true,
    "editable": true
   },
   "source": [
    "There are many versions of similar Purpose values, containing only minor differences. If we use this attribute, we should group similar values together."
   ]
  },
  {
   "cell_type": "markdown",
   "metadata": {
    "deletable": true,
    "editable": true
   },
   "source": [
    "### Transaction ID"
   ]
  },
  {
   "cell_type": "code",
   "execution_count": 48,
   "metadata": {
    "collapsed": false,
    "deletable": true,
    "editable": true
   },
   "outputs": [
    {
     "data": {
      "text/plain": [
       "count       88310\n",
       "unique      88310\n",
       "top       1661659\n",
       "freq            1\n",
       "Name: Transaction ID, dtype: object"
      ]
     },
     "execution_count": 48,
     "metadata": {},
     "output_type": "execute_result"
    }
   ],
   "source": [
    "df.loc[:, 'Transaction ID'].describe()"
   ]
  },
  {
   "cell_type": "code",
   "execution_count": 49,
   "metadata": {
    "collapsed": false,
    "deletable": true,
    "editable": true
   },
   "outputs": [
    {
     "data": {
      "text/plain": [
       "0    1454151\n",
       "1     968825\n",
       "2     934239\n",
       "3     934242\n",
       "4     934247\n",
       "Name: Transaction ID, dtype: object"
      ]
     },
     "execution_count": 49,
     "metadata": {},
     "output_type": "execute_result"
    }
   ],
   "source": [
    "df.loc[:, 'Transaction ID'].head()"
   ]
  },
  {
   "cell_type": "code",
   "execution_count": 50,
   "metadata": {
    "collapsed": false,
    "deletable": true,
    "editable": true
   },
   "outputs": [
    {
     "data": {
      "text/plain": [
       "False"
      ]
     },
     "execution_count": 50,
     "metadata": {},
     "output_type": "execute_result"
    }
   ],
   "source": [
    "# are all ID values numeric?\n",
    "all(df.loc[:, 'Transaction ID'].apply(lambda x: x.isnumeric()))"
   ]
  },
  {
   "cell_type": "code",
   "execution_count": 51,
   "metadata": {
    "collapsed": false,
    "deletable": true,
    "editable": true
   },
   "outputs": [
    {
     "data": {
      "text/plain": [
       "38    1152259, \n",
       "40     677249, \n",
       "47     461972, \n",
       "48     461975, \n",
       "49     461971, \n",
       "Name: Transaction ID, dtype: object"
      ]
     },
     "execution_count": 51,
     "metadata": {},
     "output_type": "execute_result"
    }
   ],
   "source": [
    "# get values that are not numeric\n",
    "df.loc[:, 'Transaction ID'][df.loc[:, 'Transaction ID'].apply(lambda x: not x.isnumeric())].head()"
   ]
  },
  {
   "cell_type": "markdown",
   "metadata": {
    "deletable": true,
    "editable": true
   },
   "source": [
    "There are ID values that contain commas"
   ]
  }
 ],
 "metadata": {
  "kernelspec": {
   "display_name": "Python 3",
   "language": "python",
   "name": "python3"
  },
  "language_info": {
   "codemirror_mode": {
    "name": "ipython",
    "version": 3
   },
   "file_extension": ".py",
   "mimetype": "text/x-python",
   "name": "python",
   "nbconvert_exporter": "python",
   "pygments_lexer": "ipython3",
   "version": "3.4.5"
  }
 },
 "nbformat": 4,
 "nbformat_minor": 2
}
