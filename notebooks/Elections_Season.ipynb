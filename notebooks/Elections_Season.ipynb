{
 "cells": [
  {
   "cell_type": "code",
   "execution_count": 14,
   "metadata": {},
   "outputs": [],
   "source": [
    "import psycopg2\n",
    "import json\n",
    "import numpy as np\n",
    "import pandas as pd\n",
    "import datetime\n",
    "import os\n",
    "from nltk.corpus import words\n",
    "import statsmodels.api as sm\n",
    "import matplotlib.pyplot as plt\n",
    "from fuzzywuzzy import fuzz\n",
    "from fuzzywuzzy import process\n",
    "plt.style.use(\"ggplot\")\n",
    "%matplotlib inline"
   ]
  },
  {
   "cell_type": "code",
   "execution_count": 2,
   "metadata": {},
   "outputs": [],
   "source": [
    "def  plot_seasonal_decomposition(axs, series, sd):\n",
    "    axs[0].plot(series.index, series)\n",
    "    axs[0].set_title(\"Raw Series\")\n",
    "    axs[1].plot(series.index, sd.trend)\n",
    "    axs[1].set_title(\"Trend Component $T_t$\")\n",
    "    axs[2].plot(series.index, sd.seasonal)\n",
    "    axs[2].set_title(\"Seasonal Component $S_t$\")\n",
    "    axs[3].plot(series.index, sd.resid)\n",
    "    axs[3].set_title(\"Residual Component $R_t$\")"
   ]
  },
  {
   "cell_type": "code",
   "execution_count": 3,
   "metadata": {
    "scrolled": true
   },
   "outputs": [],
   "source": [
    "with open(\"../../elections_login.json\", \"rb\") as f:\n",
    "    login_info = json.load(f)"
   ]
  },
  {
   "cell_type": "code",
   "execution_count": 4,
   "metadata": {
    "scrolled": true
   },
   "outputs": [],
   "source": [
    "conn = psycopg2.connect(host=login_info[\"ip\"]\n",
    "                       ,dbname=login_info[\"db\"]\n",
    "                       ,user=login_info[\"username\"]\n",
    "                       ,password=login_info[\"password\"])"
   ]
  },
  {
   "cell_type": "code",
   "execution_count": 5,
   "metadata": {},
   "outputs": [],
   "source": [
    "cursor = conn.cursor()"
   ]
  },
  {
   "cell_type": "code",
   "execution_count": 89,
   "metadata": {},
   "outputs": [],
   "source": [
    "cursor.execute(\"select column_name from information_schema.columns where table_name='transaction_details'\")\n",
    "column_names = [row[0] for row in cursor]"
   ]
  },
  {
   "cell_type": "code",
   "execution_count": 6,
   "metadata": {},
   "outputs": [],
   "source": [
    "cursor.execute(\"\"\"SELECT table_name FROM information_schema.tables\n",
    "       WHERE table_schema = 'public'\"\"\")\n",
    "tables = [x[0] for x in cursor.fetchall()]"
   ]
  },
  {
   "cell_type": "code",
   "execution_count": 7,
   "metadata": {},
   "outputs": [
    {
     "data": {
      "text/plain": [
       "['transaction_details',\n",
       " 'committee_history',\n",
       " 'election_activity',\n",
       " 'django_content_type',\n",
       " 'auth_group_permissions',\n",
       " 'auth_group',\n",
       " 'auth_user_groups',\n",
       " 'auth_permission',\n",
       " 'auth_user_user_permissions',\n",
       " 'auth_user',\n",
       " 'scraper_date_range',\n",
       " 'django_admin_log',\n",
       " 'committees_list',\n",
       " 'donor',\n",
       " 'payee',\n",
       " 'statement_of_org',\n",
       " 'transactions',\n",
       " 'django_migrations',\n",
       " 'ballots',\n",
       " 'django_session']"
      ]
     },
     "execution_count": 7,
     "metadata": {},
     "output_type": "execute_result"
    }
   ],
   "source": [
    "tables"
   ]
  },
  {
   "cell_type": "code",
   "execution_count": 8,
   "metadata": {
    "scrolled": true
   },
   "outputs": [],
   "source": [
    "transactions_df = pd.read_sql(\"SELECT * FROM transactions\", conn)"
   ]
  },
  {
   "cell_type": "code",
   "execution_count": 9,
   "metadata": {},
   "outputs": [],
   "source": [
    "conn.close()"
   ]
  },
  {
   "cell_type": "markdown",
   "metadata": {},
   "source": [
    "# NEW METHOD"
   ]
  },
  {
   "cell_type": "markdown",
   "metadata": {},
   "source": [
    "**FINDING ELECTION SEASONS**"
   ]
  },
  {
   "cell_type": "code",
   "execution_count": 10,
   "metadata": {},
   "outputs": [],
   "source": [
    "transactions_df[\"transaction_date\"] = pd.to_datetime(transactions_df[\"transaction_date\"])\n",
    "money_in_df = transactions_df[transactions_df.transaction_subtype == \"Cash Contribution\"].copy()\n",
    "money_out_df = transactions_df[transactions_df.transaction_subtype == \"Cash Expenditure\"].copy()"
   ]
  },
  {
   "cell_type": "code",
   "execution_count": 11,
   "metadata": {},
   "outputs": [],
   "source": [
    "def next_weekday(d):\n",
    "    weekday = d.weekday()\n",
    "    if weekday < 3:\n",
    "        d = d - datetime.timedelta(weekday)\n",
    "    else:\n",
    "        d = d + datetime.timedelta(7 - weekday)\n",
    "    return d"
   ]
  },
  {
   "cell_type": "code",
   "execution_count": 12,
   "metadata": {},
   "outputs": [],
   "source": [
    "def next_month(d):\n",
    "    day = d.day\n",
    "    month = d.month\n",
    "    year = d.year\n",
    "    if day < 15:\n",
    "        day = 1\n",
    "    if day >= 15:\n",
    "        if month == 12:\n",
    "            month = 1\n",
    "            day = 1\n",
    "            year = year + 1\n",
    "        else:\n",
    "            month = month + 1\n",
    "            day = 1\n",
    "    return datetime.date(year, month, day)"
   ]
  },
  {
   "cell_type": "code",
   "execution_count": 13,
   "metadata": {
    "scrolled": false
   },
   "outputs": [
    {
     "ename": "NameError",
     "evalue": "name 'datetiame' is not defined",
     "output_type": "error",
     "traceback": [
      "\u001b[0;31m---------------------------------------------------------------------------\u001b[0m",
      "\u001b[0;31mNameError\u001b[0m                                 Traceback (most recent call last)",
      "\u001b[0;32m<ipython-input-13-0a499aa9f238>\u001b[0m in \u001b[0;36m<module>\u001b[0;34m()\u001b[0m\n\u001b[0;32m----> 1\u001b[0;31m \u001b[0mmoney_in_df\u001b[0m\u001b[0;34m[\u001b[0m\u001b[0;34m\"week_round\"\u001b[0m\u001b[0;34m]\u001b[0m \u001b[0;34m=\u001b[0m \u001b[0mmoney_in_df\u001b[0m\u001b[0;34m.\u001b[0m\u001b[0mtransaction_date\u001b[0m\u001b[0;34m.\u001b[0m\u001b[0mmap\u001b[0m\u001b[0;34m(\u001b[0m\u001b[0;32mlambda\u001b[0m \u001b[0mx\u001b[0m\u001b[0;34m:\u001b[0m\u001b[0mnext_weekday\u001b[0m\u001b[0;34m(\u001b[0m\u001b[0mx\u001b[0m\u001b[0;34m)\u001b[0m\u001b[0;34m)\u001b[0m\u001b[0;34m\u001b[0m\u001b[0m\n\u001b[0m\u001b[1;32m      2\u001b[0m \u001b[0mmoney_in_df\u001b[0m\u001b[0;34m[\u001b[0m\u001b[0;34m\"month_round\"\u001b[0m\u001b[0;34m]\u001b[0m \u001b[0;34m=\u001b[0m \u001b[0mmoney_in_df\u001b[0m\u001b[0;34m.\u001b[0m\u001b[0mtransaction_date\u001b[0m\u001b[0;34m.\u001b[0m\u001b[0mmap\u001b[0m\u001b[0;34m(\u001b[0m\u001b[0;32mlambda\u001b[0m \u001b[0mx\u001b[0m\u001b[0;34m:\u001b[0m \u001b[0mnext_month\u001b[0m\u001b[0;34m(\u001b[0m\u001b[0mx\u001b[0m\u001b[0;34m)\u001b[0m\u001b[0;34m)\u001b[0m\u001b[0;34m\u001b[0m\u001b[0m\n\u001b[1;32m      3\u001b[0m \u001b[0mmoney_in_df\u001b[0m\u001b[0;34m[\u001b[0m\u001b[0;34m\"week_round\"\u001b[0m\u001b[0;34m]\u001b[0m \u001b[0;34m=\u001b[0m \u001b[0mpd\u001b[0m\u001b[0;34m.\u001b[0m\u001b[0mto_datetime\u001b[0m\u001b[0;34m(\u001b[0m\u001b[0mmoney_in_df\u001b[0m\u001b[0;34m.\u001b[0m\u001b[0mweek_round\u001b[0m\u001b[0;34m)\u001b[0m\u001b[0;34m\u001b[0m\u001b[0m\n\u001b[1;32m      4\u001b[0m \u001b[0mmoney_in_df\u001b[0m\u001b[0;34m[\u001b[0m\u001b[0;34m\"month_round\"\u001b[0m\u001b[0;34m]\u001b[0m \u001b[0;34m=\u001b[0m \u001b[0mpd\u001b[0m\u001b[0;34m.\u001b[0m\u001b[0mto_datetime\u001b[0m\u001b[0;34m(\u001b[0m\u001b[0mmoney_in_df\u001b[0m\u001b[0;34m.\u001b[0m\u001b[0mmonth_round\u001b[0m\u001b[0;34m)\u001b[0m\u001b[0;34m\u001b[0m\u001b[0m\n",
      "\u001b[0;32m/Users/brian/anaconda2/envs/ipykernel_py3/lib/python3.6/site-packages/pandas/core/series.py\u001b[0m in \u001b[0;36mmap\u001b[0;34m(self, arg, na_action)\u001b[0m\n\u001b[1;32m   2352\u001b[0m         \u001b[0;32melse\u001b[0m\u001b[0;34m:\u001b[0m\u001b[0;34m\u001b[0m\u001b[0m\n\u001b[1;32m   2353\u001b[0m             \u001b[0;31m# arg is a function\u001b[0m\u001b[0;34m\u001b[0m\u001b[0;34m\u001b[0m\u001b[0m\n\u001b[0;32m-> 2354\u001b[0;31m             \u001b[0mnew_values\u001b[0m \u001b[0;34m=\u001b[0m \u001b[0mmap_f\u001b[0m\u001b[0;34m(\u001b[0m\u001b[0mvalues\u001b[0m\u001b[0;34m,\u001b[0m \u001b[0marg\u001b[0m\u001b[0;34m)\u001b[0m\u001b[0;34m\u001b[0m\u001b[0m\n\u001b[0m\u001b[1;32m   2355\u001b[0m \u001b[0;34m\u001b[0m\u001b[0m\n\u001b[1;32m   2356\u001b[0m         return self._constructor(new_values,\n",
      "\u001b[0;32mpandas/_libs/src/inference.pyx\u001b[0m in \u001b[0;36mpandas._libs.lib.map_infer\u001b[0;34m()\u001b[0m\n",
      "\u001b[0;32m<ipython-input-13-0a499aa9f238>\u001b[0m in \u001b[0;36m<lambda>\u001b[0;34m(x)\u001b[0m\n\u001b[0;32m----> 1\u001b[0;31m \u001b[0mmoney_in_df\u001b[0m\u001b[0;34m[\u001b[0m\u001b[0;34m\"week_round\"\u001b[0m\u001b[0;34m]\u001b[0m \u001b[0;34m=\u001b[0m \u001b[0mmoney_in_df\u001b[0m\u001b[0;34m.\u001b[0m\u001b[0mtransaction_date\u001b[0m\u001b[0;34m.\u001b[0m\u001b[0mmap\u001b[0m\u001b[0;34m(\u001b[0m\u001b[0;32mlambda\u001b[0m \u001b[0mx\u001b[0m\u001b[0;34m:\u001b[0m\u001b[0mnext_weekday\u001b[0m\u001b[0;34m(\u001b[0m\u001b[0mx\u001b[0m\u001b[0;34m)\u001b[0m\u001b[0;34m)\u001b[0m\u001b[0;34m\u001b[0m\u001b[0m\n\u001b[0m\u001b[1;32m      2\u001b[0m \u001b[0mmoney_in_df\u001b[0m\u001b[0;34m[\u001b[0m\u001b[0;34m\"month_round\"\u001b[0m\u001b[0;34m]\u001b[0m \u001b[0;34m=\u001b[0m \u001b[0mmoney_in_df\u001b[0m\u001b[0;34m.\u001b[0m\u001b[0mtransaction_date\u001b[0m\u001b[0;34m.\u001b[0m\u001b[0mmap\u001b[0m\u001b[0;34m(\u001b[0m\u001b[0;32mlambda\u001b[0m \u001b[0mx\u001b[0m\u001b[0;34m:\u001b[0m \u001b[0mnext_month\u001b[0m\u001b[0;34m(\u001b[0m\u001b[0mx\u001b[0m\u001b[0;34m)\u001b[0m\u001b[0;34m)\u001b[0m\u001b[0;34m\u001b[0m\u001b[0m\n\u001b[1;32m      3\u001b[0m \u001b[0mmoney_in_df\u001b[0m\u001b[0;34m[\u001b[0m\u001b[0;34m\"week_round\"\u001b[0m\u001b[0;34m]\u001b[0m \u001b[0;34m=\u001b[0m \u001b[0mpd\u001b[0m\u001b[0;34m.\u001b[0m\u001b[0mto_datetime\u001b[0m\u001b[0;34m(\u001b[0m\u001b[0mmoney_in_df\u001b[0m\u001b[0;34m.\u001b[0m\u001b[0mweek_round\u001b[0m\u001b[0;34m)\u001b[0m\u001b[0;34m\u001b[0m\u001b[0m\n\u001b[1;32m      4\u001b[0m \u001b[0mmoney_in_df\u001b[0m\u001b[0;34m[\u001b[0m\u001b[0;34m\"month_round\"\u001b[0m\u001b[0;34m]\u001b[0m \u001b[0;34m=\u001b[0m \u001b[0mpd\u001b[0m\u001b[0;34m.\u001b[0m\u001b[0mto_datetime\u001b[0m\u001b[0;34m(\u001b[0m\u001b[0mmoney_in_df\u001b[0m\u001b[0;34m.\u001b[0m\u001b[0mmonth_round\u001b[0m\u001b[0;34m)\u001b[0m\u001b[0;34m\u001b[0m\u001b[0m\n",
      "\u001b[0;32m<ipython-input-11-fe34836ac0a7>\u001b[0m in \u001b[0;36mnext_weekday\u001b[0;34m(d)\u001b[0m\n\u001b[1;32m      2\u001b[0m     \u001b[0mweekday\u001b[0m \u001b[0;34m=\u001b[0m \u001b[0md\u001b[0m\u001b[0;34m.\u001b[0m\u001b[0mweekday\u001b[0m\u001b[0;34m(\u001b[0m\u001b[0;34m)\u001b[0m\u001b[0;34m\u001b[0m\u001b[0m\n\u001b[1;32m      3\u001b[0m     \u001b[0;32mif\u001b[0m \u001b[0mweekday\u001b[0m \u001b[0;34m<\u001b[0m \u001b[0;36m3\u001b[0m\u001b[0;34m:\u001b[0m\u001b[0;34m\u001b[0m\u001b[0m\n\u001b[0;32m----> 4\u001b[0;31m         \u001b[0md\u001b[0m \u001b[0;34m=\u001b[0m \u001b[0md\u001b[0m \u001b[0;34m-\u001b[0m \u001b[0mdatetiame\u001b[0m\u001b[0;34m.\u001b[0m\u001b[0mtimedelta\u001b[0m\u001b[0;34m(\u001b[0m\u001b[0mweekday\u001b[0m\u001b[0;34m)\u001b[0m\u001b[0;34m\u001b[0m\u001b[0m\n\u001b[0m\u001b[1;32m      5\u001b[0m     \u001b[0;32melse\u001b[0m\u001b[0;34m:\u001b[0m\u001b[0;34m\u001b[0m\u001b[0m\n\u001b[1;32m      6\u001b[0m         \u001b[0md\u001b[0m \u001b[0;34m=\u001b[0m \u001b[0md\u001b[0m \u001b[0;34m+\u001b[0m \u001b[0mdatetime\u001b[0m\u001b[0;34m.\u001b[0m\u001b[0mtimedelta\u001b[0m\u001b[0;34m(\u001b[0m\u001b[0;36m7\u001b[0m \u001b[0;34m-\u001b[0m \u001b[0mweekday\u001b[0m\u001b[0;34m)\u001b[0m\u001b[0;34m\u001b[0m\u001b[0m\n",
      "\u001b[0;31mNameError\u001b[0m: name 'datetiame' is not defined"
     ]
    }
   ],
   "source": [
    "money_in_df[\"week_round\"] = money_in_df.transaction_date.map(lambda x:next_weekday(x))\n",
    "money_in_df[\"month_round\"] = money_in_df.transaction_date.map(lambda x: next_month(x))\n",
    "money_in_df[\"week_round\"] = pd.to_datetime(money_in_df.week_round)\n",
    "money_in_df[\"month_round\"] = pd.to_datetime(money_in_df.month_round)"
   ]
  },
  {
   "cell_type": "code",
   "execution_count": null,
   "metadata": {},
   "outputs": [],
   "source": [
    "month_round_df = money_in_df[[\"month_round\", \"amount\"]].groupby(\"month_round\").agg(\"count\")\n",
    "week_round_df = money_in_df[[\"week_round\", \"amount\"]].groupby(\"week_round\").agg(\"count\")"
   ]
  },
  {
   "cell_type": "code",
   "execution_count": null,
   "metadata": {},
   "outputs": [],
   "source": [
    "month_decomp = sm.tsa.seasonal_decompose(month_round_df, freq=12)\n",
    "fig, axs = plt.subplots(4, figsize=(14, 8))\n",
    "plot_seasonal_decomposition(axs,month_round_df,month_decomp)"
   ]
  },
  {
   "cell_type": "code",
   "execution_count": null,
   "metadata": {
    "scrolled": false
   },
   "outputs": [],
   "source": [
    "week_decomp = sm.tsa.seasonal_decompose(week_round_df, freq=52)\n",
    "fig, axs = plt.subplots(4, figsize=(14, 8))\n",
    "plot_seasonal_decomposition(axs,week_round_df,week_decomp)"
   ]
  },
  {
   "cell_type": "code",
   "execution_count": null,
   "metadata": {},
   "outputs": [],
   "source": []
  }
 ],
 "metadata": {
  "kernelspec": {
   "display_name": "Python 3",
   "language": "python",
   "name": "python3"
  },
  "language_info": {
   "codemirror_mode": {
    "name": "ipython",
    "version": 3
   },
   "file_extension": ".py",
   "mimetype": "text/x-python",
   "name": "python",
   "nbconvert_exporter": "python",
   "pygments_lexer": "ipython3",
   "version": "3.6.1"
  }
 },
 "nbformat": 4,
 "nbformat_minor": 2
}
