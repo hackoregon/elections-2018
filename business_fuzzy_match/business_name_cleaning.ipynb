{
 "cells": [
  {
   "cell_type": "code",
   "execution_count": 84,
   "metadata": {},
   "outputs": [],
   "source": [
    "%load_ext autoreload\n",
    "%autoreload 2"
   ]
  },
  {
   "cell_type": "code",
   "execution_count": 63,
   "metadata": {},
   "outputs": [],
   "source": [
    "import pandas as pd\n",
    "import numpy as np\n",
    "from fuzzywuzzy import fuzz\n",
    "from fuzzywuzzy import process\n",
    "import time\n",
    "import json\n",
    "import os\n",
    "import requests\n",
    "import re\n",
    "import pickle\n",
    "from nltk import ngrams"
   ]
  },
  {
   "cell_type": "markdown",
   "metadata": {},
   "source": [
    "### Notebook for finding and cleaning Business names and entities.\n",
    "\n",
    "#### Logic:\n",
    "\n",
    "* Check the 'Address Book Type'\n",
    "    * If Business Enttity: Run cleaning logic on \"Name\" field.\n",
    "    * If Individual/Candidate Family: Run cleaning logic on \"Employer Name\" field.\n",
    "* Create a dictionary of "
   ]
  },
  {
   "cell_type": "code",
   "execution_count": 4,
   "metadata": {
    "scrolled": true
   },
   "outputs": [],
   "source": [
    "transaction_detail_df = pd.read_csv(\"../scrape_files/transaction_detail_first_batch.csv\", low_memory=False)"
   ]
  },
  {
   "cell_type": "code",
   "execution_count": 71,
   "metadata": {},
   "outputs": [],
   "source": [
    "with open(\"state_city.pickle\", 'rb') as f:\n",
    "    state_city_dict = pickle.load(f)"
   ]
  },
  {
   "cell_type": "code",
   "execution_count": 28,
   "metadata": {},
   "outputs": [
    {
     "name": "stdout",
     "output_type": "stream",
     "text": [
      "Address\n",
      "Address Book Type\n",
      "Agent\n",
      "Aggregate\n",
      "Amount\n",
      "Associations\n",
      "Check\n",
      "CoSigner Obligations\n",
      "Description\n",
      "Due Date\n",
      "Employer Name\n",
      "Exam Letter Date\n",
      "Filed Date\n",
      "In-Kind/Independent Expenditures\n",
      "Interest Rate\n",
      "Name\n",
      "Occupation\n",
      "Occupation Letter Date\n",
      "Payer of Personal Expenditure\n",
      "Payment Method\n",
      "Process Status\n",
      "Purpose\n",
      "Repayment Schedule\n",
      "Transaction Date\n",
      "Transaction ID\n",
      "Transaction Sub Type\n",
      "Transaction Type\n"
     ]
    }
   ],
   "source": [
    "for col in transaction_detail_df.columns:\n",
    "    print(col)"
   ]
  },
  {
   "cell_type": "code",
   "execution_count": 5,
   "metadata": {},
   "outputs": [
    {
     "data": {
      "text/plain": [
       "array(['Business Entity', \"Candidate's Immediate Family\", 'Individual',\n",
       "       'Labor Organization', 'Other', 'Political Committee',\n",
       "       'Political Party Committee', 'Unregistered Committee', 'nan'],\n",
       "      dtype='<U28')"
      ]
     },
     "execution_count": 5,
     "metadata": {},
     "output_type": "execute_result"
    }
   ],
   "source": [
    "np.unique(list(transaction_detail_df[\"Address Book Type\"]))"
   ]
  },
  {
   "cell_type": "code",
   "execution_count": 57,
   "metadata": {},
   "outputs": [],
   "source": [
    "business_sub_df = transaction_detail_df[transaction_detail_df[\"Address Book Type\"] == \"Business Entity\"].copy()\n",
    "individual_sub_df = transaction_detail_df[transaction_detail_df[\"Address Book Type\"] == \"Individual\"].copy()"
   ]
  },
  {
   "cell_type": "code",
   "execution_count": null,
   "metadata": {},
   "outputs": [],
   "source": [
    "def find_matching_city(state, city):\n",
    "    "
   ]
  },
  {
   "cell_type": "code",
   "execution_count": null,
   "metadata": {},
   "outputs": [],
   "source": []
  },
  {
   "cell_type": "code",
   "execution_count": 60,
   "metadata": {
    "scrolled": true
   },
   "outputs": [
    {
     "name": "stdout",
     "output_type": "stream",
     "text": [
      "['services\"', 'salem', 'or']\n",
      "\"STATE OF OREGON, DEPARTMENT OF HUMAN SERVICES\" SALEM OR\n",
      "['oregon', 'portland', 'or']\n",
      "100 Friends of Oregon Portland OR\n",
      "['new', 'york', 'ny']\n",
      "1199 SEIU Benefit and Pension Funds New York NY\n",
      "['llc', 'aloha', 'or']\n",
      "2030 Investors LLC Aloha OR\n",
      "['research', 'potland', 'or']\n",
      "22 Research Potland OR\n",
      "['llp', 'portland', 'or']\n",
      "29F Architects LLP Portland OR\n",
      "['architecture', 'eugene', 'or']\n",
      "2form Architecture Eugene OR\n",
      "['consulting', 'portland', 'or']\n",
      "3J Consulting Portland OR\n",
      "['district', 'eugene', 'or']\n",
      "4 J school district eugene OR\n",
      "['district', 'eugene', 'or']\n",
      "4J School District Eugene OR\n",
      "['market', 'eugene', 'or']\n",
      "5th Street Public Market and Inn at the Market Eugene OR\n",
      "['dist', 'ontario', 'or']\n",
      "8-C School Dist Ontario OR\n",
      "['dist', 'ontario', 'or']\n",
      "8-C Schoold Dist Ontario OR\n",
      "['inc.', 'portland', 'or']\n",
      "88, Inc. Portland OR\n",
      "['taqueria', 'portland', 'or']\n",
      "?Por Qu? No? Taqueria Portland OR\n",
      "['films', 'portland', 'or']\n",
      "@ Large Films Portland OR\n",
      "['films', 'portland', 'or']\n",
      "@Large Films Portland OR\n",
      "['bookstore', 'portland', 'or']\n",
      "A Children's Place Bookstore Portland OR\n",
      "['wineworks', 'newberg', 'or']\n",
      "A to Z Wineworks Newberg OR\n",
      "['a-dec', 'newberg', 'or']\n",
      "A-dec Newberg OR\n",
      "['data', 'washington', 'dc']\n",
      "A.B. Data Washington DC\n",
      "['oregon/idaho', 'portland', 'or']\n",
      "AAA Oregon/Idaho Portland OR\n",
      "['co.', 'clackamas', 'or']\n",
      "ABC Roofing Co. Clackamas OR\n",
      "['llc', 'portland', 'or']\n",
      "ACME Business Consulting, LLC Portland OR\n",
      "['inc.', 'portland', 'or']\n",
      "AD-MAIL, Inc. Portland OR\n",
      "['spokane', 'valley', 'wa']\n",
      "ADDUS SPOKANE VALLEY WA\n",
      "['afge', 'portland', 'or']\n",
      "AFGE Portland OR\n",
      "['group', 'portland', 'or']\n",
      "AFMS Logistic Management Group Portland OR\n",
      "['88', 'portland', 'or']\n",
      "AFSCME Local 88 Portland OR\n",
      "['llp', 'portland', 'or']\n",
      "AGF Architects LLP Portland OR\n",
      "['ahwt', 'portland', 'or']\n",
      "AHWT Portland OR\n",
      "['advisors', 'portland', 'or']\n",
      "AIG Financial Advisors Portland OR\n",
      "['media', 'seattle', 'wa']\n",
      "AK Media Seattle WA\n",
      "['pc', 'bend', 'or']\n",
      "ALEXANDER & ASSOCIATES PC BEND OR\n",
      "['taylor', 'eugene', 'or']\n",
      "ALVORD TAYLOR EUGENE OR\n",
      "['pr', 'portland', 'or']\n",
      "AM:PM PR Portland OR\n",
      "['district', 'amity', 'or']\n",
      "AMITY SCHOOL DISTRICT Amity OR\n",
      "['apano', 'portland', 'or']\n",
      "APANO Portland OR\n",
      "['llc', 'portland', 'or']\n",
      "APIC PM LLC Portland OR\n",
      "['llc', 'portland', 'or']\n",
      "APIC Property Management LLC Portland OR\n",
      "['llc', 'portland', 'or']\n",
      "APIC, PM, LLC Portland OR\n",
      "['company', 'portland', 'or']\n",
      "ARA A Newmark Company Portland OR\n",
      "['insight', 'portland', 'or']\n",
      "ARM Insight Portland OR\n",
      "['district', 'astoria', 'or']\n",
      "ASTORIA SCHOOL DISTRICT ASTORIA OR\n",
      "['care', 'springfield', 'or']\n",
      "AVALON HEALTH CARE SPRINGFIELD OR\n",
      "['services', 'wilsonville', 'or']\n",
      "AVAMERE HEALTH SERVICES WILSONVILLE OR\n",
      "['aws', 'portland', 'or']\n",
      "AWS Portland OR\n",
      "['estate', 'portland', 'or']\n",
      "AWS Real Estate Portland OR\n",
      "['estate', 'portland', 'or']\n",
      "AWS Real Estate portland OR\n",
      "['inc.', 'portland', 'or']\n",
      "AWS, Inc. Portland OR\n",
      "['associates', 'sacramento', 'ca']\n",
      "Aaron Read & Associates Sacramento CA\n",
      "['west', 'linn', 'or']\n",
      "Abbott & Munns LLC West Linn OR\n",
      "['oregon', 'city', 'or']\n",
      "Abernethy Center Oregon City OR\n",
      "['change', 'portland', 'or']\n",
      "Academy for Systemic Change Portland OR\n",
      "['los', 'altos', 'ca']\n",
      "Acorn Financial Planning Los Altos CA\n",
      "['inc.', 'tigard', 'or']\n",
      "AcryMed, Inc. Tigard OR\n",
      "['inc.', 'beaverton', 'or']\n",
      "Act-On Software, Inc. Beaverton OR\n",
      "['sprout', 'portland', 'or']\n",
      "Action Sprout Portland OR\n",
      "['inc.', 'portland', 'or']\n",
      "Ad Mail Inc. Portland OR\n",
      "['co.', 'salem', 'or']\n",
      "Adams & Co. Salem OR\n",
      "['hill', 'salem', 'or']\n",
      "Adams, Day & Hill Salem OR\n",
      "['vineyards', 'newberg', 'or']\n",
      "Adelsheim Vineyards Newberg OR\n",
      "['construction', 'portland', 'or']\n",
      "Advanced American Construction Portland OR\n",
      "['group', 'hillsboro', 'or']\n",
      "Advanced Technology Group Hillsboro OR\n",
      "['lake', 'oswego', 'or']\n",
      "Aequitas Lake Oswego OR\n",
      "['air', 'hillsboro', 'or']\n",
      "Aero Air Hillsboro OR\n",
      "['international', 'houston', 'tx']\n",
      "Afex International Houston TX\n",
      "['management', 'portland', 'or']\n",
      "Affinity Property Management Portland OR\n",
      "['commerce', 'portland', 'or']\n",
      "African American Chamber of Commerce Portland OR\n",
      "['airbnb', 'portland', 'or']\n",
      "Airbnb PORTLAND OR\n",
      "['inc', 'tualatin', 'or']\n",
      "Airefco Inc Tualatin OR\n",
      "['airefco', 'tualatin', 'or']\n",
      "Airefco Tualatin OR\n",
      "['drayage', 'portland', 'or']\n",
      "Airport Drayage Portland OR\n",
      "['seaplanes', 'portland', 'or']\n",
      "Alaska Seaplanes Portland OR\n",
      "['cabinets', 'albany', 'or']\n",
      "Albany Cabinets Albany OR\n",
      "['centers', 'portland', 'or']\n",
      "Albertina Kerr Centers Portland OR\n",
      "['llc', 'eugene', 'or']\n",
      "Alberty Asset Management LLC Eugene OR\n",
      "['llc', 'eugene', 'or']\n",
      "Alberty Asset Mgmt LLC Eugene OR\n",
      "['fuel', 'vancouver', 'wa']\n",
      "Albiana Fuel Vancouver WA\n",
      "['bank', 'portland', 'or']\n",
      "Albina Community Bank Portland OR\n",
      "['llc', 'portland', 'or']\n",
      "Albina Construction LLC Portland OR\n",
      "['llc', 'portland', 'or']\n",
      "Alcantar and Associates LLC Portland OR\n",
      "['gelbard', 'washington', 'dc']\n",
      "Alene Gelbard Washington DC\n",
      "['group', 'seattle', 'wa']\n",
      "Alford Group Seattle WA\n",
      "['company', 'portland', 'or']\n",
      "Alfred J Davis Company Portland OR\n",
      "['company', 'portland', 'or']\n",
      "Alfred J. Davis Company Portland OR\n",
      "['new', 'york', 'ny']\n",
      "Alida R. Messinger Charitable Trust: CMVC New York NY\n",
      "['raised', 'portland', 'or']\n",
      "All Hands Raised Portland OR\n",
      "['grants', 'pass', 'or']\n",
      "AllCare Grants Pass OR\n",
      "['grants', 'pass', 'or']\n",
      "AllCare Health Grants Pass OR\n",
      "['co', 'portland', 'or']\n",
      "Allen Trust Co Portland OR\n",
      "['company', 'portland', 'or']\n",
      "Allen Trust Company Portland OR\n",
      "['allergan', 'irvine', 'ca']\n",
      "Allergan Irvine CA\n",
      "['district', 'salem', 'or']\n",
      "Alliance for Seniors & NW Education Service District Salem OR\n",
      "['waste', 'corvallis', 'or']\n",
      "Allied Waste Corvallis OR\n",
      "['architecture', 'portland', 'or']\n",
      "Allied Works Architecture Portland OR\n",
      "['tool', 'portland', 'or']\n",
      "Almar Tool Portland OR\n",
      "['garbage', 'aloha', 'or']\n",
      "Aloha Garbage Aloha OR\n",
      "['inc.', 'aloha', 'or']\n",
      "Aloha Garbage Co., Inc. Aloha OR\n",
      "['district', 'beaverton', 'or']\n",
      "Aloha HS- Beaverton School District Beaverton OR\n",
      "['ministry', 'portland', 'or']\n",
      "Alpha & Omega Intl Ministry Portland OR\n",
      "['design', 'portland', 'or']\n",
      "Alta Planning + Design Portland OR\n",
      "['lake', 'oswego', 'or']\n",
      "Alterman Law Group Lake Oswego OR\n",
      "['offices', 'portland', 'or']\n",
      "Alterman Law Offices Portland OR\n",
      "['new', 'york', 'ny']\n",
      "Amalgamated Bank New York NY\n",
      "['ft', 'worth', 'tx']\n",
      "American Airlines Ft Worth TX\n",
      "['north', 'hampton', 'nh']\n",
      "American Airlines North Hampton NH\n",
      "['pizza', 'corvallis', 'or']\n",
      "American Dream Pizza Corvallis OR\n",
      "['inc.', 'portland', 'or']\n",
      "American Industries, Inc. Portland OR\n",
      "['inc.', 'portland', 'or']\n",
      "American International Supply Inc. Portland OR\n",
      "['officers', 'dania', 'fl']\n",
      "American Maritime Officers Dania FL\n",
      "['response', 'portland', 'or']\n",
      "American Medical Response Portland OR\n",
      "['(apic)', 'portland', 'or']\n",
      "American Pacific International Capital, Property Management (APIC) Portland OR\n",
      "['management', 'portland', 'or']\n",
      "American Property Management Portland OR\n",
      "['mgmt.', 'portland', 'or']\n",
      "American Property Mgmt. Portland OR\n",
      "['new', 'york', 'ny']\n",
      "American Stock Exchange New York NY\n",
      "['waterways', 'portland', 'or']\n",
      "American Waterways Portland OR\n",
      "['inc.', 'portland', 'or']\n",
      "American Waterways, Inc. Portland OR\n",
      "['ameriprise', 'portland', 'or']\n",
      "Ameriprise Portland OR\n",
      "['laboratories', 'salem', 'or']\n",
      "Ames Research Laboratories Salem OR\n",
      "['cremation', 'springfield', 'or']\n",
      "Andreason's Cremation Springfield OR\n",
      "['group', 'portland', 'or']\n",
      "Angeli Law Group Portland OR\n",
      "['books', 'portland', 'or']\n",
      "Annie Blooms Books Portland OR\n",
      "['yellow', 'springs', 'oh']\n",
      "Antioch College Yellow Springs OH\n",
      "['energy', 'charlotteville', 'va']\n",
      "Apex Clean Energy Charlotteville VA\n",
      "['partners', 'portland', 'or']\n",
      "Apex Real Estate Partners Portland OR\n",
      "['group', 'portland', 'or']\n",
      "Apollo Solutions Group Portland OR\n",
      "['inc', 'portland', 'or']\n",
      "Apple Inc Portland OR\n",
      "['inc.', 'cupertino', 'ca']\n",
      "Apple Inc. Cupertino CA\n",
      "['inc.', 'tigard', 'or']\n",
      "Apple Inc. Tigard OR\n",
      "['self)', 'eugene', 'or']\n",
      "Applegate Medica East( self) Eugene OR\n",
      "['lake', 'oswego', 'or']\n",
      "Aptnets, Inc. Lake Oswego OR\n",
      "['biopharma', 'warminster', 'pa']\n",
      "Arbutus Biopharma Warminster PA\n",
      "['llc', 'portland', 'or']\n",
      "Arcadia Investment Advisors, LLC Portland OR\n",
      "['portland', 'portland', 'or']\n",
      "Archdiocese of Portland Portland OR\n",
      "['vehicles', 'eugene', 'or']\n",
      "Arcimoto Electric Vehicles Eugene OR\n",
      "['strategies', 'seattle', 'wa']\n",
      "Argo Strategies Seattle WA\n",
      "['inc', 'newport', 'or']\n",
      "Argos, Inc Newport OR\n",
      "['inc', 'portland', 'or']\n",
      "Armac Inc Portland OR\n",
      "['agency', 'aberdeen', 'md']\n",
      "Army Civilian Human Resources Agency Aberdeen MD\n",
      "['assoc.', 'portland', 'or']\n",
      "Arnerich Massena & Assoc. Portland OR\n",
      "['manufacturing', 'tualatin', 'or']\n",
      "Arrow Manufacturing Tualatin OR\n",
      "['contracting', 'eugene', 'or']\n",
      "Artisan Contracting Eugene OR\n",
      "['system', 'medford', 'or']\n",
      "Asante Health System Medford OR\n",
      "['asante', 'medford', 'or']\n",
      "Asante Medford OR\n",
      "['grants', 'pass', 'or']\n",
      "Asante Physician Partners Grants pass OR\n",
      "['pacific', 'portland', 'or']\n",
      "Ashforth Pacific Portland OR\n",
      "['hospital', 'ashland', 'or']\n",
      "Ashland Community Hospital Ashland OR\n",
      "['reporter', 'portland', 'or']\n",
      "Asian Reporter Portland OR\n",
      "['funding', 'portland', 'or']\n",
      "Aspen Capital Funding Portland OR\n",
      "['group', 'portland', 'or']\n",
      "Aspen Group Portland OR\n",
      "['llc', 'seattle', 'wa']\n",
      "Aspen Imperial, LLC Seattle WA\n",
      "['group', 'portland', 'or']\n",
      "Aspen Investment Group Portland OR\n",
      "['ports', 'portland', 'or']\n",
      "Assoc of Pacific Ports Portland OR\n",
      "['steelheaders', 'wilsonville', 'or']\n",
      "Assoc. NW Steelheaders Wilsonville OR\n",
      "['industries', 'salem', 'or']\n",
      "Associated Oregon Industries Salem OR\n",
      "['inc.', 'salem', 'or']\n",
      "Associated Oregon Loggers Services Inc. Salem OR\n",
      "['counties', 'salem', 'or']\n",
      "Association of Oregon Counties Salem OR\n",
      "['industries', 'salem', 'or']\n",
      "Assoicated Oregon Industries Salem OR\n",
      "['llc', 'portland', 'or']\n",
      "Astor Pacific LLC Portland OR\n",
      "['zeneca', 'wilmington', 'de']\n",
      "Astra Zeneca Wilmington DE\n",
      "['astrazenfca', 'wilmington', 'dc']\n",
      "AstraZenfca Wilmington DC\n",
      "['inc.', 'corvallis', 'or']\n",
      "Astro Research, Inc. Corvallis OR\n",
      "['films', 'portland', 'or']\n",
      "At Large Films Portland OR\n",
      "['new', 'york', 'ny']\n",
      "Atairos Management, L.P. New York NY\n",
      "['llp', 'portland', 'or']\n",
      "Ater Wynne LLP Portland OR\n",
      "['llp', 'portland', 'or']\n",
      "Ater Wynne, LLP Portland OR\n",
      "['wynne', 'portland', 'or']\n",
      "Ater, Wynne Portland OR\n",
      "['university', 'salem', 'or']\n",
      "Atkinson Graduate School of Management, Willamette University Salem OR\n",
      "['investments', 'portland', 'or']\n",
      "Atlas Investments Portland OR\n",
      "['atmel', 'eugene', 'or']\n",
      "Atmel Eugene OR\n",
      "['menlo', 'park', 'ca']\n",
      "Atrium Capital Menlo Park CA\n",
      "['portland', 'portland', 'or']\n",
      "Audubon Society of Portland Portland OR\n",
      "['aviation', 'aurora', 'or']\n",
      "Aurora Aviation Aurora OR\n",
      "['farms', 'aurora', 'or']\n",
      "Aurora Farms Aurora OR\n",
      "['salvage', 'aurora', 'or']\n",
      "Aurora Mills Architectural Salvage Aurora OR\n",
      "['mills', 'aurora', 'or']\n",
      "Aurora Mills Aurora OR\n",
      "['industries', 'newberg', 'or']\n",
      "Austin Industries Newberg OR\n",
      "['or', 'marylhurst', 'or']\n",
      "Autism Society of OR Marylhurst OR\n",
      "['services', 'wilsonville', 'or']\n",
      "Avameere Health Services Wilsonville OR\n",
      "['avamere', 'portland', 'or']\n",
      "Avamere Portland OR\n",
      "['avamere', 'wilsonville', 'or']\n",
      "Avamere Wilsonville OR\n",
      "['avamerre', 'portland', 'or']\n",
      "Avamerre Portland OR\n",
      "['center', 'portland', 'or']\n",
      "Aventist Medical Center Portland OR\n",
      "['utilities', 'medford', 'or']\n",
      "Avista Utilities Medford OR\n",
      "['llc', 'beaverton', 'or']\n",
      "Axiom Electronics, LLC Beaverton OR\n",
      "['travel', 'portland', 'or']\n",
      "Azumano Travel Portland OR\n",
      "['co', 'portland', 'or']\n",
      "B&B Leasing Co Portland OR\n",
      "['oregon', 'city', 'or']\n",
      "B-B Leasing Co. Oregon City OR\n",
      "['district', 'beaverton', 'or']\n",
      "BEAVERTON SCHOOL DISTRICT Beaverton OR\n",
      "['company', 'bend', 'or']\n",
      "BEND OIL COMPANY BEND OR\n",
      "['inc', 'bend', 'or']\n",
      "BEND RESEARCH INC BEND OR\n",
      "['district', 'bend', 'or']\n",
      "BEND-LAPINE SCHOOL DISTRICT Bend OR\n",
      "['engineering/surveying/consulting', 'eugene', 'or']\n",
      "BHEGroup Engineering/Surveying/Consulting Eugene OR\n",
      "['hotels', 'wilsonville', 'or']\n",
      "BHG HOTELS wilsonville OR\n",
      "['partners', 'portland', 'or']\n",
      "BIC Partners Portland OR\n",
      "['cc', 'pendleton', 'or']\n",
      "BLUE MOUNTAIN CC Pendleton OR\n",
      "['bnsf', 'portland', 'or']\n",
      "BNSF Portland OR\n",
      "['nursing', 'portland', 'or']\n",
      "BOARD OF NURSING PORTLAND OR\n",
      "['pharmacy', 'portland', 'or']\n",
      "BOARD OF PHARMACY PORTLAND OR\n"
     ]
    }
   ],
   "source": [
    "for i in np.unique(list(individual_sub_df[\"Employer Name\"])):\n",
    "    i = i.lower()\n",
    "    i = i.split()"
   ]
  },
  {
   "cell_type": "code",
   "execution_count": null,
   "metadata": {},
   "outputs": [],
   "source": []
  },
  {
   "cell_type": "code",
   "execution_count": 21,
   "metadata": {},
   "outputs": [
    {
     "name": "stdout",
     "output_type": "stream",
     "text": [
      "Brian clem\n",
      "COPA Bend OR\n",
      "City of Eugene\n",
      "EWEB Eugene OR\n",
      "EY Portland OR\n",
      "HYA Chicago IL\n",
      "MA Seattle WA\n",
      "Not Employed\n",
      "OSBA Salem OR\n",
      "OTBC Durham OR\n",
      "RootX Salem OR\n",
      "Self Employed\n",
      "Self Salem OR\n",
      "USI Eugene OR\n",
      "nan\n"
     ]
    }
   ],
   "source": [
    "for i in np.unique(list(individual_sub_df[\"Employer Name\"])):\n",
    "    if len(i) < 15:\n",
    "        print(i)"
   ]
  },
  {
   "cell_type": "code",
   "execution_count": 7,
   "metadata": {},
   "outputs": [
    {
     "data": {
      "text/plain": [
       "0.2108880007798031"
      ]
     },
     "execution_count": 7,
     "metadata": {},
     "output_type": "execute_result"
    }
   ],
   "source": [
    "len(np.unique(list(business_sub_df[\"Name\"])))/len(business_sub_df)"
   ]
  },
  {
   "cell_type": "markdown",
   "metadata": {},
   "source": [
    "Create a dict of arrays: original_name: [[% match, name], ...]"
   ]
  },
  {
   "cell_type": "code",
   "execution_count": null,
   "metadata": {},
   "outputs": [],
   "source": [
    "len(np.unique(list(business_sub_df[\"Name\"])))"
   ]
  },
  {
   "cell_type": "code",
   "execution_count": null,
   "metadata": {},
   "outputs": [],
   "source": [
    "np.unique(list(business_sub_df[\"Name\"]))[10]"
   ]
  },
  {
   "cell_type": "code",
   "execution_count": null,
   "metadata": {},
   "outputs": [],
   "source": [
    "query = np.unique(list(business_sub_df[\"Name\"]))[10]\n"
   ]
  },
  {
   "cell_type": "code",
   "execution_count": 76,
   "metadata": {
    "scrolled": true
   },
   "outputs": [],
   "source": [
    "# Get a list of matches ordered by score, default limit to 5\n",
    "choices = np.unique(list(business_sub_df[\"Name\"]))"
   ]
  },
  {
   "cell_type": "code",
   "execution_count": 77,
   "metadata": {},
   "outputs": [],
   "source": [
    "top_choices_dict = {}\n",
    "start_time = time.time()\n",
    "full_list = list(np.unique(list(business_sub_df[\"Name\"])))"
   ]
  },
  {
   "cell_type": "code",
   "execution_count": 107,
   "metadata": {},
   "outputs": [],
   "source": [
    "query = full_list[0]"
   ]
  },
  {
   "cell_type": "code",
   "execution_count": 100,
   "metadata": {},
   "outputs": [],
   "source": [
    "from fuzzymatchlist import FuzzyList"
   ]
  },
  {
   "cell_type": "code",
   "execution_count": 104,
   "metadata": {},
   "outputs": [],
   "source": [
    "FL = FuzzyList(choices)"
   ]
  },
  {
   "cell_type": "code",
   "execution_count": 109,
   "metadata": {},
   "outputs": [
    {
     "data": {
      "text/plain": [
       "'1 & 1 Interent'"
      ]
     },
     "execution_count": 109,
     "metadata": {},
     "output_type": "execute_result"
    }
   ],
   "source": [
    "query"
   ]
  },
  {
   "cell_type": "code",
   "execution_count": 112,
   "metadata": {},
   "outputs": [],
   "source": [
    "import string"
   ]
  },
  {
   "cell_type": "code",
   "execution_count": 126,
   "metadata": {},
   "outputs": [
    {
     "data": {
      "text/plain": [
       "'!\"#$%&\\'()*+,-./:;<=>?@[\\\\]^_`{|}~'"
      ]
     },
     "execution_count": 126,
     "metadata": {},
     "output_type": "execute_result"
    }
   ],
   "source": [
    "string.punctuation"
   ]
  },
  {
   "cell_type": "code",
   "execution_count": 129,
   "metadata": {},
   "outputs": [],
   "source": [
    "translator= str.maketrans(\"\", \"\", string.punctuation)"
   ]
  },
  {
   "cell_type": "code",
   "execution_count": 130,
   "metadata": {},
   "outputs": [
    {
     "data": {
      "text/plain": [
       "'1  1 Interent'"
      ]
     },
     "execution_count": 130,
     "metadata": {},
     "output_type": "execute_result"
    }
   ],
   "source": [
    "query.translate(translator)"
   ]
  },
  {
   "cell_type": "code",
   "execution_count": null,
   "metadata": {},
   "outputs": [],
   "source": []
  },
  {
   "cell_type": "code",
   "execution_count": 125,
   "metadata": {},
   "outputs": [
    {
     "data": {
      "text/plain": [
       "'$&@*@'"
      ]
     },
     "execution_count": 125,
     "metadata": {},
     "output_type": "execute_result"
    }
   ],
   "source": [
    "\"$&@*@\".strip()"
   ]
  },
  {
   "cell_type": "code",
   "execution_count": 124,
   "metadata": {},
   "outputs": [
    {
     "data": {
      "text/plain": [
       "str"
      ]
     },
     "execution_count": 124,
     "metadata": {},
     "output_type": "execute_result"
    }
   ],
   "source": [
    "type(apunc)"
   ]
  },
  {
   "cell_type": "code",
   "execution_count": 110,
   "metadata": {},
   "outputs": [
    {
     "data": {
      "text/plain": [
       "[('1 and 1 Internet, Inc.', 86),\n",
       " ('LivWell Oregon 1, LLC', 86),\n",
       " ('1&1 Internet Inc', 75),\n",
       " ('1&1 Internet Inc.', 75),\n",
       " ('Intel', 72),\n",
       " ('American Pacific International Capital Inc.', 68),\n",
       " ('Aristotle International, Inc.', 68),\n",
       " ('Dai Ichi International Travel', 68),\n",
       " ('Heery International Inc', 68),\n",
       " ('Heery International, Inc', 68),\n",
       " ('Heery International, Inc.', 68),\n",
       " ('International Union of Painters & Allied Trades Political Co', 68),\n",
       " ('Marcois Partners International Corporati', 68),\n",
       " ('Stratus International Incorporated', 68),\n",
       " ('Teen Challenge International - PNC - Williamette Valley TC', 68),\n",
       " ('Teen Challenge International - Pacific Northwest Centers -', 68),\n",
       " ('111 Investments', 64),\n",
       " ('Amy McLeod Group, REMAX Integrity Agency', 60),\n",
       " ('Blueprint Interactive', 60),\n",
       " ('Bo & Vine', 60)]"
      ]
     },
     "execution_count": 110,
     "metadata": {},
     "output_type": "execute_result"
    }
   ],
   "source": [
    "FL.get_top_n_matches(query.strip())"
   ]
  },
  {
   "cell_type": "code",
   "execution_count": null,
   "metadata": {},
   "outputs": [],
   "source": [
    "top_choices_dict = {}\n",
    "start_time = time.time()\n",
    "full_list = list(np.unique(list(business_sub_df[\"Name\"])))\n",
    "for i,name in enumerate(full_list):\n",
    "    query = name\n",
    "    choices = full_list[:i] + full_list[i+1:]\n",
    "    top_choices_dict[name] = process.extract(query, choices, limit=20)\n",
    "    if i % 100 == 0:\n",
    "        print(str(np.round(i/len(full_list),3) * 100) + \"%\")\n",
    "        print(str(time.time() - start_time))\n",
    "        with open(\"match_dict.json\", 'a') as f:\n",
    "            json.dump(top_choices_dict, f, indent=4)\n",
    "        print(os.stat(\"match_dict.json\").st_size, \" \", len(top_choices_dict))\n",
    "        del(top_choices_dict)\n",
    "        top_choices_dict = {}\n",
    "print(str(np.round(i/len(full_list),3) * 100) + \"%\")\n",
    "print(str(time.time() - start_time))\n",
    "with open(\"match_dict.json\", 'a') as f:\n",
    "    json.dump(top_choices_dict, f, indent=4)"
   ]
  },
  {
   "cell_type": "code",
   "execution_count": null,
   "metadata": {},
   "outputs": [],
   "source": [
    "for item in list(top_choices_dict.items())[:10]:\n",
    "    print(item, '\\n')"
   ]
  },
  {
   "cell_type": "markdown",
   "metadata": {},
   "source": [
    "jccard index with ngrams"
   ]
  },
  {
   "cell_type": "code",
   "execution_count": null,
   "metadata": {},
   "outputs": [],
   "source": [
    "with open(\"match_dict.json\") as f:\n",
    "    raw = f.read()"
   ]
  },
  {
   "cell_type": "code",
   "execution_count": null,
   "metadata": {},
   "outputs": [],
   "source": [
    "\"}{\".split(\"}\")"
   ]
  },
  {
   "cell_type": "code",
   "execution_count": null,
   "metadata": {},
   "outputs": [],
   "source": [
    "splits = re.split(\"}{\", raw)"
   ]
  },
  {
   "cell_type": "code",
   "execution_count": null,
   "metadata": {},
   "outputs": [],
   "source": [
    "len(splits)"
   ]
  },
  {
   "cell_type": "code",
   "execution_count": null,
   "metadata": {},
   "outputs": [],
   "source": [
    "json.loads(splits[0] + \"}\")"
   ]
  },
  {
   "cell_type": "code",
   "execution_count": null,
   "metadata": {},
   "outputs": [],
   "source": []
  }
 ],
 "metadata": {
  "kernelspec": {
   "display_name": "Python 3",
   "language": "python",
   "name": "python3"
  },
  "language_info": {
   "codemirror_mode": {
    "name": "ipython",
    "version": 3
   },
   "file_extension": ".py",
   "mimetype": "text/x-python",
   "name": "python",
   "nbconvert_exporter": "python",
   "pygments_lexer": "ipython3",
   "version": "3.6.1"
  }
 },
 "nbformat": 4,
 "nbformat_minor": 2
}
