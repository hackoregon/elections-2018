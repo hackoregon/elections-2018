{
 "cells": [
  {
   "cell_type": "code",
   "execution_count": 1,
   "metadata": {},
   "outputs": [],
   "source": [
    "%load_ext autoreload\n",
    "%autoreload 2"
   ]
  },
  {
   "cell_type": "code",
   "execution_count": 2,
   "metadata": {},
   "outputs": [],
   "source": [
    "import pandas as pd\n",
    "import numpy as np\n",
    "from fuzzywuzzy import fuzz\n",
    "from fuzzywuzzy import process\n",
    "import time\n",
    "import json\n",
    "import os\n",
    "import requests\n",
    "import re\n",
    "import pickle\n",
    "from nltk import ngrams\n",
    "from fuzzymatchlist import FuzzyList"
   ]
  },
  {
   "cell_type": "markdown",
   "metadata": {},
   "source": [
    "### Notebook for finding and cleaning Business names and entities.\n",
    "\n",
    "#### Logic:\n",
    "\n",
    "* Check the 'Address Book Type'\n",
    "    * If Business Enttity: Run cleaning logic on \"Name\" field.\n",
    "    * If Individual/Candidate Family: Run cleaning logic on \"Employer Name\" field.\n",
    "* Create a dictionary of "
   ]
  },
  {
   "cell_type": "code",
   "execution_count": 3,
   "metadata": {
    "scrolled": true
   },
   "outputs": [],
   "source": [
    "transaction_detail_df = pd.read_csv(\"../scrape_files/transaction_detail_first_batch.csv\", low_memory=False)"
   ]
  },
  {
   "cell_type": "code",
   "execution_count": 4,
   "metadata": {},
   "outputs": [],
   "source": [
    "with open(\"state_city.pickle\", 'rb') as f:\n",
    "    state_city_dict = pickle.load(f)"
   ]
  },
  {
   "cell_type": "code",
   "execution_count": 6,
   "metadata": {},
   "outputs": [
    {
     "data": {
      "text/plain": [
       "array(['Business Entity', \"Candidate's Immediate Family\", 'Individual',\n",
       "       'Labor Organization', 'Other', 'Political Committee',\n",
       "       'Political Party Committee', 'Unregistered Committee', 'nan'],\n",
       "      dtype='<U28')"
      ]
     },
     "execution_count": 6,
     "metadata": {},
     "output_type": "execute_result"
    }
   ],
   "source": [
    "np.unique(list(transaction_detail_df[\"Address Book Type\"]))"
   ]
  },
  {
   "cell_type": "code",
   "execution_count": null,
   "metadata": {},
   "outputs": [],
   "source": [
    "with open(\"pickle/\")"
   ]
  }
 ],
 "metadata": {
  "kernelspec": {
   "display_name": "Python 3",
   "language": "python",
   "name": "python3"
  },
  "language_info": {
   "codemirror_mode": {
    "name": "ipython",
    "version": 3
   },
   "file_extension": ".py",
   "mimetype": "text/x-python",
   "name": "python",
   "nbconvert_exporter": "python",
   "pygments_lexer": "ipython3",
   "version": "3.6.1"
  }
 },
 "nbformat": 4,
 "nbformat_minor": 2
}
