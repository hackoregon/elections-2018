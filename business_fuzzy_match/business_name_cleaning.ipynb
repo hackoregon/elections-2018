{
 "cells": [
  {
   "cell_type": "code",
   "execution_count": 74,
   "metadata": {},
   "outputs": [],
   "source": [
    "import pandas as pd\n",
    "import numpy as np\n",
    "from fuzzywuzzy import fuzz\n",
    "from fuzzywuzzy import process\n",
    "import time\n",
    "import json\n",
    "import os\n",
    "import requests\n",
    "import re"
   ]
  },
  {
   "cell_type": "markdown",
   "metadata": {},
   "source": [
    "### Notebook for finding and cleaning Business names and entities.\n",
    "\n",
    "#### Logic:\n",
    "\n",
    "* Check the 'Address Book Type'\n",
    "    * If Business Enttity: Run cleaning logic on \"Name\" field.\n",
    "    * If Individual/Candidate Family: Run cleaning logic on \"Employer\" field.\n",
    "* Create a dictionary of "
   ]
  },
  {
   "cell_type": "code",
   "execution_count": 2,
   "metadata": {},
   "outputs": [],
   "source": [
    "transaction_detail_df = pd.read_csv(\"../transaction_detail_first_batch.csv\", low_memory=False)"
   ]
  },
  {
   "cell_type": "code",
   "execution_count": 75,
   "metadata": {},
   "outputs": [
    {
     "data": {
      "text/plain": [
       "array(['Business Entity', \"Candidate's Immediate Family\", 'Individual',\n",
       "       'Labor Organization', 'Other', 'Political Committee',\n",
       "       'Political Party Committee', 'Unregistered Committee', 'nan'],\n",
       "      dtype='<U28')"
      ]
     },
     "execution_count": 75,
     "metadata": {},
     "output_type": "execute_result"
    }
   ],
   "source": [
    "np.unique(list(transaction_detail_df[\"Address Book Type\"]))"
   ]
  },
  {
   "cell_type": "code",
   "execution_count": 18,
   "metadata": {},
   "outputs": [],
   "source": [
    "business_sub_df = transaction_detail_df[transaction_detail_df[\"Address Book Type\"] == \"Business Entity\"].copy()"
   ]
  },
  {
   "cell_type": "code",
   "execution_count": 21,
   "metadata": {},
   "outputs": [
    {
     "data": {
      "text/plain": [
       "0.2108880007798031"
      ]
     },
     "execution_count": 21,
     "metadata": {},
     "output_type": "execute_result"
    }
   ],
   "source": [
    "len(np.unique(list(business_sub_df[\"Name\"])))/len(business_sub_df)"
   ]
  },
  {
   "cell_type": "markdown",
   "metadata": {},
   "source": [
    "Create a dict of arrays: original_name: [[% match, name], ...]"
   ]
  },
  {
   "cell_type": "code",
   "execution_count": 72,
   "metadata": {},
   "outputs": [
    {
     "data": {
      "text/plain": [
       "4327"
      ]
     },
     "execution_count": 72,
     "metadata": {},
     "output_type": "execute_result"
    }
   ],
   "source": [
    "len(np.unique(list(business_sub_df[\"Name\"])))"
   ]
  },
  {
   "cell_type": "code",
   "execution_count": 24,
   "metadata": {},
   "outputs": [
    {
     "data": {
      "text/plain": [
       "'2030 Investors LLC'"
      ]
     },
     "execution_count": 24,
     "metadata": {},
     "output_type": "execute_result"
    }
   ],
   "source": [
    "np.unique(list(business_sub_df[\"Name\"]))[10]"
   ]
  },
  {
   "cell_type": "code",
   "execution_count": 26,
   "metadata": {},
   "outputs": [],
   "source": [
    "query = np.unique(list(business_sub_df[\"Name\"]))[10]\n"
   ]
  },
  {
   "cell_type": "code",
   "execution_count": 29,
   "metadata": {
    "scrolled": true
   },
   "outputs": [
    {
     "data": {
      "text/plain": [
       "[('2030 Investors LLC', 100),\n",
       " ('3701 Investors LLC', 89),\n",
       " ('111th Square, LLC - Sanchez Family Trust', 86),\n",
       " ('525, LLC', 86),\n",
       " ('6 Foot 8 LLC', 86),\n",
       " ('76 Words LLC', 86),\n",
       " ('ADG 3 LLC', 86),\n",
       " ('ADP LLC', 86),\n",
       " ('ADP, LLC', 86),\n",
       " ('ART LLC', 86),\n",
       " ('Active Family Chiropractic LLC', 86),\n",
       " ('Advantage Heating & Air Conditioning LLC', 86),\n",
       " ('Advantage Professional Management, LLC', 86),\n",
       " ('AllCare Health Management Services, LLC', 86),\n",
       " ('AllCare Management Services, LLC', 86),\n",
       " ('Andaluz LLC', 86),\n",
       " ('Appropriate Development Group III, LLC', 86),\n",
       " ('Arms LLC', 86),\n",
       " ('BEST hq LLC', 86),\n",
       " ('BTU LLC', 86)]"
      ]
     },
     "execution_count": 29,
     "metadata": {},
     "output_type": "execute_result"
    }
   ],
   "source": [
    "# Get a list of matches ordered by score, default limit to 5\n",
    "choices = np.unique(list(business_sub_df[\"Name\"]))"
   ]
  },
  {
   "cell_type": "code",
   "execution_count": 38,
   "metadata": {},
   "outputs": [
    {
     "name": "stdout",
     "output_type": "stream",
     "text": [
      "0\n",
      "[1, 2, 3, 4, 5, 6, 7, 8, 9]\n",
      "1\n",
      "[0, 2, 3, 4, 5, 6, 7, 8, 9]\n",
      "2\n",
      "[0, 1, 3, 4, 5, 6, 7, 8, 9]\n",
      "3\n",
      "[0, 1, 2, 4, 5, 6, 7, 8, 9]\n",
      "4\n",
      "[0, 1, 2, 3, 5, 6, 7, 8, 9]\n",
      "5\n",
      "[0, 1, 2, 3, 4, 6, 7, 8, 9]\n",
      "6\n",
      "[0, 1, 2, 3, 4, 5, 7, 8, 9]\n",
      "7\n",
      "[0, 1, 2, 3, 4, 5, 6, 8, 9]\n",
      "8\n",
      "[0, 1, 2, 3, 4, 5, 6, 7, 9]\n",
      "9\n",
      "[0, 1, 2, 3, 4, 5, 6, 7, 8]\n"
     ]
    }
   ],
   "source": [
    "a = list(range(0,10))\n",
    "for i,n in enumerate(a):\n",
    "    print(n)\n",
    "    print(a[:i] + a[i+1:])"
   ]
  },
  {
   "cell_type": "code",
   "execution_count": 36,
   "metadata": {},
   "outputs": [
    {
     "data": {
      "text/plain": [
       "[0, 1, 2, 3, 4, 5, 6, 7, 8, 9]"
      ]
     },
     "execution_count": 36,
     "metadata": {},
     "output_type": "execute_result"
    }
   ],
   "source": []
  },
  {
   "cell_type": "code",
   "execution_count": null,
   "metadata": {},
   "outputs": [],
   "source": []
  },
  {
   "cell_type": "code",
   "execution_count": 62,
   "metadata": {},
   "outputs": [
    {
     "name": "stdout",
     "output_type": "stream",
     "text": [
      "0.0%\n",
      "0.46144986152648926\n",
      "1661   1\n",
      "2.3%\n",
      "47.58176398277283\n",
      "151385   100\n",
      "4.6%\n",
      "97.72590899467468\n",
      "302936   100\n",
      "6.9%\n",
      "145.89507913589478\n",
      "453226   100\n",
      "9.2%\n",
      "192.75103211402893\n",
      "603535   100\n",
      "11.600000000000001%\n",
      "239.15482211112976\n",
      "754360   100\n",
      "13.900000000000002%\n",
      "285.6901149749756\n",
      "904356   100\n",
      "16.2%\n",
      "331.0252468585968\n",
      "1053517   100\n",
      "18.5%\n",
      "377.261990070343\n",
      "1207616   100\n",
      "20.8%\n",
      "424.3091068267822\n",
      "1359077   100\n",
      "23.1%\n",
      "468.8106610774994\n",
      "1507819   100\n",
      "25.4%\n",
      "513.2184240818024\n",
      "1658468   100\n",
      "27.700000000000003%\n",
      "559.4051880836487\n",
      "1808444   100\n",
      "30.0%\n",
      "607.9299409389496\n",
      "1958870   100\n",
      "32.4%\n",
      "654.3247210979462\n",
      "2107796   100\n",
      "34.699999999999996%\n",
      "700.55127120018\n",
      "2256289   100\n",
      "37.0%\n",
      "748.3388550281525\n",
      "2404971   100\n",
      "39.300000000000004%\n",
      "795.2689678668976\n",
      "2553698   100\n",
      "41.6%\n",
      "841.7601451873779\n",
      "2702503   100\n",
      "43.9%\n",
      "887.5808119773865\n",
      "2852549   100\n",
      "46.2%\n",
      "933.0598320960999\n",
      "2999533   100\n",
      "48.5%\n",
      "981.3507170677185\n",
      "3150148   100\n",
      "50.8%\n",
      "1027.3287360668182\n",
      "3298216   100\n",
      "53.2%\n",
      "1073.274889945984\n",
      "3450776   100\n",
      "55.50000000000001%\n",
      "1119.0151929855347\n",
      "3603875   100\n",
      "57.8%\n",
      "1165.7736308574677\n",
      "3752898   100\n",
      "60.099999999999994%\n",
      "1215.644569158554\n",
      "3903050   100\n",
      "62.4%\n",
      "1264.2032308578491\n",
      "4055878   100\n",
      "64.7%\n",
      "1314.8139262199402\n",
      "4211852   100\n",
      "67.0%\n",
      "1362.4282929897308\n",
      "4366431   100\n",
      "69.3%\n",
      "1410.1628651618958\n",
      "4514120   100\n",
      "71.6%\n",
      "1456.7065169811249\n",
      "4669129   100\n",
      "74.0%\n",
      "1500.6397948265076\n",
      "4819612   100\n",
      "76.3%\n",
      "1545.02596616745\n",
      "4970499   100\n",
      "78.60000000000001%\n",
      "1590.4246990680695\n",
      "5119735   100\n",
      "80.9%\n",
      "1635.9397602081299\n",
      "5268647   100\n",
      "83.2%\n",
      "1681.46604013443\n",
      "5418006   100\n",
      "85.5%\n",
      "1727.0918681621552\n",
      "5569150   100\n",
      "87.8%\n",
      "1771.072494983673\n",
      "5727244   100\n",
      "90.10000000000001%\n",
      "1814.938285112381\n",
      "5879693   100\n",
      "92.4%\n",
      "1859.4004180431366\n",
      "6031767   100\n",
      "94.8%\n",
      "1903.450602054596\n",
      "6181890   100\n",
      "97.1%\n",
      "1947.3964071273804\n",
      "6332327   100\n",
      "99.4%\n",
      "1991.2785201072693\n",
      "6484138   100\n"
     ]
    }
   ],
   "source": [
    "top_choices_dict = {}\n",
    "start_time = time.time()\n",
    "full_list = list(np.unique(list(business_sub_df[\"Name\"])))\n",
    "for i,name in enumerate(full_list):\n",
    "    query = name\n",
    "    choices = full_list[:i] + full_list[i+1:]\n",
    "    top_choices_dict[name] = process.extract(query, choices, limit=20)\n",
    "    if i % 100 == 0:\n",
    "        print(str(np.round(i/len(full_list),3) * 100) + \"%\")\n",
    "        print(str(time.time() - start_time))\n",
    "        with open(\"match_dict.json\", 'a') as f:\n",
    "            json.dump(top_choices_dict, f, indent=4)\n",
    "        print(os.stat(\"match_dict.json\").st_size, \" \", len(top_choices_dict))\n",
    "        del(top_choices_dict)\n",
    "        top_choices_dict = {}\n",
    "print(str(np.round(i/len(full_list),3) * 100) + \"%\")\n",
    "print(str(time.time() - start_time))\n",
    "with open(\"match_dict.json\", 'a') as f:\n",
    "    json.dump(top_choices_dict, f, indent=4)"
   ]
  },
  {
   "cell_type": "code",
   "execution_count": 71,
   "metadata": {},
   "outputs": [
    {
     "name": "stdout",
     "output_type": "stream",
     "text": [
      "('eCanopy', [('American Payroll', 64), ('Christian Copyright Licensing', 64), ('New Economy Consulting', 64), ('The Canby Herald', 64), ('The Copy Club', 64), ('expresscopy.com', 64), ('Cardno', 62), ('Alder Creek Kayak & Canoe', 61), ('Copy Center', 61), ('Copy Cats', 59), ('EC Company', 59), ('Aegean Corp.', 56), ('Car Toys', 53), ('ABC Sign Company', 51), ('ADP EasyPay', 51), ('AECOM Technology Corporation', 51), ('AMERICAN CORRECTIVE COUNSELING SERVICES', 51), ('Adams & Company', 51), ('Advanced Technology Group', 51), ('All American Classics', 51)]) \n",
      "\n",
      "('expresscopy.com', [('Amazon.com', 86), ('Apple.com', 86), ('Aristotle, Inc. - Complete Campaigns.com', 86), ('Asus.com', 86), ('Clear.com', 86), ('FTD.Com', 86), ('Google.com', 86), ('Hotels.com', 86), ('Newegg.com', 86), ('WIX.com', 86), ('WePay.com', 86), ('Copy Cats', 64), ('eCanopy', 64), ('Expressions', 62), ('Copy Pilot', 60), ('Express Employment Professionals', 60), ('Graphic Expressions Inc', 60), ('PAE', 60), ('PGE', 60), ('Ameresco, Inc.', 57)]) \n",
      "\n",
      "('grange coop', [('Grange Co-op', 96), ('Fairmount Grange', 67), ('Allstate Insurance Company', 66), ('Allstate insurance company', 66), ('Attis Trading Company Inc', 66), ('Hart Insurance Company', 66), ('Melvin Mark Brokerage Company', 66), ('National Association of Mutual Insurance Companies Inc.', 66), ('Nationwide Mutual Insurance Company', 66), ('Oregon Mutual Insurance Company', 66), ('Standard Insurance Company', 66), ('Sunset Garbage Collection Inc', 66), ('The Dentists Insurance Company', 66), ('The Standard Insurance Company', 66), ('The Standard, Standard Insurance Company', 66), ('Aegean Corp.', 64), ('Ace American Insurance Co.', 63), ('Oriental Trading Co.', 63), ('Wildish Sand & Gravel Co', 63), ('Grande Ronde Transportation Co., Inc', 62)]) \n",
      "\n",
      "('iContribute LLC', [('111th Square, LLC - Sanchez Family Trust', 86), ('525, LLC', 86), ('ADG 3 LLC', 86), ('ADP LLC', 86), ('ADP, LLC', 86), ('ART LLC', 86), ('Active Family Chiropractic LLC', 86), ('Advantage Heating & Air Conditioning LLC', 86), ('Advantage Professional Management, LLC', 86), ('Alcantar & Associates, LLC', 86), ('AllCare Health Management Services, LLC', 86), ('AllCare Management Services, LLC', 86), ('Altria Client Services LLC', 86), ('Appropriate Development Group III, LLC', 86), ('Arms LLC', 86), ('Aspen Lodging Group, LLC', 86), ('BTU LLC', 86), ('Back Pain and Accident Chiropractic Clinic LLC', 86), ('Baker Ellis Asset Management, LLC', 86), ('Baldwin Consulting, LLC', 86)]) \n",
      "\n",
      "('iHeartMedia', [('Ikea', 68), ('Ideastream Media', 67), ('Greenlight Media Strategies', 66), ('Charter', 64), ('RS Media', 63), ('Bicoastal Media', 62), ('BiMart', 60), ('DNA', 60), ('Dex Media', 60), ('Bicoastal Media, LLC', 58), ('Conolidated Financial Brokerage LLC', 58), ('Elkhorn Media Group', 58), ('KLOO AM/FM Radio A Division of Bi-Coastal Media LCC', 58), ('Latino Media Solutions LLC', 58), ('Mandate Media', 58), ('NBCUniversal Media, LLC', 58), ('Pharmeucital Care Management Assocation', 58), ('Physicians Medical Center', 58), ('Rick Dancer Media Services LLC', 58), ('SolarWorld Industries America Inc', 58)]) \n",
      "\n",
      "('iconGroupe, LLC', [('IconGroupe, LLC', 100), ('111th Square, LLC - Sanchez Family Trust', 86), ('525, LLC', 86), ('ADG 3 LLC', 86), ('ADP LLC', 86), ('ADP, LLC', 86), ('ART LLC', 86), ('Active Family Chiropractic LLC', 86), ('Advantage Heating & Air Conditioning LLC', 86), ('Advantage Professional Management, LLC', 86), ('Alcantar & Associates, LLC', 86), ('AllCare Health Management Services, LLC', 86), ('AllCare Management Services, LLC', 86), ('Altria Client Services LLC', 86), ('Appropriate Development Group III, LLC', 86), ('Arms LLC', 86), ('Aspen Lodging Group, LLC', 86), ('BTU LLC', 86), ('Back Pain and Accident Chiropractic Clinic LLC', 86), ('Baker Ellis Asset Management, LLC', 86)]) \n",
      "\n",
      "('kpff', [('KPFF Consulting Engineers', 90), ('kpff Consulting Engineers', 90), ('KP Financial Svcs Ops', 68), ('Krakow Koffeehouse', 68), ('KNPT', 50), ('KPDQ', 50), ('KPQD', 50), ('Affair Catering LLC', 45), ('Affinity Insurance Services, Inc.', 45), ('Affordable Buttons', 45), ('Affordable Framing', 45), ('Amazon Fulfillment Services, Inc.', 45), ('Amazon Mktplace', 45), ('Archive coffee and bar', 45), ('Ashland Post Office', 45), ('Backspace, LLC', 45), ('Bank of America', 45), ('Bank of America, NA', 45), ('Bank of the West', 45), ('Bayscapes Gallery & Coffeehouse', 45)]) \n",
      "\n",
      "('kpff Consulting Engineers', [('KPFF Consulting Engineers', 100), ('PAE Consulting Engineers', 90), ('kpff', 90), ('3 J Consulting', 86), ('Brian Consulting', 86), ('C & A Consulting', 86), ('C&A Consulting', 86), ('CH Consulting', 86), ('Eames Consulting', 86), ('FL Consulting', 86), ('GLUMAC Engineers', 86), ('KLM Consulting', 86), ('MMC Consulting & Government Ralations Services LLC', 86), ('OPAD Consulting', 86), ('PAE Engineers', 86), ('Path to Victory LLC, (Strategic Political Consulting)', 86), ('Catena Consulting Engineers', 85), ('Catena Consulting Engineers, Inc', 85), ('MFIA, Inc. Consulting Engineers', 85), ('PAE Consulting Engineers, Inc.', 85)]) \n",
      "\n",
      "('les schwab', [('Les Schwab', 100), ('Les Eschweiler', 67), ('Chehalem Valley Chamber of Commerce', 63), ('Canby Builders Supply', 60), (\"Lowe's\", 60), (\"Schaefer's Post Office -- US Postal Service substation\", 60), ('Schwabe Williamson & Wyatt, PC', 60), ('Bales Thriftway', 56), ('Agpac Educational Services Association', 54), ('Albany Eagles Club', 54), ('Ashland Chamber of Commerce', 54), ('Canby Area Chamber of Commerce', 54), ('Clear Channel Broadcasting Inc. [ KPOJ-AM ]', 54), ('Clear Channel Communications', 54), ('Clear Channel Outdoor', 54), ('Clear Channel Outdoor, Inc', 54), ('Clear Channel Outdoor, Inc.', 54), ('Clines Carpet, Upholstery & Duct Services', 54), ('Estacada Area Chamber of Commerce', 54), (\"Gagle's Heating, A/C, & Plumbing\", 54)]) \n",
      "\n",
      "('moonshadow ecommerce', [('AECOM', 72), ('Merck', 72), ('Merck & Co', 64), ('WIX.com', 64), ('ADP', 60), ('Ashland Chamber of Commerce', 60), ('Halton Co.', 60), ('Wadeco', 60), ('Daily Journal of Commerce', 58), ('North Plains Chamber of Commerce', 58), ('Sherwood Chamber of Commerce', 58), ('Estacada Area Chamber of Commerce', 56), ('Grants Pass Chamber of Commerce', 56), ('Gresham Area Chamber of Commerce', 56), ('Salem Area Chamber of Commerce', 56), ('Amazon.com', 54), ('Canby Area Chamber of Commerce', 54), ('Chehalem Valley Chamber of Commerce', 54), ('Hotels.com', 54), ('North Clackamas Chamber of Commerce', 54)]) \n",
      "\n"
     ]
    }
   ],
   "source": [
    "for item in list(top_choices_dict.items())[:10]:\n",
    "    print(item, '\\n')"
   ]
  },
  {
   "cell_type": "markdown",
   "metadata": {},
   "source": [
    "jccard index with ngrams"
   ]
  },
  {
   "cell_type": "code",
   "execution_count": 85,
   "metadata": {},
   "outputs": [],
   "source": [
    "with open(\"match_dict.json\") as f:\n",
    "    raw = f.read()"
   ]
  },
  {
   "cell_type": "code",
   "execution_count": 88,
   "metadata": {},
   "outputs": [
    {
     "data": {
      "text/plain": [
       "['', '{']"
      ]
     },
     "execution_count": 88,
     "metadata": {},
     "output_type": "execute_result"
    }
   ],
   "source": [
    "\"}{\".split(\"}\")"
   ]
  },
  {
   "cell_type": "code",
   "execution_count": 91,
   "metadata": {},
   "outputs": [],
   "source": [
    "splits = re.split(\"}{\", raw)"
   ]
  },
  {
   "cell_type": "code",
   "execution_count": 92,
   "metadata": {},
   "outputs": [
    {
     "data": {
      "text/plain": [
       "45"
      ]
     },
     "execution_count": 92,
     "metadata": {},
     "output_type": "execute_result"
    }
   ],
   "source": [
    "len(splits)"
   ]
  },
  {
   "cell_type": "code",
   "execution_count": 98,
   "metadata": {},
   "outputs": [
    {
     "data": {
      "text/plain": [
       "{'1 & 1 Interent': [['1 and 1 Internet, Inc.', 86],\n",
       "  ['LivWell Oregon 1, LLC', 86],\n",
       "  ['1&1 Internet Inc', 75],\n",
       "  ['1&1 Internet Inc.', 75],\n",
       "  ['Intel', 72],\n",
       "  ['American Pacific International Capital Inc.', 68],\n",
       "  ['Aristotle International, Inc.', 68],\n",
       "  ['Dai Ichi International Travel', 68],\n",
       "  ['Heery International Inc', 68],\n",
       "  ['Heery International, Inc', 68],\n",
       "  ['Heery International, Inc.', 68],\n",
       "  ['International Union of Painters & Allied Trades Political Co', 68],\n",
       "  ['Marcois Partners International Corporati', 68],\n",
       "  ['Stratus International Incorporated', 68],\n",
       "  ['Teen Challenge International - PNC - Williamette Valley TC', 68],\n",
       "  ['Teen Challenge International - Pacific Northwest Centers -', 68],\n",
       "  ['111 Investments', 64],\n",
       "  ['Amy McLeod Group, REMAX Integrity Agency', 60],\n",
       "  ['Blueprint Interactive', 60],\n",
       "  ['Bo & Vine', 60]]}"
      ]
     },
     "execution_count": 98,
     "metadata": {},
     "output_type": "execute_result"
    }
   ],
   "source": [
    "json.loads(splits[0] + \"}\")"
   ]
  },
  {
   "cell_type": "code",
   "execution_count": null,
   "metadata": {},
   "outputs": [],
   "source": []
  }
 ],
 "metadata": {
  "kernelspec": {
   "display_name": "Python 3",
   "language": "python",
   "name": "python3"
  },
  "language_info": {
   "codemirror_mode": {
    "name": "ipython",
    "version": 3
   },
   "file_extension": ".py",
   "mimetype": "text/x-python",
   "name": "python",
   "nbconvert_exporter": "python",
   "pygments_lexer": "ipython3",
   "version": "3.6.1"
  }
 },
 "nbformat": 4,
 "nbformat_minor": 2
}
